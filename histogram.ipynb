{
 "cells": [
  {
   "cell_type": "code",
   "execution_count": 3,
   "metadata": {},
   "outputs": [],
   "source": [
    "import numpy as np\n",
    "import pandas as pd\n",
    "from urllib.request import urlopen\n",
    "import json\n",
    "import plotly.io as pil\n",
    "import plotly.express as px\n",
    "import plotly.graph_objects as go\n",
    "import plotly.figure_factory as ff\n",
    "from plotly.subplots import make_subplots\n",
    "from plotly.validators.scatter.marker import SymbolValidator\n",
    "\n",
    "import plotly.io as pio\n",
    "pio.renderers.default = 'jupyterlab'"
   ]
  },
  {
   "cell_type": "code",
   "execution_count": 4,
   "metadata": {},
   "outputs": [
    {
     "data": {
      "application/vnd.plotly.v1+json": {
       "config": {
        "plotlyServerURL": "https://plot.ly"
       },
       "data": [
        {
         "alignmentgroup": "True",
         "bingroup": "x",
         "hovertemplate": "total_bill=%{x}<br>count=%{y}<extra></extra>",
         "legendgroup": "",
         "marker": {
          "color": "#636efa",
          "pattern": {
           "shape": ""
          }
         },
         "name": "",
         "offsetgroup": "",
         "orientation": "v",
         "showlegend": false,
         "type": "histogram",
         "x": [
          16.99,
          10.34,
          21.01,
          23.68,
          24.59,
          25.29,
          8.77,
          26.88,
          15.04,
          14.78,
          10.27,
          35.26,
          15.42,
          18.43,
          14.83,
          21.58,
          10.33,
          16.29,
          16.97,
          20.65,
          17.92,
          20.29,
          15.77,
          39.42,
          19.82,
          17.81,
          13.37,
          12.69,
          21.7,
          19.65,
          9.55,
          18.35,
          15.06,
          20.69,
          17.78,
          24.06,
          16.31,
          16.93,
          18.69,
          31.27,
          16.04,
          17.46,
          13.94,
          9.68,
          30.4,
          18.29,
          22.23,
          32.4,
          28.55,
          18.04,
          12.54,
          10.29,
          34.81,
          9.94,
          25.56,
          19.49,
          38.01,
          26.41,
          11.24,
          48.27,
          20.29,
          13.81,
          11.02,
          18.29,
          17.59,
          20.08,
          16.45,
          3.07,
          20.23,
          15.01,
          12.02,
          17.07,
          26.86,
          25.28,
          14.73,
          10.51,
          17.92,
          27.2,
          22.76,
          17.29,
          19.44,
          16.66,
          10.07,
          32.68,
          15.98,
          34.83,
          13.03,
          18.28,
          24.71,
          21.16,
          28.97,
          22.49,
          5.75,
          16.32,
          22.75,
          40.17,
          27.28,
          12.03,
          21.01,
          12.46,
          11.35,
          15.38,
          44.3,
          22.42,
          20.92,
          15.36,
          20.49,
          25.21,
          18.24,
          14.31,
          14,
          7.25,
          38.07,
          23.95,
          25.71,
          17.31,
          29.93,
          10.65,
          12.43,
          24.08,
          11.69,
          13.42,
          14.26,
          15.95,
          12.48,
          29.8,
          8.52,
          14.52,
          11.38,
          22.82,
          19.08,
          20.27,
          11.17,
          12.26,
          18.26,
          8.51,
          10.33,
          14.15,
          16,
          13.16,
          17.47,
          34.3,
          41.19,
          27.05,
          16.43,
          8.35,
          18.64,
          11.87,
          9.78,
          7.51,
          14.07,
          13.13,
          17.26,
          24.55,
          19.77,
          29.85,
          48.17,
          25,
          13.39,
          16.49,
          21.5,
          12.66,
          16.21,
          13.81,
          17.51,
          24.52,
          20.76,
          31.71,
          10.59,
          10.63,
          50.81,
          15.81,
          7.25,
          31.85,
          16.82,
          32.9,
          17.89,
          14.48,
          9.6,
          34.63,
          34.65,
          23.33,
          45.35,
          23.17,
          40.55,
          20.69,
          20.9,
          30.46,
          18.15,
          23.1,
          15.69,
          19.81,
          28.44,
          15.48,
          16.58,
          7.56,
          10.34,
          43.11,
          13,
          13.51,
          18.71,
          12.74,
          13,
          16.4,
          20.53,
          16.47,
          26.59,
          38.73,
          24.27,
          12.76,
          30.06,
          25.89,
          48.33,
          13.27,
          28.17,
          12.9,
          28.15,
          11.59,
          7.74,
          30.14,
          12.16,
          13.42,
          8.58,
          15.98,
          13.42,
          16.27,
          10.09,
          20.45,
          13.28,
          22.12,
          24.01,
          15.69,
          11.61,
          10.77,
          15.53,
          10.07,
          12.6,
          32.83,
          35.83,
          29.03,
          27.18,
          22.67,
          17.82,
          18.78
         ],
         "xaxis": "x",
         "yaxis": "y"
        }
       ],
       "layout": {
        "autosize": true,
        "barmode": "relative",
        "legend": {
         "tracegroupgap": 0
        },
        "margin": {
         "t": 60
        },
        "template": {
         "data": {
          "bar": [
           {
            "error_x": {
             "color": "#2a3f5f"
            },
            "error_y": {
             "color": "#2a3f5f"
            },
            "marker": {
             "line": {
              "color": "#E5ECF6",
              "width": 0.5
             },
             "pattern": {
              "fillmode": "overlay",
              "size": 10,
              "solidity": 0.2
             }
            },
            "type": "bar"
           }
          ],
          "barpolar": [
           {
            "marker": {
             "line": {
              "color": "#E5ECF6",
              "width": 0.5
             },
             "pattern": {
              "fillmode": "overlay",
              "size": 10,
              "solidity": 0.2
             }
            },
            "type": "barpolar"
           }
          ],
          "carpet": [
           {
            "aaxis": {
             "endlinecolor": "#2a3f5f",
             "gridcolor": "white",
             "linecolor": "white",
             "minorgridcolor": "white",
             "startlinecolor": "#2a3f5f"
            },
            "baxis": {
             "endlinecolor": "#2a3f5f",
             "gridcolor": "white",
             "linecolor": "white",
             "minorgridcolor": "white",
             "startlinecolor": "#2a3f5f"
            },
            "type": "carpet"
           }
          ],
          "choropleth": [
           {
            "colorbar": {
             "outlinewidth": 0,
             "ticks": ""
            },
            "type": "choropleth"
           }
          ],
          "contour": [
           {
            "colorbar": {
             "outlinewidth": 0,
             "ticks": ""
            },
            "colorscale": [
             [
              0,
              "#0d0887"
             ],
             [
              0.1111111111111111,
              "#46039f"
             ],
             [
              0.2222222222222222,
              "#7201a8"
             ],
             [
              0.3333333333333333,
              "#9c179e"
             ],
             [
              0.4444444444444444,
              "#bd3786"
             ],
             [
              0.5555555555555556,
              "#d8576b"
             ],
             [
              0.6666666666666666,
              "#ed7953"
             ],
             [
              0.7777777777777778,
              "#fb9f3a"
             ],
             [
              0.8888888888888888,
              "#fdca26"
             ],
             [
              1,
              "#f0f921"
             ]
            ],
            "type": "contour"
           }
          ],
          "contourcarpet": [
           {
            "colorbar": {
             "outlinewidth": 0,
             "ticks": ""
            },
            "type": "contourcarpet"
           }
          ],
          "heatmap": [
           {
            "colorbar": {
             "outlinewidth": 0,
             "ticks": ""
            },
            "colorscale": [
             [
              0,
              "#0d0887"
             ],
             [
              0.1111111111111111,
              "#46039f"
             ],
             [
              0.2222222222222222,
              "#7201a8"
             ],
             [
              0.3333333333333333,
              "#9c179e"
             ],
             [
              0.4444444444444444,
              "#bd3786"
             ],
             [
              0.5555555555555556,
              "#d8576b"
             ],
             [
              0.6666666666666666,
              "#ed7953"
             ],
             [
              0.7777777777777778,
              "#fb9f3a"
             ],
             [
              0.8888888888888888,
              "#fdca26"
             ],
             [
              1,
              "#f0f921"
             ]
            ],
            "type": "heatmap"
           }
          ],
          "heatmapgl": [
           {
            "colorbar": {
             "outlinewidth": 0,
             "ticks": ""
            },
            "colorscale": [
             [
              0,
              "#0d0887"
             ],
             [
              0.1111111111111111,
              "#46039f"
             ],
             [
              0.2222222222222222,
              "#7201a8"
             ],
             [
              0.3333333333333333,
              "#9c179e"
             ],
             [
              0.4444444444444444,
              "#bd3786"
             ],
             [
              0.5555555555555556,
              "#d8576b"
             ],
             [
              0.6666666666666666,
              "#ed7953"
             ],
             [
              0.7777777777777778,
              "#fb9f3a"
             ],
             [
              0.8888888888888888,
              "#fdca26"
             ],
             [
              1,
              "#f0f921"
             ]
            ],
            "type": "heatmapgl"
           }
          ],
          "histogram": [
           {
            "marker": {
             "pattern": {
              "fillmode": "overlay",
              "size": 10,
              "solidity": 0.2
             }
            },
            "type": "histogram"
           }
          ],
          "histogram2d": [
           {
            "colorbar": {
             "outlinewidth": 0,
             "ticks": ""
            },
            "colorscale": [
             [
              0,
              "#0d0887"
             ],
             [
              0.1111111111111111,
              "#46039f"
             ],
             [
              0.2222222222222222,
              "#7201a8"
             ],
             [
              0.3333333333333333,
              "#9c179e"
             ],
             [
              0.4444444444444444,
              "#bd3786"
             ],
             [
              0.5555555555555556,
              "#d8576b"
             ],
             [
              0.6666666666666666,
              "#ed7953"
             ],
             [
              0.7777777777777778,
              "#fb9f3a"
             ],
             [
              0.8888888888888888,
              "#fdca26"
             ],
             [
              1,
              "#f0f921"
             ]
            ],
            "type": "histogram2d"
           }
          ],
          "histogram2dcontour": [
           {
            "colorbar": {
             "outlinewidth": 0,
             "ticks": ""
            },
            "colorscale": [
             [
              0,
              "#0d0887"
             ],
             [
              0.1111111111111111,
              "#46039f"
             ],
             [
              0.2222222222222222,
              "#7201a8"
             ],
             [
              0.3333333333333333,
              "#9c179e"
             ],
             [
              0.4444444444444444,
              "#bd3786"
             ],
             [
              0.5555555555555556,
              "#d8576b"
             ],
             [
              0.6666666666666666,
              "#ed7953"
             ],
             [
              0.7777777777777778,
              "#fb9f3a"
             ],
             [
              0.8888888888888888,
              "#fdca26"
             ],
             [
              1,
              "#f0f921"
             ]
            ],
            "type": "histogram2dcontour"
           }
          ],
          "mesh3d": [
           {
            "colorbar": {
             "outlinewidth": 0,
             "ticks": ""
            },
            "type": "mesh3d"
           }
          ],
          "parcoords": [
           {
            "line": {
             "colorbar": {
              "outlinewidth": 0,
              "ticks": ""
             }
            },
            "type": "parcoords"
           }
          ],
          "pie": [
           {
            "automargin": true,
            "type": "pie"
           }
          ],
          "scatter": [
           {
            "marker": {
             "colorbar": {
              "outlinewidth": 0,
              "ticks": ""
             }
            },
            "type": "scatter"
           }
          ],
          "scatter3d": [
           {
            "line": {
             "colorbar": {
              "outlinewidth": 0,
              "ticks": ""
             }
            },
            "marker": {
             "colorbar": {
              "outlinewidth": 0,
              "ticks": ""
             }
            },
            "type": "scatter3d"
           }
          ],
          "scattercarpet": [
           {
            "marker": {
             "colorbar": {
              "outlinewidth": 0,
              "ticks": ""
             }
            },
            "type": "scattercarpet"
           }
          ],
          "scattergeo": [
           {
            "marker": {
             "colorbar": {
              "outlinewidth": 0,
              "ticks": ""
             }
            },
            "type": "scattergeo"
           }
          ],
          "scattergl": [
           {
            "marker": {
             "colorbar": {
              "outlinewidth": 0,
              "ticks": ""
             }
            },
            "type": "scattergl"
           }
          ],
          "scattermapbox": [
           {
            "marker": {
             "colorbar": {
              "outlinewidth": 0,
              "ticks": ""
             }
            },
            "type": "scattermapbox"
           }
          ],
          "scatterpolar": [
           {
            "marker": {
             "colorbar": {
              "outlinewidth": 0,
              "ticks": ""
             }
            },
            "type": "scatterpolar"
           }
          ],
          "scatterpolargl": [
           {
            "marker": {
             "colorbar": {
              "outlinewidth": 0,
              "ticks": ""
             }
            },
            "type": "scatterpolargl"
           }
          ],
          "scatterternary": [
           {
            "marker": {
             "colorbar": {
              "outlinewidth": 0,
              "ticks": ""
             }
            },
            "type": "scatterternary"
           }
          ],
          "surface": [
           {
            "colorbar": {
             "outlinewidth": 0,
             "ticks": ""
            },
            "colorscale": [
             [
              0,
              "#0d0887"
             ],
             [
              0.1111111111111111,
              "#46039f"
             ],
             [
              0.2222222222222222,
              "#7201a8"
             ],
             [
              0.3333333333333333,
              "#9c179e"
             ],
             [
              0.4444444444444444,
              "#bd3786"
             ],
             [
              0.5555555555555556,
              "#d8576b"
             ],
             [
              0.6666666666666666,
              "#ed7953"
             ],
             [
              0.7777777777777778,
              "#fb9f3a"
             ],
             [
              0.8888888888888888,
              "#fdca26"
             ],
             [
              1,
              "#f0f921"
             ]
            ],
            "type": "surface"
           }
          ],
          "table": [
           {
            "cells": {
             "fill": {
              "color": "#EBF0F8"
             },
             "line": {
              "color": "white"
             }
            },
            "header": {
             "fill": {
              "color": "#C8D4E3"
             },
             "line": {
              "color": "white"
             }
            },
            "type": "table"
           }
          ]
         },
         "layout": {
          "annotationdefaults": {
           "arrowcolor": "#2a3f5f",
           "arrowhead": 0,
           "arrowwidth": 1
          },
          "autotypenumbers": "strict",
          "coloraxis": {
           "colorbar": {
            "outlinewidth": 0,
            "ticks": ""
           }
          },
          "colorscale": {
           "diverging": [
            [
             0,
             "#8e0152"
            ],
            [
             0.1,
             "#c51b7d"
            ],
            [
             0.2,
             "#de77ae"
            ],
            [
             0.3,
             "#f1b6da"
            ],
            [
             0.4,
             "#fde0ef"
            ],
            [
             0.5,
             "#f7f7f7"
            ],
            [
             0.6,
             "#e6f5d0"
            ],
            [
             0.7,
             "#b8e186"
            ],
            [
             0.8,
             "#7fbc41"
            ],
            [
             0.9,
             "#4d9221"
            ],
            [
             1,
             "#276419"
            ]
           ],
           "sequential": [
            [
             0,
             "#0d0887"
            ],
            [
             0.1111111111111111,
             "#46039f"
            ],
            [
             0.2222222222222222,
             "#7201a8"
            ],
            [
             0.3333333333333333,
             "#9c179e"
            ],
            [
             0.4444444444444444,
             "#bd3786"
            ],
            [
             0.5555555555555556,
             "#d8576b"
            ],
            [
             0.6666666666666666,
             "#ed7953"
            ],
            [
             0.7777777777777778,
             "#fb9f3a"
            ],
            [
             0.8888888888888888,
             "#fdca26"
            ],
            [
             1,
             "#f0f921"
            ]
           ],
           "sequentialminus": [
            [
             0,
             "#0d0887"
            ],
            [
             0.1111111111111111,
             "#46039f"
            ],
            [
             0.2222222222222222,
             "#7201a8"
            ],
            [
             0.3333333333333333,
             "#9c179e"
            ],
            [
             0.4444444444444444,
             "#bd3786"
            ],
            [
             0.5555555555555556,
             "#d8576b"
            ],
            [
             0.6666666666666666,
             "#ed7953"
            ],
            [
             0.7777777777777778,
             "#fb9f3a"
            ],
            [
             0.8888888888888888,
             "#fdca26"
            ],
            [
             1,
             "#f0f921"
            ]
           ]
          },
          "colorway": [
           "#636efa",
           "#EF553B",
           "#00cc96",
           "#ab63fa",
           "#FFA15A",
           "#19d3f3",
           "#FF6692",
           "#B6E880",
           "#FF97FF",
           "#FECB52"
          ],
          "font": {
           "color": "#2a3f5f"
          },
          "geo": {
           "bgcolor": "white",
           "lakecolor": "white",
           "landcolor": "#E5ECF6",
           "showlakes": true,
           "showland": true,
           "subunitcolor": "white"
          },
          "hoverlabel": {
           "align": "left"
          },
          "hovermode": "closest",
          "mapbox": {
           "style": "light"
          },
          "paper_bgcolor": "white",
          "plot_bgcolor": "#E5ECF6",
          "polar": {
           "angularaxis": {
            "gridcolor": "white",
            "linecolor": "white",
            "ticks": ""
           },
           "bgcolor": "#E5ECF6",
           "radialaxis": {
            "gridcolor": "white",
            "linecolor": "white",
            "ticks": ""
           }
          },
          "scene": {
           "xaxis": {
            "backgroundcolor": "#E5ECF6",
            "gridcolor": "white",
            "gridwidth": 2,
            "linecolor": "white",
            "showbackground": true,
            "ticks": "",
            "zerolinecolor": "white"
           },
           "yaxis": {
            "backgroundcolor": "#E5ECF6",
            "gridcolor": "white",
            "gridwidth": 2,
            "linecolor": "white",
            "showbackground": true,
            "ticks": "",
            "zerolinecolor": "white"
           },
           "zaxis": {
            "backgroundcolor": "#E5ECF6",
            "gridcolor": "white",
            "gridwidth": 2,
            "linecolor": "white",
            "showbackground": true,
            "ticks": "",
            "zerolinecolor": "white"
           }
          },
          "shapedefaults": {
           "line": {
            "color": "#2a3f5f"
           }
          },
          "ternary": {
           "aaxis": {
            "gridcolor": "white",
            "linecolor": "white",
            "ticks": ""
           },
           "baxis": {
            "gridcolor": "white",
            "linecolor": "white",
            "ticks": ""
           },
           "bgcolor": "#E5ECF6",
           "caxis": {
            "gridcolor": "white",
            "linecolor": "white",
            "ticks": ""
           }
          },
          "title": {
           "x": 0.05
          },
          "xaxis": {
           "automargin": true,
           "gridcolor": "white",
           "linecolor": "white",
           "ticks": "",
           "title": {
            "standoff": 15
           },
           "zerolinecolor": "white",
           "zerolinewidth": 2
          },
          "yaxis": {
           "automargin": true,
           "gridcolor": "white",
           "linecolor": "white",
           "ticks": "",
           "title": {
            "standoff": 15
           },
           "zerolinecolor": "white",
           "zerolinewidth": 2
          }
         }
        },
        "xaxis": {
         "anchor": "y",
         "autorange": true,
         "domain": [
          0,
          1
         ],
         "range": [
          2,
          52
         ],
         "title": {
          "text": "total_bill"
         },
         "type": "linear"
        },
        "yaxis": {
         "anchor": "x",
         "autorange": true,
         "domain": [
          0,
          1
         ],
         "range": [
          0,
          33.68421052631579
         ],
         "title": {
          "text": "count"
         }
        }
       }
      },
      "image/png": "[encoded data removed]"
     },
     "metadata": {},
     "output_type": "display_data"
    }
   ],
   "source": [
    "tips = px.data.tips()\n",
    "fig = px.histogram(tips, x = 'total_bill')\n",
    "fig.show()"
   ]
  },
  {
   "cell_type": "code",
   "execution_count": 5,
   "metadata": {},
   "outputs": [
    {
     "data": {
      "application/vnd.plotly.v1+json": {
       "config": {
        "plotlyServerURL": "https://plot.ly"
       },
       "data": [
        {
         "alignmentgroup": "True",
         "bingroup": "x",
         "hovertemplate": "total_bill=%{x}<br>count=%{y}<extra></extra>",
         "legendgroup": "",
         "marker": {
          "color": "#636efa",
          "pattern": {
           "shape": ""
          }
         },
         "name": "",
         "nbinsx": 20,
         "offsetgroup": "",
         "orientation": "v",
         "showlegend": false,
         "type": "histogram",
         "x": [
          16.99,
          10.34,
          21.01,
          23.68,
          24.59,
          25.29,
          8.77,
          26.88,
          15.04,
          14.78,
          10.27,
          35.26,
          15.42,
          18.43,
          14.83,
          21.58,
          10.33,
          16.29,
          16.97,
          20.65,
          17.92,
          20.29,
          15.77,
          39.42,
          19.82,
          17.81,
          13.37,
          12.69,
          21.7,
          19.65,
          9.55,
          18.35,
          15.06,
          20.69,
          17.78,
          24.06,
          16.31,
          16.93,
          18.69,
          31.27,
          16.04,
          17.46,
          13.94,
          9.68,
          30.4,
          18.29,
          22.23,
          32.4,
          28.55,
          18.04,
          12.54,
          10.29,
          34.81,
          9.94,
          25.56,
          19.49,
          38.01,
          26.41,
          11.24,
          48.27,
          20.29,
          13.81,
          11.02,
          18.29,
          17.59,
          20.08,
          16.45,
          3.07,
          20.23,
          15.01,
          12.02,
          17.07,
          26.86,
          25.28,
          14.73,
          10.51,
          17.92,
          27.2,
          22.76,
          17.29,
          19.44,
          16.66,
          10.07,
          32.68,
          15.98,
          34.83,
          13.03,
          18.28,
          24.71,
          21.16,
          28.97,
          22.49,
          5.75,
          16.32,
          22.75,
          40.17,
          27.28,
          12.03,
          21.01,
          12.46,
          11.35,
          15.38,
          44.3,
          22.42,
          20.92,
          15.36,
          20.49,
          25.21,
          18.24,
          14.31,
          14,
          7.25,
          38.07,
          23.95,
          25.71,
          17.31,
          29.93,
          10.65,
          12.43,
          24.08,
          11.69,
          13.42,
          14.26,
          15.95,
          12.48,
          29.8,
          8.52,
          14.52,
          11.38,
          22.82,
          19.08,
          20.27,
          11.17,
          12.26,
          18.26,
          8.51,
          10.33,
          14.15,
          16,
          13.16,
          17.47,
          34.3,
          41.19,
          27.05,
          16.43,
          8.35,
          18.64,
          11.87,
          9.78,
          7.51,
          14.07,
          13.13,
          17.26,
          24.55,
          19.77,
          29.85,
          48.17,
          25,
          13.39,
          16.49,
          21.5,
          12.66,
          16.21,
          13.81,
          17.51,
          24.52,
          20.76,
          31.71,
          10.59,
          10.63,
          50.81,
          15.81,
          7.25,
          31.85,
          16.82,
          32.9,
          17.89,
          14.48,
          9.6,
          34.63,
          34.65,
          23.33,
          45.35,
          23.17,
          40.55,
          20.69,
          20.9,
          30.46,
          18.15,
          23.1,
          15.69,
          19.81,
          28.44,
          15.48,
          16.58,
          7.56,
          10.34,
          43.11,
          13,
          13.51,
          18.71,
          12.74,
          13,
          16.4,
          20.53,
          16.47,
          26.59,
          38.73,
          24.27,
          12.76,
          30.06,
          25.89,
          48.33,
          13.27,
          28.17,
          12.9,
          28.15,
          11.59,
          7.74,
          30.14,
          12.16,
          13.42,
          8.58,
          15.98,
          13.42,
          16.27,
          10.09,
          20.45,
          13.28,
          22.12,
          24.01,
          15.69,
          11.61,
          10.77,
          15.53,
          10.07,
          12.6,
          32.83,
          35.83,
          29.03,
          27.18,
          22.67,
          17.82,
          18.78
         ],
         "xaxis": "x",
         "yaxis": "y"
        }
       ],
       "layout": {
        "autosize": true,
        "barmode": "relative",
        "legend": {
         "tracegroupgap": 0
        },
        "margin": {
         "t": 60
        },
        "template": {
         "data": {
          "bar": [
           {
            "error_x": {
             "color": "#2a3f5f"
            },
            "error_y": {
             "color": "#2a3f5f"
            },
            "marker": {
             "line": {
              "color": "#E5ECF6",
              "width": 0.5
             },
             "pattern": {
              "fillmode": "overlay",
              "size": 10,
              "solidity": 0.2
             }
            },
            "type": "bar"
           }
          ],
          "barpolar": [
           {
            "marker": {
             "line": {
              "color": "#E5ECF6",
              "width": 0.5
             },
             "pattern": {
              "fillmode": "overlay",
              "size": 10,
              "solidity": 0.2
             }
            },
            "type": "barpolar"
           }
          ],
          "carpet": [
           {
            "aaxis": {
             "endlinecolor": "#2a3f5f",
             "gridcolor": "white",
             "linecolor": "white",
             "minorgridcolor": "white",
             "startlinecolor": "#2a3f5f"
            },
            "baxis": {
             "endlinecolor": "#2a3f5f",
             "gridcolor": "white",
             "linecolor": "white",
             "minorgridcolor": "white",
             "startlinecolor": "#2a3f5f"
            },
            "type": "carpet"
           }
          ],
          "choropleth": [
           {
            "colorbar": {
             "outlinewidth": 0,
             "ticks": ""
            },
            "type": "choropleth"
           }
          ],
          "contour": [
           {
            "colorbar": {
             "outlinewidth": 0,
             "ticks": ""
            },
            "colorscale": [
             [
              0,
              "#0d0887"
             ],
             [
              0.1111111111111111,
              "#46039f"
             ],
             [
              0.2222222222222222,
              "#7201a8"
             ],
             [
              0.3333333333333333,
              "#9c179e"
             ],
             [
              0.4444444444444444,
              "#bd3786"
             ],
             [
              0.5555555555555556,
              "#d8576b"
             ],
             [
              0.6666666666666666,
              "#ed7953"
             ],
             [
              0.7777777777777778,
              "#fb9f3a"
             ],
             [
              0.8888888888888888,
              "#fdca26"
             ],
             [
              1,
              "#f0f921"
             ]
            ],
            "type": "contour"
           }
          ],
          "contourcarpet": [
           {
            "colorbar": {
             "outlinewidth": 0,
             "ticks": ""
            },
            "type": "contourcarpet"
           }
          ],
          "heatmap": [
           {
            "colorbar": {
             "outlinewidth": 0,
             "ticks": ""
            },
            "colorscale": [
             [
              0,
              "#0d0887"
             ],
             [
              0.1111111111111111,
              "#46039f"
             ],
             [
              0.2222222222222222,
              "#7201a8"
             ],
             [
              0.3333333333333333,
              "#9c179e"
             ],
             [
              0.4444444444444444,
              "#bd3786"
             ],
             [
              0.5555555555555556,
              "#d8576b"
             ],
             [
              0.6666666666666666,
              "#ed7953"
             ],
             [
              0.7777777777777778,
              "#fb9f3a"
             ],
             [
              0.8888888888888888,
              "#fdca26"
             ],
             [
              1,
              "#f0f921"
             ]
            ],
            "type": "heatmap"
           }
          ],
          "heatmapgl": [
           {
            "colorbar": {
             "outlinewidth": 0,
             "ticks": ""
            },
            "colorscale": [
             [
              0,
              "#0d0887"
             ],
             [
              0.1111111111111111,
              "#46039f"
             ],
             [
              0.2222222222222222,
              "#7201a8"
             ],
             [
              0.3333333333333333,
              "#9c179e"
             ],
             [
              0.4444444444444444,
              "#bd3786"
             ],
             [
              0.5555555555555556,
              "#d8576b"
             ],
             [
              0.6666666666666666,
              "#ed7953"
             ],
             [
              0.7777777777777778,
              "#fb9f3a"
             ],
             [
              0.8888888888888888,
              "#fdca26"
             ],
             [
              1,
              "#f0f921"
             ]
            ],
            "type": "heatmapgl"
           }
          ],
          "histogram": [
           {
            "marker": {
             "pattern": {
              "fillmode": "overlay",
              "size": 10,
              "solidity": 0.2
             }
            },
            "type": "histogram"
           }
          ],
          "histogram2d": [
           {
            "colorbar": {
             "outlinewidth": 0,
             "ticks": ""
            },
            "colorscale": [
             [
              0,
              "#0d0887"
             ],
             [
              0.1111111111111111,
              "#46039f"
             ],
             [
              0.2222222222222222,
              "#7201a8"
             ],
             [
              0.3333333333333333,
              "#9c179e"
             ],
             [
              0.4444444444444444,
              "#bd3786"
             ],
             [
              0.5555555555555556,
              "#d8576b"
             ],
             [
              0.6666666666666666,
              "#ed7953"
             ],
             [
              0.7777777777777778,
              "#fb9f3a"
             ],
             [
              0.8888888888888888,
              "#fdca26"
             ],
             [
              1,
              "#f0f921"
             ]
            ],
            "type": "histogram2d"
           }
          ],
          "histogram2dcontour": [
           {
            "colorbar": {
             "outlinewidth": 0,
             "ticks": ""
            },
            "colorscale": [
             [
              0,
              "#0d0887"
             ],
             [
              0.1111111111111111,
              "#46039f"
             ],
             [
              0.2222222222222222,
              "#7201a8"
             ],
             [
              0.3333333333333333,
              "#9c179e"
             ],
             [
              0.4444444444444444,
              "#bd3786"
             ],
             [
              0.5555555555555556,
              "#d8576b"
             ],
             [
              0.6666666666666666,
              "#ed7953"
             ],
             [
              0.7777777777777778,
              "#fb9f3a"
             ],
             [
              0.8888888888888888,
              "#fdca26"
             ],
             [
              1,
              "#f0f921"
             ]
            ],
            "type": "histogram2dcontour"
           }
          ],
          "mesh3d": [
           {
            "colorbar": {
             "outlinewidth": 0,
             "ticks": ""
            },
            "type": "mesh3d"
           }
          ],
          "parcoords": [
           {
            "line": {
             "colorbar": {
              "outlinewidth": 0,
              "ticks": ""
             }
            },
            "type": "parcoords"
           }
          ],
          "pie": [
           {
            "automargin": true,
            "type": "pie"
           }
          ],
          "scatter": [
           {
            "marker": {
             "colorbar": {
              "outlinewidth": 0,
              "ticks": ""
             }
            },
            "type": "scatter"
           }
          ],
          "scatter3d": [
           {
            "line": {
             "colorbar": {
              "outlinewidth": 0,
              "ticks": ""
             }
            },
            "marker": {
             "colorbar": {
              "outlinewidth": 0,
              "ticks": ""
             }
            },
            "type": "scatter3d"
           }
          ],
          "scattercarpet": [
           {
            "marker": {
             "colorbar": {
              "outlinewidth": 0,
              "ticks": ""
             }
            },
            "type": "scattercarpet"
           }
          ],
          "scattergeo": [
           {
            "marker": {
             "colorbar": {
              "outlinewidth": 0,
              "ticks": ""
             }
            },
            "type": "scattergeo"
           }
          ],
          "scattergl": [
           {
            "marker": {
             "colorbar": {
              "outlinewidth": 0,
              "ticks": ""
             }
            },
            "type": "scattergl"
           }
          ],
          "scattermapbox": [
           {
            "marker": {
             "colorbar": {
              "outlinewidth": 0,
              "ticks": ""
             }
            },
            "type": "scattermapbox"
           }
          ],
          "scatterpolar": [
           {
            "marker": {
             "colorbar": {
              "outlinewidth": 0,
              "ticks": ""
             }
            },
            "type": "scatterpolar"
           }
          ],
          "scatterpolargl": [
           {
            "marker": {
             "colorbar": {
              "outlinewidth": 0,
              "ticks": ""
             }
            },
            "type": "scatterpolargl"
           }
          ],
          "scatterternary": [
           {
            "marker": {
             "colorbar": {
              "outlinewidth": 0,
              "ticks": ""
             }
            },
            "type": "scatterternary"
           }
          ],
          "surface": [
           {
            "colorbar": {
             "outlinewidth": 0,
             "ticks": ""
            },
            "colorscale": [
             [
              0,
              "#0d0887"
             ],
             [
              0.1111111111111111,
              "#46039f"
             ],
             [
              0.2222222222222222,
              "#7201a8"
             ],
             [
              0.3333333333333333,
              "#9c179e"
             ],
             [
              0.4444444444444444,
              "#bd3786"
             ],
             [
              0.5555555555555556,
              "#d8576b"
             ],
             [
              0.6666666666666666,
              "#ed7953"
             ],
             [
              0.7777777777777778,
              "#fb9f3a"
             ],
             [
              0.8888888888888888,
              "#fdca26"
             ],
             [
              1,
              "#f0f921"
             ]
            ],
            "type": "surface"
           }
          ],
          "table": [
           {
            "cells": {
             "fill": {
              "color": "#EBF0F8"
             },
             "line": {
              "color": "white"
             }
            },
            "header": {
             "fill": {
              "color": "#C8D4E3"
             },
             "line": {
              "color": "white"
             }
            },
            "type": "table"
           }
          ]
         },
         "layout": {
          "annotationdefaults": {
           "arrowcolor": "#2a3f5f",
           "arrowhead": 0,
           "arrowwidth": 1
          },
          "autotypenumbers": "strict",
          "coloraxis": {
           "colorbar": {
            "outlinewidth": 0,
            "ticks": ""
           }
          },
          "colorscale": {
           "diverging": [
            [
             0,
             "#8e0152"
            ],
            [
             0.1,
             "#c51b7d"
            ],
            [
             0.2,
             "#de77ae"
            ],
            [
             0.3,
             "#f1b6da"
            ],
            [
             0.4,
             "#fde0ef"
            ],
            [
             0.5,
             "#f7f7f7"
            ],
            [
             0.6,
             "#e6f5d0"
            ],
            [
             0.7,
             "#b8e186"
            ],
            [
             0.8,
             "#7fbc41"
            ],
            [
             0.9,
             "#4d9221"
            ],
            [
             1,
             "#276419"
            ]
           ],
           "sequential": [
            [
             0,
             "#0d0887"
            ],
            [
             0.1111111111111111,
             "#46039f"
            ],
            [
             0.2222222222222222,
             "#7201a8"
            ],
            [
             0.3333333333333333,
             "#9c179e"
            ],
            [
             0.4444444444444444,
             "#bd3786"
            ],
            [
             0.5555555555555556,
             "#d8576b"
            ],
            [
             0.6666666666666666,
             "#ed7953"
            ],
            [
             0.7777777777777778,
             "#fb9f3a"
            ],
            [
             0.8888888888888888,
             "#fdca26"
            ],
            [
             1,
             "#f0f921"
            ]
           ],
           "sequentialminus": [
            [
             0,
             "#0d0887"
            ],
            [
             0.1111111111111111,
             "#46039f"
            ],
            [
             0.2222222222222222,
             "#7201a8"
            ],
            [
             0.3333333333333333,
             "#9c179e"
            ],
            [
             0.4444444444444444,
             "#bd3786"
            ],
            [
             0.5555555555555556,
             "#d8576b"
            ],
            [
             0.6666666666666666,
             "#ed7953"
            ],
            [
             0.7777777777777778,
             "#fb9f3a"
            ],
            [
             0.8888888888888888,
             "#fdca26"
            ],
            [
             1,
             "#f0f921"
            ]
           ]
          },
          "colorway": [
           "#636efa",
           "#EF553B",
           "#00cc96",
           "#ab63fa",
           "#FFA15A",
           "#19d3f3",
           "#FF6692",
           "#B6E880",
           "#FF97FF",
           "#FECB52"
          ],
          "font": {
           "color": "#2a3f5f"
          },
          "geo": {
           "bgcolor": "white",
           "lakecolor": "white",
           "landcolor": "#E5ECF6",
           "showlakes": true,
           "showland": true,
           "subunitcolor": "white"
          },
          "hoverlabel": {
           "align": "left"
          },
          "hovermode": "closest",
          "mapbox": {
           "style": "light"
          },
          "paper_bgcolor": "white",
          "plot_bgcolor": "#E5ECF6",
          "polar": {
           "angularaxis": {
            "gridcolor": "white",
            "linecolor": "white",
            "ticks": ""
           },
           "bgcolor": "#E5ECF6",
           "radialaxis": {
            "gridcolor": "white",
            "linecolor": "white",
            "ticks": ""
           }
          },
          "scene": {
           "xaxis": {
            "backgroundcolor": "#E5ECF6",
            "gridcolor": "white",
            "gridwidth": 2,
            "linecolor": "white",
            "showbackground": true,
            "ticks": "",
            "zerolinecolor": "white"
           },
           "yaxis": {
            "backgroundcolor": "#E5ECF6",
            "gridcolor": "white",
            "gridwidth": 2,
            "linecolor": "white",
            "showbackground": true,
            "ticks": "",
            "zerolinecolor": "white"
           },
           "zaxis": {
            "backgroundcolor": "#E5ECF6",
            "gridcolor": "white",
            "gridwidth": 2,
            "linecolor": "white",
            "showbackground": true,
            "ticks": "",
            "zerolinecolor": "white"
           }
          },
          "shapedefaults": {
           "line": {
            "color": "#2a3f5f"
           }
          },
          "ternary": {
           "aaxis": {
            "gridcolor": "white",
            "linecolor": "white",
            "ticks": ""
           },
           "baxis": {
            "gridcolor": "white",
            "linecolor": "white",
            "ticks": ""
           },
           "bgcolor": "#E5ECF6",
           "caxis": {
            "gridcolor": "white",
            "linecolor": "white",
            "ticks": ""
           }
          },
          "title": {
           "x": 0.05
          },
          "xaxis": {
           "automargin": true,
           "gridcolor": "white",
           "linecolor": "white",
           "ticks": "",
           "title": {
            "standoff": 15
           },
           "zerolinecolor": "white",
           "zerolinewidth": 2
          },
          "yaxis": {
           "automargin": true,
           "gridcolor": "white",
           "linecolor": "white",
           "ticks": "",
           "title": {
            "standoff": 15
           },
           "zerolinecolor": "white",
           "zerolinewidth": 2
          }
         }
        },
        "xaxis": {
         "anchor": "y",
         "autorange": true,
         "domain": [
          0,
          1
         ],
         "range": [
          0,
          55
         ],
         "title": {
          "text": "total_bill"
         },
         "type": "linear"
        },
        "yaxis": {
         "anchor": "x",
         "autorange": true,
         "domain": [
          0,
          1
         ],
         "range": [
          0,
          70.52631578947368
         ],
         "title": {
          "text": "count"
         }
        }
       }
      },
      "image/png": "[encoded data removed]"
     },
     "metadata": {},
     "output_type": "display_data"
    }
   ],
   "source": [
    "tips = px.data.tips()\n",
    "fig = px.histogram(tips, x = 'total_bill', nbins=20)\n",
    "fig.show()"
   ]
  },
  {
   "cell_type": "code",
   "execution_count": 9,
   "metadata": {},
   "outputs": [
    {
     "data": {
      "application/vnd.plotly.v1+json": {
       "config": {
        "plotlyServerURL": "https://plot.ly"
       },
       "data": [
        {
         "alignmentgroup": "True",
         "bingroup": "x",
         "histnorm": "probability density",
         "hovertemplate": "total_bill=%{x}<br>probability density=%{y}<extra></extra>",
         "legendgroup": "",
         "marker": {
          "color": "#636efa",
          "pattern": {
           "shape": ""
          }
         },
         "name": "",
         "offsetgroup": "",
         "orientation": "v",
         "showlegend": false,
         "type": "histogram",
         "x": [
          16.99,
          10.34,
          21.01,
          23.68,
          24.59,
          25.29,
          8.77,
          26.88,
          15.04,
          14.78,
          10.27,
          35.26,
          15.42,
          18.43,
          14.83,
          21.58,
          10.33,
          16.29,
          16.97,
          20.65,
          17.92,
          20.29,
          15.77,
          39.42,
          19.82,
          17.81,
          13.37,
          12.69,
          21.7,
          19.65,
          9.55,
          18.35,
          15.06,
          20.69,
          17.78,
          24.06,
          16.31,
          16.93,
          18.69,
          31.27,
          16.04,
          17.46,
          13.94,
          9.68,
          30.4,
          18.29,
          22.23,
          32.4,
          28.55,
          18.04,
          12.54,
          10.29,
          34.81,
          9.94,
          25.56,
          19.49,
          38.01,
          26.41,
          11.24,
          48.27,
          20.29,
          13.81,
          11.02,
          18.29,
          17.59,
          20.08,
          16.45,
          3.07,
          20.23,
          15.01,
          12.02,
          17.07,
          26.86,
          25.28,
          14.73,
          10.51,
          17.92,
          27.2,
          22.76,
          17.29,
          19.44,
          16.66,
          10.07,
          32.68,
          15.98,
          34.83,
          13.03,
          18.28,
          24.71,
          21.16,
          28.97,
          22.49,
          5.75,
          16.32,
          22.75,
          40.17,
          27.28,
          12.03,
          21.01,
          12.46,
          11.35,
          15.38,
          44.3,
          22.42,
          20.92,
          15.36,
          20.49,
          25.21,
          18.24,
          14.31,
          14,
          7.25,
          38.07,
          23.95,
          25.71,
          17.31,
          29.93,
          10.65,
          12.43,
          24.08,
          11.69,
          13.42,
          14.26,
          15.95,
          12.48,
          29.8,
          8.52,
          14.52,
          11.38,
          22.82,
          19.08,
          20.27,
          11.17,
          12.26,
          18.26,
          8.51,
          10.33,
          14.15,
          16,
          13.16,
          17.47,
          34.3,
          41.19,
          27.05,
          16.43,
          8.35,
          18.64,
          11.87,
          9.78,
          7.51,
          14.07,
          13.13,
          17.26,
          24.55,
          19.77,
          29.85,
          48.17,
          25,
          13.39,
          16.49,
          21.5,
          12.66,
          16.21,
          13.81,
          17.51,
          24.52,
          20.76,
          31.71,
          10.59,
          10.63,
          50.81,
          15.81,
          7.25,
          31.85,
          16.82,
          32.9,
          17.89,
          14.48,
          9.6,
          34.63,
          34.65,
          23.33,
          45.35,
          23.17,
          40.55,
          20.69,
          20.9,
          30.46,
          18.15,
          23.1,
          15.69,
          19.81,
          28.44,
          15.48,
          16.58,
          7.56,
          10.34,
          43.11,
          13,
          13.51,
          18.71,
          12.74,
          13,
          16.4,
          20.53,
          16.47,
          26.59,
          38.73,
          24.27,
          12.76,
          30.06,
          25.89,
          48.33,
          13.27,
          28.17,
          12.9,
          28.15,
          11.59,
          7.74,
          30.14,
          12.16,
          13.42,
          8.58,
          15.98,
          13.42,
          16.27,
          10.09,
          20.45,
          13.28,
          22.12,
          24.01,
          15.69,
          11.61,
          10.77,
          15.53,
          10.07,
          12.6,
          32.83,
          35.83,
          29.03,
          27.18,
          22.67,
          17.82,
          18.78
         ],
         "xaxis": "x",
         "yaxis": "y"
        }
       ],
       "layout": {
        "autosize": true,
        "barmode": "relative",
        "legend": {
         "tracegroupgap": 0
        },
        "margin": {
         "t": 60
        },
        "template": {
         "data": {
          "bar": [
           {
            "error_x": {
             "color": "#2a3f5f"
            },
            "error_y": {
             "color": "#2a3f5f"
            },
            "marker": {
             "line": {
              "color": "#E5ECF6",
              "width": 0.5
             },
             "pattern": {
              "fillmode": "overlay",
              "size": 10,
              "solidity": 0.2
             }
            },
            "type": "bar"
           }
          ],
          "barpolar": [
           {
            "marker": {
             "line": {
              "color": "#E5ECF6",
              "width": 0.5
             },
             "pattern": {
              "fillmode": "overlay",
              "size": 10,
              "solidity": 0.2
             }
            },
            "type": "barpolar"
           }
          ],
          "carpet": [
           {
            "aaxis": {
             "endlinecolor": "#2a3f5f",
             "gridcolor": "white",
             "linecolor": "white",
             "minorgridcolor": "white",
             "startlinecolor": "#2a3f5f"
            },
            "baxis": {
             "endlinecolor": "#2a3f5f",
             "gridcolor": "white",
             "linecolor": "white",
             "minorgridcolor": "white",
             "startlinecolor": "#2a3f5f"
            },
            "type": "carpet"
           }
          ],
          "choropleth": [
           {
            "colorbar": {
             "outlinewidth": 0,
             "ticks": ""
            },
            "type": "choropleth"
           }
          ],
          "contour": [
           {
            "colorbar": {
             "outlinewidth": 0,
             "ticks": ""
            },
            "colorscale": [
             [
              0,
              "#0d0887"
             ],
             [
              0.1111111111111111,
              "#46039f"
             ],
             [
              0.2222222222222222,
              "#7201a8"
             ],
             [
              0.3333333333333333,
              "#9c179e"
             ],
             [
              0.4444444444444444,
              "#bd3786"
             ],
             [
              0.5555555555555556,
              "#d8576b"
             ],
             [
              0.6666666666666666,
              "#ed7953"
             ],
             [
              0.7777777777777778,
              "#fb9f3a"
             ],
             [
              0.8888888888888888,
              "#fdca26"
             ],
             [
              1,
              "#f0f921"
             ]
            ],
            "type": "contour"
           }
          ],
          "contourcarpet": [
           {
            "colorbar": {
             "outlinewidth": 0,
             "ticks": ""
            },
            "type": "contourcarpet"
           }
          ],
          "heatmap": [
           {
            "colorbar": {
             "outlinewidth": 0,
             "ticks": ""
            },
            "colorscale": [
             [
              0,
              "#0d0887"
             ],
             [
              0.1111111111111111,
              "#46039f"
             ],
             [
              0.2222222222222222,
              "#7201a8"
             ],
             [
              0.3333333333333333,
              "#9c179e"
             ],
             [
              0.4444444444444444,
              "#bd3786"
             ],
             [
              0.5555555555555556,
              "#d8576b"
             ],
             [
              0.6666666666666666,
              "#ed7953"
             ],
             [
              0.7777777777777778,
              "#fb9f3a"
             ],
             [
              0.8888888888888888,
              "#fdca26"
             ],
             [
              1,
              "#f0f921"
             ]
            ],
            "type": "heatmap"
           }
          ],
          "heatmapgl": [
           {
            "colorbar": {
             "outlinewidth": 0,
             "ticks": ""
            },
            "colorscale": [
             [
              0,
              "#0d0887"
             ],
             [
              0.1111111111111111,
              "#46039f"
             ],
             [
              0.2222222222222222,
              "#7201a8"
             ],
             [
              0.3333333333333333,
              "#9c179e"
             ],
             [
              0.4444444444444444,
              "#bd3786"
             ],
             [
              0.5555555555555556,
              "#d8576b"
             ],
             [
              0.6666666666666666,
              "#ed7953"
             ],
             [
              0.7777777777777778,
              "#fb9f3a"
             ],
             [
              0.8888888888888888,
              "#fdca26"
             ],
             [
              1,
              "#f0f921"
             ]
            ],
            "type": "heatmapgl"
           }
          ],
          "histogram": [
           {
            "marker": {
             "pattern": {
              "fillmode": "overlay",
              "size": 10,
              "solidity": 0.2
             }
            },
            "type": "histogram"
           }
          ],
          "histogram2d": [
           {
            "colorbar": {
             "outlinewidth": 0,
             "ticks": ""
            },
            "colorscale": [
             [
              0,
              "#0d0887"
             ],
             [
              0.1111111111111111,
              "#46039f"
             ],
             [
              0.2222222222222222,
              "#7201a8"
             ],
             [
              0.3333333333333333,
              "#9c179e"
             ],
             [
              0.4444444444444444,
              "#bd3786"
             ],
             [
              0.5555555555555556,
              "#d8576b"
             ],
             [
              0.6666666666666666,
              "#ed7953"
             ],
             [
              0.7777777777777778,
              "#fb9f3a"
             ],
             [
              0.8888888888888888,
              "#fdca26"
             ],
             [
              1,
              "#f0f921"
             ]
            ],
            "type": "histogram2d"
           }
          ],
          "histogram2dcontour": [
           {
            "colorbar": {
             "outlinewidth": 0,
             "ticks": ""
            },
            "colorscale": [
             [
              0,
              "#0d0887"
             ],
             [
              0.1111111111111111,
              "#46039f"
             ],
             [
              0.2222222222222222,
              "#7201a8"
             ],
             [
              0.3333333333333333,
              "#9c179e"
             ],
             [
              0.4444444444444444,
              "#bd3786"
             ],
             [
              0.5555555555555556,
              "#d8576b"
             ],
             [
              0.6666666666666666,
              "#ed7953"
             ],
             [
              0.7777777777777778,
              "#fb9f3a"
             ],
             [
              0.8888888888888888,
              "#fdca26"
             ],
             [
              1,
              "#f0f921"
             ]
            ],
            "type": "histogram2dcontour"
           }
          ],
          "mesh3d": [
           {
            "colorbar": {
             "outlinewidth": 0,
             "ticks": ""
            },
            "type": "mesh3d"
           }
          ],
          "parcoords": [
           {
            "line": {
             "colorbar": {
              "outlinewidth": 0,
              "ticks": ""
             }
            },
            "type": "parcoords"
           }
          ],
          "pie": [
           {
            "automargin": true,
            "type": "pie"
           }
          ],
          "scatter": [
           {
            "marker": {
             "colorbar": {
              "outlinewidth": 0,
              "ticks": ""
             }
            },
            "type": "scatter"
           }
          ],
          "scatter3d": [
           {
            "line": {
             "colorbar": {
              "outlinewidth": 0,
              "ticks": ""
             }
            },
            "marker": {
             "colorbar": {
              "outlinewidth": 0,
              "ticks": ""
             }
            },
            "type": "scatter3d"
           }
          ],
          "scattercarpet": [
           {
            "marker": {
             "colorbar": {
              "outlinewidth": 0,
              "ticks": ""
             }
            },
            "type": "scattercarpet"
           }
          ],
          "scattergeo": [
           {
            "marker": {
             "colorbar": {
              "outlinewidth": 0,
              "ticks": ""
             }
            },
            "type": "scattergeo"
           }
          ],
          "scattergl": [
           {
            "marker": {
             "colorbar": {
              "outlinewidth": 0,
              "ticks": ""
             }
            },
            "type": "scattergl"
           }
          ],
          "scattermapbox": [
           {
            "marker": {
             "colorbar": {
              "outlinewidth": 0,
              "ticks": ""
             }
            },
            "type": "scattermapbox"
           }
          ],
          "scatterpolar": [
           {
            "marker": {
             "colorbar": {
              "outlinewidth": 0,
              "ticks": ""
             }
            },
            "type": "scatterpolar"
           }
          ],
          "scatterpolargl": [
           {
            "marker": {
             "colorbar": {
              "outlinewidth": 0,
              "ticks": ""
             }
            },
            "type": "scatterpolargl"
           }
          ],
          "scatterternary": [
           {
            "marker": {
             "colorbar": {
              "outlinewidth": 0,
              "ticks": ""
             }
            },
            "type": "scatterternary"
           }
          ],
          "surface": [
           {
            "colorbar": {
             "outlinewidth": 0,
             "ticks": ""
            },
            "colorscale": [
             [
              0,
              "#0d0887"
             ],
             [
              0.1111111111111111,
              "#46039f"
             ],
             [
              0.2222222222222222,
              "#7201a8"
             ],
             [
              0.3333333333333333,
              "#9c179e"
             ],
             [
              0.4444444444444444,
              "#bd3786"
             ],
             [
              0.5555555555555556,
              "#d8576b"
             ],
             [
              0.6666666666666666,
              "#ed7953"
             ],
             [
              0.7777777777777778,
              "#fb9f3a"
             ],
             [
              0.8888888888888888,
              "#fdca26"
             ],
             [
              1,
              "#f0f921"
             ]
            ],
            "type": "surface"
           }
          ],
          "table": [
           {
            "cells": {
             "fill": {
              "color": "#EBF0F8"
             },
             "line": {
              "color": "white"
             }
            },
            "header": {
             "fill": {
              "color": "#C8D4E3"
             },
             "line": {
              "color": "white"
             }
            },
            "type": "table"
           }
          ]
         },
         "layout": {
          "annotationdefaults": {
           "arrowcolor": "#2a3f5f",
           "arrowhead": 0,
           "arrowwidth": 1
          },
          "autotypenumbers": "strict",
          "coloraxis": {
           "colorbar": {
            "outlinewidth": 0,
            "ticks": ""
           }
          },
          "colorscale": {
           "diverging": [
            [
             0,
             "#8e0152"
            ],
            [
             0.1,
             "#c51b7d"
            ],
            [
             0.2,
             "#de77ae"
            ],
            [
             0.3,
             "#f1b6da"
            ],
            [
             0.4,
             "#fde0ef"
            ],
            [
             0.5,
             "#f7f7f7"
            ],
            [
             0.6,
             "#e6f5d0"
            ],
            [
             0.7,
             "#b8e186"
            ],
            [
             0.8,
             "#7fbc41"
            ],
            [
             0.9,
             "#4d9221"
            ],
            [
             1,
             "#276419"
            ]
           ],
           "sequential": [
            [
             0,
             "#0d0887"
            ],
            [
             0.1111111111111111,
             "#46039f"
            ],
            [
             0.2222222222222222,
             "#7201a8"
            ],
            [
             0.3333333333333333,
             "#9c179e"
            ],
            [
             0.4444444444444444,
             "#bd3786"
            ],
            [
             0.5555555555555556,
             "#d8576b"
            ],
            [
             0.6666666666666666,
             "#ed7953"
            ],
            [
             0.7777777777777778,
             "#fb9f3a"
            ],
            [
             0.8888888888888888,
             "#fdca26"
            ],
            [
             1,
             "#f0f921"
            ]
           ],
           "sequentialminus": [
            [
             0,
             "#0d0887"
            ],
            [
             0.1111111111111111,
             "#46039f"
            ],
            [
             0.2222222222222222,
             "#7201a8"
            ],
            [
             0.3333333333333333,
             "#9c179e"
            ],
            [
             0.4444444444444444,
             "#bd3786"
            ],
            [
             0.5555555555555556,
             "#d8576b"
            ],
            [
             0.6666666666666666,
             "#ed7953"
            ],
            [
             0.7777777777777778,
             "#fb9f3a"
            ],
            [
             0.8888888888888888,
             "#fdca26"
            ],
            [
             1,
             "#f0f921"
            ]
           ]
          },
          "colorway": [
           "#636efa",
           "#EF553B",
           "#00cc96",
           "#ab63fa",
           "#FFA15A",
           "#19d3f3",
           "#FF6692",
           "#B6E880",
           "#FF97FF",
           "#FECB52"
          ],
          "font": {
           "color": "#2a3f5f"
          },
          "geo": {
           "bgcolor": "white",
           "lakecolor": "white",
           "landcolor": "#E5ECF6",
           "showlakes": true,
           "showland": true,
           "subunitcolor": "white"
          },
          "hoverlabel": {
           "align": "left"
          },
          "hovermode": "closest",
          "mapbox": {
           "style": "light"
          },
          "paper_bgcolor": "white",
          "plot_bgcolor": "#E5ECF6",
          "polar": {
           "angularaxis": {
            "gridcolor": "white",
            "linecolor": "white",
            "ticks": ""
           },
           "bgcolor": "#E5ECF6",
           "radialaxis": {
            "gridcolor": "white",
            "linecolor": "white",
            "ticks": ""
           }
          },
          "scene": {
           "xaxis": {
            "backgroundcolor": "#E5ECF6",
            "gridcolor": "white",
            "gridwidth": 2,
            "linecolor": "white",
            "showbackground": true,
            "ticks": "",
            "zerolinecolor": "white"
           },
           "yaxis": {
            "backgroundcolor": "#E5ECF6",
            "gridcolor": "white",
            "gridwidth": 2,
            "linecolor": "white",
            "showbackground": true,
            "ticks": "",
            "zerolinecolor": "white"
           },
           "zaxis": {
            "backgroundcolor": "#E5ECF6",
            "gridcolor": "white",
            "gridwidth": 2,
            "linecolor": "white",
            "showbackground": true,
            "ticks": "",
            "zerolinecolor": "white"
           }
          },
          "shapedefaults": {
           "line": {
            "color": "#2a3f5f"
           }
          },
          "ternary": {
           "aaxis": {
            "gridcolor": "white",
            "linecolor": "white",
            "ticks": ""
           },
           "baxis": {
            "gridcolor": "white",
            "linecolor": "white",
            "ticks": ""
           },
           "bgcolor": "#E5ECF6",
           "caxis": {
            "gridcolor": "white",
            "linecolor": "white",
            "ticks": ""
           }
          },
          "title": {
           "x": 0.05
          },
          "xaxis": {
           "automargin": true,
           "gridcolor": "white",
           "linecolor": "white",
           "ticks": "",
           "title": {
            "standoff": 15
           },
           "zerolinecolor": "white",
           "zerolinewidth": 2
          },
          "yaxis": {
           "automargin": true,
           "gridcolor": "white",
           "linecolor": "white",
           "ticks": "",
           "title": {
            "standoff": 15
           },
           "zerolinecolor": "white",
           "zerolinewidth": 2
          }
         }
        },
        "xaxis": {
         "anchor": "y",
         "autorange": true,
         "domain": [
          0,
          1
         ],
         "range": [
          2,
          52
         ],
         "title": {
          "text": "total_bill"
         },
         "type": "linear"
        },
        "yaxis": {
         "anchor": "x",
         "autorange": true,
         "domain": [
          0,
          1
         ],
         "range": [
          0,
          0.06902502157031924
         ],
         "title": {
          "text": "probability density"
         }
        }
       }
      },
      "image/png": "[encoded data removed]"
     },
     "metadata": {},
     "output_type": "display_data"
    }
   ],
   "source": [
    "\n",
    "fig = px.histogram(tips, x = 'total_bill', histnorm = 'probability density')\n",
    "fig.show()"
   ]
  },
  {
   "cell_type": "code",
   "execution_count": 11,
   "metadata": {},
   "outputs": [
    {
     "data": {
      "application/vnd.plotly.v1+json": {
       "config": {
        "plotlyServerURL": "https://plot.ly"
       },
       "data": [
        {
         "alignmentgroup": "True",
         "bingroup": "x",
         "hovertemplate": "total_bill=%{x}<br>count=%{y}<extra></extra>",
         "legendgroup": "",
         "marker": {
          "color": "skyblue",
          "opacity": 0.7,
          "pattern": {
           "shape": ""
          }
         },
         "name": "",
         "nbinsx": 20,
         "offsetgroup": "",
         "orientation": "v",
         "showlegend": false,
         "type": "histogram",
         "x": [
          16.99,
          10.34,
          21.01,
          23.68,
          24.59,
          25.29,
          8.77,
          26.88,
          15.04,
          14.78,
          10.27,
          35.26,
          15.42,
          18.43,
          14.83,
          21.58,
          10.33,
          16.29,
          16.97,
          20.65,
          17.92,
          20.29,
          15.77,
          39.42,
          19.82,
          17.81,
          13.37,
          12.69,
          21.7,
          19.65,
          9.55,
          18.35,
          15.06,
          20.69,
          17.78,
          24.06,
          16.31,
          16.93,
          18.69,
          31.27,
          16.04,
          17.46,
          13.94,
          9.68,
          30.4,
          18.29,
          22.23,
          32.4,
          28.55,
          18.04,
          12.54,
          10.29,
          34.81,
          9.94,
          25.56,
          19.49,
          38.01,
          26.41,
          11.24,
          48.27,
          20.29,
          13.81,
          11.02,
          18.29,
          17.59,
          20.08,
          16.45,
          3.07,
          20.23,
          15.01,
          12.02,
          17.07,
          26.86,
          25.28,
          14.73,
          10.51,
          17.92,
          27.2,
          22.76,
          17.29,
          19.44,
          16.66,
          10.07,
          32.68,
          15.98,
          34.83,
          13.03,
          18.28,
          24.71,
          21.16,
          28.97,
          22.49,
          5.75,
          16.32,
          22.75,
          40.17,
          27.28,
          12.03,
          21.01,
          12.46,
          11.35,
          15.38,
          44.3,
          22.42,
          20.92,
          15.36,
          20.49,
          25.21,
          18.24,
          14.31,
          14,
          7.25,
          38.07,
          23.95,
          25.71,
          17.31,
          29.93,
          10.65,
          12.43,
          24.08,
          11.69,
          13.42,
          14.26,
          15.95,
          12.48,
          29.8,
          8.52,
          14.52,
          11.38,
          22.82,
          19.08,
          20.27,
          11.17,
          12.26,
          18.26,
          8.51,
          10.33,
          14.15,
          16,
          13.16,
          17.47,
          34.3,
          41.19,
          27.05,
          16.43,
          8.35,
          18.64,
          11.87,
          9.78,
          7.51,
          14.07,
          13.13,
          17.26,
          24.55,
          19.77,
          29.85,
          48.17,
          25,
          13.39,
          16.49,
          21.5,
          12.66,
          16.21,
          13.81,
          17.51,
          24.52,
          20.76,
          31.71,
          10.59,
          10.63,
          50.81,
          15.81,
          7.25,
          31.85,
          16.82,
          32.9,
          17.89,
          14.48,
          9.6,
          34.63,
          34.65,
          23.33,
          45.35,
          23.17,
          40.55,
          20.69,
          20.9,
          30.46,
          18.15,
          23.1,
          15.69,
          19.81,
          28.44,
          15.48,
          16.58,
          7.56,
          10.34,
          43.11,
          13,
          13.51,
          18.71,
          12.74,
          13,
          16.4,
          20.53,
          16.47,
          26.59,
          38.73,
          24.27,
          12.76,
          30.06,
          25.89,
          48.33,
          13.27,
          28.17,
          12.9,
          28.15,
          11.59,
          7.74,
          30.14,
          12.16,
          13.42,
          8.58,
          15.98,
          13.42,
          16.27,
          10.09,
          20.45,
          13.28,
          22.12,
          24.01,
          15.69,
          11.61,
          10.77,
          15.53,
          10.07,
          12.6,
          32.83,
          35.83,
          29.03,
          27.18,
          22.67,
          17.82,
          18.78
         ],
         "xaxis": "x",
         "yaxis": "y"
        }
       ],
       "layout": {
        "autosize": true,
        "barmode": "relative",
        "legend": {
         "tracegroupgap": 0
        },
        "margin": {
         "t": 60
        },
        "template": {
         "data": {
          "bar": [
           {
            "error_x": {
             "color": "#2a3f5f"
            },
            "error_y": {
             "color": "#2a3f5f"
            },
            "marker": {
             "line": {
              "color": "#E5ECF6",
              "width": 0.5
             },
             "pattern": {
              "fillmode": "overlay",
              "size": 10,
              "solidity": 0.2
             }
            },
            "type": "bar"
           }
          ],
          "barpolar": [
           {
            "marker": {
             "line": {
              "color": "#E5ECF6",
              "width": 0.5
             },
             "pattern": {
              "fillmode": "overlay",
              "size": 10,
              "solidity": 0.2
             }
            },
            "type": "barpolar"
           }
          ],
          "carpet": [
           {
            "aaxis": {
             "endlinecolor": "#2a3f5f",
             "gridcolor": "white",
             "linecolor": "white",
             "minorgridcolor": "white",
             "startlinecolor": "#2a3f5f"
            },
            "baxis": {
             "endlinecolor": "#2a3f5f",
             "gridcolor": "white",
             "linecolor": "white",
             "minorgridcolor": "white",
             "startlinecolor": "#2a3f5f"
            },
            "type": "carpet"
           }
          ],
          "choropleth": [
           {
            "colorbar": {
             "outlinewidth": 0,
             "ticks": ""
            },
            "type": "choropleth"
           }
          ],
          "contour": [
           {
            "colorbar": {
             "outlinewidth": 0,
             "ticks": ""
            },
            "colorscale": [
             [
              0,
              "#0d0887"
             ],
             [
              0.1111111111111111,
              "#46039f"
             ],
             [
              0.2222222222222222,
              "#7201a8"
             ],
             [
              0.3333333333333333,
              "#9c179e"
             ],
             [
              0.4444444444444444,
              "#bd3786"
             ],
             [
              0.5555555555555556,
              "#d8576b"
             ],
             [
              0.6666666666666666,
              "#ed7953"
             ],
             [
              0.7777777777777778,
              "#fb9f3a"
             ],
             [
              0.8888888888888888,
              "#fdca26"
             ],
             [
              1,
              "#f0f921"
             ]
            ],
            "type": "contour"
           }
          ],
          "contourcarpet": [
           {
            "colorbar": {
             "outlinewidth": 0,
             "ticks": ""
            },
            "type": "contourcarpet"
           }
          ],
          "heatmap": [
           {
            "colorbar": {
             "outlinewidth": 0,
             "ticks": ""
            },
            "colorscale": [
             [
              0,
              "#0d0887"
             ],
             [
              0.1111111111111111,
              "#46039f"
             ],
             [
              0.2222222222222222,
              "#7201a8"
             ],
             [
              0.3333333333333333,
              "#9c179e"
             ],
             [
              0.4444444444444444,
              "#bd3786"
             ],
             [
              0.5555555555555556,
              "#d8576b"
             ],
             [
              0.6666666666666666,
              "#ed7953"
             ],
             [
              0.7777777777777778,
              "#fb9f3a"
             ],
             [
              0.8888888888888888,
              "#fdca26"
             ],
             [
              1,
              "#f0f921"
             ]
            ],
            "type": "heatmap"
           }
          ],
          "heatmapgl": [
           {
            "colorbar": {
             "outlinewidth": 0,
             "ticks": ""
            },
            "colorscale": [
             [
              0,
              "#0d0887"
             ],
             [
              0.1111111111111111,
              "#46039f"
             ],
             [
              0.2222222222222222,
              "#7201a8"
             ],
             [
              0.3333333333333333,
              "#9c179e"
             ],
             [
              0.4444444444444444,
              "#bd3786"
             ],
             [
              0.5555555555555556,
              "#d8576b"
             ],
             [
              0.6666666666666666,
              "#ed7953"
             ],
             [
              0.7777777777777778,
              "#fb9f3a"
             ],
             [
              0.8888888888888888,
              "#fdca26"
             ],
             [
              1,
              "#f0f921"
             ]
            ],
            "type": "heatmapgl"
           }
          ],
          "histogram": [
           {
            "marker": {
             "pattern": {
              "fillmode": "overlay",
              "size": 10,
              "solidity": 0.2
             }
            },
            "type": "histogram"
           }
          ],
          "histogram2d": [
           {
            "colorbar": {
             "outlinewidth": 0,
             "ticks": ""
            },
            "colorscale": [
             [
              0,
              "#0d0887"
             ],
             [
              0.1111111111111111,
              "#46039f"
             ],
             [
              0.2222222222222222,
              "#7201a8"
             ],
             [
              0.3333333333333333,
              "#9c179e"
             ],
             [
              0.4444444444444444,
              "#bd3786"
             ],
             [
              0.5555555555555556,
              "#d8576b"
             ],
             [
              0.6666666666666666,
              "#ed7953"
             ],
             [
              0.7777777777777778,
              "#fb9f3a"
             ],
             [
              0.8888888888888888,
              "#fdca26"
             ],
             [
              1,
              "#f0f921"
             ]
            ],
            "type": "histogram2d"
           }
          ],
          "histogram2dcontour": [
           {
            "colorbar": {
             "outlinewidth": 0,
             "ticks": ""
            },
            "colorscale": [
             [
              0,
              "#0d0887"
             ],
             [
              0.1111111111111111,
              "#46039f"
             ],
             [
              0.2222222222222222,
              "#7201a8"
             ],
             [
              0.3333333333333333,
              "#9c179e"
             ],
             [
              0.4444444444444444,
              "#bd3786"
             ],
             [
              0.5555555555555556,
              "#d8576b"
             ],
             [
              0.6666666666666666,
              "#ed7953"
             ],
             [
              0.7777777777777778,
              "#fb9f3a"
             ],
             [
              0.8888888888888888,
              "#fdca26"
             ],
             [
              1,
              "#f0f921"
             ]
            ],
            "type": "histogram2dcontour"
           }
          ],
          "mesh3d": [
           {
            "colorbar": {
             "outlinewidth": 0,
             "ticks": ""
            },
            "type": "mesh3d"
           }
          ],
          "parcoords": [
           {
            "line": {
             "colorbar": {
              "outlinewidth": 0,
              "ticks": ""
             }
            },
            "type": "parcoords"
           }
          ],
          "pie": [
           {
            "automargin": true,
            "type": "pie"
           }
          ],
          "scatter": [
           {
            "marker": {
             "colorbar": {
              "outlinewidth": 0,
              "ticks": ""
             }
            },
            "type": "scatter"
           }
          ],
          "scatter3d": [
           {
            "line": {
             "colorbar": {
              "outlinewidth": 0,
              "ticks": ""
             }
            },
            "marker": {
             "colorbar": {
              "outlinewidth": 0,
              "ticks": ""
             }
            },
            "type": "scatter3d"
           }
          ],
          "scattercarpet": [
           {
            "marker": {
             "colorbar": {
              "outlinewidth": 0,
              "ticks": ""
             }
            },
            "type": "scattercarpet"
           }
          ],
          "scattergeo": [
           {
            "marker": {
             "colorbar": {
              "outlinewidth": 0,
              "ticks": ""
             }
            },
            "type": "scattergeo"
           }
          ],
          "scattergl": [
           {
            "marker": {
             "colorbar": {
              "outlinewidth": 0,
              "ticks": ""
             }
            },
            "type": "scattergl"
           }
          ],
          "scattermapbox": [
           {
            "marker": {
             "colorbar": {
              "outlinewidth": 0,
              "ticks": ""
             }
            },
            "type": "scattermapbox"
           }
          ],
          "scatterpolar": [
           {
            "marker": {
             "colorbar": {
              "outlinewidth": 0,
              "ticks": ""
             }
            },
            "type": "scatterpolar"
           }
          ],
          "scatterpolargl": [
           {
            "marker": {
             "colorbar": {
              "outlinewidth": 0,
              "ticks": ""
             }
            },
            "type": "scatterpolargl"
           }
          ],
          "scatterternary": [
           {
            "marker": {
             "colorbar": {
              "outlinewidth": 0,
              "ticks": ""
             }
            },
            "type": "scatterternary"
           }
          ],
          "surface": [
           {
            "colorbar": {
             "outlinewidth": 0,
             "ticks": ""
            },
            "colorscale": [
             [
              0,
              "#0d0887"
             ],
             [
              0.1111111111111111,
              "#46039f"
             ],
             [
              0.2222222222222222,
              "#7201a8"
             ],
             [
              0.3333333333333333,
              "#9c179e"
             ],
             [
              0.4444444444444444,
              "#bd3786"
             ],
             [
              0.5555555555555556,
              "#d8576b"
             ],
             [
              0.6666666666666666,
              "#ed7953"
             ],
             [
              0.7777777777777778,
              "#fb9f3a"
             ],
             [
              0.8888888888888888,
              "#fdca26"
             ],
             [
              1,
              "#f0f921"
             ]
            ],
            "type": "surface"
           }
          ],
          "table": [
           {
            "cells": {
             "fill": {
              "color": "#EBF0F8"
             },
             "line": {
              "color": "white"
             }
            },
            "header": {
             "fill": {
              "color": "#C8D4E3"
             },
             "line": {
              "color": "white"
             }
            },
            "type": "table"
           }
          ]
         },
         "layout": {
          "annotationdefaults": {
           "arrowcolor": "#2a3f5f",
           "arrowhead": 0,
           "arrowwidth": 1
          },
          "autotypenumbers": "strict",
          "coloraxis": {
           "colorbar": {
            "outlinewidth": 0,
            "ticks": ""
           }
          },
          "colorscale": {
           "diverging": [
            [
             0,
             "#8e0152"
            ],
            [
             0.1,
             "#c51b7d"
            ],
            [
             0.2,
             "#de77ae"
            ],
            [
             0.3,
             "#f1b6da"
            ],
            [
             0.4,
             "#fde0ef"
            ],
            [
             0.5,
             "#f7f7f7"
            ],
            [
             0.6,
             "#e6f5d0"
            ],
            [
             0.7,
             "#b8e186"
            ],
            [
             0.8,
             "#7fbc41"
            ],
            [
             0.9,
             "#4d9221"
            ],
            [
             1,
             "#276419"
            ]
           ],
           "sequential": [
            [
             0,
             "#0d0887"
            ],
            [
             0.1111111111111111,
             "#46039f"
            ],
            [
             0.2222222222222222,
             "#7201a8"
            ],
            [
             0.3333333333333333,
             "#9c179e"
            ],
            [
             0.4444444444444444,
             "#bd3786"
            ],
            [
             0.5555555555555556,
             "#d8576b"
            ],
            [
             0.6666666666666666,
             "#ed7953"
            ],
            [
             0.7777777777777778,
             "#fb9f3a"
            ],
            [
             0.8888888888888888,
             "#fdca26"
            ],
            [
             1,
             "#f0f921"
            ]
           ],
           "sequentialminus": [
            [
             0,
             "#0d0887"
            ],
            [
             0.1111111111111111,
             "#46039f"
            ],
            [
             0.2222222222222222,
             "#7201a8"
            ],
            [
             0.3333333333333333,
             "#9c179e"
            ],
            [
             0.4444444444444444,
             "#bd3786"
            ],
            [
             0.5555555555555556,
             "#d8576b"
            ],
            [
             0.6666666666666666,
             "#ed7953"
            ],
            [
             0.7777777777777778,
             "#fb9f3a"
            ],
            [
             0.8888888888888888,
             "#fdca26"
            ],
            [
             1,
             "#f0f921"
            ]
           ]
          },
          "colorway": [
           "#636efa",
           "#EF553B",
           "#00cc96",
           "#ab63fa",
           "#FFA15A",
           "#19d3f3",
           "#FF6692",
           "#B6E880",
           "#FF97FF",
           "#FECB52"
          ],
          "font": {
           "color": "#2a3f5f"
          },
          "geo": {
           "bgcolor": "white",
           "lakecolor": "white",
           "landcolor": "#E5ECF6",
           "showlakes": true,
           "showland": true,
           "subunitcolor": "white"
          },
          "hoverlabel": {
           "align": "left"
          },
          "hovermode": "closest",
          "mapbox": {
           "style": "light"
          },
          "paper_bgcolor": "white",
          "plot_bgcolor": "#E5ECF6",
          "polar": {
           "angularaxis": {
            "gridcolor": "white",
            "linecolor": "white",
            "ticks": ""
           },
           "bgcolor": "#E5ECF6",
           "radialaxis": {
            "gridcolor": "white",
            "linecolor": "white",
            "ticks": ""
           }
          },
          "scene": {
           "xaxis": {
            "backgroundcolor": "#E5ECF6",
            "gridcolor": "white",
            "gridwidth": 2,
            "linecolor": "white",
            "showbackground": true,
            "ticks": "",
            "zerolinecolor": "white"
           },
           "yaxis": {
            "backgroundcolor": "#E5ECF6",
            "gridcolor": "white",
            "gridwidth": 2,
            "linecolor": "white",
            "showbackground": true,
            "ticks": "",
            "zerolinecolor": "white"
           },
           "zaxis": {
            "backgroundcolor": "#E5ECF6",
            "gridcolor": "white",
            "gridwidth": 2,
            "linecolor": "white",
            "showbackground": true,
            "ticks": "",
            "zerolinecolor": "white"
           }
          },
          "shapedefaults": {
           "line": {
            "color": "#2a3f5f"
           }
          },
          "ternary": {
           "aaxis": {
            "gridcolor": "white",
            "linecolor": "white",
            "ticks": ""
           },
           "baxis": {
            "gridcolor": "white",
            "linecolor": "white",
            "ticks": ""
           },
           "bgcolor": "#E5ECF6",
           "caxis": {
            "gridcolor": "white",
            "linecolor": "white",
            "ticks": ""
           }
          },
          "title": {
           "x": 0.05
          },
          "xaxis": {
           "automargin": true,
           "gridcolor": "white",
           "linecolor": "white",
           "ticks": "",
           "title": {
            "standoff": 15
           },
           "zerolinecolor": "white",
           "zerolinewidth": 2
          },
          "yaxis": {
           "automargin": true,
           "gridcolor": "white",
           "linecolor": "white",
           "ticks": "",
           "title": {
            "standoff": 15
           },
           "zerolinecolor": "white",
           "zerolinewidth": 2
          }
         }
        },
        "xaxis": {
         "anchor": "y",
         "autorange": true,
         "domain": [
          0,
          1
         ],
         "range": [
          0,
          55
         ],
         "title": {
          "text": "total_bill"
         },
         "type": "linear"
        },
        "yaxis": {
         "anchor": "x",
         "autorange": true,
         "domain": [
          0,
          1
         ],
         "range": [
          -0.10144860015004589,
          1.927523402850872
         ],
         "title": {
          "text": "count"
         },
         "type": "log"
        }
       }
      },
      "image/png": "[encoded data removed]"
     },
     "metadata": {},
     "output_type": "display_data"
    }
   ],
   "source": [
    "tips = px.data.tips()\n",
    "fig = px.histogram(tips,\n",
    "                   x = 'total_bill',\n",
    "                   nbins=20,\n",
    "                  labels = {'total_bill':'total_bill'},\n",
    "                  opacity = 0.7,\n",
    "                  log_y = True,\n",
    "                  color_discrete_sequence = ['skyblue'])\n",
    "fig.show()"
   ]
  },
  {
   "cell_type": "code",
   "execution_count": 12,
   "metadata": {},
   "outputs": [
    {
     "data": {
      "application/vnd.plotly.v1+json": {
       "config": {
        "plotlyServerURL": "https://plot.ly"
       },
       "data": [
        {
         "alignmentgroup": "True",
         "bingroup": "x",
         "hovertemplate": "sex=Female<br>total_bill=%{x}<br>count=%{y}<extra></extra>",
         "legendgroup": "Female",
         "marker": {
          "color": "crimson",
          "pattern": {
           "shape": ""
          }
         },
         "name": "Female",
         "offsetgroup": "Female",
         "orientation": "v",
         "showlegend": true,
         "type": "histogram",
         "x": [
          16.99,
          24.59,
          35.26,
          14.83,
          10.33,
          16.97,
          20.29,
          15.77,
          19.65,
          15.06,
          20.69,
          16.93,
          10.29,
          34.81,
          26.41,
          16.45,
          3.07,
          17.07,
          26.86,
          25.28,
          14.73,
          10.07,
          34.83,
          5.75,
          16.32,
          22.75,
          11.35,
          15.38,
          44.3,
          22.42,
          20.92,
          14.31,
          7.25,
          25.71,
          17.31,
          10.65,
          12.43,
          24.08,
          13.42,
          12.48,
          29.8,
          14.52,
          11.38,
          20.27,
          11.17,
          12.26,
          18.26,
          8.51,
          10.33,
          14.15,
          13.16,
          17.47,
          27.05,
          16.43,
          8.35,
          18.64,
          11.87,
          29.85,
          25,
          13.39,
          16.21,
          17.51,
          10.59,
          10.63,
          9.6,
          20.9,
          18.15,
          19.81,
          43.11,
          13,
          12.74,
          13,
          16.4,
          16.47,
          12.76,
          13.27,
          28.17,
          12.9,
          30.14,
          13.42,
          15.98,
          16.27,
          10.09,
          22.12,
          35.83,
          27.18,
          18.78
         ],
         "xaxis": "x",
         "yaxis": "y"
        },
        {
         "alignmentgroup": "True",
         "bingroup": "x",
         "hovertemplate": "sex=Male<br>total_bill=%{x}<br>count=%{y}<extra></extra>",
         "legendgroup": "Male",
         "marker": {
          "color": "skyblue",
          "pattern": {
           "shape": ""
          }
         },
         "name": "Male",
         "offsetgroup": "Male",
         "orientation": "v",
         "showlegend": true,
         "type": "histogram",
         "x": [
          10.34,
          21.01,
          23.68,
          25.29,
          8.77,
          26.88,
          15.04,
          14.78,
          10.27,
          15.42,
          18.43,
          21.58,
          16.29,
          20.65,
          17.92,
          39.42,
          19.82,
          17.81,
          13.37,
          12.69,
          21.7,
          9.55,
          18.35,
          17.78,
          24.06,
          16.31,
          18.69,
          31.27,
          16.04,
          17.46,
          13.94,
          9.68,
          30.4,
          18.29,
          22.23,
          32.4,
          28.55,
          18.04,
          12.54,
          9.94,
          25.56,
          19.49,
          38.01,
          11.24,
          48.27,
          20.29,
          13.81,
          11.02,
          18.29,
          17.59,
          20.08,
          20.23,
          15.01,
          12.02,
          10.51,
          17.92,
          27.2,
          22.76,
          17.29,
          19.44,
          16.66,
          32.68,
          15.98,
          13.03,
          18.28,
          24.71,
          21.16,
          28.97,
          22.49,
          40.17,
          27.28,
          12.03,
          21.01,
          12.46,
          15.36,
          20.49,
          25.21,
          18.24,
          14,
          38.07,
          23.95,
          29.93,
          11.69,
          14.26,
          15.95,
          8.52,
          22.82,
          19.08,
          16,
          34.3,
          41.19,
          9.78,
          7.51,
          14.07,
          13.13,
          17.26,
          24.55,
          19.77,
          48.17,
          16.49,
          21.5,
          12.66,
          13.81,
          24.52,
          20.76,
          31.71,
          50.81,
          15.81,
          7.25,
          31.85,
          16.82,
          32.9,
          17.89,
          14.48,
          34.63,
          34.65,
          23.33,
          45.35,
          23.17,
          40.55,
          20.69,
          30.46,
          23.1,
          15.69,
          28.44,
          15.48,
          16.58,
          7.56,
          10.34,
          13.51,
          18.71,
          20.53,
          26.59,
          38.73,
          24.27,
          30.06,
          25.89,
          48.33,
          28.15,
          11.59,
          7.74,
          12.16,
          8.58,
          13.42,
          20.45,
          13.28,
          24.01,
          15.69,
          11.61,
          10.77,
          15.53,
          10.07,
          12.6,
          32.83,
          29.03,
          22.67,
          17.82
         ],
         "xaxis": "x",
         "yaxis": "y"
        }
       ],
       "layout": {
        "autosize": true,
        "barmode": "relative",
        "legend": {
         "title": {
          "text": "sex"
         },
         "tracegroupgap": 0
        },
        "margin": {
         "t": 60
        },
        "template": {
         "data": {
          "bar": [
           {
            "error_x": {
             "color": "#2a3f5f"
            },
            "error_y": {
             "color": "#2a3f5f"
            },
            "marker": {
             "line": {
              "color": "#E5ECF6",
              "width": 0.5
             },
             "pattern": {
              "fillmode": "overlay",
              "size": 10,
              "solidity": 0.2
             }
            },
            "type": "bar"
           }
          ],
          "barpolar": [
           {
            "marker": {
             "line": {
              "color": "#E5ECF6",
              "width": 0.5
             },
             "pattern": {
              "fillmode": "overlay",
              "size": 10,
              "solidity": 0.2
             }
            },
            "type": "barpolar"
           }
          ],
          "carpet": [
           {
            "aaxis": {
             "endlinecolor": "#2a3f5f",
             "gridcolor": "white",
             "linecolor": "white",
             "minorgridcolor": "white",
             "startlinecolor": "#2a3f5f"
            },
            "baxis": {
             "endlinecolor": "#2a3f5f",
             "gridcolor": "white",
             "linecolor": "white",
             "minorgridcolor": "white",
             "startlinecolor": "#2a3f5f"
            },
            "type": "carpet"
           }
          ],
          "choropleth": [
           {
            "colorbar": {
             "outlinewidth": 0,
             "ticks": ""
            },
            "type": "choropleth"
           }
          ],
          "contour": [
           {
            "colorbar": {
             "outlinewidth": 0,
             "ticks": ""
            },
            "colorscale": [
             [
              0,
              "#0d0887"
             ],
             [
              0.1111111111111111,
              "#46039f"
             ],
             [
              0.2222222222222222,
              "#7201a8"
             ],
             [
              0.3333333333333333,
              "#9c179e"
             ],
             [
              0.4444444444444444,
              "#bd3786"
             ],
             [
              0.5555555555555556,
              "#d8576b"
             ],
             [
              0.6666666666666666,
              "#ed7953"
             ],
             [
              0.7777777777777778,
              "#fb9f3a"
             ],
             [
              0.8888888888888888,
              "#fdca26"
             ],
             [
              1,
              "#f0f921"
             ]
            ],
            "type": "contour"
           }
          ],
          "contourcarpet": [
           {
            "colorbar": {
             "outlinewidth": 0,
             "ticks": ""
            },
            "type": "contourcarpet"
           }
          ],
          "heatmap": [
           {
            "colorbar": {
             "outlinewidth": 0,
             "ticks": ""
            },
            "colorscale": [
             [
              0,
              "#0d0887"
             ],
             [
              0.1111111111111111,
              "#46039f"
             ],
             [
              0.2222222222222222,
              "#7201a8"
             ],
             [
              0.3333333333333333,
              "#9c179e"
             ],
             [
              0.4444444444444444,
              "#bd3786"
             ],
             [
              0.5555555555555556,
              "#d8576b"
             ],
             [
              0.6666666666666666,
              "#ed7953"
             ],
             [
              0.7777777777777778,
              "#fb9f3a"
             ],
             [
              0.8888888888888888,
              "#fdca26"
             ],
             [
              1,
              "#f0f921"
             ]
            ],
            "type": "heatmap"
           }
          ],
          "heatmapgl": [
           {
            "colorbar": {
             "outlinewidth": 0,
             "ticks": ""
            },
            "colorscale": [
             [
              0,
              "#0d0887"
             ],
             [
              0.1111111111111111,
              "#46039f"
             ],
             [
              0.2222222222222222,
              "#7201a8"
             ],
             [
              0.3333333333333333,
              "#9c179e"
             ],
             [
              0.4444444444444444,
              "#bd3786"
             ],
             [
              0.5555555555555556,
              "#d8576b"
             ],
             [
              0.6666666666666666,
              "#ed7953"
             ],
             [
              0.7777777777777778,
              "#fb9f3a"
             ],
             [
              0.8888888888888888,
              "#fdca26"
             ],
             [
              1,
              "#f0f921"
             ]
            ],
            "type": "heatmapgl"
           }
          ],
          "histogram": [
           {
            "marker": {
             "pattern": {
              "fillmode": "overlay",
              "size": 10,
              "solidity": 0.2
             }
            },
            "type": "histogram"
           }
          ],
          "histogram2d": [
           {
            "colorbar": {
             "outlinewidth": 0,
             "ticks": ""
            },
            "colorscale": [
             [
              0,
              "#0d0887"
             ],
             [
              0.1111111111111111,
              "#46039f"
             ],
             [
              0.2222222222222222,
              "#7201a8"
             ],
             [
              0.3333333333333333,
              "#9c179e"
             ],
             [
              0.4444444444444444,
              "#bd3786"
             ],
             [
              0.5555555555555556,
              "#d8576b"
             ],
             [
              0.6666666666666666,
              "#ed7953"
             ],
             [
              0.7777777777777778,
              "#fb9f3a"
             ],
             [
              0.8888888888888888,
              "#fdca26"
             ],
             [
              1,
              "#f0f921"
             ]
            ],
            "type": "histogram2d"
           }
          ],
          "histogram2dcontour": [
           {
            "colorbar": {
             "outlinewidth": 0,
             "ticks": ""
            },
            "colorscale": [
             [
              0,
              "#0d0887"
             ],
             [
              0.1111111111111111,
              "#46039f"
             ],
             [
              0.2222222222222222,
              "#7201a8"
             ],
             [
              0.3333333333333333,
              "#9c179e"
             ],
             [
              0.4444444444444444,
              "#bd3786"
             ],
             [
              0.5555555555555556,
              "#d8576b"
             ],
             [
              0.6666666666666666,
              "#ed7953"
             ],
             [
              0.7777777777777778,
              "#fb9f3a"
             ],
             [
              0.8888888888888888,
              "#fdca26"
             ],
             [
              1,
              "#f0f921"
             ]
            ],
            "type": "histogram2dcontour"
           }
          ],
          "mesh3d": [
           {
            "colorbar": {
             "outlinewidth": 0,
             "ticks": ""
            },
            "type": "mesh3d"
           }
          ],
          "parcoords": [
           {
            "line": {
             "colorbar": {
              "outlinewidth": 0,
              "ticks": ""
             }
            },
            "type": "parcoords"
           }
          ],
          "pie": [
           {
            "automargin": true,
            "type": "pie"
           }
          ],
          "scatter": [
           {
            "marker": {
             "colorbar": {
              "outlinewidth": 0,
              "ticks": ""
             }
            },
            "type": "scatter"
           }
          ],
          "scatter3d": [
           {
            "line": {
             "colorbar": {
              "outlinewidth": 0,
              "ticks": ""
             }
            },
            "marker": {
             "colorbar": {
              "outlinewidth": 0,
              "ticks": ""
             }
            },
            "type": "scatter3d"
           }
          ],
          "scattercarpet": [
           {
            "marker": {
             "colorbar": {
              "outlinewidth": 0,
              "ticks": ""
             }
            },
            "type": "scattercarpet"
           }
          ],
          "scattergeo": [
           {
            "marker": {
             "colorbar": {
              "outlinewidth": 0,
              "ticks": ""
             }
            },
            "type": "scattergeo"
           }
          ],
          "scattergl": [
           {
            "marker": {
             "colorbar": {
              "outlinewidth": 0,
              "ticks": ""
             }
            },
            "type": "scattergl"
           }
          ],
          "scattermapbox": [
           {
            "marker": {
             "colorbar": {
              "outlinewidth": 0,
              "ticks": ""
             }
            },
            "type": "scattermapbox"
           }
          ],
          "scatterpolar": [
           {
            "marker": {
             "colorbar": {
              "outlinewidth": 0,
              "ticks": ""
             }
            },
            "type": "scatterpolar"
           }
          ],
          "scatterpolargl": [
           {
            "marker": {
             "colorbar": {
              "outlinewidth": 0,
              "ticks": ""
             }
            },
            "type": "scatterpolargl"
           }
          ],
          "scatterternary": [
           {
            "marker": {
             "colorbar": {
              "outlinewidth": 0,
              "ticks": ""
             }
            },
            "type": "scatterternary"
           }
          ],
          "surface": [
           {
            "colorbar": {
             "outlinewidth": 0,
             "ticks": ""
            },
            "colorscale": [
             [
              0,
              "#0d0887"
             ],
             [
              0.1111111111111111,
              "#46039f"
             ],
             [
              0.2222222222222222,
              "#7201a8"
             ],
             [
              0.3333333333333333,
              "#9c179e"
             ],
             [
              0.4444444444444444,
              "#bd3786"
             ],
             [
              0.5555555555555556,
              "#d8576b"
             ],
             [
              0.6666666666666666,
              "#ed7953"
             ],
             [
              0.7777777777777778,
              "#fb9f3a"
             ],
             [
              0.8888888888888888,
              "#fdca26"
             ],
             [
              1,
              "#f0f921"
             ]
            ],
            "type": "surface"
           }
          ],
          "table": [
           {
            "cells": {
             "fill": {
              "color": "#EBF0F8"
             },
             "line": {
              "color": "white"
             }
            },
            "header": {
             "fill": {
              "color": "#C8D4E3"
             },
             "line": {
              "color": "white"
             }
            },
            "type": "table"
           }
          ]
         },
         "layout": {
          "annotationdefaults": {
           "arrowcolor": "#2a3f5f",
           "arrowhead": 0,
           "arrowwidth": 1
          },
          "autotypenumbers": "strict",
          "coloraxis": {
           "colorbar": {
            "outlinewidth": 0,
            "ticks": ""
           }
          },
          "colorscale": {
           "diverging": [
            [
             0,
             "#8e0152"
            ],
            [
             0.1,
             "#c51b7d"
            ],
            [
             0.2,
             "#de77ae"
            ],
            [
             0.3,
             "#f1b6da"
            ],
            [
             0.4,
             "#fde0ef"
            ],
            [
             0.5,
             "#f7f7f7"
            ],
            [
             0.6,
             "#e6f5d0"
            ],
            [
             0.7,
             "#b8e186"
            ],
            [
             0.8,
             "#7fbc41"
            ],
            [
             0.9,
             "#4d9221"
            ],
            [
             1,
             "#276419"
            ]
           ],
           "sequential": [
            [
             0,
             "#0d0887"
            ],
            [
             0.1111111111111111,
             "#46039f"
            ],
            [
             0.2222222222222222,
             "#7201a8"
            ],
            [
             0.3333333333333333,
             "#9c179e"
            ],
            [
             0.4444444444444444,
             "#bd3786"
            ],
            [
             0.5555555555555556,
             "#d8576b"
            ],
            [
             0.6666666666666666,
             "#ed7953"
            ],
            [
             0.7777777777777778,
             "#fb9f3a"
            ],
            [
             0.8888888888888888,
             "#fdca26"
            ],
            [
             1,
             "#f0f921"
            ]
           ],
           "sequentialminus": [
            [
             0,
             "#0d0887"
            ],
            [
             0.1111111111111111,
             "#46039f"
            ],
            [
             0.2222222222222222,
             "#7201a8"
            ],
            [
             0.3333333333333333,
             "#9c179e"
            ],
            [
             0.4444444444444444,
             "#bd3786"
            ],
            [
             0.5555555555555556,
             "#d8576b"
            ],
            [
             0.6666666666666666,
             "#ed7953"
            ],
            [
             0.7777777777777778,
             "#fb9f3a"
            ],
            [
             0.8888888888888888,
             "#fdca26"
            ],
            [
             1,
             "#f0f921"
            ]
           ]
          },
          "colorway": [
           "#636efa",
           "#EF553B",
           "#00cc96",
           "#ab63fa",
           "#FFA15A",
           "#19d3f3",
           "#FF6692",
           "#B6E880",
           "#FF97FF",
           "#FECB52"
          ],
          "font": {
           "color": "#2a3f5f"
          },
          "geo": {
           "bgcolor": "white",
           "lakecolor": "white",
           "landcolor": "#E5ECF6",
           "showlakes": true,
           "showland": true,
           "subunitcolor": "white"
          },
          "hoverlabel": {
           "align": "left"
          },
          "hovermode": "closest",
          "mapbox": {
           "style": "light"
          },
          "paper_bgcolor": "white",
          "plot_bgcolor": "#E5ECF6",
          "polar": {
           "angularaxis": {
            "gridcolor": "white",
            "linecolor": "white",
            "ticks": ""
           },
           "bgcolor": "#E5ECF6",
           "radialaxis": {
            "gridcolor": "white",
            "linecolor": "white",
            "ticks": ""
           }
          },
          "scene": {
           "xaxis": {
            "backgroundcolor": "#E5ECF6",
            "gridcolor": "white",
            "gridwidth": 2,
            "linecolor": "white",
            "showbackground": true,
            "ticks": "",
            "zerolinecolor": "white"
           },
           "yaxis": {
            "backgroundcolor": "#E5ECF6",
            "gridcolor": "white",
            "gridwidth": 2,
            "linecolor": "white",
            "showbackground": true,
            "ticks": "",
            "zerolinecolor": "white"
           },
           "zaxis": {
            "backgroundcolor": "#E5ECF6",
            "gridcolor": "white",
            "gridwidth": 2,
            "linecolor": "white",
            "showbackground": true,
            "ticks": "",
            "zerolinecolor": "white"
           }
          },
          "shapedefaults": {
           "line": {
            "color": "#2a3f5f"
           }
          },
          "ternary": {
           "aaxis": {
            "gridcolor": "white",
            "linecolor": "white",
            "ticks": ""
           },
           "baxis": {
            "gridcolor": "white",
            "linecolor": "white",
            "ticks": ""
           },
           "bgcolor": "#E5ECF6",
           "caxis": {
            "gridcolor": "white",
            "linecolor": "white",
            "ticks": ""
           }
          },
          "title": {
           "x": 0.05
          },
          "xaxis": {
           "automargin": true,
           "gridcolor": "white",
           "linecolor": "white",
           "ticks": "",
           "title": {
            "standoff": 15
           },
           "zerolinecolor": "white",
           "zerolinewidth": 2
          },
          "yaxis": {
           "automargin": true,
           "gridcolor": "white",
           "linecolor": "white",
           "ticks": "",
           "title": {
            "standoff": 15
           },
           "zerolinecolor": "white",
           "zerolinewidth": 2
          }
         }
        },
        "xaxis": {
         "anchor": "y",
         "autorange": true,
         "domain": [
          0,
          1
         ],
         "range": [
          2,
          52
         ],
         "title": {
          "text": "total_bill"
         },
         "type": "linear"
        },
        "yaxis": {
         "anchor": "x",
         "autorange": true,
         "domain": [
          0,
          1
         ],
         "range": [
          0,
          33.68421052631579
         ],
         "title": {
          "text": "count"
         }
        }
       }
      },
      "image/png": "[encoded data removed]"
     },
     "metadata": {},
     "output_type": "display_data"
    }
   ],
   "source": [
    "tips = px.data.tips()\n",
    "fig = px.histogram(\n",
    "tips,\n",
    "x = 'total_bill',\n",
    "color = 'sex',\n",
    "color_discrete_sequence = ['crimson', 'skyblue']\n",
    ")\n",
    "fig.show()"
   ]
  },
  {
   "cell_type": "code",
   "execution_count": 13,
   "metadata": {},
   "outputs": [
    {
     "data": {
      "application/vnd.plotly.v1+json": {
       "config": {
        "plotlyServerURL": "https://plot.ly"
       },
       "data": [
        {
         "alignmentgroup": "True",
         "bingroup": "x",
         "histfunc": "avg",
         "hovertemplate": "total_bill=%{x}<br>avg of tip=%{y}<extra></extra>",
         "legendgroup": "",
         "marker": {
          "color": "#636efa",
          "pattern": {
           "shape": ""
          }
         },
         "name": "",
         "offsetgroup": "",
         "orientation": "v",
         "showlegend": false,
         "type": "histogram",
         "x": [
          16.99,
          10.34,
          21.01,
          23.68,
          24.59,
          25.29,
          8.77,
          26.88,
          15.04,
          14.78,
          10.27,
          35.26,
          15.42,
          18.43,
          14.83,
          21.58,
          10.33,
          16.29,
          16.97,
          20.65,
          17.92,
          20.29,
          15.77,
          39.42,
          19.82,
          17.81,
          13.37,
          12.69,
          21.7,
          19.65,
          9.55,
          18.35,
          15.06,
          20.69,
          17.78,
          24.06,
          16.31,
          16.93,
          18.69,
          31.27,
          16.04,
          17.46,
          13.94,
          9.68,
          30.4,
          18.29,
          22.23,
          32.4,
          28.55,
          18.04,
          12.54,
          10.29,
          34.81,
          9.94,
          25.56,
          19.49,
          38.01,
          26.41,
          11.24,
          48.27,
          20.29,
          13.81,
          11.02,
          18.29,
          17.59,
          20.08,
          16.45,
          3.07,
          20.23,
          15.01,
          12.02,
          17.07,
          26.86,
          25.28,
          14.73,
          10.51,
          17.92,
          27.2,
          22.76,
          17.29,
          19.44,
          16.66,
          10.07,
          32.68,
          15.98,
          34.83,
          13.03,
          18.28,
          24.71,
          21.16,
          28.97,
          22.49,
          5.75,
          16.32,
          22.75,
          40.17,
          27.28,
          12.03,
          21.01,
          12.46,
          11.35,
          15.38,
          44.3,
          22.42,
          20.92,
          15.36,
          20.49,
          25.21,
          18.24,
          14.31,
          14,
          7.25,
          38.07,
          23.95,
          25.71,
          17.31,
          29.93,
          10.65,
          12.43,
          24.08,
          11.69,
          13.42,
          14.26,
          15.95,
          12.48,
          29.8,
          8.52,
          14.52,
          11.38,
          22.82,
          19.08,
          20.27,
          11.17,
          12.26,
          18.26,
          8.51,
          10.33,
          14.15,
          16,
          13.16,
          17.47,
          34.3,
          41.19,
          27.05,
          16.43,
          8.35,
          18.64,
          11.87,
          9.78,
          7.51,
          14.07,
          13.13,
          17.26,
          24.55,
          19.77,
          29.85,
          48.17,
          25,
          13.39,
          16.49,
          21.5,
          12.66,
          16.21,
          13.81,
          17.51,
          24.52,
          20.76,
          31.71,
          10.59,
          10.63,
          50.81,
          15.81,
          7.25,
          31.85,
          16.82,
          32.9,
          17.89,
          14.48,
          9.6,
          34.63,
          34.65,
          23.33,
          45.35,
          23.17,
          40.55,
          20.69,
          20.9,
          30.46,
          18.15,
          23.1,
          15.69,
          19.81,
          28.44,
          15.48,
          16.58,
          7.56,
          10.34,
          43.11,
          13,
          13.51,
          18.71,
          12.74,
          13,
          16.4,
          20.53,
          16.47,
          26.59,
          38.73,
          24.27,
          12.76,
          30.06,
          25.89,
          48.33,
          13.27,
          28.17,
          12.9,
          28.15,
          11.59,
          7.74,
          30.14,
          12.16,
          13.42,
          8.58,
          15.98,
          13.42,
          16.27,
          10.09,
          20.45,
          13.28,
          22.12,
          24.01,
          15.69,
          11.61,
          10.77,
          15.53,
          10.07,
          12.6,
          32.83,
          35.83,
          29.03,
          27.18,
          22.67,
          17.82,
          18.78
         ],
         "xaxis": "x",
         "y": [
          1.01,
          1.66,
          3.5,
          3.31,
          3.61,
          4.71,
          2,
          3.12,
          1.96,
          3.23,
          1.71,
          5,
          1.57,
          3,
          3.02,
          3.92,
          1.67,
          3.71,
          3.5,
          3.35,
          4.08,
          2.75,
          2.23,
          7.58,
          3.18,
          2.34,
          2,
          2,
          4.3,
          3,
          1.45,
          2.5,
          3,
          2.45,
          3.27,
          3.6,
          2,
          3.07,
          2.31,
          5,
          2.24,
          2.54,
          3.06,
          1.32,
          5.6,
          3,
          5,
          6,
          2.05,
          3,
          2.5,
          2.6,
          5.2,
          1.56,
          4.34,
          3.51,
          3,
          1.5,
          1.76,
          6.73,
          3.21,
          2,
          1.98,
          3.76,
          2.64,
          3.15,
          2.47,
          1,
          2.01,
          2.09,
          1.97,
          3,
          3.14,
          5,
          2.2,
          1.25,
          3.08,
          4,
          3,
          2.71,
          3,
          3.4,
          1.83,
          5,
          2.03,
          5.17,
          2,
          4,
          5.85,
          3,
          3,
          3.5,
          1,
          4.3,
          3.25,
          4.73,
          4,
          1.5,
          3,
          1.5,
          2.5,
          3,
          2.5,
          3.48,
          4.08,
          1.64,
          4.06,
          4.29,
          3.76,
          4,
          3,
          1,
          4,
          2.55,
          4,
          3.5,
          5.07,
          1.5,
          1.8,
          2.92,
          2.31,
          1.68,
          2.5,
          2,
          2.52,
          4.2,
          1.48,
          2,
          2,
          2.18,
          1.5,
          2.83,
          1.5,
          2,
          3.25,
          1.25,
          2,
          2,
          2,
          2.75,
          3.5,
          6.7,
          5,
          5,
          2.3,
          1.5,
          1.36,
          1.63,
          1.73,
          2,
          2.5,
          2,
          2.74,
          2,
          2,
          5.14,
          5,
          3.75,
          2.61,
          2,
          3.5,
          2.5,
          2,
          2,
          3,
          3.48,
          2.24,
          4.5,
          1.61,
          2,
          10,
          3.16,
          5.15,
          3.18,
          4,
          3.11,
          2,
          2,
          4,
          3.55,
          3.68,
          5.65,
          3.5,
          6.5,
          3,
          5,
          3.5,
          2,
          3.5,
          4,
          1.5,
          4.19,
          2.56,
          2.02,
          4,
          1.44,
          2,
          5,
          2,
          2,
          4,
          2.01,
          2,
          2.5,
          4,
          3.23,
          3.41,
          3,
          2.03,
          2.23,
          2,
          5.16,
          9,
          2.5,
          6.5,
          1.1,
          3,
          1.5,
          1.44,
          3.09,
          2.2,
          3.48,
          1.92,
          3,
          1.58,
          2.5,
          2,
          3,
          2.72,
          2.88,
          2,
          3,
          3.39,
          1.47,
          3,
          1.25,
          1,
          1.17,
          4.67,
          5.92,
          2,
          2,
          1.75,
          3
         ],
         "yaxis": "y"
        }
       ],
       "layout": {
        "autosize": true,
        "barmode": "relative",
        "legend": {
         "tracegroupgap": 0
        },
        "margin": {
         "t": 60
        },
        "template": {
         "data": {
          "bar": [
           {
            "error_x": {
             "color": "#2a3f5f"
            },
            "error_y": {
             "color": "#2a3f5f"
            },
            "marker": {
             "line": {
              "color": "#E5ECF6",
              "width": 0.5
             },
             "pattern": {
              "fillmode": "overlay",
              "size": 10,
              "solidity": 0.2
             }
            },
            "type": "bar"
           }
          ],
          "barpolar": [
           {
            "marker": {
             "line": {
              "color": "#E5ECF6",
              "width": 0.5
             },
             "pattern": {
              "fillmode": "overlay",
              "size": 10,
              "solidity": 0.2
             }
            },
            "type": "barpolar"
           }
          ],
          "carpet": [
           {
            "aaxis": {
             "endlinecolor": "#2a3f5f",
             "gridcolor": "white",
             "linecolor": "white",
             "minorgridcolor": "white",
             "startlinecolor": "#2a3f5f"
            },
            "baxis": {
             "endlinecolor": "#2a3f5f",
             "gridcolor": "white",
             "linecolor": "white",
             "minorgridcolor": "white",
             "startlinecolor": "#2a3f5f"
            },
            "type": "carpet"
           }
          ],
          "choropleth": [
           {
            "colorbar": {
             "outlinewidth": 0,
             "ticks": ""
            },
            "type": "choropleth"
           }
          ],
          "contour": [
           {
            "colorbar": {
             "outlinewidth": 0,
             "ticks": ""
            },
            "colorscale": [
             [
              0,
              "#0d0887"
             ],
             [
              0.1111111111111111,
              "#46039f"
             ],
             [
              0.2222222222222222,
              "#7201a8"
             ],
             [
              0.3333333333333333,
              "#9c179e"
             ],
             [
              0.4444444444444444,
              "#bd3786"
             ],
             [
              0.5555555555555556,
              "#d8576b"
             ],
             [
              0.6666666666666666,
              "#ed7953"
             ],
             [
              0.7777777777777778,
              "#fb9f3a"
             ],
             [
              0.8888888888888888,
              "#fdca26"
             ],
             [
              1,
              "#f0f921"
             ]
            ],
            "type": "contour"
           }
          ],
          "contourcarpet": [
           {
            "colorbar": {
             "outlinewidth": 0,
             "ticks": ""
            },
            "type": "contourcarpet"
           }
          ],
          "heatmap": [
           {
            "colorbar": {
             "outlinewidth": 0,
             "ticks": ""
            },
            "colorscale": [
             [
              0,
              "#0d0887"
             ],
             [
              0.1111111111111111,
              "#46039f"
             ],
             [
              0.2222222222222222,
              "#7201a8"
             ],
             [
              0.3333333333333333,
              "#9c179e"
             ],
             [
              0.4444444444444444,
              "#bd3786"
             ],
             [
              0.5555555555555556,
              "#d8576b"
             ],
             [
              0.6666666666666666,
              "#ed7953"
             ],
             [
              0.7777777777777778,
              "#fb9f3a"
             ],
             [
              0.8888888888888888,
              "#fdca26"
             ],
             [
              1,
              "#f0f921"
             ]
            ],
            "type": "heatmap"
           }
          ],
          "heatmapgl": [
           {
            "colorbar": {
             "outlinewidth": 0,
             "ticks": ""
            },
            "colorscale": [
             [
              0,
              "#0d0887"
             ],
             [
              0.1111111111111111,
              "#46039f"
             ],
             [
              0.2222222222222222,
              "#7201a8"
             ],
             [
              0.3333333333333333,
              "#9c179e"
             ],
             [
              0.4444444444444444,
              "#bd3786"
             ],
             [
              0.5555555555555556,
              "#d8576b"
             ],
             [
              0.6666666666666666,
              "#ed7953"
             ],
             [
              0.7777777777777778,
              "#fb9f3a"
             ],
             [
              0.8888888888888888,
              "#fdca26"
             ],
             [
              1,
              "#f0f921"
             ]
            ],
            "type": "heatmapgl"
           }
          ],
          "histogram": [
           {
            "marker": {
             "pattern": {
              "fillmode": "overlay",
              "size": 10,
              "solidity": 0.2
             }
            },
            "type": "histogram"
           }
          ],
          "histogram2d": [
           {
            "colorbar": {
             "outlinewidth": 0,
             "ticks": ""
            },
            "colorscale": [
             [
              0,
              "#0d0887"
             ],
             [
              0.1111111111111111,
              "#46039f"
             ],
             [
              0.2222222222222222,
              "#7201a8"
             ],
             [
              0.3333333333333333,
              "#9c179e"
             ],
             [
              0.4444444444444444,
              "#bd3786"
             ],
             [
              0.5555555555555556,
              "#d8576b"
             ],
             [
              0.6666666666666666,
              "#ed7953"
             ],
             [
              0.7777777777777778,
              "#fb9f3a"
             ],
             [
              0.8888888888888888,
              "#fdca26"
             ],
             [
              1,
              "#f0f921"
             ]
            ],
            "type": "histogram2d"
           }
          ],
          "histogram2dcontour": [
           {
            "colorbar": {
             "outlinewidth": 0,
             "ticks": ""
            },
            "colorscale": [
             [
              0,
              "#0d0887"
             ],
             [
              0.1111111111111111,
              "#46039f"
             ],
             [
              0.2222222222222222,
              "#7201a8"
             ],
             [
              0.3333333333333333,
              "#9c179e"
             ],
             [
              0.4444444444444444,
              "#bd3786"
             ],
             [
              0.5555555555555556,
              "#d8576b"
             ],
             [
              0.6666666666666666,
              "#ed7953"
             ],
             [
              0.7777777777777778,
              "#fb9f3a"
             ],
             [
              0.8888888888888888,
              "#fdca26"
             ],
             [
              1,
              "#f0f921"
             ]
            ],
            "type": "histogram2dcontour"
           }
          ],
          "mesh3d": [
           {
            "colorbar": {
             "outlinewidth": 0,
             "ticks": ""
            },
            "type": "mesh3d"
           }
          ],
          "parcoords": [
           {
            "line": {
             "colorbar": {
              "outlinewidth": 0,
              "ticks": ""
             }
            },
            "type": "parcoords"
           }
          ],
          "pie": [
           {
            "automargin": true,
            "type": "pie"
           }
          ],
          "scatter": [
           {
            "marker": {
             "colorbar": {
              "outlinewidth": 0,
              "ticks": ""
             }
            },
            "type": "scatter"
           }
          ],
          "scatter3d": [
           {
            "line": {
             "colorbar": {
              "outlinewidth": 0,
              "ticks": ""
             }
            },
            "marker": {
             "colorbar": {
              "outlinewidth": 0,
              "ticks": ""
             }
            },
            "type": "scatter3d"
           }
          ],
          "scattercarpet": [
           {
            "marker": {
             "colorbar": {
              "outlinewidth": 0,
              "ticks": ""
             }
            },
            "type": "scattercarpet"
           }
          ],
          "scattergeo": [
           {
            "marker": {
             "colorbar": {
              "outlinewidth": 0,
              "ticks": ""
             }
            },
            "type": "scattergeo"
           }
          ],
          "scattergl": [
           {
            "marker": {
             "colorbar": {
              "outlinewidth": 0,
              "ticks": ""
             }
            },
            "type": "scattergl"
           }
          ],
          "scattermapbox": [
           {
            "marker": {
             "colorbar": {
              "outlinewidth": 0,
              "ticks": ""
             }
            },
            "type": "scattermapbox"
           }
          ],
          "scatterpolar": [
           {
            "marker": {
             "colorbar": {
              "outlinewidth": 0,
              "ticks": ""
             }
            },
            "type": "scatterpolar"
           }
          ],
          "scatterpolargl": [
           {
            "marker": {
             "colorbar": {
              "outlinewidth": 0,
              "ticks": ""
             }
            },
            "type": "scatterpolargl"
           }
          ],
          "scatterternary": [
           {
            "marker": {
             "colorbar": {
              "outlinewidth": 0,
              "ticks": ""
             }
            },
            "type": "scatterternary"
           }
          ],
          "surface": [
           {
            "colorbar": {
             "outlinewidth": 0,
             "ticks": ""
            },
            "colorscale": [
             [
              0,
              "#0d0887"
             ],
             [
              0.1111111111111111,
              "#46039f"
             ],
             [
              0.2222222222222222,
              "#7201a8"
             ],
             [
              0.3333333333333333,
              "#9c179e"
             ],
             [
              0.4444444444444444,
              "#bd3786"
             ],
             [
              0.5555555555555556,
              "#d8576b"
             ],
             [
              0.6666666666666666,
              "#ed7953"
             ],
             [
              0.7777777777777778,
              "#fb9f3a"
             ],
             [
              0.8888888888888888,
              "#fdca26"
             ],
             [
              1,
              "#f0f921"
             ]
            ],
            "type": "surface"
           }
          ],
          "table": [
           {
            "cells": {
             "fill": {
              "color": "#EBF0F8"
             },
             "line": {
              "color": "white"
             }
            },
            "header": {
             "fill": {
              "color": "#C8D4E3"
             },
             "line": {
              "color": "white"
             }
            },
            "type": "table"
           }
          ]
         },
         "layout": {
          "annotationdefaults": {
           "arrowcolor": "#2a3f5f",
           "arrowhead": 0,
           "arrowwidth": 1
          },
          "autotypenumbers": "strict",
          "coloraxis": {
           "colorbar": {
            "outlinewidth": 0,
            "ticks": ""
           }
          },
          "colorscale": {
           "diverging": [
            [
             0,
             "#8e0152"
            ],
            [
             0.1,
             "#c51b7d"
            ],
            [
             0.2,
             "#de77ae"
            ],
            [
             0.3,
             "#f1b6da"
            ],
            [
             0.4,
             "#fde0ef"
            ],
            [
             0.5,
             "#f7f7f7"
            ],
            [
             0.6,
             "#e6f5d0"
            ],
            [
             0.7,
             "#b8e186"
            ],
            [
             0.8,
             "#7fbc41"
            ],
            [
             0.9,
             "#4d9221"
            ],
            [
             1,
             "#276419"
            ]
           ],
           "sequential": [
            [
             0,
             "#0d0887"
            ],
            [
             0.1111111111111111,
             "#46039f"
            ],
            [
             0.2222222222222222,
             "#7201a8"
            ],
            [
             0.3333333333333333,
             "#9c179e"
            ],
            [
             0.4444444444444444,
             "#bd3786"
            ],
            [
             0.5555555555555556,
             "#d8576b"
            ],
            [
             0.6666666666666666,
             "#ed7953"
            ],
            [
             0.7777777777777778,
             "#fb9f3a"
            ],
            [
             0.8888888888888888,
             "#fdca26"
            ],
            [
             1,
             "#f0f921"
            ]
           ],
           "sequentialminus": [
            [
             0,
             "#0d0887"
            ],
            [
             0.1111111111111111,
             "#46039f"
            ],
            [
             0.2222222222222222,
             "#7201a8"
            ],
            [
             0.3333333333333333,
             "#9c179e"
            ],
            [
             0.4444444444444444,
             "#bd3786"
            ],
            [
             0.5555555555555556,
             "#d8576b"
            ],
            [
             0.6666666666666666,
             "#ed7953"
            ],
            [
             0.7777777777777778,
             "#fb9f3a"
            ],
            [
             0.8888888888888888,
             "#fdca26"
            ],
            [
             1,
             "#f0f921"
            ]
           ]
          },
          "colorway": [
           "#636efa",
           "#EF553B",
           "#00cc96",
           "#ab63fa",
           "#FFA15A",
           "#19d3f3",
           "#FF6692",
           "#B6E880",
           "#FF97FF",
           "#FECB52"
          ],
          "font": {
           "color": "#2a3f5f"
          },
          "geo": {
           "bgcolor": "white",
           "lakecolor": "white",
           "landcolor": "#E5ECF6",
           "showlakes": true,
           "showland": true,
           "subunitcolor": "white"
          },
          "hoverlabel": {
           "align": "left"
          },
          "hovermode": "closest",
          "mapbox": {
           "style": "light"
          },
          "paper_bgcolor": "white",
          "plot_bgcolor": "#E5ECF6",
          "polar": {
           "angularaxis": {
            "gridcolor": "white",
            "linecolor": "white",
            "ticks": ""
           },
           "bgcolor": "#E5ECF6",
           "radialaxis": {
            "gridcolor": "white",
            "linecolor": "white",
            "ticks": ""
           }
          },
          "scene": {
           "xaxis": {
            "backgroundcolor": "#E5ECF6",
            "gridcolor": "white",
            "gridwidth": 2,
            "linecolor": "white",
            "showbackground": true,
            "ticks": "",
            "zerolinecolor": "white"
           },
           "yaxis": {
            "backgroundcolor": "#E5ECF6",
            "gridcolor": "white",
            "gridwidth": 2,
            "linecolor": "white",
            "showbackground": true,
            "ticks": "",
            "zerolinecolor": "white"
           },
           "zaxis": {
            "backgroundcolor": "#E5ECF6",
            "gridcolor": "white",
            "gridwidth": 2,
            "linecolor": "white",
            "showbackground": true,
            "ticks": "",
            "zerolinecolor": "white"
           }
          },
          "shapedefaults": {
           "line": {
            "color": "#2a3f5f"
           }
          },
          "ternary": {
           "aaxis": {
            "gridcolor": "white",
            "linecolor": "white",
            "ticks": ""
           },
           "baxis": {
            "gridcolor": "white",
            "linecolor": "white",
            "ticks": ""
           },
           "bgcolor": "#E5ECF6",
           "caxis": {
            "gridcolor": "white",
            "linecolor": "white",
            "ticks": ""
           }
          },
          "title": {
           "x": 0.05
          },
          "xaxis": {
           "automargin": true,
           "gridcolor": "white",
           "linecolor": "white",
           "ticks": "",
           "title": {
            "standoff": 15
           },
           "zerolinecolor": "white",
           "zerolinewidth": 2
          },
          "yaxis": {
           "automargin": true,
           "gridcolor": "white",
           "linecolor": "white",
           "ticks": "",
           "title": {
            "standoff": 15
           },
           "zerolinecolor": "white",
           "zerolinewidth": 2
          }
         }
        },
        "xaxis": {
         "anchor": "y",
         "autorange": true,
         "domain": [
          0,
          1
         ],
         "range": [
          2,
          52
         ],
         "title": {
          "text": "total_bill"
         },
         "type": "linear"
        },
        "yaxis": {
         "anchor": "x",
         "autorange": true,
         "domain": [
          0,
          1
         ],
         "range": [
          0,
          10.526315789473685
         ],
         "title": {
          "text": "avg of tip"
         },
         "type": "linear"
        }
       }
      },
      "image/png": "[encoded data removed]"
     },
     "metadata": {},
     "output_type": "display_data"
    }
   ],
   "source": [
    "tips = px.data.tips()\n",
    "fig = px.histogram(tips, x = 'total_bill', y = 'tip', histfunc = 'avg')\n",
    "fig.show()"
   ]
  },
  {
   "cell_type": "code",
   "execution_count": 14,
   "metadata": {},
   "outputs": [
    {
     "data": {
      "application/vnd.plotly.v1+json": {
       "config": {
        "plotlyServerURL": "https://plot.ly"
       },
       "data": [
        {
         "alignmentgroup": "True",
         "bingroup": "x",
         "hovertemplate": "sex=Female<br>total_bill=%{x}<br>count=%{y}<extra></extra>",
         "legendgroup": "Female",
         "marker": {
          "color": "#636efa",
          "pattern": {
           "shape": ""
          }
         },
         "name": "Female",
         "offsetgroup": "Female",
         "orientation": "v",
         "showlegend": true,
         "type": "histogram",
         "x": [
          16.99,
          24.59,
          35.26,
          14.83,
          10.33,
          16.97,
          20.29,
          15.77,
          19.65,
          15.06,
          20.69,
          16.93,
          10.29,
          34.81,
          26.41,
          16.45,
          3.07,
          17.07,
          26.86,
          25.28,
          14.73,
          10.07,
          34.83,
          5.75,
          16.32,
          22.75,
          11.35,
          15.38,
          44.3,
          22.42,
          20.92,
          14.31,
          7.25,
          25.71,
          17.31,
          10.65,
          12.43,
          24.08,
          13.42,
          12.48,
          29.8,
          14.52,
          11.38,
          20.27,
          11.17,
          12.26,
          18.26,
          8.51,
          10.33,
          14.15,
          13.16,
          17.47,
          27.05,
          16.43,
          8.35,
          18.64,
          11.87,
          29.85,
          25,
          13.39,
          16.21,
          17.51,
          10.59,
          10.63,
          9.6,
          20.9,
          18.15,
          19.81,
          43.11,
          13,
          12.74,
          13,
          16.4,
          16.47,
          12.76,
          13.27,
          28.17,
          12.9,
          30.14,
          13.42,
          15.98,
          16.27,
          10.09,
          22.12,
          35.83,
          27.18,
          18.78
         ],
         "xaxis": "x",
         "yaxis": "y"
        },
        {
         "alignmentgroup": "True",
         "boxpoints": "all",
         "fillcolor": "rgba(255,255,255,0)",
         "hoveron": "points",
         "hovertemplate": "sex=Female<br>total_bill=%{x}<extra></extra>",
         "jitter": 0,
         "legendgroup": "Female",
         "line": {
          "color": "rgba(255,255,255,0)"
         },
         "marker": {
          "color": "#636efa",
          "symbol": "line-ns-open"
         },
         "name": "Female",
         "offsetgroup": "Female",
         "showlegend": false,
         "type": "box",
         "x": [
          16.99,
          24.59,
          35.26,
          14.83,
          10.33,
          16.97,
          20.29,
          15.77,
          19.65,
          15.06,
          20.69,
          16.93,
          10.29,
          34.81,
          26.41,
          16.45,
          3.07,
          17.07,
          26.86,
          25.28,
          14.73,
          10.07,
          34.83,
          5.75,
          16.32,
          22.75,
          11.35,
          15.38,
          44.3,
          22.42,
          20.92,
          14.31,
          7.25,
          25.71,
          17.31,
          10.65,
          12.43,
          24.08,
          13.42,
          12.48,
          29.8,
          14.52,
          11.38,
          20.27,
          11.17,
          12.26,
          18.26,
          8.51,
          10.33,
          14.15,
          13.16,
          17.47,
          27.05,
          16.43,
          8.35,
          18.64,
          11.87,
          29.85,
          25,
          13.39,
          16.21,
          17.51,
          10.59,
          10.63,
          9.6,
          20.9,
          18.15,
          19.81,
          43.11,
          13,
          12.74,
          13,
          16.4,
          16.47,
          12.76,
          13.27,
          28.17,
          12.9,
          30.14,
          13.42,
          15.98,
          16.27,
          10.09,
          22.12,
          35.83,
          27.18,
          18.78
         ],
         "xaxis": "x2",
         "yaxis": "y2"
        },
        {
         "alignmentgroup": "True",
         "bingroup": "x",
         "hovertemplate": "sex=Male<br>total_bill=%{x}<br>count=%{y}<extra></extra>",
         "legendgroup": "Male",
         "marker": {
          "color": "#EF553B",
          "pattern": {
           "shape": ""
          }
         },
         "name": "Male",
         "offsetgroup": "Male",
         "orientation": "v",
         "showlegend": true,
         "type": "histogram",
         "x": [
          10.34,
          21.01,
          23.68,
          25.29,
          8.77,
          26.88,
          15.04,
          14.78,
          10.27,
          15.42,
          18.43,
          21.58,
          16.29,
          20.65,
          17.92,
          39.42,
          19.82,
          17.81,
          13.37,
          12.69,
          21.7,
          9.55,
          18.35,
          17.78,
          24.06,
          16.31,
          18.69,
          31.27,
          16.04,
          17.46,
          13.94,
          9.68,
          30.4,
          18.29,
          22.23,
          32.4,
          28.55,
          18.04,
          12.54,
          9.94,
          25.56,
          19.49,
          38.01,
          11.24,
          48.27,
          20.29,
          13.81,
          11.02,
          18.29,
          17.59,
          20.08,
          20.23,
          15.01,
          12.02,
          10.51,
          17.92,
          27.2,
          22.76,
          17.29,
          19.44,
          16.66,
          32.68,
          15.98,
          13.03,
          18.28,
          24.71,
          21.16,
          28.97,
          22.49,
          40.17,
          27.28,
          12.03,
          21.01,
          12.46,
          15.36,
          20.49,
          25.21,
          18.24,
          14,
          38.07,
          23.95,
          29.93,
          11.69,
          14.26,
          15.95,
          8.52,
          22.82,
          19.08,
          16,
          34.3,
          41.19,
          9.78,
          7.51,
          14.07,
          13.13,
          17.26,
          24.55,
          19.77,
          48.17,
          16.49,
          21.5,
          12.66,
          13.81,
          24.52,
          20.76,
          31.71,
          50.81,
          15.81,
          7.25,
          31.85,
          16.82,
          32.9,
          17.89,
          14.48,
          34.63,
          34.65,
          23.33,
          45.35,
          23.17,
          40.55,
          20.69,
          30.46,
          23.1,
          15.69,
          28.44,
          15.48,
          16.58,
          7.56,
          10.34,
          13.51,
          18.71,
          20.53,
          26.59,
          38.73,
          24.27,
          30.06,
          25.89,
          48.33,
          28.15,
          11.59,
          7.74,
          12.16,
          8.58,
          13.42,
          20.45,
          13.28,
          24.01,
          15.69,
          11.61,
          10.77,
          15.53,
          10.07,
          12.6,
          32.83,
          29.03,
          22.67,
          17.82
         ],
         "xaxis": "x",
         "yaxis": "y"
        },
        {
         "alignmentgroup": "True",
         "boxpoints": "all",
         "fillcolor": "rgba(255,255,255,0)",
         "hoveron": "points",
         "hovertemplate": "sex=Male<br>total_bill=%{x}<extra></extra>",
         "jitter": 0,
         "legendgroup": "Male",
         "line": {
          "color": "rgba(255,255,255,0)"
         },
         "marker": {
          "color": "#EF553B",
          "symbol": "line-ns-open"
         },
         "name": "Male",
         "offsetgroup": "Male",
         "showlegend": false,
         "type": "box",
         "x": [
          10.34,
          21.01,
          23.68,
          25.29,
          8.77,
          26.88,
          15.04,
          14.78,
          10.27,
          15.42,
          18.43,
          21.58,
          16.29,
          20.65,
          17.92,
          39.42,
          19.82,
          17.81,
          13.37,
          12.69,
          21.7,
          9.55,
          18.35,
          17.78,
          24.06,
          16.31,
          18.69,
          31.27,
          16.04,
          17.46,
          13.94,
          9.68,
          30.4,
          18.29,
          22.23,
          32.4,
          28.55,
          18.04,
          12.54,
          9.94,
          25.56,
          19.49,
          38.01,
          11.24,
          48.27,
          20.29,
          13.81,
          11.02,
          18.29,
          17.59,
          20.08,
          20.23,
          15.01,
          12.02,
          10.51,
          17.92,
          27.2,
          22.76,
          17.29,
          19.44,
          16.66,
          32.68,
          15.98,
          13.03,
          18.28,
          24.71,
          21.16,
          28.97,
          22.49,
          40.17,
          27.28,
          12.03,
          21.01,
          12.46,
          15.36,
          20.49,
          25.21,
          18.24,
          14,
          38.07,
          23.95,
          29.93,
          11.69,
          14.26,
          15.95,
          8.52,
          22.82,
          19.08,
          16,
          34.3,
          41.19,
          9.78,
          7.51,
          14.07,
          13.13,
          17.26,
          24.55,
          19.77,
          48.17,
          16.49,
          21.5,
          12.66,
          13.81,
          24.52,
          20.76,
          31.71,
          50.81,
          15.81,
          7.25,
          31.85,
          16.82,
          32.9,
          17.89,
          14.48,
          34.63,
          34.65,
          23.33,
          45.35,
          23.17,
          40.55,
          20.69,
          30.46,
          23.1,
          15.69,
          28.44,
          15.48,
          16.58,
          7.56,
          10.34,
          13.51,
          18.71,
          20.53,
          26.59,
          38.73,
          24.27,
          30.06,
          25.89,
          48.33,
          28.15,
          11.59,
          7.74,
          12.16,
          8.58,
          13.42,
          20.45,
          13.28,
          24.01,
          15.69,
          11.61,
          10.77,
          15.53,
          10.07,
          12.6,
          32.83,
          29.03,
          22.67,
          17.82
         ],
         "xaxis": "x2",
         "yaxis": "y2"
        }
       ],
       "layout": {
        "autosize": true,
        "barmode": "relative",
        "legend": {
         "title": {
          "text": "sex"
         },
         "tracegroupgap": 0
        },
        "margin": {
         "t": 60
        },
        "template": {
         "data": {
          "bar": [
           {
            "error_x": {
             "color": "#2a3f5f"
            },
            "error_y": {
             "color": "#2a3f5f"
            },
            "marker": {
             "line": {
              "color": "#E5ECF6",
              "width": 0.5
             },
             "pattern": {
              "fillmode": "overlay",
              "size": 10,
              "solidity": 0.2
             }
            },
            "type": "bar"
           }
          ],
          "barpolar": [
           {
            "marker": {
             "line": {
              "color": "#E5ECF6",
              "width": 0.5
             },
             "pattern": {
              "fillmode": "overlay",
              "size": 10,
              "solidity": 0.2
             }
            },
            "type": "barpolar"
           }
          ],
          "carpet": [
           {
            "aaxis": {
             "endlinecolor": "#2a3f5f",
             "gridcolor": "white",
             "linecolor": "white",
             "minorgridcolor": "white",
             "startlinecolor": "#2a3f5f"
            },
            "baxis": {
             "endlinecolor": "#2a3f5f",
             "gridcolor": "white",
             "linecolor": "white",
             "minorgridcolor": "white",
             "startlinecolor": "#2a3f5f"
            },
            "type": "carpet"
           }
          ],
          "choropleth": [
           {
            "colorbar": {
             "outlinewidth": 0,
             "ticks": ""
            },
            "type": "choropleth"
           }
          ],
          "contour": [
           {
            "colorbar": {
             "outlinewidth": 0,
             "ticks": ""
            },
            "colorscale": [
             [
              0,
              "#0d0887"
             ],
             [
              0.1111111111111111,
              "#46039f"
             ],
             [
              0.2222222222222222,
              "#7201a8"
             ],
             [
              0.3333333333333333,
              "#9c179e"
             ],
             [
              0.4444444444444444,
              "#bd3786"
             ],
             [
              0.5555555555555556,
              "#d8576b"
             ],
             [
              0.6666666666666666,
              "#ed7953"
             ],
             [
              0.7777777777777778,
              "#fb9f3a"
             ],
             [
              0.8888888888888888,
              "#fdca26"
             ],
             [
              1,
              "#f0f921"
             ]
            ],
            "type": "contour"
           }
          ],
          "contourcarpet": [
           {
            "colorbar": {
             "outlinewidth": 0,
             "ticks": ""
            },
            "type": "contourcarpet"
           }
          ],
          "heatmap": [
           {
            "colorbar": {
             "outlinewidth": 0,
             "ticks": ""
            },
            "colorscale": [
             [
              0,
              "#0d0887"
             ],
             [
              0.1111111111111111,
              "#46039f"
             ],
             [
              0.2222222222222222,
              "#7201a8"
             ],
             [
              0.3333333333333333,
              "#9c179e"
             ],
             [
              0.4444444444444444,
              "#bd3786"
             ],
             [
              0.5555555555555556,
              "#d8576b"
             ],
             [
              0.6666666666666666,
              "#ed7953"
             ],
             [
              0.7777777777777778,
              "#fb9f3a"
             ],
             [
              0.8888888888888888,
              "#fdca26"
             ],
             [
              1,
              "#f0f921"
             ]
            ],
            "type": "heatmap"
           }
          ],
          "heatmapgl": [
           {
            "colorbar": {
             "outlinewidth": 0,
             "ticks": ""
            },
            "colorscale": [
             [
              0,
              "#0d0887"
             ],
             [
              0.1111111111111111,
              "#46039f"
             ],
             [
              0.2222222222222222,
              "#7201a8"
             ],
             [
              0.3333333333333333,
              "#9c179e"
             ],
             [
              0.4444444444444444,
              "#bd3786"
             ],
             [
              0.5555555555555556,
              "#d8576b"
             ],
             [
              0.6666666666666666,
              "#ed7953"
             ],
             [
              0.7777777777777778,
              "#fb9f3a"
             ],
             [
              0.8888888888888888,
              "#fdca26"
             ],
             [
              1,
              "#f0f921"
             ]
            ],
            "type": "heatmapgl"
           }
          ],
          "histogram": [
           {
            "marker": {
             "pattern": {
              "fillmode": "overlay",
              "size": 10,
              "solidity": 0.2
             }
            },
            "type": "histogram"
           }
          ],
          "histogram2d": [
           {
            "colorbar": {
             "outlinewidth": 0,
             "ticks": ""
            },
            "colorscale": [
             [
              0,
              "#0d0887"
             ],
             [
              0.1111111111111111,
              "#46039f"
             ],
             [
              0.2222222222222222,
              "#7201a8"
             ],
             [
              0.3333333333333333,
              "#9c179e"
             ],
             [
              0.4444444444444444,
              "#bd3786"
             ],
             [
              0.5555555555555556,
              "#d8576b"
             ],
             [
              0.6666666666666666,
              "#ed7953"
             ],
             [
              0.7777777777777778,
              "#fb9f3a"
             ],
             [
              0.8888888888888888,
              "#fdca26"
             ],
             [
              1,
              "#f0f921"
             ]
            ],
            "type": "histogram2d"
           }
          ],
          "histogram2dcontour": [
           {
            "colorbar": {
             "outlinewidth": 0,
             "ticks": ""
            },
            "colorscale": [
             [
              0,
              "#0d0887"
             ],
             [
              0.1111111111111111,
              "#46039f"
             ],
             [
              0.2222222222222222,
              "#7201a8"
             ],
             [
              0.3333333333333333,
              "#9c179e"
             ],
             [
              0.4444444444444444,
              "#bd3786"
             ],
             [
              0.5555555555555556,
              "#d8576b"
             ],
             [
              0.6666666666666666,
              "#ed7953"
             ],
             [
              0.7777777777777778,
              "#fb9f3a"
             ],
             [
              0.8888888888888888,
              "#fdca26"
             ],
             [
              1,
              "#f0f921"
             ]
            ],
            "type": "histogram2dcontour"
           }
          ],
          "mesh3d": [
           {
            "colorbar": {
             "outlinewidth": 0,
             "ticks": ""
            },
            "type": "mesh3d"
           }
          ],
          "parcoords": [
           {
            "line": {
             "colorbar": {
              "outlinewidth": 0,
              "ticks": ""
             }
            },
            "type": "parcoords"
           }
          ],
          "pie": [
           {
            "automargin": true,
            "type": "pie"
           }
          ],
          "scatter": [
           {
            "marker": {
             "colorbar": {
              "outlinewidth": 0,
              "ticks": ""
             }
            },
            "type": "scatter"
           }
          ],
          "scatter3d": [
           {
            "line": {
             "colorbar": {
              "outlinewidth": 0,
              "ticks": ""
             }
            },
            "marker": {
             "colorbar": {
              "outlinewidth": 0,
              "ticks": ""
             }
            },
            "type": "scatter3d"
           }
          ],
          "scattercarpet": [
           {
            "marker": {
             "colorbar": {
              "outlinewidth": 0,
              "ticks": ""
             }
            },
            "type": "scattercarpet"
           }
          ],
          "scattergeo": [
           {
            "marker": {
             "colorbar": {
              "outlinewidth": 0,
              "ticks": ""
             }
            },
            "type": "scattergeo"
           }
          ],
          "scattergl": [
           {
            "marker": {
             "colorbar": {
              "outlinewidth": 0,
              "ticks": ""
             }
            },
            "type": "scattergl"
           }
          ],
          "scattermapbox": [
           {
            "marker": {
             "colorbar": {
              "outlinewidth": 0,
              "ticks": ""
             }
            },
            "type": "scattermapbox"
           }
          ],
          "scatterpolar": [
           {
            "marker": {
             "colorbar": {
              "outlinewidth": 0,
              "ticks": ""
             }
            },
            "type": "scatterpolar"
           }
          ],
          "scatterpolargl": [
           {
            "marker": {
             "colorbar": {
              "outlinewidth": 0,
              "ticks": ""
             }
            },
            "type": "scatterpolargl"
           }
          ],
          "scatterternary": [
           {
            "marker": {
             "colorbar": {
              "outlinewidth": 0,
              "ticks": ""
             }
            },
            "type": "scatterternary"
           }
          ],
          "surface": [
           {
            "colorbar": {
             "outlinewidth": 0,
             "ticks": ""
            },
            "colorscale": [
             [
              0,
              "#0d0887"
             ],
             [
              0.1111111111111111,
              "#46039f"
             ],
             [
              0.2222222222222222,
              "#7201a8"
             ],
             [
              0.3333333333333333,
              "#9c179e"
             ],
             [
              0.4444444444444444,
              "#bd3786"
             ],
             [
              0.5555555555555556,
              "#d8576b"
             ],
             [
              0.6666666666666666,
              "#ed7953"
             ],
             [
              0.7777777777777778,
              "#fb9f3a"
             ],
             [
              0.8888888888888888,
              "#fdca26"
             ],
             [
              1,
              "#f0f921"
             ]
            ],
            "type": "surface"
           }
          ],
          "table": [
           {
            "cells": {
             "fill": {
              "color": "#EBF0F8"
             },
             "line": {
              "color": "white"
             }
            },
            "header": {
             "fill": {
              "color": "#C8D4E3"
             },
             "line": {
              "color": "white"
             }
            },
            "type": "table"
           }
          ]
         },
         "layout": {
          "annotationdefaults": {
           "arrowcolor": "#2a3f5f",
           "arrowhead": 0,
           "arrowwidth": 1
          },
          "autotypenumbers": "strict",
          "coloraxis": {
           "colorbar": {
            "outlinewidth": 0,
            "ticks": ""
           }
          },
          "colorscale": {
           "diverging": [
            [
             0,
             "#8e0152"
            ],
            [
             0.1,
             "#c51b7d"
            ],
            [
             0.2,
             "#de77ae"
            ],
            [
             0.3,
             "#f1b6da"
            ],
            [
             0.4,
             "#fde0ef"
            ],
            [
             0.5,
             "#f7f7f7"
            ],
            [
             0.6,
             "#e6f5d0"
            ],
            [
             0.7,
             "#b8e186"
            ],
            [
             0.8,
             "#7fbc41"
            ],
            [
             0.9,
             "#4d9221"
            ],
            [
             1,
             "#276419"
            ]
           ],
           "sequential": [
            [
             0,
             "#0d0887"
            ],
            [
             0.1111111111111111,
             "#46039f"
            ],
            [
             0.2222222222222222,
             "#7201a8"
            ],
            [
             0.3333333333333333,
             "#9c179e"
            ],
            [
             0.4444444444444444,
             "#bd3786"
            ],
            [
             0.5555555555555556,
             "#d8576b"
            ],
            [
             0.6666666666666666,
             "#ed7953"
            ],
            [
             0.7777777777777778,
             "#fb9f3a"
            ],
            [
             0.8888888888888888,
             "#fdca26"
            ],
            [
             1,
             "#f0f921"
            ]
           ],
           "sequentialminus": [
            [
             0,
             "#0d0887"
            ],
            [
             0.1111111111111111,
             "#46039f"
            ],
            [
             0.2222222222222222,
             "#7201a8"
            ],
            [
             0.3333333333333333,
             "#9c179e"
            ],
            [
             0.4444444444444444,
             "#bd3786"
            ],
            [
             0.5555555555555556,
             "#d8576b"
            ],
            [
             0.6666666666666666,
             "#ed7953"
            ],
            [
             0.7777777777777778,
             "#fb9f3a"
            ],
            [
             0.8888888888888888,
             "#fdca26"
            ],
            [
             1,
             "#f0f921"
            ]
           ]
          },
          "colorway": [
           "#636efa",
           "#EF553B",
           "#00cc96",
           "#ab63fa",
           "#FFA15A",
           "#19d3f3",
           "#FF6692",
           "#B6E880",
           "#FF97FF",
           "#FECB52"
          ],
          "font": {
           "color": "#2a3f5f"
          },
          "geo": {
           "bgcolor": "white",
           "lakecolor": "white",
           "landcolor": "#E5ECF6",
           "showlakes": true,
           "showland": true,
           "subunitcolor": "white"
          },
          "hoverlabel": {
           "align": "left"
          },
          "hovermode": "closest",
          "mapbox": {
           "style": "light"
          },
          "paper_bgcolor": "white",
          "plot_bgcolor": "#E5ECF6",
          "polar": {
           "angularaxis": {
            "gridcolor": "white",
            "linecolor": "white",
            "ticks": ""
           },
           "bgcolor": "#E5ECF6",
           "radialaxis": {
            "gridcolor": "white",
            "linecolor": "white",
            "ticks": ""
           }
          },
          "scene": {
           "xaxis": {
            "backgroundcolor": "#E5ECF6",
            "gridcolor": "white",
            "gridwidth": 2,
            "linecolor": "white",
            "showbackground": true,
            "ticks": "",
            "zerolinecolor": "white"
           },
           "yaxis": {
            "backgroundcolor": "#E5ECF6",
            "gridcolor": "white",
            "gridwidth": 2,
            "linecolor": "white",
            "showbackground": true,
            "ticks": "",
            "zerolinecolor": "white"
           },
           "zaxis": {
            "backgroundcolor": "#E5ECF6",
            "gridcolor": "white",
            "gridwidth": 2,
            "linecolor": "white",
            "showbackground": true,
            "ticks": "",
            "zerolinecolor": "white"
           }
          },
          "shapedefaults": {
           "line": {
            "color": "#2a3f5f"
           }
          },
          "ternary": {
           "aaxis": {
            "gridcolor": "white",
            "linecolor": "white",
            "ticks": ""
           },
           "baxis": {
            "gridcolor": "white",
            "linecolor": "white",
            "ticks": ""
           },
           "bgcolor": "#E5ECF6",
           "caxis": {
            "gridcolor": "white",
            "linecolor": "white",
            "ticks": ""
           }
          },
          "title": {
           "x": 0.05
          },
          "xaxis": {
           "automargin": true,
           "gridcolor": "white",
           "linecolor": "white",
           "ticks": "",
           "title": {
            "standoff": 15
           },
           "zerolinecolor": "white",
           "zerolinewidth": 2
          },
          "yaxis": {
           "automargin": true,
           "gridcolor": "white",
           "linecolor": "white",
           "ticks": "",
           "title": {
            "standoff": 15
           },
           "zerolinecolor": "white",
           "zerolinewidth": 2
          }
         }
        },
        "xaxis": {
         "anchor": "y",
         "autorange": true,
         "domain": [
          0,
          1
         ],
         "range": [
          0.4177777777777769,
          53.46222222222222
         ],
         "title": {
          "text": "total_bill"
         },
         "type": "linear"
        },
        "xaxis2": {
         "anchor": "y2",
         "autorange": true,
         "domain": [
          0,
          1
         ],
         "matches": "x",
         "range": [
          0.4177777777777769,
          53.46222222222222
         ],
         "showgrid": true,
         "showticklabels": false,
         "type": "linear"
        },
        "yaxis": {
         "anchor": "x",
         "autorange": true,
         "domain": [
          0,
          0.7326
         ],
         "range": [
          0,
          33.68421052631579
         ],
         "title": {
          "text": "count"
         }
        },
        "yaxis2": {
         "anchor": "x2",
         "autorange": true,
         "domain": [
          0.7426,
          1
         ],
         "matches": "y2",
         "range": [
          -0.6118818527634817,
          1.5
         ],
         "showgrid": false,
         "showline": false,
         "showticklabels": false,
         "ticks": "",
         "type": "category"
        }
       }
      },
      "image/png": "[encoded data removed]"
     },
     "metadata": {},
     "output_type": "display_data"
    }
   ],
   "source": [
    "tips = px.data.tips()\n",
    "fig = px.histogram(tips, x = 'total_bill', color = 'sex', marginal = 'rug')\n",
    "fig.show()"
   ]
  },
  {
   "cell_type": "code",
   "execution_count": 15,
   "metadata": {},
   "outputs": [
    {
     "data": {
      "application/vnd.plotly.v1+json": {
       "config": {
        "plotlyServerURL": "https://plot.ly"
       },
       "data": [
        {
         "type": "histogram",
         "y": [
          0.3464353041393723,
          -0.9536039603636917,
          -0.4884364153372126,
          -0.4415874798439,
          1.263589505259114,
          0.627753878880996,
          0.9179594728701186,
          -0.509237512797745,
          0.06098400568557707,
          0.7147155681041574,
          0.5544641444069234,
          1.6029426400219615,
          -1.6668810531411136,
          0.25240924018309846,
          -1.2008852608750291,
          2.673511756532849,
          0.3312907651232188,
          -0.06184107571246438,
          0.5885143459879187,
          0.13787401120799564,
          0.760016497853216,
          -0.8605528882152268,
          -2.0370251063557587,
          -1.3278536663668856,
          1.2247860154550594,
          -1.4212937191632244,
          2.1236096015506774,
          -0.40562941318812085,
          0.4453166251190014,
          0.7223468032412103,
          0.6712874566541951,
          2.134063806879498,
          0.03699070846143392,
          -0.37133591455408493,
          0.15723284716452965,
          -0.9324584793143785,
          0.7912151038670282,
          0.5098016405440821,
          0.9450090701781058,
          -1.061351762325181,
          -0.7065904654917093,
          -2.4756736834854762,
          -0.26921975751392446,
          -0.6989045589361402,
          -1.5846630904993455,
          -0.5711095662059608,
          0.6057979634672774,
          0.49919057747175866,
          -0.6492218435828366,
          -0.5609254430548278,
          -0.24527581939091378,
          0.7852622773004077,
          1.2005564351115778,
          1.8502129738796387,
          -0.32657431006916976,
          -1.3902066050227908,
          2.0675387484983165,
          0.7258512272416853,
          -0.529622155706924,
          -1.1156955274735583,
          -0.2629321294413332,
          0.9857874673160397,
          1.1115633433156056,
          -0.4509961350764594,
          -0.4688745712516865,
          0.9253956176100738,
          -0.1464564155718165,
          -1.1593340307709126,
          -0.29294186787377213,
          0.11998380762239785,
          2.0595072620597175,
          -0.25392572690783555,
          -0.8244759471031058,
          -1.4095933873547903,
          -0.08416086832855448,
          0.039316192089331126,
          0.651621847645074,
          -0.2760952249932431,
          0.6032654738122771,
          -0.9288186907378346,
          -0.5939859892323184,
          0.20114177184282292,
          -1.2574004441063895,
          -0.5896348545887218,
          -1.0663675838555766,
          -0.08595166380943084,
          -0.4066737563121185,
          2.068975419872969,
          -0.09216034260020531,
          -0.14404946786711384,
          -0.4003936648388572,
          0.6236355059230002,
          1.9730371877683153,
          -0.9879463262088564,
          0.6710193044846856,
          -2.1465403008678905,
          -1.2083098702257724,
          -0.2455320778224005,
          -0.5782427546388764,
          0.3932038478823535,
          0.6862852645010643,
          -0.5034429704082234,
          -1.4058061810199103,
          0.7987329073282847,
          -0.29432211717845086,
          0.11877413484129593,
          1.634382731265977,
          0.1810017674678819,
          0.9837689615407161,
          1.2851939755656867,
          -1.057239328820623,
          0.9256757392166772,
          -0.14097991838846086,
          0.1751066796627131,
          1.3324979958497352,
          2.337870249944866,
          0.7132324526835703,
          -0.6333881650674502,
          -0.3880650085984597,
          -0.07076152723300085,
          -0.3582967043993434,
          0.03504023554258032,
          -0.7899785649463654,
          0.458587382700018,
          1.3966180339287662,
          0.037431668951368284,
          -0.417593682068828,
          -0.18979818311257782,
          0.09161758433846022,
          -2.2307456784842343,
          0.2742468991978786,
          2.315896988772165,
          0.460093312831192,
          0.8176925295099635,
          -0.12711723695902208,
          1.16345807206387,
          1.9645181554330495,
          0.42900329591573255,
          -0.7307272481529863,
          1.0537490400058551,
          -0.15267700421758798,
          -1.75380374912374,
          1.1025835028698048,
          1.1750912451610136,
          0.7626849512498732,
          -0.9001811373774983,
          0.1768649182552663,
          0.35675560877799795,
          -0.936659748456382,
          -1.2547699451795615,
          0.41248774866060905,
          2.103307998397645,
          0.4970667738578332,
          0.9313793372198984,
          2.7564573997207344,
          0.24687927803424967,
          -0.039223981160358586,
          0.6662848108807642,
          1.0125072595166202,
          0.17736635705799672,
          -0.07713169388492856,
          1.0280973243312213,
          -0.49131297297985277,
          -0.609295776733209,
          0.7593393311790174,
          -0.6688482939761279,
          -0.5309619214086407,
          -0.41836524403191094,
          -1.493262230581503,
          0.7545756523583274,
          0.26836946831401615,
          -0.8093943388542891,
          0.21535856879868245,
          -1.2397728305066031,
          -1.7991724630753612,
          -1.038040695717769,
          1.0221242338684515,
          -0.47932961819505177,
          -0.4701898855176468,
          0.49080992211098373,
          -0.7234639050388344,
          -1.2455609513716657,
          0.28587041739859614,
          -1.9375136100210248,
          0.35266692206421096,
          -0.2708903230256896,
          0.3807032162425493,
          1.1823358333827128,
          -0.18385920066044445,
          -1.5028088519073113,
          -1.2449932376266226,
          1.5234187767800453,
          -1.2706913563022326,
          -1.4881853778779681,
          1.4158848934545796,
          -0.010406108653070657,
          -1.0671359170384271,
          -0.7848219385415656,
          0.4272563863525343,
          -0.3116629634763233,
          0.19764167956601641,
          -0.6048050693088728,
          -0.4800763298425211,
          -1.7203764483413222,
          -0.340012531364975,
          0.03641536981003903,
          0.48175678017467943,
          -0.8581027514823546,
          1.3550998886090702,
          -0.07981487584062043,
          0.4534766395671167,
          1.3934775667976258,
          0.39709626181854335,
          0.2950975591665157,
          1.533425086992664,
          -0.3559564658201825,
          0.4375267571355367,
          -0.0754113219796433,
          0.384965250464215,
          0.61304688352202,
          0.21950454094378852,
          -0.13727641331509607,
          -1.1352078082235892,
          0.5390090321147971,
          -0.5833652693689046,
          0.7402322272892872,
          -1.1230191614014227,
          -0.6445083455636408,
          0.42269904301348715,
          -1.0153524755078942,
          -0.9723821020391401,
          -1.066899916295461,
          0.04588454598745324,
          0.2063960562316805,
          -0.10403965805809191,
          -0.696050440418351,
          -0.7985318386336797,
          -1.0392240276950313,
          -0.7479590154425196,
          -2.3119073005718005,
          -0.9348373114357873,
          -0.16580024489474682,
          0.5038064158705694,
          -0.19201169619240857,
          0.488427492157878,
          1.2186331137085025,
          0.11006726584869302,
          -1.018657633557288,
          -1.2840380167274674,
          -1.1245860011755358,
          1.246463009437576,
          1.1879996404250244,
          -0.20529603976373084,
          -0.30556655819652734,
          -0.8899433376291654,
          1.2138761820652832,
          -0.8855927576112297,
          -0.4368298822314348,
          -0.5538360083603162,
          -0.7570421491818181,
          -0.5295806443768463,
          -0.6898649413214687,
          -1.5534637043994228,
          0.06301849248439825,
          0.3208182180882882,
          0.6059443269852203,
          -1.1169342712047874,
          2.225739675600672,
          -1.421982024684337,
          0.5986947810053092,
          -1.5881566820509831,
          -0.9589715659184385,
          -0.1512440367963051,
          0.07068303280104792,
          -1.2423593026376427,
          -0.3019545304302373,
          0.5270338497269388,
          0.5570183507326113,
          0.48699405128212786,
          -0.21448590085892527,
          -0.673856432425443,
          0.17810131817118935,
          -0.2828223041283977,
          -2.6949320441955997,
          2.0358687763835475,
          0.17499212310758597,
          -1.2772823438710792,
          0.27117389683563015,
          1.2717843802486308,
          -0.7751058358784911,
          0.9703722990428013,
          0.15950525482775746,
          0.4033842798215532,
          -0.22416700788484656,
          1.3182548020168747,
          0.784539969020459,
          0.31340047785632014,
          1.9010190915766072,
          1.5621549618397206,
          -1.203268973432662,
          1.556977302793063,
          -0.846580439574477,
          0.6691190050033617,
          -0.014914972520388595,
          -0.6589418854681487,
          -0.03690565507772914,
          -0.5934280189566312,
          2.4030365544823784,
          0.9668306461583202,
          -1.0608070955618156,
          1.4794026063373915,
          -1.439606186622048,
          0.7333244200670039,
          0.7106891961776305,
          0.9141480460302274,
          0.12364041319308607,
          0.0051224115802203695,
          0.10095263665219968,
          0.845218384329267,
          0.9245455826983429,
          -0.2601162792193813,
          1.8539397498770391,
          -0.22821930774324634,
          -0.9452509757087494,
          -0.8201505500342596,
          -1.005006194494586,
          1.0749067459114527,
          0.8408350439558322,
          0.5469729266359902,
          0.5298563501988551,
          0.22010446940963424,
          -1.116886964808108,
          -0.68655001224648,
          1.0279634171195533,
          0.31474939585727957,
          -0.028610286514861208,
          1.419902666686229,
          -0.3694807474939726,
          -0.5175281963389985,
          -1.8412232726843947,
          0.8747154070175951,
          -0.18926075029163072,
          0.7592827871680448,
          -0.5297702674476295,
          0.9651682336571801,
          0.5355867284042454,
          0.2750501259857373,
          -0.3912850414230492,
          0.6376035337829741,
          -0.7579799632390427,
          0.7876439786085392,
          -0.2638593574851652,
          0.25573716750388614,
          0.7471592773088084,
          0.26303045350750043,
          1.0122754593687768,
          1.4568149177769596,
          1.3791330623523972,
          0.15076994207296954,
          -0.06132446987960598,
          0.2314922703326611,
          -0.11270704106006119,
          0.1625715869516276,
          0.15538943732375,
          -1.7980302131582735,
          -0.43385564183216807,
          0.39179629656812015,
          0.7240183500515709,
          0.9193554175414438,
          0.6573409960689508,
          0.8628896970379958,
          -0.8845443451722116,
          0.17909383954863514,
          -0.7051866490249893,
          -0.04410856847526144,
          -0.7124224593806687,
          -0.6019772544027343,
          -0.1977098606622768,
          0.9212565573758877,
          -0.6130546974795176,
          -0.019108350691963812,
          -2.0905299023992607,
          0.09169826845222565,
          -1.299495565844087,
          3.013657368229239,
          -1.0453271131352553,
          -1.1239157997250642,
          -1.5920143854833289,
          0.603149127905819,
          -0.3222419938811638,
          0.8266194503997559,
          0.5199176006699514,
          -0.7540574756693907,
          0.7343024929248093,
          -0.9748262909447081,
          0.2876661593133759,
          0.39409976656405105,
          0.5933972554742729,
          1.1776104248133115,
          -0.026850135785152072,
          0.8937534494668731,
          0.37785068907567704,
          -0.18604329655581148,
          0.5018065104623322,
          -0.17720811098027994,
          1.3766476359865063,
          -1.1770411752358287,
          3.229675430501094,
          0.9534293999179485,
          -0.44953089075538455,
          0.442839662390201,
          -1.823293524678266,
          1.1414792684061397,
          0.7590378297869186,
          -0.1319187709990362,
          0.6351420135391436,
          1.460699966099435,
          0.267842130581984,
          -0.8679739531186101,
          0.02600452463880637,
          -0.7769434795499274,
          1.2105861905916626,
          0.31897165726383186,
          -0.31487524025408153,
          -0.5259761229822364,
          1.5061319899903738,
          -0.41407645027610096,
          0.7462215861254241,
          0.44323902347570343,
          -0.1753758184005031,
          1.9591423556057326,
          0.6579285365477386,
          -2.343060744691126,
          0.49169858584807524,
          0.058070042418014924,
          0.16860640266678167,
          0.2168930458945996,
          0.56917576661614,
          -0.5334030217021118,
          1.3561578493407027,
          -0.8914130122439389,
          0.5293884493215835,
          0.23635402648067433,
          -0.6929198796459459,
          -0.4624250703637524,
          0.6652343133582984,
          0.4836861038339817,
          0.07592015705955127,
          -0.29871505044524344,
          0.7837005689810054,
          -0.6867868405580858,
          0.7638597838189104,
          -0.42152378558984505,
          0.6704267578442566,
          -1.7025900140890122,
          0.12185567803696767,
          0.43083847455946683,
          -1.2422165588581273,
          1.673165819766455,
          0.40399114297221994,
          -0.4672199183428552,
          -0.43288096793738573,
          0.4830143979242243,
          1.1430495140314196,
          0.9627405348644287,
          0.7091906834688841,
          0.8367343793179336,
          -0.5394031471582189,
          -0.6708720373493449,
          0.5671148763981007,
          0.7178401115426105,
          0.565981799554616,
          -0.915693248085065,
          -0.13456547692766102,
          1.0790642750416202,
          -1.5468712876893445,
          -0.8244216858337211,
          0.2544436668953305,
          0.9077896170126678,
          -0.11658371707200912,
          -0.5799036955397201,
          -1.3586079274341762,
          0.49918241191835316,
          -0.3938550633649322,
          0.39535913702436815,
          2.012154415837751,
          -0.26915217341388753,
          -0.0937038706955153,
          -0.515494415894573,
          -0.4736536212180213,
          0.14993814304013048,
          0.3924730668882561,
          1.5005065807948355,
          -2.5351707491466593,
          -1.2685031545081833,
          -0.5679431896974131,
          2.2463796491491554,
          0.7567017405360993,
          -0.21350463862600733,
          0.11578959543298252,
          0.023188076576216358,
          0.22417537776039842,
          0.01891393156168115,
          1.354896311598265,
          -0.6472442699556379,
          1.379513210211904,
          0.8326399083549275,
          -0.6842896082581299,
          -1.522823988884886,
          -0.4403923860485685,
          -1.0383604802083573,
          -1.5734748733905817,
          3.210209595581128,
          1.3919429781596813,
          -1.6694577282942136,
          -0.01966692553650852,
          -0.47665357797249075,
          -0.6187959613506929,
          -0.6290444637145665,
          -0.07856790028849688,
          -1.4182785370361266,
          -0.2766394048200038,
          0.23137661462033896,
          -0.5322239984989391,
          0.25469682752977113,
          -0.5207594767436907,
          -0.5496537859610087,
          1.6108168805634908,
          0.14108006392692163,
          -1.9776694770887888,
          -0.10893503361135938,
          -0.10935722830300942,
          1.4654533296965497,
          1.4699183263056952,
          0.30452421759647463,
          -1.5944271155210787,
          -1.197973103200327,
          0.15097562512933832,
          0.18283233087134632,
          0.8352346022236393,
          0.4944882923997546,
          2.780824748725874,
          1.4817983096207992,
          -0.8573785561640049,
          -0.5992161655773411,
          0.7815077912054509,
          0.22430227015737686,
          0.4838559978609977,
          1.3469165193300374,
          -1.2095079648104625,
          1.1007852475603155,
          0.07253848189137083,
          0.9323347944439788,
          0.412355083479693,
          -1.606711666705576,
          -0.5421880881413085,
          0.6749988635205577,
          -0.19048461123320165,
          2.0841150877360115,
          0.5797703406923211,
          -0.1708404640903117,
          1.2672492758043952,
          1.4446779615484673,
          -0.6821087579269388,
          0.0897158569585004,
          0.3380406484063984,
          1.5116965905775406,
          0.2296838423662244,
          0.45216386064566916,
          1.6124174060488188,
          0.5885243536417653,
          1.3448733347961577,
          -2.05625195082556,
          -0.3684769780508588,
          -1.2682681722094598,
          0.357902644098803,
          0.38939336755178205,
          0.02929412015670509,
          1.0584578127124529,
          0.9475859147629343,
          0.9554614902328193,
          -0.14179763997010228,
          0.24847985488091764,
          -0.3378141410127396,
          -0.12368869744804553,
          -1.63653405971211,
          0.5100480396287554,
          2.0962587962319517,
          0.22534966767832873,
          -1.0717902503901815,
          0.8040529893811974,
          -0.2393241821645435,
          0.8809405962363942,
          -1.934658081820097,
          -0.3191606209955775,
          -1.6101133477092935,
          0.8150271549584263,
          0.7736949630759329,
          0.6492307829409772,
          -2.8564023566384797,
          -0.9639874035062365,
          -1.3079087072226974,
          -0.5993611592140067,
          0.6931288362866629,
          0.0745127194154717,
          -0.04430046464915853,
          1.5550052188541412,
          1.3463502560234277,
          -0.6228064143275118,
          0.8574950101973673,
          -0.24634183935248843,
          -0.5444521861678119,
          0.38095110998543963,
          0.4496506397036423,
          0.3436355396463151,
          0.13993095592298213,
          0.09750793519388673,
          -0.9407596297899556,
          0.8685731964947437,
          -0.6118376334086046,
          2.0281724478134158,
          -0.3560686398134038,
          0.9100852049315905,
          0.5950429576002012,
          1.1297759486783656,
          -0.32803337284891204,
          0.7651264411610255,
          -0.31971656955681554,
          1.4571692460459238,
          0.18532553866457122,
          -0.6205495271943775,
          -1.6150104161679337,
          0.24908323636811905,
          1.1632151214551611,
          -0.4221121432988982,
          1.046130052607748,
          -0.30183937463278065,
          -0.030710330397635356,
          1.3429406784527067,
          0.29781995098608016,
          -0.03716216326853924,
          -0.5396215579743474,
          -0.6169256497039651,
          -0.12142350840402823,
          0.310594344176226,
          -0.48235502930024027,
          -1.6447008220380577,
          0.12721490176572922,
          -1.0704094323350162,
          -1.8904902667311272,
          -1.9576602414936881,
          0.5301141411193064,
          -0.2517464410748017,
          -0.1260829903206375,
          0.9481933428775665,
          -2.071253101156175,
          0.6344553617480254,
          0.031025326843348782,
          -0.6227146446847922,
          -1.4239260463756442,
          1.1068935111432692,
          -0.7321203903454404,
          -2.02101236692856,
          0.9424438971867531,
          -1.4118548685064138,
          -0.18475683166455456,
          -0.1827621546461351,
          0.8357967790494328,
          1.8470436721246333,
          -1.056551705239873,
          1.5674865106569564,
          -0.1356712166776562,
          0.5774188164492602,
          -0.07962154266835271,
          -0.6454408436313022,
          -0.6993617458012564,
          1.0112047483078517,
          -0.8063250355781019,
          -0.8829095349167758,
          -1.8538388209522796,
          -0.7152422091358214,
          -1.7150165611921462,
          -0.9566283448525966,
          0.047877304613459334,
          1.0943347455329935,
          0.28978677335068126,
          2.1212271059378063,
          0.28993777202312004,
          0.7884846881958092,
          0.2647655936771417,
          0.8412515475943525,
          -0.01891408555107323,
          0.29455816404811547,
          -0.25347684996691966,
          -0.9026900589836936,
          3.194949320332019,
          0.6439290925248916,
          -0.052894578142730346,
          0.2747741676752052,
          1.0644236594428294,
          0.24822354948527567,
          0.05675503063272888,
          0.4679793432718618,
          -0.8840719752516185,
          0.18249381805700354,
          0.30342167963205,
          1.9535211111034396,
          0.9290461138239321,
          -0.07173690051295395,
          0.6780501086150975,
          1.45671448545312,
          1.1448466739285432,
          -1.9647018121780728,
          -0.12197359590155593,
          1.0459046172974835,
          0.9211654634793469,
          -0.9701564601531318,
          0.488349600128401,
          -0.6102502297049814,
          0.3068649168114281,
          -0.8088396996809863,
          0.08792653600568613,
          -0.18792734455113838,
          0.7812444437898943,
          -0.1467160899410431,
          -1.0804137451703444,
          0.17304318431334498,
          0.8801609202759278,
          -0.006350555582447984,
          0.04826133639229411,
          0.15620297701674654,
          0.5852860320983898,
          -1.7062080167512812,
          -0.6566889716456309,
          0.9207043853162046,
          -1.0800260413317126,
          1.8763562392040025,
          0.6856033045702983,
          -2.1750602276768287,
          0.731306004200936,
          -0.6393080260947888,
          -0.040564484752507325,
          0.20563340348517045,
          1.0504044348309132,
          0.45811231907047023,
          0.8707448562144213,
          0.00727963469736966,
          -0.4974548225323016,
          -1.2346425697875565,
          -1.0975741481242651,
          -1.0238664904423953,
          -0.22853147321808906,
          -0.27266296996979084,
          -1.1565630932420472,
          0.8671857166520813,
          1.0163236005492948,
          -1.002725306554024,
          0.9510183398968657,
          0.09429283954900751,
          0.0841943544116187,
          -2.2993246635749776,
          1.2549058291985598,
          0.35100926123741705,
          1.1247016675526476,
          -0.031336203603466534,
          -0.9809292352817869,
          -0.8179701564501263,
          -0.699293752510199,
          -0.17962686239069767,
          0.44745243004528457,
          0.2731665975636429,
          -0.9586146194531212,
          -1.8586567187624081,
          -0.17955105968997886,
          -0.20456599281979673,
          1.8620552026337907,
          1.664946937839734,
          0.4498336086364613,
          1.3027830797756454,
          -0.8501403095109946,
          2.262236799300832,
          -0.4486847497709313,
          2.5098449880362836,
          -0.31573029393130114,
          -0.584613977492363,
          0.8833005433741216,
          -1.4403563070152707,
          -0.17988381429754274,
          0.8438144544699242,
          0.2552945647218049,
          -1.1134398670468675,
          -0.3161441854084843,
          0.5592562346794491,
          0.9064437024107457,
          0.34179545925201515,
          -2.5215564098924514,
          -0.8583960705807413,
          1.1896796895546211,
          1.1508545591987205,
          1.0208532151256042,
          -0.5444702680399975,
          -0.8758320375612897,
          -0.11062339791218803,
          -2.677798933091078,
          -0.19965509295144307,
          0.2616660345764987,
          0.4367932913877989,
          0.6794353801709003,
          0.064579360820277,
          -0.3491758164814009,
          1.11368171610651,
          0.03471193999952386,
          -1.0160641384071996,
          1.1514031448050088,
          0.5529544247101872,
          2.6177465699825864,
          0.5525463655708052,
          0.6886171019241302,
          0.7103818059675274,
          0.2302402718431885,
          0.43297610172077355,
          1.900562972493449,
          -1.438270136207551,
          -0.7516819572262068,
          0.9153041982386536,
          0.07974408290382112,
          -0.3656876968850853,
          0.12111791944414013,
          -0.23509834770043928,
          0.05185902524418664,
          -1.3328638261047976,
          -0.9401918070951971,
          2.3710812330217514,
          -0.23585244885361792,
          -0.46991156281731356,
          -0.3879753787502004,
          0.15354942779955683,
          -1.2620882982856299,
          -0.23596410061223885,
          1.3810188752362966,
          0.058972466211253134,
          -0.05260630117983528,
          0.11219210209516449,
          -0.17163276121632295,
          -0.1366908751908096,
          0.9273824642062566,
          -0.3410371915173664,
          0.20719822505340607,
          -0.8845924793091986,
          -0.830825453516279,
          -0.8436662942884908,
          0.845330488898004,
          -1.7956019063003648,
          0.10676188668109803,
          -0.7165380534980863,
          1.888764278796799,
          -0.8967512010285191,
          0.5447603576278458,
          -0.3808728647798536,
          0.8224587786314139,
          1.2960501151219543,
          0.18663688485195665,
          1.0986907973600786,
          1.1839958525073386,
          1.7101202507185336,
          -0.5305016841461646,
          -1.0278768681591521,
          1.1578265428406485,
          1.1310758372754623,
          0.5905281913707563,
          -1.6088050268391274,
          0.2915940484765179,
          1.102360280243073,
          0.7924290115369274,
          0.12869578600390702,
          -1.5236960545283134,
          0.697458861539527,
          0.4944763418726193,
          -0.2977987403126823,
          -0.2918972891097381,
          -1.0914292063343691,
          1.660591148401237,
          -0.09775874185374266,
          -0.02876515198693814,
          1.6132900488145243,
          1.8725515094983096,
          -0.7798839020856805,
          -1.2933815391671428,
          0.841081118682266,
          2.2759458491956024,
          -1.6892094336738104,
          -1.5602949352613604,
          -0.01249230526216774,
          0.32656506623924303,
          -0.7985212074862197,
          0.49883946548219865,
          0.2626629152458552,
          -0.283328872732572,
          -1.2132542633451568,
          -0.5220456438115969,
          -1.1264762878345251,
          -0.9902055396374173,
          0.294771696986083,
          0.687614707143414,
          1.201940667928609,
          0.40556435578608563,
          -1.3772576891251087,
          0.32135082292641143,
          -0.6648899135516457,
          0.7347535563082336,
          0.531438618405826,
          1.8401198484491872,
          0.2730784724043798,
          -0.23297824124581623,
          0.37537912110203836,
          0.48674883922474826,
          -0.01630568003886452,
          0.9870067026404366,
          0.10271807864579485,
          0.43665109255476314,
          -0.5731525268141927,
          -0.564368953221781,
          0.5404159052842233,
          0.4242452017207503,
          -0.0799797118634419,
          0.8356981672448287,
          0.7231395612540432,
          1.2617587430643697,
          -0.21254821771766755,
          1.1394145477017217,
          1.7552389943217825,
          -1.8960307389763564,
          0.49136838258594173,
          0.05941790294004754,
          0.9851196549704047,
          -0.030496222498779223,
          0.1447796603383394,
          0.7385353417826049,
          1.0550626503136487,
          0.6508781896306086,
          -0.8810868367307186,
          -0.2584331511143858,
          1.0334580777842364,
          1.312144807523124,
          0.9380949639283772,
          -0.5607127659337658,
          1.38292754222831,
          -0.7458862350423776,
          -1.575152359131777,
          -1.2970766982784019,
          -1.253008729021953,
          -0.508183077135078,
          0.4352072266725379,
          -0.8409114758366804,
          1.8169453297668343,
          0.251146945062615,
          0.21619333693929388,
          1.6761376955538887,
          1.0806383245482096,
          0.13823958446464352,
          -0.43089479281263526,
          -1.7692458694585038,
          -1.131550666671327,
          0.5969032462998382,
          -0.8684527412212799,
          0.9717652225770937,
          0.8898123311706467,
          0.9648709473675449,
          -0.6406865278346499,
          -0.12190192742616192,
          -0.04866249908421641,
          -0.23284968360646052,
          -0.6773567332442796,
          0.45701275401134595,
          -0.13218084675386602,
          -2.903339865953356,
          -0.45776396140784376,
          1.4019134880986033,
          -0.1086588525327448,
          -1.1890513293358493,
          1.83370866662445,
          0.4419706578654034,
          -0.6079473876225817,
          -0.372279140266904,
          -0.5832453181372568,
          1.5585751899475566,
          0.9451871043278726,
          2.8603136389325043,
          -0.008182814266501791,
          -1.1233623455980546,
          -1.2454547518661225,
          0.8760775091980841,
          0.52550623955158,
          -0.1100089407565623,
          -0.11774376373232176,
          -0.5840127366961542,
          2.5280428675052113,
          -0.3248718164994161,
          1.860761635947862,
          -1.416926661060266
         ]
        }
       ],
       "layout": {
        "autosize": true,
        "template": {
         "data": {
          "bar": [
           {
            "error_x": {
             "color": "#2a3f5f"
            },
            "error_y": {
             "color": "#2a3f5f"
            },
            "marker": {
             "line": {
              "color": "#E5ECF6",
              "width": 0.5
             },
             "pattern": {
              "fillmode": "overlay",
              "size": 10,
              "solidity": 0.2
             }
            },
            "type": "bar"
           }
          ],
          "barpolar": [
           {
            "marker": {
             "line": {
              "color": "#E5ECF6",
              "width": 0.5
             },
             "pattern": {
              "fillmode": "overlay",
              "size": 10,
              "solidity": 0.2
             }
            },
            "type": "barpolar"
           }
          ],
          "carpet": [
           {
            "aaxis": {
             "endlinecolor": "#2a3f5f",
             "gridcolor": "white",
             "linecolor": "white",
             "minorgridcolor": "white",
             "startlinecolor": "#2a3f5f"
            },
            "baxis": {
             "endlinecolor": "#2a3f5f",
             "gridcolor": "white",
             "linecolor": "white",
             "minorgridcolor": "white",
             "startlinecolor": "#2a3f5f"
            },
            "type": "carpet"
           }
          ],
          "choropleth": [
           {
            "colorbar": {
             "outlinewidth": 0,
             "ticks": ""
            },
            "type": "choropleth"
           }
          ],
          "contour": [
           {
            "colorbar": {
             "outlinewidth": 0,
             "ticks": ""
            },
            "colorscale": [
             [
              0,
              "#0d0887"
             ],
             [
              0.1111111111111111,
              "#46039f"
             ],
             [
              0.2222222222222222,
              "#7201a8"
             ],
             [
              0.3333333333333333,
              "#9c179e"
             ],
             [
              0.4444444444444444,
              "#bd3786"
             ],
             [
              0.5555555555555556,
              "#d8576b"
             ],
             [
              0.6666666666666666,
              "#ed7953"
             ],
             [
              0.7777777777777778,
              "#fb9f3a"
             ],
             [
              0.8888888888888888,
              "#fdca26"
             ],
             [
              1,
              "#f0f921"
             ]
            ],
            "type": "contour"
           }
          ],
          "contourcarpet": [
           {
            "colorbar": {
             "outlinewidth": 0,
             "ticks": ""
            },
            "type": "contourcarpet"
           }
          ],
          "heatmap": [
           {
            "colorbar": {
             "outlinewidth": 0,
             "ticks": ""
            },
            "colorscale": [
             [
              0,
              "#0d0887"
             ],
             [
              0.1111111111111111,
              "#46039f"
             ],
             [
              0.2222222222222222,
              "#7201a8"
             ],
             [
              0.3333333333333333,
              "#9c179e"
             ],
             [
              0.4444444444444444,
              "#bd3786"
             ],
             [
              0.5555555555555556,
              "#d8576b"
             ],
             [
              0.6666666666666666,
              "#ed7953"
             ],
             [
              0.7777777777777778,
              "#fb9f3a"
             ],
             [
              0.8888888888888888,
              "#fdca26"
             ],
             [
              1,
              "#f0f921"
             ]
            ],
            "type": "heatmap"
           }
          ],
          "heatmapgl": [
           {
            "colorbar": {
             "outlinewidth": 0,
             "ticks": ""
            },
            "colorscale": [
             [
              0,
              "#0d0887"
             ],
             [
              0.1111111111111111,
              "#46039f"
             ],
             [
              0.2222222222222222,
              "#7201a8"
             ],
             [
              0.3333333333333333,
              "#9c179e"
             ],
             [
              0.4444444444444444,
              "#bd3786"
             ],
             [
              0.5555555555555556,
              "#d8576b"
             ],
             [
              0.6666666666666666,
              "#ed7953"
             ],
             [
              0.7777777777777778,
              "#fb9f3a"
             ],
             [
              0.8888888888888888,
              "#fdca26"
             ],
             [
              1,
              "#f0f921"
             ]
            ],
            "type": "heatmapgl"
           }
          ],
          "histogram": [
           {
            "marker": {
             "pattern": {
              "fillmode": "overlay",
              "size": 10,
              "solidity": 0.2
             }
            },
            "type": "histogram"
           }
          ],
          "histogram2d": [
           {
            "colorbar": {
             "outlinewidth": 0,
             "ticks": ""
            },
            "colorscale": [
             [
              0,
              "#0d0887"
             ],
             [
              0.1111111111111111,
              "#46039f"
             ],
             [
              0.2222222222222222,
              "#7201a8"
             ],
             [
              0.3333333333333333,
              "#9c179e"
             ],
             [
              0.4444444444444444,
              "#bd3786"
             ],
             [
              0.5555555555555556,
              "#d8576b"
             ],
             [
              0.6666666666666666,
              "#ed7953"
             ],
             [
              0.7777777777777778,
              "#fb9f3a"
             ],
             [
              0.8888888888888888,
              "#fdca26"
             ],
             [
              1,
              "#f0f921"
             ]
            ],
            "type": "histogram2d"
           }
          ],
          "histogram2dcontour": [
           {
            "colorbar": {
             "outlinewidth": 0,
             "ticks": ""
            },
            "colorscale": [
             [
              0,
              "#0d0887"
             ],
             [
              0.1111111111111111,
              "#46039f"
             ],
             [
              0.2222222222222222,
              "#7201a8"
             ],
             [
              0.3333333333333333,
              "#9c179e"
             ],
             [
              0.4444444444444444,
              "#bd3786"
             ],
             [
              0.5555555555555556,
              "#d8576b"
             ],
             [
              0.6666666666666666,
              "#ed7953"
             ],
             [
              0.7777777777777778,
              "#fb9f3a"
             ],
             [
              0.8888888888888888,
              "#fdca26"
             ],
             [
              1,
              "#f0f921"
             ]
            ],
            "type": "histogram2dcontour"
           }
          ],
          "mesh3d": [
           {
            "colorbar": {
             "outlinewidth": 0,
             "ticks": ""
            },
            "type": "mesh3d"
           }
          ],
          "parcoords": [
           {
            "line": {
             "colorbar": {
              "outlinewidth": 0,
              "ticks": ""
             }
            },
            "type": "parcoords"
           }
          ],
          "pie": [
           {
            "automargin": true,
            "type": "pie"
           }
          ],
          "scatter": [
           {
            "marker": {
             "colorbar": {
              "outlinewidth": 0,
              "ticks": ""
             }
            },
            "type": "scatter"
           }
          ],
          "scatter3d": [
           {
            "line": {
             "colorbar": {
              "outlinewidth": 0,
              "ticks": ""
             }
            },
            "marker": {
             "colorbar": {
              "outlinewidth": 0,
              "ticks": ""
             }
            },
            "type": "scatter3d"
           }
          ],
          "scattercarpet": [
           {
            "marker": {
             "colorbar": {
              "outlinewidth": 0,
              "ticks": ""
             }
            },
            "type": "scattercarpet"
           }
          ],
          "scattergeo": [
           {
            "marker": {
             "colorbar": {
              "outlinewidth": 0,
              "ticks": ""
             }
            },
            "type": "scattergeo"
           }
          ],
          "scattergl": [
           {
            "marker": {
             "colorbar": {
              "outlinewidth": 0,
              "ticks": ""
             }
            },
            "type": "scattergl"
           }
          ],
          "scattermapbox": [
           {
            "marker": {
             "colorbar": {
              "outlinewidth": 0,
              "ticks": ""
             }
            },
            "type": "scattermapbox"
           }
          ],
          "scatterpolar": [
           {
            "marker": {
             "colorbar": {
              "outlinewidth": 0,
              "ticks": ""
             }
            },
            "type": "scatterpolar"
           }
          ],
          "scatterpolargl": [
           {
            "marker": {
             "colorbar": {
              "outlinewidth": 0,
              "ticks": ""
             }
            },
            "type": "scatterpolargl"
           }
          ],
          "scatterternary": [
           {
            "marker": {
             "colorbar": {
              "outlinewidth": 0,
              "ticks": ""
             }
            },
            "type": "scatterternary"
           }
          ],
          "surface": [
           {
            "colorbar": {
             "outlinewidth": 0,
             "ticks": ""
            },
            "colorscale": [
             [
              0,
              "#0d0887"
             ],
             [
              0.1111111111111111,
              "#46039f"
             ],
             [
              0.2222222222222222,
              "#7201a8"
             ],
             [
              0.3333333333333333,
              "#9c179e"
             ],
             [
              0.4444444444444444,
              "#bd3786"
             ],
             [
              0.5555555555555556,
              "#d8576b"
             ],
             [
              0.6666666666666666,
              "#ed7953"
             ],
             [
              0.7777777777777778,
              "#fb9f3a"
             ],
             [
              0.8888888888888888,
              "#fdca26"
             ],
             [
              1,
              "#f0f921"
             ]
            ],
            "type": "surface"
           }
          ],
          "table": [
           {
            "cells": {
             "fill": {
              "color": "#EBF0F8"
             },
             "line": {
              "color": "white"
             }
            },
            "header": {
             "fill": {
              "color": "#C8D4E3"
             },
             "line": {
              "color": "white"
             }
            },
            "type": "table"
           }
          ]
         },
         "layout": {
          "annotationdefaults": {
           "arrowcolor": "#2a3f5f",
           "arrowhead": 0,
           "arrowwidth": 1
          },
          "autotypenumbers": "strict",
          "coloraxis": {
           "colorbar": {
            "outlinewidth": 0,
            "ticks": ""
           }
          },
          "colorscale": {
           "diverging": [
            [
             0,
             "#8e0152"
            ],
            [
             0.1,
             "#c51b7d"
            ],
            [
             0.2,
             "#de77ae"
            ],
            [
             0.3,
             "#f1b6da"
            ],
            [
             0.4,
             "#fde0ef"
            ],
            [
             0.5,
             "#f7f7f7"
            ],
            [
             0.6,
             "#e6f5d0"
            ],
            [
             0.7,
             "#b8e186"
            ],
            [
             0.8,
             "#7fbc41"
            ],
            [
             0.9,
             "#4d9221"
            ],
            [
             1,
             "#276419"
            ]
           ],
           "sequential": [
            [
             0,
             "#0d0887"
            ],
            [
             0.1111111111111111,
             "#46039f"
            ],
            [
             0.2222222222222222,
             "#7201a8"
            ],
            [
             0.3333333333333333,
             "#9c179e"
            ],
            [
             0.4444444444444444,
             "#bd3786"
            ],
            [
             0.5555555555555556,
             "#d8576b"
            ],
            [
             0.6666666666666666,
             "#ed7953"
            ],
            [
             0.7777777777777778,
             "#fb9f3a"
            ],
            [
             0.8888888888888888,
             "#fdca26"
            ],
            [
             1,
             "#f0f921"
            ]
           ],
           "sequentialminus": [
            [
             0,
             "#0d0887"
            ],
            [
             0.1111111111111111,
             "#46039f"
            ],
            [
             0.2222222222222222,
             "#7201a8"
            ],
            [
             0.3333333333333333,
             "#9c179e"
            ],
            [
             0.4444444444444444,
             "#bd3786"
            ],
            [
             0.5555555555555556,
             "#d8576b"
            ],
            [
             0.6666666666666666,
             "#ed7953"
            ],
            [
             0.7777777777777778,
             "#fb9f3a"
            ],
            [
             0.8888888888888888,
             "#fdca26"
            ],
            [
             1,
             "#f0f921"
            ]
           ]
          },
          "colorway": [
           "#636efa",
           "#EF553B",
           "#00cc96",
           "#ab63fa",
           "#FFA15A",
           "#19d3f3",
           "#FF6692",
           "#B6E880",
           "#FF97FF",
           "#FECB52"
          ],
          "font": {
           "color": "#2a3f5f"
          },
          "geo": {
           "bgcolor": "white",
           "lakecolor": "white",
           "landcolor": "#E5ECF6",
           "showlakes": true,
           "showland": true,
           "subunitcolor": "white"
          },
          "hoverlabel": {
           "align": "left"
          },
          "hovermode": "closest",
          "mapbox": {
           "style": "light"
          },
          "paper_bgcolor": "white",
          "plot_bgcolor": "#E5ECF6",
          "polar": {
           "angularaxis": {
            "gridcolor": "white",
            "linecolor": "white",
            "ticks": ""
           },
           "bgcolor": "#E5ECF6",
           "radialaxis": {
            "gridcolor": "white",
            "linecolor": "white",
            "ticks": ""
           }
          },
          "scene": {
           "xaxis": {
            "backgroundcolor": "#E5ECF6",
            "gridcolor": "white",
            "gridwidth": 2,
            "linecolor": "white",
            "showbackground": true,
            "ticks": "",
            "zerolinecolor": "white"
           },
           "yaxis": {
            "backgroundcolor": "#E5ECF6",
            "gridcolor": "white",
            "gridwidth": 2,
            "linecolor": "white",
            "showbackground": true,
            "ticks": "",
            "zerolinecolor": "white"
           },
           "zaxis": {
            "backgroundcolor": "#E5ECF6",
            "gridcolor": "white",
            "gridwidth": 2,
            "linecolor": "white",
            "showbackground": true,
            "ticks": "",
            "zerolinecolor": "white"
           }
          },
          "shapedefaults": {
           "line": {
            "color": "#2a3f5f"
           }
          },
          "ternary": {
           "aaxis": {
            "gridcolor": "white",
            "linecolor": "white",
            "ticks": ""
           },
           "baxis": {
            "gridcolor": "white",
            "linecolor": "white",
            "ticks": ""
           },
           "bgcolor": "#E5ECF6",
           "caxis": {
            "gridcolor": "white",
            "linecolor": "white",
            "ticks": ""
           }
          },
          "title": {
           "x": 0.05
          },
          "xaxis": {
           "automargin": true,
           "gridcolor": "white",
           "linecolor": "white",
           "ticks": "",
           "title": {
            "standoff": 15
           },
           "zerolinecolor": "white",
           "zerolinewidth": 2
          },
          "yaxis": {
           "automargin": true,
           "gridcolor": "white",
           "linecolor": "white",
           "ticks": "",
           "title": {
            "standoff": 15
           },
           "zerolinecolor": "white",
           "zerolinewidth": 2
          }
         }
        },
        "xaxis": {
         "autorange": true,
         "range": [
          0,
          90.52631578947368
         ]
        },
        "yaxis": {
         "autorange": true,
         "range": [
          -3,
          3.399999999999999
         ],
         "type": "linear"
        }
       }
      },
      "image/png": "[encoded data removed]"
     },
     "metadata": {},
     "output_type": "display_data"
    }
   ],
   "source": [
    "n1 = np.random.randn(1000)\n",
    "n2 = np.random.randn(1000) + 1\n",
    "fig = go.Figure (data = [go.Histogram(y=n1)])\n",
    "fig.show()"
   ]
  },
  {
   "cell_type": "code",
   "execution_count": 18,
   "metadata": {},
   "outputs": [
    {
     "data": {
      "application/vnd.plotly.v1+json": {
       "config": {
        "plotlyServerURL": "https://plot.ly"
       },
       "data": [
        {
         "opacity": 0.7,
         "type": "histogram",
         "x": [
          0.3464353041393723,
          -0.9536039603636917,
          -0.4884364153372126,
          -0.4415874798439,
          1.263589505259114,
          0.627753878880996,
          0.9179594728701186,
          -0.509237512797745,
          0.06098400568557707,
          0.7147155681041574,
          0.5544641444069234,
          1.6029426400219615,
          -1.6668810531411136,
          0.25240924018309846,
          -1.2008852608750291,
          2.673511756532849,
          0.3312907651232188,
          -0.06184107571246438,
          0.5885143459879187,
          0.13787401120799564,
          0.760016497853216,
          -0.8605528882152268,
          -2.0370251063557587,
          -1.3278536663668856,
          1.2247860154550594,
          -1.4212937191632244,
          2.1236096015506774,
          -0.40562941318812085,
          0.4453166251190014,
          0.7223468032412103,
          0.6712874566541951,
          2.134063806879498,
          0.03699070846143392,
          -0.37133591455408493,
          0.15723284716452965,
          -0.9324584793143785,
          0.7912151038670282,
          0.5098016405440821,
          0.9450090701781058,
          -1.061351762325181,
          -0.7065904654917093,
          -2.4756736834854762,
          -0.26921975751392446,
          -0.6989045589361402,
          -1.5846630904993455,
          -0.5711095662059608,
          0.6057979634672774,
          0.49919057747175866,
          -0.6492218435828366,
          -0.5609254430548278,
          -0.24527581939091378,
          0.7852622773004077,
          1.2005564351115778,
          1.8502129738796387,
          -0.32657431006916976,
          -1.3902066050227908,
          2.0675387484983165,
          0.7258512272416853,
          -0.529622155706924,
          -1.1156955274735583,
          -0.2629321294413332,
          0.9857874673160397,
          1.1115633433156056,
          -0.4509961350764594,
          -0.4688745712516865,
          0.9253956176100738,
          -0.1464564155718165,
          -1.1593340307709126,
          -0.29294186787377213,
          0.11998380762239785,
          2.0595072620597175,
          -0.25392572690783555,
          -0.8244759471031058,
          -1.4095933873547903,
          -0.08416086832855448,
          0.039316192089331126,
          0.651621847645074,
          -0.2760952249932431,
          0.6032654738122771,
          -0.9288186907378346,
          -0.5939859892323184,
          0.20114177184282292,
          -1.2574004441063895,
          -0.5896348545887218,
          -1.0663675838555766,
          -0.08595166380943084,
          -0.4066737563121185,
          2.068975419872969,
          -0.09216034260020531,
          -0.14404946786711384,
          -0.4003936648388572,
          0.6236355059230002,
          1.9730371877683153,
          -0.9879463262088564,
          0.6710193044846856,
          -2.1465403008678905,
          -1.2083098702257724,
          -0.2455320778224005,
          -0.5782427546388764,
          0.3932038478823535,
          0.6862852645010643,
          -0.5034429704082234,
          -1.4058061810199103,
          0.7987329073282847,
          -0.29432211717845086,
          0.11877413484129593,
          1.634382731265977,
          0.1810017674678819,
          0.9837689615407161,
          1.2851939755656867,
          -1.057239328820623,
          0.9256757392166772,
          -0.14097991838846086,
          0.1751066796627131,
          1.3324979958497352,
          2.337870249944866,
          0.7132324526835703,
          -0.6333881650674502,
          -0.3880650085984597,
          -0.07076152723300085,
          -0.3582967043993434,
          0.03504023554258032,
          -0.7899785649463654,
          0.458587382700018,
          1.3966180339287662,
          0.037431668951368284,
          -0.417593682068828,
          -0.18979818311257782,
          0.09161758433846022,
          -2.2307456784842343,
          0.2742468991978786,
          2.315896988772165,
          0.460093312831192,
          0.8176925295099635,
          -0.12711723695902208,
          1.16345807206387,
          1.9645181554330495,
          0.42900329591573255,
          -0.7307272481529863,
          1.0537490400058551,
          -0.15267700421758798,
          -1.75380374912374,
          1.1025835028698048,
          1.1750912451610136,
          0.7626849512498732,
          -0.9001811373774983,
          0.1768649182552663,
          0.35675560877799795,
          -0.936659748456382,
          -1.2547699451795615,
          0.41248774866060905,
          2.103307998397645,
          0.4970667738578332,
          0.9313793372198984,
          2.7564573997207344,
          0.24687927803424967,
          -0.039223981160358586,
          0.6662848108807642,
          1.0125072595166202,
          0.17736635705799672,
          -0.07713169388492856,
          1.0280973243312213,
          -0.49131297297985277,
          -0.609295776733209,
          0.7593393311790174,
          -0.6688482939761279,
          -0.5309619214086407,
          -0.41836524403191094,
          -1.493262230581503,
          0.7545756523583274,
          0.26836946831401615,
          -0.8093943388542891,
          0.21535856879868245,
          -1.2397728305066031,
          -1.7991724630753612,
          -1.038040695717769,
          1.0221242338684515,
          -0.47932961819505177,
          -0.4701898855176468,
          0.49080992211098373,
          -0.7234639050388344,
          -1.2455609513716657,
          0.28587041739859614,
          -1.9375136100210248,
          0.35266692206421096,
          -0.2708903230256896,
          0.3807032162425493,
          1.1823358333827128,
          -0.18385920066044445,
          -1.5028088519073113,
          -1.2449932376266226,
          1.5234187767800453,
          -1.2706913563022326,
          -1.4881853778779681,
          1.4158848934545796,
          -0.010406108653070657,
          -1.0671359170384271,
          -0.7848219385415656,
          0.4272563863525343,
          -0.3116629634763233,
          0.19764167956601641,
          -0.6048050693088728,
          -0.4800763298425211,
          -1.7203764483413222,
          -0.340012531364975,
          0.03641536981003903,
          0.48175678017467943,
          -0.8581027514823546,
          1.3550998886090702,
          -0.07981487584062043,
          0.4534766395671167,
          1.3934775667976258,
          0.39709626181854335,
          0.2950975591665157,
          1.533425086992664,
          -0.3559564658201825,
          0.4375267571355367,
          -0.0754113219796433,
          0.384965250464215,
          0.61304688352202,
          0.21950454094378852,
          -0.13727641331509607,
          -1.1352078082235892,
          0.5390090321147971,
          -0.5833652693689046,
          0.7402322272892872,
          -1.1230191614014227,
          -0.6445083455636408,
          0.42269904301348715,
          -1.0153524755078942,
          -0.9723821020391401,
          -1.066899916295461,
          0.04588454598745324,
          0.2063960562316805,
          -0.10403965805809191,
          -0.696050440418351,
          -0.7985318386336797,
          -1.0392240276950313,
          -0.7479590154425196,
          -2.3119073005718005,
          -0.9348373114357873,
          -0.16580024489474682,
          0.5038064158705694,
          -0.19201169619240857,
          0.488427492157878,
          1.2186331137085025,
          0.11006726584869302,
          -1.018657633557288,
          -1.2840380167274674,
          -1.1245860011755358,
          1.246463009437576,
          1.1879996404250244,
          -0.20529603976373084,
          -0.30556655819652734,
          -0.8899433376291654,
          1.2138761820652832,
          -0.8855927576112297,
          -0.4368298822314348,
          -0.5538360083603162,
          -0.7570421491818181,
          -0.5295806443768463,
          -0.6898649413214687,
          -1.5534637043994228,
          0.06301849248439825,
          0.3208182180882882,
          0.6059443269852203,
          -1.1169342712047874,
          2.225739675600672,
          -1.421982024684337,
          0.5986947810053092,
          -1.5881566820509831,
          -0.9589715659184385,
          -0.1512440367963051,
          0.07068303280104792,
          -1.2423593026376427,
          -0.3019545304302373,
          0.5270338497269388,
          0.5570183507326113,
          0.48699405128212786,
          -0.21448590085892527,
          -0.673856432425443,
          0.17810131817118935,
          -0.2828223041283977,
          -2.6949320441955997,
          2.0358687763835475,
          0.17499212310758597,
          -1.2772823438710792,
          0.27117389683563015,
          1.2717843802486308,
          -0.7751058358784911,
          0.9703722990428013,
          0.15950525482775746,
          0.4033842798215532,
          -0.22416700788484656,
          1.3182548020168747,
          0.784539969020459,
          0.31340047785632014,
          1.9010190915766072,
          1.5621549618397206,
          -1.203268973432662,
          1.556977302793063,
          -0.846580439574477,
          0.6691190050033617,
          -0.014914972520388595,
          -0.6589418854681487,
          -0.03690565507772914,
          -0.5934280189566312,
          2.4030365544823784,
          0.9668306461583202,
          -1.0608070955618156,
          1.4794026063373915,
          -1.439606186622048,
          0.7333244200670039,
          0.7106891961776305,
          0.9141480460302274,
          0.12364041319308607,
          0.0051224115802203695,
          0.10095263665219968,
          0.845218384329267,
          0.9245455826983429,
          -0.2601162792193813,
          1.8539397498770391,
          -0.22821930774324634,
          -0.9452509757087494,
          -0.8201505500342596,
          -1.005006194494586,
          1.0749067459114527,
          0.8408350439558322,
          0.5469729266359902,
          0.5298563501988551,
          0.22010446940963424,
          -1.116886964808108,
          -0.68655001224648,
          1.0279634171195533,
          0.31474939585727957,
          -0.028610286514861208,
          1.419902666686229,
          -0.3694807474939726,
          -0.5175281963389985,
          -1.8412232726843947,
          0.8747154070175951,
          -0.18926075029163072,
          0.7592827871680448,
          -0.5297702674476295,
          0.9651682336571801,
          0.5355867284042454,
          0.2750501259857373,
          -0.3912850414230492,
          0.6376035337829741,
          -0.7579799632390427,
          0.7876439786085392,
          -0.2638593574851652,
          0.25573716750388614,
          0.7471592773088084,
          0.26303045350750043,
          1.0122754593687768,
          1.4568149177769596,
          1.3791330623523972,
          0.15076994207296954,
          -0.06132446987960598,
          0.2314922703326611,
          -0.11270704106006119,
          0.1625715869516276,
          0.15538943732375,
          -1.7980302131582735,
          -0.43385564183216807,
          0.39179629656812015,
          0.7240183500515709,
          0.9193554175414438,
          0.6573409960689508,
          0.8628896970379958,
          -0.8845443451722116,
          0.17909383954863514,
          -0.7051866490249893,
          -0.04410856847526144,
          -0.7124224593806687,
          -0.6019772544027343,
          -0.1977098606622768,
          0.9212565573758877,
          -0.6130546974795176,
          -0.019108350691963812,
          -2.0905299023992607,
          0.09169826845222565,
          -1.299495565844087,
          3.013657368229239,
          -1.0453271131352553,
          -1.1239157997250642,
          -1.5920143854833289,
          0.603149127905819,
          -0.3222419938811638,
          0.8266194503997559,
          0.5199176006699514,
          -0.7540574756693907,
          0.7343024929248093,
          -0.9748262909447081,
          0.2876661593133759,
          0.39409976656405105,
          0.5933972554742729,
          1.1776104248133115,
          -0.026850135785152072,
          0.8937534494668731,
          0.37785068907567704,
          -0.18604329655581148,
          0.5018065104623322,
          -0.17720811098027994,
          1.3766476359865063,
          -1.1770411752358287,
          3.229675430501094,
          0.9534293999179485,
          -0.44953089075538455,
          0.442839662390201,
          -1.823293524678266,
          1.1414792684061397,
          0.7590378297869186,
          -0.1319187709990362,
          0.6351420135391436,
          1.460699966099435,
          0.267842130581984,
          -0.8679739531186101,
          0.02600452463880637,
          -0.7769434795499274,
          1.2105861905916626,
          0.31897165726383186,
          -0.31487524025408153,
          -0.5259761229822364,
          1.5061319899903738,
          -0.41407645027610096,
          0.7462215861254241,
          0.44323902347570343,
          -0.1753758184005031,
          1.9591423556057326,
          0.6579285365477386,
          -2.343060744691126,
          0.49169858584807524,
          0.058070042418014924,
          0.16860640266678167,
          0.2168930458945996,
          0.56917576661614,
          -0.5334030217021118,
          1.3561578493407027,
          -0.8914130122439389,
          0.5293884493215835,
          0.23635402648067433,
          -0.6929198796459459,
          -0.4624250703637524,
          0.6652343133582984,
          0.4836861038339817,
          0.07592015705955127,
          -0.29871505044524344,
          0.7837005689810054,
          -0.6867868405580858,
          0.7638597838189104,
          -0.42152378558984505,
          0.6704267578442566,
          -1.7025900140890122,
          0.12185567803696767,
          0.43083847455946683,
          -1.2422165588581273,
          1.673165819766455,
          0.40399114297221994,
          -0.4672199183428552,
          -0.43288096793738573,
          0.4830143979242243,
          1.1430495140314196,
          0.9627405348644287,
          0.7091906834688841,
          0.8367343793179336,
          -0.5394031471582189,
          -0.6708720373493449,
          0.5671148763981007,
          0.7178401115426105,
          0.565981799554616,
          -0.915693248085065,
          -0.13456547692766102,
          1.0790642750416202,
          -1.5468712876893445,
          -0.8244216858337211,
          0.2544436668953305,
          0.9077896170126678,
          -0.11658371707200912,
          -0.5799036955397201,
          -1.3586079274341762,
          0.49918241191835316,
          -0.3938550633649322,
          0.39535913702436815,
          2.012154415837751,
          -0.26915217341388753,
          -0.0937038706955153,
          -0.515494415894573,
          -0.4736536212180213,
          0.14993814304013048,
          0.3924730668882561,
          1.5005065807948355,
          -2.5351707491466593,
          -1.2685031545081833,
          -0.5679431896974131,
          2.2463796491491554,
          0.7567017405360993,
          -0.21350463862600733,
          0.11578959543298252,
          0.023188076576216358,
          0.22417537776039842,
          0.01891393156168115,
          1.354896311598265,
          -0.6472442699556379,
          1.379513210211904,
          0.8326399083549275,
          -0.6842896082581299,
          -1.522823988884886,
          -0.4403923860485685,
          -1.0383604802083573,
          -1.5734748733905817,
          3.210209595581128,
          1.3919429781596813,
          -1.6694577282942136,
          -0.01966692553650852,
          -0.47665357797249075,
          -0.6187959613506929,
          -0.6290444637145665,
          -0.07856790028849688,
          -1.4182785370361266,
          -0.2766394048200038,
          0.23137661462033896,
          -0.5322239984989391,
          0.25469682752977113,
          -0.5207594767436907,
          -0.5496537859610087,
          1.6108168805634908,
          0.14108006392692163,
          -1.9776694770887888,
          -0.10893503361135938,
          -0.10935722830300942,
          1.4654533296965497,
          1.4699183263056952,
          0.30452421759647463,
          -1.5944271155210787,
          -1.197973103200327,
          0.15097562512933832,
          0.18283233087134632,
          0.8352346022236393,
          0.4944882923997546,
          2.780824748725874,
          1.4817983096207992,
          -0.8573785561640049,
          -0.5992161655773411,
          0.7815077912054509,
          0.22430227015737686,
          0.4838559978609977,
          1.3469165193300374,
          -1.2095079648104625,
          1.1007852475603155,
          0.07253848189137083,
          0.9323347944439788,
          0.412355083479693,
          -1.606711666705576,
          -0.5421880881413085,
          0.6749988635205577,
          -0.19048461123320165,
          2.0841150877360115,
          0.5797703406923211,
          -0.1708404640903117,
          1.2672492758043952,
          1.4446779615484673,
          -0.6821087579269388,
          0.0897158569585004,
          0.3380406484063984,
          1.5116965905775406,
          0.2296838423662244,
          0.45216386064566916,
          1.6124174060488188,
          0.5885243536417653,
          1.3448733347961577,
          -2.05625195082556,
          -0.3684769780508588,
          -1.2682681722094598,
          0.357902644098803,
          0.38939336755178205,
          0.02929412015670509,
          1.0584578127124529,
          0.9475859147629343,
          0.9554614902328193,
          -0.14179763997010228,
          0.24847985488091764,
          -0.3378141410127396,
          -0.12368869744804553,
          -1.63653405971211,
          0.5100480396287554,
          2.0962587962319517,
          0.22534966767832873,
          -1.0717902503901815,
          0.8040529893811974,
          -0.2393241821645435,
          0.8809405962363942,
          -1.934658081820097,
          -0.3191606209955775,
          -1.6101133477092935,
          0.8150271549584263,
          0.7736949630759329,
          0.6492307829409772,
          -2.8564023566384797,
          -0.9639874035062365,
          -1.3079087072226974,
          -0.5993611592140067,
          0.6931288362866629,
          0.0745127194154717,
          -0.04430046464915853,
          1.5550052188541412,
          1.3463502560234277,
          -0.6228064143275118,
          0.8574950101973673,
          -0.24634183935248843,
          -0.5444521861678119,
          0.38095110998543963,
          0.4496506397036423,
          0.3436355396463151,
          0.13993095592298213,
          0.09750793519388673,
          -0.9407596297899556,
          0.8685731964947437,
          -0.6118376334086046,
          2.0281724478134158,
          -0.3560686398134038,
          0.9100852049315905,
          0.5950429576002012,
          1.1297759486783656,
          -0.32803337284891204,
          0.7651264411610255,
          -0.31971656955681554,
          1.4571692460459238,
          0.18532553866457122,
          -0.6205495271943775,
          -1.6150104161679337,
          0.24908323636811905,
          1.1632151214551611,
          -0.4221121432988982,
          1.046130052607748,
          -0.30183937463278065,
          -0.030710330397635356,
          1.3429406784527067,
          0.29781995098608016,
          -0.03716216326853924,
          -0.5396215579743474,
          -0.6169256497039651,
          -0.12142350840402823,
          0.310594344176226,
          -0.48235502930024027,
          -1.6447008220380577,
          0.12721490176572922,
          -1.0704094323350162,
          -1.8904902667311272,
          -1.9576602414936881,
          0.5301141411193064,
          -0.2517464410748017,
          -0.1260829903206375,
          0.9481933428775665,
          -2.071253101156175,
          0.6344553617480254,
          0.031025326843348782,
          -0.6227146446847922,
          -1.4239260463756442,
          1.1068935111432692,
          -0.7321203903454404,
          -2.02101236692856,
          0.9424438971867531,
          -1.4118548685064138,
          -0.18475683166455456,
          -0.1827621546461351,
          0.8357967790494328,
          1.8470436721246333,
          -1.056551705239873,
          1.5674865106569564,
          -0.1356712166776562,
          0.5774188164492602,
          -0.07962154266835271,
          -0.6454408436313022,
          -0.6993617458012564,
          1.0112047483078517,
          -0.8063250355781019,
          -0.8829095349167758,
          -1.8538388209522796,
          -0.7152422091358214,
          -1.7150165611921462,
          -0.9566283448525966,
          0.047877304613459334,
          1.0943347455329935,
          0.28978677335068126,
          2.1212271059378063,
          0.28993777202312004,
          0.7884846881958092,
          0.2647655936771417,
          0.8412515475943525,
          -0.01891408555107323,
          0.29455816404811547,
          -0.25347684996691966,
          -0.9026900589836936,
          3.194949320332019,
          0.6439290925248916,
          -0.052894578142730346,
          0.2747741676752052,
          1.0644236594428294,
          0.24822354948527567,
          0.05675503063272888,
          0.4679793432718618,
          -0.8840719752516185,
          0.18249381805700354,
          0.30342167963205,
          1.9535211111034396,
          0.9290461138239321,
          -0.07173690051295395,
          0.6780501086150975,
          1.45671448545312,
          1.1448466739285432,
          -1.9647018121780728,
          -0.12197359590155593,
          1.0459046172974835,
          0.9211654634793469,
          -0.9701564601531318,
          0.488349600128401,
          -0.6102502297049814,
          0.3068649168114281,
          -0.8088396996809863,
          0.08792653600568613,
          -0.18792734455113838,
          0.7812444437898943,
          -0.1467160899410431,
          -1.0804137451703444,
          0.17304318431334498,
          0.8801609202759278,
          -0.006350555582447984,
          0.04826133639229411,
          0.15620297701674654,
          0.5852860320983898,
          -1.7062080167512812,
          -0.6566889716456309,
          0.9207043853162046,
          -1.0800260413317126,
          1.8763562392040025,
          0.6856033045702983,
          -2.1750602276768287,
          0.731306004200936,
          -0.6393080260947888,
          -0.040564484752507325,
          0.20563340348517045,
          1.0504044348309132,
          0.45811231907047023,
          0.8707448562144213,
          0.00727963469736966,
          -0.4974548225323016,
          -1.2346425697875565,
          -1.0975741481242651,
          -1.0238664904423953,
          -0.22853147321808906,
          -0.27266296996979084,
          -1.1565630932420472,
          0.8671857166520813,
          1.0163236005492948,
          -1.002725306554024,
          0.9510183398968657,
          0.09429283954900751,
          0.0841943544116187,
          -2.2993246635749776,
          1.2549058291985598,
          0.35100926123741705,
          1.1247016675526476,
          -0.031336203603466534,
          -0.9809292352817869,
          -0.8179701564501263,
          -0.699293752510199,
          -0.17962686239069767,
          0.44745243004528457,
          0.2731665975636429,
          -0.9586146194531212,
          -1.8586567187624081,
          -0.17955105968997886,
          -0.20456599281979673,
          1.8620552026337907,
          1.664946937839734,
          0.4498336086364613,
          1.3027830797756454,
          -0.8501403095109946,
          2.262236799300832,
          -0.4486847497709313,
          2.5098449880362836,
          -0.31573029393130114,
          -0.584613977492363,
          0.8833005433741216,
          -1.4403563070152707,
          -0.17988381429754274,
          0.8438144544699242,
          0.2552945647218049,
          -1.1134398670468675,
          -0.3161441854084843,
          0.5592562346794491,
          0.9064437024107457,
          0.34179545925201515,
          -2.5215564098924514,
          -0.8583960705807413,
          1.1896796895546211,
          1.1508545591987205,
          1.0208532151256042,
          -0.5444702680399975,
          -0.8758320375612897,
          -0.11062339791218803,
          -2.677798933091078,
          -0.19965509295144307,
          0.2616660345764987,
          0.4367932913877989,
          0.6794353801709003,
          0.064579360820277,
          -0.3491758164814009,
          1.11368171610651,
          0.03471193999952386,
          -1.0160641384071996,
          1.1514031448050088,
          0.5529544247101872,
          2.6177465699825864,
          0.5525463655708052,
          0.6886171019241302,
          0.7103818059675274,
          0.2302402718431885,
          0.43297610172077355,
          1.900562972493449,
          -1.438270136207551,
          -0.7516819572262068,
          0.9153041982386536,
          0.07974408290382112,
          -0.3656876968850853,
          0.12111791944414013,
          -0.23509834770043928,
          0.05185902524418664,
          -1.3328638261047976,
          -0.9401918070951971,
          2.3710812330217514,
          -0.23585244885361792,
          -0.46991156281731356,
          -0.3879753787502004,
          0.15354942779955683,
          -1.2620882982856299,
          -0.23596410061223885,
          1.3810188752362966,
          0.058972466211253134,
          -0.05260630117983528,
          0.11219210209516449,
          -0.17163276121632295,
          -0.1366908751908096,
          0.9273824642062566,
          -0.3410371915173664,
          0.20719822505340607,
          -0.8845924793091986,
          -0.830825453516279,
          -0.8436662942884908,
          0.845330488898004,
          -1.7956019063003648,
          0.10676188668109803,
          -0.7165380534980863,
          1.888764278796799,
          -0.8967512010285191,
          0.5447603576278458,
          -0.3808728647798536,
          0.8224587786314139,
          1.2960501151219543,
          0.18663688485195665,
          1.0986907973600786,
          1.1839958525073386,
          1.7101202507185336,
          -0.5305016841461646,
          -1.0278768681591521,
          1.1578265428406485,
          1.1310758372754623,
          0.5905281913707563,
          -1.6088050268391274,
          0.2915940484765179,
          1.102360280243073,
          0.7924290115369274,
          0.12869578600390702,
          -1.5236960545283134,
          0.697458861539527,
          0.4944763418726193,
          -0.2977987403126823,
          -0.2918972891097381,
          -1.0914292063343691,
          1.660591148401237,
          -0.09775874185374266,
          -0.02876515198693814,
          1.6132900488145243,
          1.8725515094983096,
          -0.7798839020856805,
          -1.2933815391671428,
          0.841081118682266,
          2.2759458491956024,
          -1.6892094336738104,
          -1.5602949352613604,
          -0.01249230526216774,
          0.32656506623924303,
          -0.7985212074862197,
          0.49883946548219865,
          0.2626629152458552,
          -0.283328872732572,
          -1.2132542633451568,
          -0.5220456438115969,
          -1.1264762878345251,
          -0.9902055396374173,
          0.294771696986083,
          0.687614707143414,
          1.201940667928609,
          0.40556435578608563,
          -1.3772576891251087,
          0.32135082292641143,
          -0.6648899135516457,
          0.7347535563082336,
          0.531438618405826,
          1.8401198484491872,
          0.2730784724043798,
          -0.23297824124581623,
          0.37537912110203836,
          0.48674883922474826,
          -0.01630568003886452,
          0.9870067026404366,
          0.10271807864579485,
          0.43665109255476314,
          -0.5731525268141927,
          -0.564368953221781,
          0.5404159052842233,
          0.4242452017207503,
          -0.0799797118634419,
          0.8356981672448287,
          0.7231395612540432,
          1.2617587430643697,
          -0.21254821771766755,
          1.1394145477017217,
          1.7552389943217825,
          -1.8960307389763564,
          0.49136838258594173,
          0.05941790294004754,
          0.9851196549704047,
          -0.030496222498779223,
          0.1447796603383394,
          0.7385353417826049,
          1.0550626503136487,
          0.6508781896306086,
          -0.8810868367307186,
          -0.2584331511143858,
          1.0334580777842364,
          1.312144807523124,
          0.9380949639283772,
          -0.5607127659337658,
          1.38292754222831,
          -0.7458862350423776,
          -1.575152359131777,
          -1.2970766982784019,
          -1.253008729021953,
          -0.508183077135078,
          0.4352072266725379,
          -0.8409114758366804,
          1.8169453297668343,
          0.251146945062615,
          0.21619333693929388,
          1.6761376955538887,
          1.0806383245482096,
          0.13823958446464352,
          -0.43089479281263526,
          -1.7692458694585038,
          -1.131550666671327,
          0.5969032462998382,
          -0.8684527412212799,
          0.9717652225770937,
          0.8898123311706467,
          0.9648709473675449,
          -0.6406865278346499,
          -0.12190192742616192,
          -0.04866249908421641,
          -0.23284968360646052,
          -0.6773567332442796,
          0.45701275401134595,
          -0.13218084675386602,
          -2.903339865953356,
          -0.45776396140784376,
          1.4019134880986033,
          -0.1086588525327448,
          -1.1890513293358493,
          1.83370866662445,
          0.4419706578654034,
          -0.6079473876225817,
          -0.372279140266904,
          -0.5832453181372568,
          1.5585751899475566,
          0.9451871043278726,
          2.8603136389325043,
          -0.008182814266501791,
          -1.1233623455980546,
          -1.2454547518661225,
          0.8760775091980841,
          0.52550623955158,
          -0.1100089407565623,
          -0.11774376373232176,
          -0.5840127366961542,
          2.5280428675052113,
          -0.3248718164994161,
          1.860761635947862,
          -1.416926661060266
         ]
        },
        {
         "opacity": 0.7,
         "type": "histogram",
         "x": [
          2.3866611344434974,
          2.0278505393790445,
          1.6447769302326072,
          -1.9277678665934772,
          2.067772091358457,
          1.369709250741466,
          1.0074188060267109,
          -0.06690474406483515,
          2.0772518805047655,
          0.7407008638907413,
          0.5334173386707787,
          0.8628992349524888,
          -1.2990460589285204,
          0.7119085896487959,
          1.7303064994867783,
          2.0447845587128035,
          0.5120652801672334,
          -0.13272677898008767,
          1.956625674565939,
          0.950685846473734,
          0.12362762269666738,
          0.34825729546244366,
          1.2429252145918848,
          -0.4977772690318065,
          -0.6509081465826907,
          0.5921551161077074,
          0.6418197080855648,
          0.9748415225890039,
          3.9171613199755853,
          0.15033216141406236,
          0.10652619175919276,
          1.9052630216839241,
          -0.14798026260240138,
          0.8505896405666147,
          1.288652491695939,
          1.0323514289868079,
          0.5062614662876392,
          1.1658143505353262,
          0.2508618971603892,
          0.2448414718177464,
          1.8319643821208023,
          1.209361995321443,
          0.5569332365336788,
          -2.454978880295222e-05,
          1.2278241005222144,
          0.3938011300840558,
          1.4292489564581414,
          0.32772172572406455,
          -0.6539705718349302,
          -0.136626864081955,
          1.0335948916380935,
          1.45102125369952,
          3.010182811535443,
          1.4467469988658364,
          2.980348352417777,
          1.0188845459294917,
          1.7647749476171897,
          1.4826197088839375,
          0.6988740969742084,
          -0.1603801805277718,
          0.1346245310936547,
          1.6618294950558294,
          2.431254510468198,
          0.19483111658605112,
          -0.530507678332166,
          1.6094504794063416,
          2.2357493665992942,
          -0.35521728508333994,
          1.0808733511571906,
          0.3996259058605349,
          1.1421483116088593,
          2.0573825347561465,
          0.12731898273559217,
          2.0981755591380615,
          0.5974967002925393,
          0.5705450747613852,
          2.4281649300417802,
          1.2310408850712116,
          1.4229201429693326,
          2.1766511132972863,
          0.5605632771972111,
          0.9919522203517054,
          2.0566328183409546,
          2.8909127440910405,
          -0.8189230802653469,
          2.565933151853634,
          0.17897618570993112,
          0.4205418012151465,
          1.7384872907987938,
          -0.06261427113069518,
          1.125425939619488,
          1.4374522404393408,
          1.7766081449589475,
          1.5026642984853251,
          0.5787022408773144,
          2.6873070515490567,
          -1.6798886398659905,
          2.6947856417788776,
          1.6874358084155157,
          2.1427916636464284,
          0.4768810161312782,
          2.1763529616450716,
          0.17137930793738387,
          1.2322625784080825,
          1.905545320389267,
          1.8447997160428558,
          2.1670765552110645,
          1.9645747375407097,
          1.1473791467548877,
          0.31364622201680925,
          -0.17682883135771266,
          3.0507183796684725,
          0.2379927172970927,
          1.9223013458938594,
          1.2649729855083733,
          1.7217817379291152,
          -0.426022988483687,
          3.0044326523658316,
          0.1331656029853059,
          1.056253478870312,
          0.7228125629272751,
          1.786639142122029,
          1.2302561601336803,
          1.2670257156846583,
          0.7476417960647188,
          1.5457921307519122,
          0.5127543388289573,
          -0.7259258355634215,
          2.207138831564839,
          0.33706265772031296,
          1.626809719240025,
          0.8966394362703638,
          2.2188603000837075,
          2.293411812070042,
          0.825274676954969,
          -0.6266303520587229,
          0.10315725918778129,
          1.9843986187491054,
          1.3326400686871236,
          2.985768094610265,
          2.791795313624772,
          0.44249647392638836,
          0.67871929385591,
          -0.5218237501521115,
          0.6580683466113557,
          1.5686822603356796,
          0.5312852327830547,
          0.7685430144710246,
          -0.7908031319362785,
          0.8417100796156968,
          2.5872425933053167,
          2.695392158446651,
          -0.03695198264329913,
          2.002703197718377,
          -0.012406261471781033,
          2.9130499431297645,
          0.19930434753935744,
          2.3225054021923635,
          2.621868730992734,
          0.35422559075120386,
          2.4087753213405447,
          1.011089199160602,
          1.8737778666975378,
          1.2614805627061565,
          0.6638248477980668,
          1.1329865147972633,
          1.9855102968068865,
          -0.0235566226772419,
          1.0691039593197158,
          1.2147712556175065,
          1.0333540328059092,
          1.4819712550573099,
          0.11011563386332812,
          1.021049275318854,
          1.5342518259333362,
          0.2842233731514021,
          2.211424901594676,
          0.8416667626729065,
          0.5677141326040991,
          1.1942199524505048,
          1.7911065365415864,
          0.1874039044597482,
          2.2092404274675816,
          2.1200983624015026,
          0.4148816905963062,
          2.449084415474548,
          -0.295475457618932,
          2.6173386246409587,
          0.14562596259220895,
          3.700737264947935,
          1.9538085892846992,
          1.6170379606802534,
          -0.22606772816116139,
          1.0168848303664026,
          -1.1520275458327531,
          1.5753545663388095,
          -1.2571610715364616,
          -0.515896045289219,
          0.6195108624233865,
          2.054314731563128,
          0.5818812076049764,
          0.27382539375045245,
          1.8102003383377634,
          1.188433097192703,
          0.27206238964304075,
          0.8895094295097248,
          2.210345942373054,
          1.8450974811329963,
          1.8567642199250018,
          0.6711389905930288,
          1.226758311200542,
          -0.06338581087275563,
          1.8130241029326666,
          0.8930367685666931,
          2.925631482871813,
          0.6581943805078865,
          -0.13078111685638438,
          2.181200272032659,
          2.790890618036047,
          1.5085308946859555,
          1.2475595650854272,
          0.7698356746285308,
          -0.10978521755207948,
          0.8427824638431488,
          0.5499538134613733,
          -0.017304186188459747,
          1.9330208443634103,
          -0.52658793914596,
          1.4616175675873595,
          0.7113972534645214,
          0.6884503762181865,
          0.493601614048752,
          1.5941125055738294,
          2.272987016414749,
          2.274144380189321,
          0.7804352166681275,
          1.994009137222537,
          0.9601626021585882,
          -0.9617217752094189,
          1.4281942114244575,
          1.7747635514761981,
          0.46600285364835414,
          1.9321707950075444,
          1.8617752061239714,
          -1.2284455202377895,
          0.7000750621173707,
          2.237560836199245,
          2.363661458168406,
          2.270228749067388,
          1.7291373614268557,
          0.154763422252032,
          0.818933777261344,
          0.39353166144131413,
          1.6957389512184107,
          1.255970614786958,
          1.0303526299987071,
          1.4906915265070873,
          3.3265321486252954,
          -0.029369861916872075,
          1.8951550227321996,
          1.3744829803484426,
          1.4994299810346468,
          3.1764696067719584,
          -0.31783954144239157,
          1.4681922339336064,
          1.8514022248602453,
          1.341479053195247,
          0.7347192171546204,
          1.808605966079162,
          2.8345813617708293,
          0.5136471409244088,
          2.3681625308195318,
          0.4527212671197651,
          1.2469013641006241,
          0.6497235462386178,
          1.868034689355392,
          1.5655825953460973,
          1.8950150885535069,
          1.6615837269852607,
          0.5644592201840466,
          3.12060692823937,
          -0.9410211250661413,
          0.22583411858617952,
          -0.08117245948216678,
          1.3668929532837455,
          1.0406809411558047,
          -0.005080001556360791,
          0.7674373704131885,
          0.6357716381729059,
          1.1197222813679673,
          0.026174842948173516,
          1.1556282619597118,
          2.2682553627964643,
          1.6557479400541784,
          1.4739735316634066,
          2.140697903262832,
          0.567423925368705,
          0.1696897354792365,
          0.9247877226673842,
          -0.02692602263107502,
          -0.7155652067067855,
          0.6293875210338156,
          1.6050866965063306,
          0.029305801094325346,
          0.9646937761215355,
          0.7742634699422313,
          1.009940855044667,
          1.4419068929645196,
          1.385095054715065,
          0.647207057213464,
          0.4442713340596769,
          -0.20509359543624694,
          0.5618745497857038,
          1.6191607402704509,
          1.2823486054300057,
          1.189829018200533,
          1.2616482402354292,
          1.2237870224278051,
          -0.46064977273479,
          0.8046521670038504,
          0.712496073860771,
          -2.0659207246430973,
          1.353922162271812,
          1.7484924218547113,
          -0.08124135330484639,
          1.0659493161945897,
          2.7700098573538003,
          0.7116499479394653,
          0.3902663027887503,
          1.9915709130092258,
          0.735409081474962,
          0.72728935520649,
          0.7453443905143783,
          1.958488657611905,
          -0.17441643771033455,
          -0.6628245974477249,
          1.543948474090203,
          0.36080151693663365,
          0.6040298953731944,
          1.388046622655441,
          1.7292681142570152,
          0.8180536323026373,
          1.711354902764091,
          0.6107372804372597,
          -0.8117891264985613,
          0.9739847187172791,
          0.903775035747314,
          1.4716566263522792,
          -0.30623683367513377,
          1.3102213936388867,
          0.3808663502801902,
          0.469918006846302,
          0.7610222032605808,
          1.1371519433080894,
          1.0981849497812943,
          0.604210096289757,
          1.3568378084359662,
          2.206485936456085,
          0.772121367910789,
          0.07639128988379873,
          1.343097984173013,
          1.3542477166383895,
          -1.1813241436769464,
          2.838283116397233,
          0.6338910255547525,
          0.598656595045996,
          0.4946753010436289,
          0.7399715216951885,
          0.4032065227148963,
          3.3500628050048604,
          2.27890789255625,
          1.9913037460910776,
          1.0123105042967464,
          1.5551772830613637,
          -0.48701285653430215,
          1.5413553368014428,
          -0.04640230800843592,
          2.236868073096375,
          1.3091303188977177,
          1.8512571132360693,
          0.9881083924894756,
          -0.44970202958547945,
          1.2495756052317628,
          1.823036444021601,
          -0.39549111245473867,
          0.46469809962775843,
          0.7551256054135667,
          2.2978851613059135,
          0.5713044042203516,
          1.321959869215673,
          0.6949714598797381,
          -0.37273011834423264,
          1.5234038600152766,
          2.188252362741728,
          1.831772732896577,
          1.7825079922940748,
          2.5831253690495246,
          0.07466433477624101,
          2.448964002600687,
          0.27762518076782594,
          0.20783177939870756,
          -0.402557652202681,
          0.030867271988100575,
          -1.5049540738410108,
          1.845893232195654,
          1.0627090894658586,
          2.399668955305656,
          1.006443481120656,
          1.341985332861007,
          -0.14927752691146567,
          0.7085787061892408,
          -0.37405559399248345,
          1.5485402159646862,
          0.4597029256830941,
          1.7578317345459724,
          0.6834503985659842,
          1.395213615691015,
          1.4857287965856076,
          1.9298164949219003,
          2.325073210764425,
          2.17213233648223,
          0.6561348771121995,
          1.793939026981614,
          3.553746034959814,
          -0.21337370022160163,
          0.1441419288523057,
          0.32987553340912645,
          -0.47529166431612446,
          -0.5023612574497422,
          0.924961753252372,
          2.0278152254029473,
          1.270255456468713,
          -0.06305142999019075,
          -0.8506771683649841,
          1.155169722559999,
          0.626388126600742,
          1.8380528826622897,
          1.2611205884732282,
          0.8927110879087545,
          0.7445630201386504,
          3.3023647845539945,
          0.4182936129347855,
          0.37580353849991044,
          2.182493993909632,
          0.6050219081421191,
          0.3379806664103462,
          0.395161794253297,
          -0.8200536710410098,
          -0.8739464940011537,
          2.3734982885388467,
          0.7158799283417836,
          0.28990658381365053,
          0.3251608304158905,
          1.3585100546441407,
          0.8969514739973808,
          2.648615401450316,
          1.871491447139884,
          3.308445595138964,
          1.151046804503096,
          2.5986978001266507,
          1.4230680448357609,
          0.08155783155141105,
          1.0146705916391683,
          1.651142893288962,
          -0.11313060519338403,
          0.7663149270898424,
          0.8044208556855946,
          0.6215774177060088,
          0.08773418150517609,
          -2.821738335128379,
          0.9883505889968318,
          0.9041495663760482,
          -0.2176642437397205,
          0.9977191364320671,
          1.6975181384030653,
          1.7105294263560589,
          0.9574932008353991,
          2.6430931707758885,
          3.012969704528814,
          2.524745506399761,
          0.3235063031094204,
          0.2937127247323179,
          1.5239162009414018,
          0.11475055012750746,
          0.48517934898790016,
          1.0920628413360978,
          1.9955980916173128,
          0.19975898793538915,
          0.3744988209641503,
          1.551256574489799,
          2.3792612083576503,
          0.4984552904387839,
          0.4423657618481702,
          1.3745619421375743,
          1.0449336107200227,
          0.9909083932273236,
          0.9015075637419031,
          3.4359384498118146,
          2.000197649283863,
          -0.055443673276124095,
          0.9145639928583096,
          0.4500612026423356,
          0.1751156296740498,
          1.0193824636309192,
          0.3333131923219741,
          0.2540446204574407,
          -1.0924427875745364,
          0.8857732681748114,
          -1.4192935778601745,
          1.9097183635496657,
          1.5452991574731365,
          -1.4362077610276875,
          1.510015085662383,
          0.46242783766147355,
          0.8416079354012533,
          2.5572370210152475,
          0.8937230117226621,
          -0.5282288392027241,
          3.39959929856134,
          2.388939222775466,
          0.9496596167946744,
          0.20498907327546068,
          1.3774764000362087,
          3.0259949571269114,
          1.346611165169406,
          0.5219365369903886,
          -0.4740708779385594,
          2.6248095390149713,
          -0.08057335050218883,
          -0.34125319941097154,
          0.9496541713460256,
          1.5449109200957025,
          -0.5874868448899744,
          0.6064167000461897,
          1.006595017516824,
          1.7390259061400766,
          -0.06963676254503492,
          1.487799175109675,
          1.9675147719248935,
          -0.6234489805453818,
          0.27129775585130433,
          1.4270617281994786,
          -1.8800404605029346,
          1.2461904258116456,
          0.5709657692812249,
          1.2551018814728752,
          2.330108128383251,
          1.5041541967864251,
          0.8671506399395164,
          -0.02178175581046471,
          0.6259562783577274,
          2.796666532479308,
          2.08106949775169,
          -0.08212152847210863,
          0.7854469615679275,
          1.5724152098020454,
          1.7996364612935296,
          2.5873213060949856,
          1.0015653226750816,
          -0.040872600817132954,
          2.1435101066362483,
          1.2489509825680871,
          -0.5270162340091713,
          1.902065160206686,
          0.3997592415589032,
          1.1547871635527924,
          1.2788857959847064,
          1.6156009096506387,
          1.8021062494811886,
          1.4387377911036978,
          1.3075479894515665,
          1.2762082218884743,
          1.3157333317344526,
          1.4690274571832123,
          2.098960101316618,
          1.989071909760113,
          1.6488488670559884,
          1.3999231399997019,
          0.8491673043657296,
          1.675409992731573,
          -1.390084144980419,
          -0.3418581130102103,
          0.7288770648077643,
          1.0928202385988368,
          2.5759031268050867,
          0.3720841750782721,
          0.4491793679232554,
          1.6281478025078417,
          0.7261285371491312,
          2.6407670038296738,
          0.048411387636377756,
          2.3718053696850703,
          0.8118649964330177,
          -0.47849068309264275,
          0.2939757886684402,
          -0.22057622430283708,
          -0.44452500603438394,
          0.9103014607027599,
          1.8570128549362335,
          0.1342064509971873,
          0.20348852151827201,
          0.838885278662307,
          1.1997790781105278,
          1.9397143157184178,
          -1.1939146253292994,
          2.805112406559044,
          0.13243374353243909,
          1.5069146019968107,
          2.285963158651673,
          0.31467829433894323,
          1.3086860932196573,
          0.6513107708194448,
          -0.12256447318605046,
          1.1638963681691212,
          1.1829700269518175,
          -0.6014456682683862,
          1.0427346110906568,
          -0.32164178671181287,
          1.849612338960641,
          1.2735339196376447,
          -0.09642210655629357,
          0.896279645059166,
          2.4558601368879787,
          -0.10984491447219669,
          2.862459055534693,
          0.12438376801709217,
          2.0850248636324045,
          1.4798757138635505,
          2.170632354334099,
          1.0346496180209,
          1.057447410695925,
          0.3354814972576351,
          1.0598779778882355,
          0.8570535011479401,
          1.666741201527566,
          0.9336307329885827,
          2.203692297882855,
          1.5836482448604894,
          0.8042318587495287,
          2.0920089193675806,
          1.5444438225245891,
          1.7884284152894896,
          1.1110579118023298,
          0.2780709248718074,
          0.153139865470172,
          1.677217019808423,
          1.4086360234656936,
          0.8094099035525657,
          2.5977921491731677,
          1.0750311611280265,
          1.4920943038406678,
          1.637095250489018,
          0.2946133160458543,
          1.8447765050938694,
          1.5275799928023348,
          1.7931996642811379,
          1.2353170784932332,
          -0.41860299347399743,
          0.7781895073140959,
          1.8156169072702495,
          2.3688846286076153,
          0.9915884028585888,
          3.041105092387314,
          2.974756884379236,
          2.4091670328309247,
          0.10252196130665547,
          1.3655563280210763,
          1.6863016478876158,
          0.750358820727678,
          2.5871581954222647,
          1.9331077718024665,
          1.6918978615334055,
          0.13665483435213643,
          2.1908980948208026,
          1.7237748600763134,
          -0.23438331596293405,
          0.3429382798574354,
          2.1430669619774214,
          1.503403319981894,
          1.1141609189853496,
          1.2378944485325043,
          1.554534694373753,
          0.7573856029308617,
          0.8439196215899782,
          2.4546776374384325,
          -0.012486803229681431,
          1.4585367774713573,
          0.9316596259605633,
          0.02245698864566148,
          1.4293661775431925,
          0.8898999210844195,
          1.0605467351028166,
          -0.6013540388003744,
          1.1120886935922807,
          0.326533912457073,
          1.8811742475129705,
          -0.25466587091238835,
          0.37814028876044303,
          1.4781551365807255,
          0.5291778696285787,
          1.426294706827176,
          0.7961103617717884,
          0.261113613563589,
          2.70010254592829,
          1.4714431411447237,
          0.018795230521762907,
          0.2603513935586528,
          0.8170669830962773,
          1.7713908362798856,
          0.5755465223480474,
          0.8862025060866142,
          1.0221595184587169,
          -0.9080502409193529,
          3.112048186893272,
          2.4998605168555805,
          1.5145652400057668,
          -0.13695591554204922,
          0.2895344975008539,
          3.1026568493129094,
          -0.03784361677778003,
          1.773684704071651,
          1.0693335238490136,
          -0.8633742544433076,
          2.7872883133316195,
          1.1564497273737537,
          0.9073314318005824,
          0.8607138277902595,
          0.43982422566267787,
          1.5349397525726896,
          -0.6117746577288139,
          1.2350510261868426,
          1.0744732817581037,
          -0.4181664542308976,
          -0.855042864154524,
          0.6988632931220216,
          0.2573840081025639,
          1.434331254307489,
          1.5096134768153764,
          0.8927370498223353,
          0.8934517926877479,
          0.6114525892115783,
          0.5585264107493907,
          1.5159397707216242,
          2.0109943573999143,
          -0.788367464256529,
          -1.7629285479397852,
          0.3288441087198304,
          0.20180478279073377,
          1.3049261537460142,
          2.212856891685176,
          0.06747347957634742,
          3.6288736393660237,
          2.451955438774612,
          0.07193718382366066,
          1.2051855540373786,
          -0.9576930807473027,
          0.05909681156796476,
          -0.7703147138387607,
          1.3041293797669142,
          1.0174685023620582,
          0.6782885323277418,
          0.6037149233124807,
          0.7431820189569427,
          0.0855289062107184,
          -1.1850564072349785,
          2.5407864997382408,
          1.3745574174841795,
          1.3710196883821446,
          -0.8578949495450334,
          0.7633860473118103,
          0.27104832802638945,
          1.570295357846883,
          0.269933000575031,
          -0.7367420313215909,
          0.919569965863757,
          2.0515632316179486,
          3.4780208391740883,
          0.29514312062483605,
          0.6162793460950811,
          1.4522454908035245,
          0.6067320768243076,
          3.1431065767562902,
          2.0404386780935857,
          1.4461122648958682,
          -0.668186301924605,
          1.273425205746641,
          0.4435742469184879,
          0.014470680213876097,
          1.9510013664186978,
          0.17486315533121188,
          1.28222572395729,
          -0.6527760572481784,
          3.472025223916046,
          1.3852952315623674,
          -0.1793562145581793,
          0.11328357587417948,
          0.11230300818522632,
          2.867188075746564,
          2.4422278777597457,
          -0.050942063336633536,
          1.329542930810743,
          0.6127001867716907,
          1.0109472170607008,
          2.182982378800727,
          0.24305893491945707,
          0.7855735170673969,
          0.7848064793441422,
          -0.022194253988483403,
          1.0866106228890355,
          1.776904566053543,
          1.3170220211976515,
          0.28309196337613585,
          2.2596516529054576,
          1.3471262172643965,
          2.436711560747441,
          0.6043029912189862,
          -0.6564109186992724,
          3.1004922942454844,
          1.089223138297994,
          -0.8189684500893109,
          2.0840054760394153,
          0.5644065209466849,
          2.85832957408549,
          0.6107290191193613,
          1.3538695553667144,
          2.0848489250393136,
          2.4451280757523177,
          2.2964638619156497,
          0.07104925682846364,
          -0.17156738361137203,
          1.8754149716561315,
          -0.5013262795691034,
          -1.0020303540022346,
          1.2317929167900863,
          1.8519362930851448,
          0.48599714398521643,
          -0.6951934240580735,
          -0.20038663144638358,
          0.5024206739815364,
          0.9876358205111614,
          0.8400718916367761,
          1.2071071277083034,
          1.6788222802613297,
          2.4580687443074827,
          1.036827167196962,
          0.43894163874969583,
          1.0033758591433402,
          0.8014282183170867,
          -0.44000325487861036,
          2.204898851090542,
          0.5217318924609915,
          0.5149553202275546,
          -0.5209146563745277,
          -0.2982836296019822,
          1.7496878761833872,
          1.4011852742340052,
          1.0679663685612184,
          -0.003886557722595052,
          -0.07597618593545796,
          -0.38025692627035235,
          0.6912188143867042,
          1.6478900083635573,
          1.2529066648370972,
          0.026024063501284167,
          0.8954096779590378,
          1.26768154794895,
          -0.11457068639532819,
          -0.7698283353827919,
          0.07066658856101893,
          1.0430465449530106,
          1.073383708139221,
          1.3088047719291194,
          -1.4173729241449462,
          2.48642936827393,
          -0.5499366738429927,
          1.1340415651954157,
          -1.6880878979571556,
          0.27317793444132943,
          2.2689947136109536,
          1.7175305633160896,
          0.17977193273033631,
          1.0228984341051848,
          1.3899376138567987,
          0.009993540252488997,
          -0.18557157822465453,
          2.28825251169129,
          3.197171276138375,
          2.430139188214011,
          2.0454385861173394,
          2.6860461705748824,
          0.37046549709143284,
          2.8081464386393433,
          2.1970902425057606,
          1.464766787669142,
          1.3116369368018423,
          1.770135283133202,
          1.9960365957756423,
          0.3975833621918442,
          1.8539878009290336,
          0.4518061580601058,
          -0.004601449038222238,
          0.18986591293191746,
          0.8860195821251317,
          0.9166380320673959,
          -1.325550387418525,
          0.4561971879417186,
          1.6174323915464854,
          -0.33762021312931667,
          0.45461775104808844,
          1.5001610094328002,
          0.5282438322909084,
          0.9471994105619819,
          0.8970443205260774,
          1.955377443236599,
          2.072301201459328,
          1.7100615500472993,
          1.642968091337424,
          0.3745309389408007,
          1.8991528235901178,
          1.6962089894837744,
          0.42654135528222226,
          0.675139589667229,
          0.4799469703201127,
          1.7985434763068242,
          2.307545439143917,
          0.9870028560939182,
          0.4532648164284939,
          0.5241024378616278,
          1.6773188538011725,
          -0.17134769922473447,
          1.7118367379765087,
          0.8560172886694989,
          1.5857055465125107,
          1.5746521973912957,
          2.950346284822479,
          1.2219933180529763,
          0.8768850112075278,
          1.2259721370037864,
          3.1236827402041545,
          1.5355064529012306,
          -0.9769777462690841,
          0.3190311720065876,
          1.8278391972402823,
          2.052874693341872,
          0.03308904879159247,
          1.7497813002524336,
          -0.021600208512673413,
          1.4126033878816784,
          -0.5353379209483389,
          -0.18411919742270833,
          1.8440376254127497,
          0.8141937486588818,
          1.3311555383190974,
          1.0291545163948845,
          0.6747100261338896,
          0.4792891168935076,
          1.8395605938508393,
          1.4815773898468243,
          1.6725892494515398,
          1.2066017172134615,
          1.4915228772376459,
          0.8003427624221859,
          2.1735407632259034,
          1.5038097006757716,
          0.9450089713375116,
          1.345920060424236,
          -0.6047063159046087,
          1.3590854247754738,
          1.135236792281257,
          1.5844941347102286,
          -0.5837234619631537,
          -0.272666826185616,
          -1.5681689627966806,
          1.162456828517066,
          1.4172659118528679,
          1.4304637925706665,
          0.047999957217861655,
          1.473156123924644,
          1.191090272172579,
          0.9138657042214635,
          1.4934870569903247,
          2.0997934542894363,
          0.734429084744487,
          0.3538428085221811,
          1.5340113828212452,
          -0.5864936982999387,
          2.170739505223682,
          1.3872605048816773,
          1.9730100165373607,
          0.32379023919960237,
          0.5170797804003671,
          0.4022308787000627,
          1.3177827234245187,
          0.32199756598514717,
          0.9960407092044172,
          1.379446579264357,
          0.1546159688731944,
          -0.6199658050314589,
          3.372485127197604,
          0.6226625723642422
         ]
        }
       ],
       "layout": {
        "autosize": true,
        "barmode": "overlay",
        "template": {
         "data": {
          "bar": [
           {
            "error_x": {
             "color": "#2a3f5f"
            },
            "error_y": {
             "color": "#2a3f5f"
            },
            "marker": {
             "line": {
              "color": "#E5ECF6",
              "width": 0.5
             },
             "pattern": {
              "fillmode": "overlay",
              "size": 10,
              "solidity": 0.2
             }
            },
            "type": "bar"
           }
          ],
          "barpolar": [
           {
            "marker": {
             "line": {
              "color": "#E5ECF6",
              "width": 0.5
             },
             "pattern": {
              "fillmode": "overlay",
              "size": 10,
              "solidity": 0.2
             }
            },
            "type": "barpolar"
           }
          ],
          "carpet": [
           {
            "aaxis": {
             "endlinecolor": "#2a3f5f",
             "gridcolor": "white",
             "linecolor": "white",
             "minorgridcolor": "white",
             "startlinecolor": "#2a3f5f"
            },
            "baxis": {
             "endlinecolor": "#2a3f5f",
             "gridcolor": "white",
             "linecolor": "white",
             "minorgridcolor": "white",
             "startlinecolor": "#2a3f5f"
            },
            "type": "carpet"
           }
          ],
          "choropleth": [
           {
            "colorbar": {
             "outlinewidth": 0,
             "ticks": ""
            },
            "type": "choropleth"
           }
          ],
          "contour": [
           {
            "colorbar": {
             "outlinewidth": 0,
             "ticks": ""
            },
            "colorscale": [
             [
              0,
              "#0d0887"
             ],
             [
              0.1111111111111111,
              "#46039f"
             ],
             [
              0.2222222222222222,
              "#7201a8"
             ],
             [
              0.3333333333333333,
              "#9c179e"
             ],
             [
              0.4444444444444444,
              "#bd3786"
             ],
             [
              0.5555555555555556,
              "#d8576b"
             ],
             [
              0.6666666666666666,
              "#ed7953"
             ],
             [
              0.7777777777777778,
              "#fb9f3a"
             ],
             [
              0.8888888888888888,
              "#fdca26"
             ],
             [
              1,
              "#f0f921"
             ]
            ],
            "type": "contour"
           }
          ],
          "contourcarpet": [
           {
            "colorbar": {
             "outlinewidth": 0,
             "ticks": ""
            },
            "type": "contourcarpet"
           }
          ],
          "heatmap": [
           {
            "colorbar": {
             "outlinewidth": 0,
             "ticks": ""
            },
            "colorscale": [
             [
              0,
              "#0d0887"
             ],
             [
              0.1111111111111111,
              "#46039f"
             ],
             [
              0.2222222222222222,
              "#7201a8"
             ],
             [
              0.3333333333333333,
              "#9c179e"
             ],
             [
              0.4444444444444444,
              "#bd3786"
             ],
             [
              0.5555555555555556,
              "#d8576b"
             ],
             [
              0.6666666666666666,
              "#ed7953"
             ],
             [
              0.7777777777777778,
              "#fb9f3a"
             ],
             [
              0.8888888888888888,
              "#fdca26"
             ],
             [
              1,
              "#f0f921"
             ]
            ],
            "type": "heatmap"
           }
          ],
          "heatmapgl": [
           {
            "colorbar": {
             "outlinewidth": 0,
             "ticks": ""
            },
            "colorscale": [
             [
              0,
              "#0d0887"
             ],
             [
              0.1111111111111111,
              "#46039f"
             ],
             [
              0.2222222222222222,
              "#7201a8"
             ],
             [
              0.3333333333333333,
              "#9c179e"
             ],
             [
              0.4444444444444444,
              "#bd3786"
             ],
             [
              0.5555555555555556,
              "#d8576b"
             ],
             [
              0.6666666666666666,
              "#ed7953"
             ],
             [
              0.7777777777777778,
              "#fb9f3a"
             ],
             [
              0.8888888888888888,
              "#fdca26"
             ],
             [
              1,
              "#f0f921"
             ]
            ],
            "type": "heatmapgl"
           }
          ],
          "histogram": [
           {
            "marker": {
             "pattern": {
              "fillmode": "overlay",
              "size": 10,
              "solidity": 0.2
             }
            },
            "type": "histogram"
           }
          ],
          "histogram2d": [
           {
            "colorbar": {
             "outlinewidth": 0,
             "ticks": ""
            },
            "colorscale": [
             [
              0,
              "#0d0887"
             ],
             [
              0.1111111111111111,
              "#46039f"
             ],
             [
              0.2222222222222222,
              "#7201a8"
             ],
             [
              0.3333333333333333,
              "#9c179e"
             ],
             [
              0.4444444444444444,
              "#bd3786"
             ],
             [
              0.5555555555555556,
              "#d8576b"
             ],
             [
              0.6666666666666666,
              "#ed7953"
             ],
             [
              0.7777777777777778,
              "#fb9f3a"
             ],
             [
              0.8888888888888888,
              "#fdca26"
             ],
             [
              1,
              "#f0f921"
             ]
            ],
            "type": "histogram2d"
           }
          ],
          "histogram2dcontour": [
           {
            "colorbar": {
             "outlinewidth": 0,
             "ticks": ""
            },
            "colorscale": [
             [
              0,
              "#0d0887"
             ],
             [
              0.1111111111111111,
              "#46039f"
             ],
             [
              0.2222222222222222,
              "#7201a8"
             ],
             [
              0.3333333333333333,
              "#9c179e"
             ],
             [
              0.4444444444444444,
              "#bd3786"
             ],
             [
              0.5555555555555556,
              "#d8576b"
             ],
             [
              0.6666666666666666,
              "#ed7953"
             ],
             [
              0.7777777777777778,
              "#fb9f3a"
             ],
             [
              0.8888888888888888,
              "#fdca26"
             ],
             [
              1,
              "#f0f921"
             ]
            ],
            "type": "histogram2dcontour"
           }
          ],
          "mesh3d": [
           {
            "colorbar": {
             "outlinewidth": 0,
             "ticks": ""
            },
            "type": "mesh3d"
           }
          ],
          "parcoords": [
           {
            "line": {
             "colorbar": {
              "outlinewidth": 0,
              "ticks": ""
             }
            },
            "type": "parcoords"
           }
          ],
          "pie": [
           {
            "automargin": true,
            "type": "pie"
           }
          ],
          "scatter": [
           {
            "marker": {
             "colorbar": {
              "outlinewidth": 0,
              "ticks": ""
             }
            },
            "type": "scatter"
           }
          ],
          "scatter3d": [
           {
            "line": {
             "colorbar": {
              "outlinewidth": 0,
              "ticks": ""
             }
            },
            "marker": {
             "colorbar": {
              "outlinewidth": 0,
              "ticks": ""
             }
            },
            "type": "scatter3d"
           }
          ],
          "scattercarpet": [
           {
            "marker": {
             "colorbar": {
              "outlinewidth": 0,
              "ticks": ""
             }
            },
            "type": "scattercarpet"
           }
          ],
          "scattergeo": [
           {
            "marker": {
             "colorbar": {
              "outlinewidth": 0,
              "ticks": ""
             }
            },
            "type": "scattergeo"
           }
          ],
          "scattergl": [
           {
            "marker": {
             "colorbar": {
              "outlinewidth": 0,
              "ticks": ""
             }
            },
            "type": "scattergl"
           }
          ],
          "scattermapbox": [
           {
            "marker": {
             "colorbar": {
              "outlinewidth": 0,
              "ticks": ""
             }
            },
            "type": "scattermapbox"
           }
          ],
          "scatterpolar": [
           {
            "marker": {
             "colorbar": {
              "outlinewidth": 0,
              "ticks": ""
             }
            },
            "type": "scatterpolar"
           }
          ],
          "scatterpolargl": [
           {
            "marker": {
             "colorbar": {
              "outlinewidth": 0,
              "ticks": ""
             }
            },
            "type": "scatterpolargl"
           }
          ],
          "scatterternary": [
           {
            "marker": {
             "colorbar": {
              "outlinewidth": 0,
              "ticks": ""
             }
            },
            "type": "scatterternary"
           }
          ],
          "surface": [
           {
            "colorbar": {
             "outlinewidth": 0,
             "ticks": ""
            },
            "colorscale": [
             [
              0,
              "#0d0887"
             ],
             [
              0.1111111111111111,
              "#46039f"
             ],
             [
              0.2222222222222222,
              "#7201a8"
             ],
             [
              0.3333333333333333,
              "#9c179e"
             ],
             [
              0.4444444444444444,
              "#bd3786"
             ],
             [
              0.5555555555555556,
              "#d8576b"
             ],
             [
              0.6666666666666666,
              "#ed7953"
             ],
             [
              0.7777777777777778,
              "#fb9f3a"
             ],
             [
              0.8888888888888888,
              "#fdca26"
             ],
             [
              1,
              "#f0f921"
             ]
            ],
            "type": "surface"
           }
          ],
          "table": [
           {
            "cells": {
             "fill": {
              "color": "#EBF0F8"
             },
             "line": {
              "color": "white"
             }
            },
            "header": {
             "fill": {
              "color": "#C8D4E3"
             },
             "line": {
              "color": "white"
             }
            },
            "type": "table"
           }
          ]
         },
         "layout": {
          "annotationdefaults": {
           "arrowcolor": "#2a3f5f",
           "arrowhead": 0,
           "arrowwidth": 1
          },
          "autotypenumbers": "strict",
          "coloraxis": {
           "colorbar": {
            "outlinewidth": 0,
            "ticks": ""
           }
          },
          "colorscale": {
           "diverging": [
            [
             0,
             "#8e0152"
            ],
            [
             0.1,
             "#c51b7d"
            ],
            [
             0.2,
             "#de77ae"
            ],
            [
             0.3,
             "#f1b6da"
            ],
            [
             0.4,
             "#fde0ef"
            ],
            [
             0.5,
             "#f7f7f7"
            ],
            [
             0.6,
             "#e6f5d0"
            ],
            [
             0.7,
             "#b8e186"
            ],
            [
             0.8,
             "#7fbc41"
            ],
            [
             0.9,
             "#4d9221"
            ],
            [
             1,
             "#276419"
            ]
           ],
           "sequential": [
            [
             0,
             "#0d0887"
            ],
            [
             0.1111111111111111,
             "#46039f"
            ],
            [
             0.2222222222222222,
             "#7201a8"
            ],
            [
             0.3333333333333333,
             "#9c179e"
            ],
            [
             0.4444444444444444,
             "#bd3786"
            ],
            [
             0.5555555555555556,
             "#d8576b"
            ],
            [
             0.6666666666666666,
             "#ed7953"
            ],
            [
             0.7777777777777778,
             "#fb9f3a"
            ],
            [
             0.8888888888888888,
             "#fdca26"
            ],
            [
             1,
             "#f0f921"
            ]
           ],
           "sequentialminus": [
            [
             0,
             "#0d0887"
            ],
            [
             0.1111111111111111,
             "#46039f"
            ],
            [
             0.2222222222222222,
             "#7201a8"
            ],
            [
             0.3333333333333333,
             "#9c179e"
            ],
            [
             0.4444444444444444,
             "#bd3786"
            ],
            [
             0.5555555555555556,
             "#d8576b"
            ],
            [
             0.6666666666666666,
             "#ed7953"
            ],
            [
             0.7777777777777778,
             "#fb9f3a"
            ],
            [
             0.8888888888888888,
             "#fdca26"
            ],
            [
             1,
             "#f0f921"
            ]
           ]
          },
          "colorway": [
           "#636efa",
           "#EF553B",
           "#00cc96",
           "#ab63fa",
           "#FFA15A",
           "#19d3f3",
           "#FF6692",
           "#B6E880",
           "#FF97FF",
           "#FECB52"
          ],
          "font": {
           "color": "#2a3f5f"
          },
          "geo": {
           "bgcolor": "white",
           "lakecolor": "white",
           "landcolor": "#E5ECF6",
           "showlakes": true,
           "showland": true,
           "subunitcolor": "white"
          },
          "hoverlabel": {
           "align": "left"
          },
          "hovermode": "closest",
          "mapbox": {
           "style": "light"
          },
          "paper_bgcolor": "white",
          "plot_bgcolor": "#E5ECF6",
          "polar": {
           "angularaxis": {
            "gridcolor": "white",
            "linecolor": "white",
            "ticks": ""
           },
           "bgcolor": "#E5ECF6",
           "radialaxis": {
            "gridcolor": "white",
            "linecolor": "white",
            "ticks": ""
           }
          },
          "scene": {
           "xaxis": {
            "backgroundcolor": "#E5ECF6",
            "gridcolor": "white",
            "gridwidth": 2,
            "linecolor": "white",
            "showbackground": true,
            "ticks": "",
            "zerolinecolor": "white"
           },
           "yaxis": {
            "backgroundcolor": "#E5ECF6",
            "gridcolor": "white",
            "gridwidth": 2,
            "linecolor": "white",
            "showbackground": true,
            "ticks": "",
            "zerolinecolor": "white"
           },
           "zaxis": {
            "backgroundcolor": "#E5ECF6",
            "gridcolor": "white",
            "gridwidth": 2,
            "linecolor": "white",
            "showbackground": true,
            "ticks": "",
            "zerolinecolor": "white"
           }
          },
          "shapedefaults": {
           "line": {
            "color": "#2a3f5f"
           }
          },
          "ternary": {
           "aaxis": {
            "gridcolor": "white",
            "linecolor": "white",
            "ticks": ""
           },
           "baxis": {
            "gridcolor": "white",
            "linecolor": "white",
            "ticks": ""
           },
           "bgcolor": "#E5ECF6",
           "caxis": {
            "gridcolor": "white",
            "linecolor": "white",
            "ticks": ""
           }
          },
          "title": {
           "x": 0.05
          },
          "xaxis": {
           "automargin": true,
           "gridcolor": "white",
           "linecolor": "white",
           "ticks": "",
           "title": {
            "standoff": 15
           },
           "zerolinecolor": "white",
           "zerolinewidth": 2
          },
          "yaxis": {
           "automargin": true,
           "gridcolor": "white",
           "linecolor": "white",
           "ticks": "",
           "title": {
            "standoff": 15
           },
           "zerolinecolor": "white",
           "zerolinewidth": 2
          }
         }
        },
        "xaxis": {
         "autorange": true,
         "range": [
          -3,
          3.999999999999999
         ],
         "type": "linear"
        },
        "yaxis": {
         "autorange": true,
         "range": [
          0,
          90.52631578947368
         ]
        }
       }
      },
      "image/png": "[encoded data removed]"
     },
     "metadata": {},
     "output_type": "display_data"
    }
   ],
   "source": [
    "fig = go.Figure()\n",
    "fig.add_trace(go.Histogram(x=n1))\n",
    "fig.add_trace(go.Histogram(x=n2))\n",
    "fig.update_layout(barmode = 'overlay')\n",
    "fig.update_traces(opacity = 0.7)\n",
    "fig.show()"
   ]
  },
  {
   "cell_type": "code",
   "execution_count": 23,
   "metadata": {},
   "outputs": [
    {
     "data": {
      "application/vnd.plotly.v1+json": {
       "config": {
        "plotlyServerURL": "https://plot.ly"
       },
       "data": [
        {
         "cumulative": {
          "enabled": true
         },
         "opacity": 0.7,
         "type": "histogram",
         "x": [
          0.3464353041393723,
          -0.9536039603636917,
          -0.4884364153372126,
          -0.4415874798439,
          1.263589505259114,
          0.627753878880996,
          0.9179594728701186,
          -0.509237512797745,
          0.06098400568557707,
          0.7147155681041574,
          0.5544641444069234,
          1.6029426400219615,
          -1.6668810531411136,
          0.25240924018309846,
          -1.2008852608750291,
          2.673511756532849,
          0.3312907651232188,
          -0.06184107571246438,
          0.5885143459879187,
          0.13787401120799564,
          0.760016497853216,
          -0.8605528882152268,
          -2.0370251063557587,
          -1.3278536663668856,
          1.2247860154550594,
          -1.4212937191632244,
          2.1236096015506774,
          -0.40562941318812085,
          0.4453166251190014,
          0.7223468032412103,
          0.6712874566541951,
          2.134063806879498,
          0.03699070846143392,
          -0.37133591455408493,
          0.15723284716452965,
          -0.9324584793143785,
          0.7912151038670282,
          0.5098016405440821,
          0.9450090701781058,
          -1.061351762325181,
          -0.7065904654917093,
          -2.4756736834854762,
          -0.26921975751392446,
          -0.6989045589361402,
          -1.5846630904993455,
          -0.5711095662059608,
          0.6057979634672774,
          0.49919057747175866,
          -0.6492218435828366,
          -0.5609254430548278,
          -0.24527581939091378,
          0.7852622773004077,
          1.2005564351115778,
          1.8502129738796387,
          -0.32657431006916976,
          -1.3902066050227908,
          2.0675387484983165,
          0.7258512272416853,
          -0.529622155706924,
          -1.1156955274735583,
          -0.2629321294413332,
          0.9857874673160397,
          1.1115633433156056,
          -0.4509961350764594,
          -0.4688745712516865,
          0.9253956176100738,
          -0.1464564155718165,
          -1.1593340307709126,
          -0.29294186787377213,
          0.11998380762239785,
          2.0595072620597175,
          -0.25392572690783555,
          -0.8244759471031058,
          -1.4095933873547903,
          -0.08416086832855448,
          0.039316192089331126,
          0.651621847645074,
          -0.2760952249932431,
          0.6032654738122771,
          -0.9288186907378346,
          -0.5939859892323184,
          0.20114177184282292,
          -1.2574004441063895,
          -0.5896348545887218,
          -1.0663675838555766,
          -0.08595166380943084,
          -0.4066737563121185,
          2.068975419872969,
          -0.09216034260020531,
          -0.14404946786711384,
          -0.4003936648388572,
          0.6236355059230002,
          1.9730371877683153,
          -0.9879463262088564,
          0.6710193044846856,
          -2.1465403008678905,
          -1.2083098702257724,
          -0.2455320778224005,
          -0.5782427546388764,
          0.3932038478823535,
          0.6862852645010643,
          -0.5034429704082234,
          -1.4058061810199103,
          0.7987329073282847,
          -0.29432211717845086,
          0.11877413484129593,
          1.634382731265977,
          0.1810017674678819,
          0.9837689615407161,
          1.2851939755656867,
          -1.057239328820623,
          0.9256757392166772,
          -0.14097991838846086,
          0.1751066796627131,
          1.3324979958497352,
          2.337870249944866,
          0.7132324526835703,
          -0.6333881650674502,
          -0.3880650085984597,
          -0.07076152723300085,
          -0.3582967043993434,
          0.03504023554258032,
          -0.7899785649463654,
          0.458587382700018,
          1.3966180339287662,
          0.037431668951368284,
          -0.417593682068828,
          -0.18979818311257782,
          0.09161758433846022,
          -2.2307456784842343,
          0.2742468991978786,
          2.315896988772165,
          0.460093312831192,
          0.8176925295099635,
          -0.12711723695902208,
          1.16345807206387,
          1.9645181554330495,
          0.42900329591573255,
          -0.7307272481529863,
          1.0537490400058551,
          -0.15267700421758798,
          -1.75380374912374,
          1.1025835028698048,
          1.1750912451610136,
          0.7626849512498732,
          -0.9001811373774983,
          0.1768649182552663,
          0.35675560877799795,
          -0.936659748456382,
          -1.2547699451795615,
          0.41248774866060905,
          2.103307998397645,
          0.4970667738578332,
          0.9313793372198984,
          2.7564573997207344,
          0.24687927803424967,
          -0.039223981160358586,
          0.6662848108807642,
          1.0125072595166202,
          0.17736635705799672,
          -0.07713169388492856,
          1.0280973243312213,
          -0.49131297297985277,
          -0.609295776733209,
          0.7593393311790174,
          -0.6688482939761279,
          -0.5309619214086407,
          -0.41836524403191094,
          -1.493262230581503,
          0.7545756523583274,
          0.26836946831401615,
          -0.8093943388542891,
          0.21535856879868245,
          -1.2397728305066031,
          -1.7991724630753612,
          -1.038040695717769,
          1.0221242338684515,
          -0.47932961819505177,
          -0.4701898855176468,
          0.49080992211098373,
          -0.7234639050388344,
          -1.2455609513716657,
          0.28587041739859614,
          -1.9375136100210248,
          0.35266692206421096,
          -0.2708903230256896,
          0.3807032162425493,
          1.1823358333827128,
          -0.18385920066044445,
          -1.5028088519073113,
          -1.2449932376266226,
          1.5234187767800453,
          -1.2706913563022326,
          -1.4881853778779681,
          1.4158848934545796,
          -0.010406108653070657,
          -1.0671359170384271,
          -0.7848219385415656,
          0.4272563863525343,
          -0.3116629634763233,
          0.19764167956601641,
          -0.6048050693088728,
          -0.4800763298425211,
          -1.7203764483413222,
          -0.340012531364975,
          0.03641536981003903,
          0.48175678017467943,
          -0.8581027514823546,
          1.3550998886090702,
          -0.07981487584062043,
          0.4534766395671167,
          1.3934775667976258,
          0.39709626181854335,
          0.2950975591665157,
          1.533425086992664,
          -0.3559564658201825,
          0.4375267571355367,
          -0.0754113219796433,
          0.384965250464215,
          0.61304688352202,
          0.21950454094378852,
          -0.13727641331509607,
          -1.1352078082235892,
          0.5390090321147971,
          -0.5833652693689046,
          0.7402322272892872,
          -1.1230191614014227,
          -0.6445083455636408,
          0.42269904301348715,
          -1.0153524755078942,
          -0.9723821020391401,
          -1.066899916295461,
          0.04588454598745324,
          0.2063960562316805,
          -0.10403965805809191,
          -0.696050440418351,
          -0.7985318386336797,
          -1.0392240276950313,
          -0.7479590154425196,
          -2.3119073005718005,
          -0.9348373114357873,
          -0.16580024489474682,
          0.5038064158705694,
          -0.19201169619240857,
          0.488427492157878,
          1.2186331137085025,
          0.11006726584869302,
          -1.018657633557288,
          -1.2840380167274674,
          -1.1245860011755358,
          1.246463009437576,
          1.1879996404250244,
          -0.20529603976373084,
          -0.30556655819652734,
          -0.8899433376291654,
          1.2138761820652832,
          -0.8855927576112297,
          -0.4368298822314348,
          -0.5538360083603162,
          -0.7570421491818181,
          -0.5295806443768463,
          -0.6898649413214687,
          -1.5534637043994228,
          0.06301849248439825,
          0.3208182180882882,
          0.6059443269852203,
          -1.1169342712047874,
          2.225739675600672,
          -1.421982024684337,
          0.5986947810053092,
          -1.5881566820509831,
          -0.9589715659184385,
          -0.1512440367963051,
          0.07068303280104792,
          -1.2423593026376427,
          -0.3019545304302373,
          0.5270338497269388,
          0.5570183507326113,
          0.48699405128212786,
          -0.21448590085892527,
          -0.673856432425443,
          0.17810131817118935,
          -0.2828223041283977,
          -2.6949320441955997,
          2.0358687763835475,
          0.17499212310758597,
          -1.2772823438710792,
          0.27117389683563015,
          1.2717843802486308,
          -0.7751058358784911,
          0.9703722990428013,
          0.15950525482775746,
          0.4033842798215532,
          -0.22416700788484656,
          1.3182548020168747,
          0.784539969020459,
          0.31340047785632014,
          1.9010190915766072,
          1.5621549618397206,
          -1.203268973432662,
          1.556977302793063,
          -0.846580439574477,
          0.6691190050033617,
          -0.014914972520388595,
          -0.6589418854681487,
          -0.03690565507772914,
          -0.5934280189566312,
          2.4030365544823784,
          0.9668306461583202,
          -1.0608070955618156,
          1.4794026063373915,
          -1.439606186622048,
          0.7333244200670039,
          0.7106891961776305,
          0.9141480460302274,
          0.12364041319308607,
          0.0051224115802203695,
          0.10095263665219968,
          0.845218384329267,
          0.9245455826983429,
          -0.2601162792193813,
          1.8539397498770391,
          -0.22821930774324634,
          -0.9452509757087494,
          -0.8201505500342596,
          -1.005006194494586,
          1.0749067459114527,
          0.8408350439558322,
          0.5469729266359902,
          0.5298563501988551,
          0.22010446940963424,
          -1.116886964808108,
          -0.68655001224648,
          1.0279634171195533,
          0.31474939585727957,
          -0.028610286514861208,
          1.419902666686229,
          -0.3694807474939726,
          -0.5175281963389985,
          -1.8412232726843947,
          0.8747154070175951,
          -0.18926075029163072,
          0.7592827871680448,
          -0.5297702674476295,
          0.9651682336571801,
          0.5355867284042454,
          0.2750501259857373,
          -0.3912850414230492,
          0.6376035337829741,
          -0.7579799632390427,
          0.7876439786085392,
          -0.2638593574851652,
          0.25573716750388614,
          0.7471592773088084,
          0.26303045350750043,
          1.0122754593687768,
          1.4568149177769596,
          1.3791330623523972,
          0.15076994207296954,
          -0.06132446987960598,
          0.2314922703326611,
          -0.11270704106006119,
          0.1625715869516276,
          0.15538943732375,
          -1.7980302131582735,
          -0.43385564183216807,
          0.39179629656812015,
          0.7240183500515709,
          0.9193554175414438,
          0.6573409960689508,
          0.8628896970379958,
          -0.8845443451722116,
          0.17909383954863514,
          -0.7051866490249893,
          -0.04410856847526144,
          -0.7124224593806687,
          -0.6019772544027343,
          -0.1977098606622768,
          0.9212565573758877,
          -0.6130546974795176,
          -0.019108350691963812,
          -2.0905299023992607,
          0.09169826845222565,
          -1.299495565844087,
          3.013657368229239,
          -1.0453271131352553,
          -1.1239157997250642,
          -1.5920143854833289,
          0.603149127905819,
          -0.3222419938811638,
          0.8266194503997559,
          0.5199176006699514,
          -0.7540574756693907,
          0.7343024929248093,
          -0.9748262909447081,
          0.2876661593133759,
          0.39409976656405105,
          0.5933972554742729,
          1.1776104248133115,
          -0.026850135785152072,
          0.8937534494668731,
          0.37785068907567704,
          -0.18604329655581148,
          0.5018065104623322,
          -0.17720811098027994,
          1.3766476359865063,
          -1.1770411752358287,
          3.229675430501094,
          0.9534293999179485,
          -0.44953089075538455,
          0.442839662390201,
          -1.823293524678266,
          1.1414792684061397,
          0.7590378297869186,
          -0.1319187709990362,
          0.6351420135391436,
          1.460699966099435,
          0.267842130581984,
          -0.8679739531186101,
          0.02600452463880637,
          -0.7769434795499274,
          1.2105861905916626,
          0.31897165726383186,
          -0.31487524025408153,
          -0.5259761229822364,
          1.5061319899903738,
          -0.41407645027610096,
          0.7462215861254241,
          0.44323902347570343,
          -0.1753758184005031,
          1.9591423556057326,
          0.6579285365477386,
          -2.343060744691126,
          0.49169858584807524,
          0.058070042418014924,
          0.16860640266678167,
          0.2168930458945996,
          0.56917576661614,
          -0.5334030217021118,
          1.3561578493407027,
          -0.8914130122439389,
          0.5293884493215835,
          0.23635402648067433,
          -0.6929198796459459,
          -0.4624250703637524,
          0.6652343133582984,
          0.4836861038339817,
          0.07592015705955127,
          -0.29871505044524344,
          0.7837005689810054,
          -0.6867868405580858,
          0.7638597838189104,
          -0.42152378558984505,
          0.6704267578442566,
          -1.7025900140890122,
          0.12185567803696767,
          0.43083847455946683,
          -1.2422165588581273,
          1.673165819766455,
          0.40399114297221994,
          -0.4672199183428552,
          -0.43288096793738573,
          0.4830143979242243,
          1.1430495140314196,
          0.9627405348644287,
          0.7091906834688841,
          0.8367343793179336,
          -0.5394031471582189,
          -0.6708720373493449,
          0.5671148763981007,
          0.7178401115426105,
          0.565981799554616,
          -0.915693248085065,
          -0.13456547692766102,
          1.0790642750416202,
          -1.5468712876893445,
          -0.8244216858337211,
          0.2544436668953305,
          0.9077896170126678,
          -0.11658371707200912,
          -0.5799036955397201,
          -1.3586079274341762,
          0.49918241191835316,
          -0.3938550633649322,
          0.39535913702436815,
          2.012154415837751,
          -0.26915217341388753,
          -0.0937038706955153,
          -0.515494415894573,
          -0.4736536212180213,
          0.14993814304013048,
          0.3924730668882561,
          1.5005065807948355,
          -2.5351707491466593,
          -1.2685031545081833,
          -0.5679431896974131,
          2.2463796491491554,
          0.7567017405360993,
          -0.21350463862600733,
          0.11578959543298252,
          0.023188076576216358,
          0.22417537776039842,
          0.01891393156168115,
          1.354896311598265,
          -0.6472442699556379,
          1.379513210211904,
          0.8326399083549275,
          -0.6842896082581299,
          -1.522823988884886,
          -0.4403923860485685,
          -1.0383604802083573,
          -1.5734748733905817,
          3.210209595581128,
          1.3919429781596813,
          -1.6694577282942136,
          -0.01966692553650852,
          -0.47665357797249075,
          -0.6187959613506929,
          -0.6290444637145665,
          -0.07856790028849688,
          -1.4182785370361266,
          -0.2766394048200038,
          0.23137661462033896,
          -0.5322239984989391,
          0.25469682752977113,
          -0.5207594767436907,
          -0.5496537859610087,
          1.6108168805634908,
          0.14108006392692163,
          -1.9776694770887888,
          -0.10893503361135938,
          -0.10935722830300942,
          1.4654533296965497,
          1.4699183263056952,
          0.30452421759647463,
          -1.5944271155210787,
          -1.197973103200327,
          0.15097562512933832,
          0.18283233087134632,
          0.8352346022236393,
          0.4944882923997546,
          2.780824748725874,
          1.4817983096207992,
          -0.8573785561640049,
          -0.5992161655773411,
          0.7815077912054509,
          0.22430227015737686,
          0.4838559978609977,
          1.3469165193300374,
          -1.2095079648104625,
          1.1007852475603155,
          0.07253848189137083,
          0.9323347944439788,
          0.412355083479693,
          -1.606711666705576,
          -0.5421880881413085,
          0.6749988635205577,
          -0.19048461123320165,
          2.0841150877360115,
          0.5797703406923211,
          -0.1708404640903117,
          1.2672492758043952,
          1.4446779615484673,
          -0.6821087579269388,
          0.0897158569585004,
          0.3380406484063984,
          1.5116965905775406,
          0.2296838423662244,
          0.45216386064566916,
          1.6124174060488188,
          0.5885243536417653,
          1.3448733347961577,
          -2.05625195082556,
          -0.3684769780508588,
          -1.2682681722094598,
          0.357902644098803,
          0.38939336755178205,
          0.02929412015670509,
          1.0584578127124529,
          0.9475859147629343,
          0.9554614902328193,
          -0.14179763997010228,
          0.24847985488091764,
          -0.3378141410127396,
          -0.12368869744804553,
          -1.63653405971211,
          0.5100480396287554,
          2.0962587962319517,
          0.22534966767832873,
          -1.0717902503901815,
          0.8040529893811974,
          -0.2393241821645435,
          0.8809405962363942,
          -1.934658081820097,
          -0.3191606209955775,
          -1.6101133477092935,
          0.8150271549584263,
          0.7736949630759329,
          0.6492307829409772,
          -2.8564023566384797,
          -0.9639874035062365,
          -1.3079087072226974,
          -0.5993611592140067,
          0.6931288362866629,
          0.0745127194154717,
          -0.04430046464915853,
          1.5550052188541412,
          1.3463502560234277,
          -0.6228064143275118,
          0.8574950101973673,
          -0.24634183935248843,
          -0.5444521861678119,
          0.38095110998543963,
          0.4496506397036423,
          0.3436355396463151,
          0.13993095592298213,
          0.09750793519388673,
          -0.9407596297899556,
          0.8685731964947437,
          -0.6118376334086046,
          2.0281724478134158,
          -0.3560686398134038,
          0.9100852049315905,
          0.5950429576002012,
          1.1297759486783656,
          -0.32803337284891204,
          0.7651264411610255,
          -0.31971656955681554,
          1.4571692460459238,
          0.18532553866457122,
          -0.6205495271943775,
          -1.6150104161679337,
          0.24908323636811905,
          1.1632151214551611,
          -0.4221121432988982,
          1.046130052607748,
          -0.30183937463278065,
          -0.030710330397635356,
          1.3429406784527067,
          0.29781995098608016,
          -0.03716216326853924,
          -0.5396215579743474,
          -0.6169256497039651,
          -0.12142350840402823,
          0.310594344176226,
          -0.48235502930024027,
          -1.6447008220380577,
          0.12721490176572922,
          -1.0704094323350162,
          -1.8904902667311272,
          -1.9576602414936881,
          0.5301141411193064,
          -0.2517464410748017,
          -0.1260829903206375,
          0.9481933428775665,
          -2.071253101156175,
          0.6344553617480254,
          0.031025326843348782,
          -0.6227146446847922,
          -1.4239260463756442,
          1.1068935111432692,
          -0.7321203903454404,
          -2.02101236692856,
          0.9424438971867531,
          -1.4118548685064138,
          -0.18475683166455456,
          -0.1827621546461351,
          0.8357967790494328,
          1.8470436721246333,
          -1.056551705239873,
          1.5674865106569564,
          -0.1356712166776562,
          0.5774188164492602,
          -0.07962154266835271,
          -0.6454408436313022,
          -0.6993617458012564,
          1.0112047483078517,
          -0.8063250355781019,
          -0.8829095349167758,
          -1.8538388209522796,
          -0.7152422091358214,
          -1.7150165611921462,
          -0.9566283448525966,
          0.047877304613459334,
          1.0943347455329935,
          0.28978677335068126,
          2.1212271059378063,
          0.28993777202312004,
          0.7884846881958092,
          0.2647655936771417,
          0.8412515475943525,
          -0.01891408555107323,
          0.29455816404811547,
          -0.25347684996691966,
          -0.9026900589836936,
          3.194949320332019,
          0.6439290925248916,
          -0.052894578142730346,
          0.2747741676752052,
          1.0644236594428294,
          0.24822354948527567,
          0.05675503063272888,
          0.4679793432718618,
          -0.8840719752516185,
          0.18249381805700354,
          0.30342167963205,
          1.9535211111034396,
          0.9290461138239321,
          -0.07173690051295395,
          0.6780501086150975,
          1.45671448545312,
          1.1448466739285432,
          -1.9647018121780728,
          -0.12197359590155593,
          1.0459046172974835,
          0.9211654634793469,
          -0.9701564601531318,
          0.488349600128401,
          -0.6102502297049814,
          0.3068649168114281,
          -0.8088396996809863,
          0.08792653600568613,
          -0.18792734455113838,
          0.7812444437898943,
          -0.1467160899410431,
          -1.0804137451703444,
          0.17304318431334498,
          0.8801609202759278,
          -0.006350555582447984,
          0.04826133639229411,
          0.15620297701674654,
          0.5852860320983898,
          -1.7062080167512812,
          -0.6566889716456309,
          0.9207043853162046,
          -1.0800260413317126,
          1.8763562392040025,
          0.6856033045702983,
          -2.1750602276768287,
          0.731306004200936,
          -0.6393080260947888,
          -0.040564484752507325,
          0.20563340348517045,
          1.0504044348309132,
          0.45811231907047023,
          0.8707448562144213,
          0.00727963469736966,
          -0.4974548225323016,
          -1.2346425697875565,
          -1.0975741481242651,
          -1.0238664904423953,
          -0.22853147321808906,
          -0.27266296996979084,
          -1.1565630932420472,
          0.8671857166520813,
          1.0163236005492948,
          -1.002725306554024,
          0.9510183398968657,
          0.09429283954900751,
          0.0841943544116187,
          -2.2993246635749776,
          1.2549058291985598,
          0.35100926123741705,
          1.1247016675526476,
          -0.031336203603466534,
          -0.9809292352817869,
          -0.8179701564501263,
          -0.699293752510199,
          -0.17962686239069767,
          0.44745243004528457,
          0.2731665975636429,
          -0.9586146194531212,
          -1.8586567187624081,
          -0.17955105968997886,
          -0.20456599281979673,
          1.8620552026337907,
          1.664946937839734,
          0.4498336086364613,
          1.3027830797756454,
          -0.8501403095109946,
          2.262236799300832,
          -0.4486847497709313,
          2.5098449880362836,
          -0.31573029393130114,
          -0.584613977492363,
          0.8833005433741216,
          -1.4403563070152707,
          -0.17988381429754274,
          0.8438144544699242,
          0.2552945647218049,
          -1.1134398670468675,
          -0.3161441854084843,
          0.5592562346794491,
          0.9064437024107457,
          0.34179545925201515,
          -2.5215564098924514,
          -0.8583960705807413,
          1.1896796895546211,
          1.1508545591987205,
          1.0208532151256042,
          -0.5444702680399975,
          -0.8758320375612897,
          -0.11062339791218803,
          -2.677798933091078,
          -0.19965509295144307,
          0.2616660345764987,
          0.4367932913877989,
          0.6794353801709003,
          0.064579360820277,
          -0.3491758164814009,
          1.11368171610651,
          0.03471193999952386,
          -1.0160641384071996,
          1.1514031448050088,
          0.5529544247101872,
          2.6177465699825864,
          0.5525463655708052,
          0.6886171019241302,
          0.7103818059675274,
          0.2302402718431885,
          0.43297610172077355,
          1.900562972493449,
          -1.438270136207551,
          -0.7516819572262068,
          0.9153041982386536,
          0.07974408290382112,
          -0.3656876968850853,
          0.12111791944414013,
          -0.23509834770043928,
          0.05185902524418664,
          -1.3328638261047976,
          -0.9401918070951971,
          2.3710812330217514,
          -0.23585244885361792,
          -0.46991156281731356,
          -0.3879753787502004,
          0.15354942779955683,
          -1.2620882982856299,
          -0.23596410061223885,
          1.3810188752362966,
          0.058972466211253134,
          -0.05260630117983528,
          0.11219210209516449,
          -0.17163276121632295,
          -0.1366908751908096,
          0.9273824642062566,
          -0.3410371915173664,
          0.20719822505340607,
          -0.8845924793091986,
          -0.830825453516279,
          -0.8436662942884908,
          0.845330488898004,
          -1.7956019063003648,
          0.10676188668109803,
          -0.7165380534980863,
          1.888764278796799,
          -0.8967512010285191,
          0.5447603576278458,
          -0.3808728647798536,
          0.8224587786314139,
          1.2960501151219543,
          0.18663688485195665,
          1.0986907973600786,
          1.1839958525073386,
          1.7101202507185336,
          -0.5305016841461646,
          -1.0278768681591521,
          1.1578265428406485,
          1.1310758372754623,
          0.5905281913707563,
          -1.6088050268391274,
          0.2915940484765179,
          1.102360280243073,
          0.7924290115369274,
          0.12869578600390702,
          -1.5236960545283134,
          0.697458861539527,
          0.4944763418726193,
          -0.2977987403126823,
          -0.2918972891097381,
          -1.0914292063343691,
          1.660591148401237,
          -0.09775874185374266,
          -0.02876515198693814,
          1.6132900488145243,
          1.8725515094983096,
          -0.7798839020856805,
          -1.2933815391671428,
          0.841081118682266,
          2.2759458491956024,
          -1.6892094336738104,
          -1.5602949352613604,
          -0.01249230526216774,
          0.32656506623924303,
          -0.7985212074862197,
          0.49883946548219865,
          0.2626629152458552,
          -0.283328872732572,
          -1.2132542633451568,
          -0.5220456438115969,
          -1.1264762878345251,
          -0.9902055396374173,
          0.294771696986083,
          0.687614707143414,
          1.201940667928609,
          0.40556435578608563,
          -1.3772576891251087,
          0.32135082292641143,
          -0.6648899135516457,
          0.7347535563082336,
          0.531438618405826,
          1.8401198484491872,
          0.2730784724043798,
          -0.23297824124581623,
          0.37537912110203836,
          0.48674883922474826,
          -0.01630568003886452,
          0.9870067026404366,
          0.10271807864579485,
          0.43665109255476314,
          -0.5731525268141927,
          -0.564368953221781,
          0.5404159052842233,
          0.4242452017207503,
          -0.0799797118634419,
          0.8356981672448287,
          0.7231395612540432,
          1.2617587430643697,
          -0.21254821771766755,
          1.1394145477017217,
          1.7552389943217825,
          -1.8960307389763564,
          0.49136838258594173,
          0.05941790294004754,
          0.9851196549704047,
          -0.030496222498779223,
          0.1447796603383394,
          0.7385353417826049,
          1.0550626503136487,
          0.6508781896306086,
          -0.8810868367307186,
          -0.2584331511143858,
          1.0334580777842364,
          1.312144807523124,
          0.9380949639283772,
          -0.5607127659337658,
          1.38292754222831,
          -0.7458862350423776,
          -1.575152359131777,
          -1.2970766982784019,
          -1.253008729021953,
          -0.508183077135078,
          0.4352072266725379,
          -0.8409114758366804,
          1.8169453297668343,
          0.251146945062615,
          0.21619333693929388,
          1.6761376955538887,
          1.0806383245482096,
          0.13823958446464352,
          -0.43089479281263526,
          -1.7692458694585038,
          -1.131550666671327,
          0.5969032462998382,
          -0.8684527412212799,
          0.9717652225770937,
          0.8898123311706467,
          0.9648709473675449,
          -0.6406865278346499,
          -0.12190192742616192,
          -0.04866249908421641,
          -0.23284968360646052,
          -0.6773567332442796,
          0.45701275401134595,
          -0.13218084675386602,
          -2.903339865953356,
          -0.45776396140784376,
          1.4019134880986033,
          -0.1086588525327448,
          -1.1890513293358493,
          1.83370866662445,
          0.4419706578654034,
          -0.6079473876225817,
          -0.372279140266904,
          -0.5832453181372568,
          1.5585751899475566,
          0.9451871043278726,
          2.8603136389325043,
          -0.008182814266501791,
          -1.1233623455980546,
          -1.2454547518661225,
          0.8760775091980841,
          0.52550623955158,
          -0.1100089407565623,
          -0.11774376373232176,
          -0.5840127366961542,
          2.5280428675052113,
          -0.3248718164994161,
          1.860761635947862,
          -1.416926661060266
         ]
        },
        {
         "cumulative": {
          "enabled": true
         },
         "opacity": 0.7,
         "type": "histogram",
         "x": [
          2.3866611344434974,
          2.0278505393790445,
          1.6447769302326072,
          -1.9277678665934772,
          2.067772091358457,
          1.369709250741466,
          1.0074188060267109,
          -0.06690474406483515,
          2.0772518805047655,
          0.7407008638907413,
          0.5334173386707787,
          0.8628992349524888,
          -1.2990460589285204,
          0.7119085896487959,
          1.7303064994867783,
          2.0447845587128035,
          0.5120652801672334,
          -0.13272677898008767,
          1.956625674565939,
          0.950685846473734,
          0.12362762269666738,
          0.34825729546244366,
          1.2429252145918848,
          -0.4977772690318065,
          -0.6509081465826907,
          0.5921551161077074,
          0.6418197080855648,
          0.9748415225890039,
          3.9171613199755853,
          0.15033216141406236,
          0.10652619175919276,
          1.9052630216839241,
          -0.14798026260240138,
          0.8505896405666147,
          1.288652491695939,
          1.0323514289868079,
          0.5062614662876392,
          1.1658143505353262,
          0.2508618971603892,
          0.2448414718177464,
          1.8319643821208023,
          1.209361995321443,
          0.5569332365336788,
          -2.454978880295222e-05,
          1.2278241005222144,
          0.3938011300840558,
          1.4292489564581414,
          0.32772172572406455,
          -0.6539705718349302,
          -0.136626864081955,
          1.0335948916380935,
          1.45102125369952,
          3.010182811535443,
          1.4467469988658364,
          2.980348352417777,
          1.0188845459294917,
          1.7647749476171897,
          1.4826197088839375,
          0.6988740969742084,
          -0.1603801805277718,
          0.1346245310936547,
          1.6618294950558294,
          2.431254510468198,
          0.19483111658605112,
          -0.530507678332166,
          1.6094504794063416,
          2.2357493665992942,
          -0.35521728508333994,
          1.0808733511571906,
          0.3996259058605349,
          1.1421483116088593,
          2.0573825347561465,
          0.12731898273559217,
          2.0981755591380615,
          0.5974967002925393,
          0.5705450747613852,
          2.4281649300417802,
          1.2310408850712116,
          1.4229201429693326,
          2.1766511132972863,
          0.5605632771972111,
          0.9919522203517054,
          2.0566328183409546,
          2.8909127440910405,
          -0.8189230802653469,
          2.565933151853634,
          0.17897618570993112,
          0.4205418012151465,
          1.7384872907987938,
          -0.06261427113069518,
          1.125425939619488,
          1.4374522404393408,
          1.7766081449589475,
          1.5026642984853251,
          0.5787022408773144,
          2.6873070515490567,
          -1.6798886398659905,
          2.6947856417788776,
          1.6874358084155157,
          2.1427916636464284,
          0.4768810161312782,
          2.1763529616450716,
          0.17137930793738387,
          1.2322625784080825,
          1.905545320389267,
          1.8447997160428558,
          2.1670765552110645,
          1.9645747375407097,
          1.1473791467548877,
          0.31364622201680925,
          -0.17682883135771266,
          3.0507183796684725,
          0.2379927172970927,
          1.9223013458938594,
          1.2649729855083733,
          1.7217817379291152,
          -0.426022988483687,
          3.0044326523658316,
          0.1331656029853059,
          1.056253478870312,
          0.7228125629272751,
          1.786639142122029,
          1.2302561601336803,
          1.2670257156846583,
          0.7476417960647188,
          1.5457921307519122,
          0.5127543388289573,
          -0.7259258355634215,
          2.207138831564839,
          0.33706265772031296,
          1.626809719240025,
          0.8966394362703638,
          2.2188603000837075,
          2.293411812070042,
          0.825274676954969,
          -0.6266303520587229,
          0.10315725918778129,
          1.9843986187491054,
          1.3326400686871236,
          2.985768094610265,
          2.791795313624772,
          0.44249647392638836,
          0.67871929385591,
          -0.5218237501521115,
          0.6580683466113557,
          1.5686822603356796,
          0.5312852327830547,
          0.7685430144710246,
          -0.7908031319362785,
          0.8417100796156968,
          2.5872425933053167,
          2.695392158446651,
          -0.03695198264329913,
          2.002703197718377,
          -0.012406261471781033,
          2.9130499431297645,
          0.19930434753935744,
          2.3225054021923635,
          2.621868730992734,
          0.35422559075120386,
          2.4087753213405447,
          1.011089199160602,
          1.8737778666975378,
          1.2614805627061565,
          0.6638248477980668,
          1.1329865147972633,
          1.9855102968068865,
          -0.0235566226772419,
          1.0691039593197158,
          1.2147712556175065,
          1.0333540328059092,
          1.4819712550573099,
          0.11011563386332812,
          1.021049275318854,
          1.5342518259333362,
          0.2842233731514021,
          2.211424901594676,
          0.8416667626729065,
          0.5677141326040991,
          1.1942199524505048,
          1.7911065365415864,
          0.1874039044597482,
          2.2092404274675816,
          2.1200983624015026,
          0.4148816905963062,
          2.449084415474548,
          -0.295475457618932,
          2.6173386246409587,
          0.14562596259220895,
          3.700737264947935,
          1.9538085892846992,
          1.6170379606802534,
          -0.22606772816116139,
          1.0168848303664026,
          -1.1520275458327531,
          1.5753545663388095,
          -1.2571610715364616,
          -0.515896045289219,
          0.6195108624233865,
          2.054314731563128,
          0.5818812076049764,
          0.27382539375045245,
          1.8102003383377634,
          1.188433097192703,
          0.27206238964304075,
          0.8895094295097248,
          2.210345942373054,
          1.8450974811329963,
          1.8567642199250018,
          0.6711389905930288,
          1.226758311200542,
          -0.06338581087275563,
          1.8130241029326666,
          0.8930367685666931,
          2.925631482871813,
          0.6581943805078865,
          -0.13078111685638438,
          2.181200272032659,
          2.790890618036047,
          1.5085308946859555,
          1.2475595650854272,
          0.7698356746285308,
          -0.10978521755207948,
          0.8427824638431488,
          0.5499538134613733,
          -0.017304186188459747,
          1.9330208443634103,
          -0.52658793914596,
          1.4616175675873595,
          0.7113972534645214,
          0.6884503762181865,
          0.493601614048752,
          1.5941125055738294,
          2.272987016414749,
          2.274144380189321,
          0.7804352166681275,
          1.994009137222537,
          0.9601626021585882,
          -0.9617217752094189,
          1.4281942114244575,
          1.7747635514761981,
          0.46600285364835414,
          1.9321707950075444,
          1.8617752061239714,
          -1.2284455202377895,
          0.7000750621173707,
          2.237560836199245,
          2.363661458168406,
          2.270228749067388,
          1.7291373614268557,
          0.154763422252032,
          0.818933777261344,
          0.39353166144131413,
          1.6957389512184107,
          1.255970614786958,
          1.0303526299987071,
          1.4906915265070873,
          3.3265321486252954,
          -0.029369861916872075,
          1.8951550227321996,
          1.3744829803484426,
          1.4994299810346468,
          3.1764696067719584,
          -0.31783954144239157,
          1.4681922339336064,
          1.8514022248602453,
          1.341479053195247,
          0.7347192171546204,
          1.808605966079162,
          2.8345813617708293,
          0.5136471409244088,
          2.3681625308195318,
          0.4527212671197651,
          1.2469013641006241,
          0.6497235462386178,
          1.868034689355392,
          1.5655825953460973,
          1.8950150885535069,
          1.6615837269852607,
          0.5644592201840466,
          3.12060692823937,
          -0.9410211250661413,
          0.22583411858617952,
          -0.08117245948216678,
          1.3668929532837455,
          1.0406809411558047,
          -0.005080001556360791,
          0.7674373704131885,
          0.6357716381729059,
          1.1197222813679673,
          0.026174842948173516,
          1.1556282619597118,
          2.2682553627964643,
          1.6557479400541784,
          1.4739735316634066,
          2.140697903262832,
          0.567423925368705,
          0.1696897354792365,
          0.9247877226673842,
          -0.02692602263107502,
          -0.7155652067067855,
          0.6293875210338156,
          1.6050866965063306,
          0.029305801094325346,
          0.9646937761215355,
          0.7742634699422313,
          1.009940855044667,
          1.4419068929645196,
          1.385095054715065,
          0.647207057213464,
          0.4442713340596769,
          -0.20509359543624694,
          0.5618745497857038,
          1.6191607402704509,
          1.2823486054300057,
          1.189829018200533,
          1.2616482402354292,
          1.2237870224278051,
          -0.46064977273479,
          0.8046521670038504,
          0.712496073860771,
          -2.0659207246430973,
          1.353922162271812,
          1.7484924218547113,
          -0.08124135330484639,
          1.0659493161945897,
          2.7700098573538003,
          0.7116499479394653,
          0.3902663027887503,
          1.9915709130092258,
          0.735409081474962,
          0.72728935520649,
          0.7453443905143783,
          1.958488657611905,
          -0.17441643771033455,
          -0.6628245974477249,
          1.543948474090203,
          0.36080151693663365,
          0.6040298953731944,
          1.388046622655441,
          1.7292681142570152,
          0.8180536323026373,
          1.711354902764091,
          0.6107372804372597,
          -0.8117891264985613,
          0.9739847187172791,
          0.903775035747314,
          1.4716566263522792,
          -0.30623683367513377,
          1.3102213936388867,
          0.3808663502801902,
          0.469918006846302,
          0.7610222032605808,
          1.1371519433080894,
          1.0981849497812943,
          0.604210096289757,
          1.3568378084359662,
          2.206485936456085,
          0.772121367910789,
          0.07639128988379873,
          1.343097984173013,
          1.3542477166383895,
          -1.1813241436769464,
          2.838283116397233,
          0.6338910255547525,
          0.598656595045996,
          0.4946753010436289,
          0.7399715216951885,
          0.4032065227148963,
          3.3500628050048604,
          2.27890789255625,
          1.9913037460910776,
          1.0123105042967464,
          1.5551772830613637,
          -0.48701285653430215,
          1.5413553368014428,
          -0.04640230800843592,
          2.236868073096375,
          1.3091303188977177,
          1.8512571132360693,
          0.9881083924894756,
          -0.44970202958547945,
          1.2495756052317628,
          1.823036444021601,
          -0.39549111245473867,
          0.46469809962775843,
          0.7551256054135667,
          2.2978851613059135,
          0.5713044042203516,
          1.321959869215673,
          0.6949714598797381,
          -0.37273011834423264,
          1.5234038600152766,
          2.188252362741728,
          1.831772732896577,
          1.7825079922940748,
          2.5831253690495246,
          0.07466433477624101,
          2.448964002600687,
          0.27762518076782594,
          0.20783177939870756,
          -0.402557652202681,
          0.030867271988100575,
          -1.5049540738410108,
          1.845893232195654,
          1.0627090894658586,
          2.399668955305656,
          1.006443481120656,
          1.341985332861007,
          -0.14927752691146567,
          0.7085787061892408,
          -0.37405559399248345,
          1.5485402159646862,
          0.4597029256830941,
          1.7578317345459724,
          0.6834503985659842,
          1.395213615691015,
          1.4857287965856076,
          1.9298164949219003,
          2.325073210764425,
          2.17213233648223,
          0.6561348771121995,
          1.793939026981614,
          3.553746034959814,
          -0.21337370022160163,
          0.1441419288523057,
          0.32987553340912645,
          -0.47529166431612446,
          -0.5023612574497422,
          0.924961753252372,
          2.0278152254029473,
          1.270255456468713,
          -0.06305142999019075,
          -0.8506771683649841,
          1.155169722559999,
          0.626388126600742,
          1.8380528826622897,
          1.2611205884732282,
          0.8927110879087545,
          0.7445630201386504,
          3.3023647845539945,
          0.4182936129347855,
          0.37580353849991044,
          2.182493993909632,
          0.6050219081421191,
          0.3379806664103462,
          0.395161794253297,
          -0.8200536710410098,
          -0.8739464940011537,
          2.3734982885388467,
          0.7158799283417836,
          0.28990658381365053,
          0.3251608304158905,
          1.3585100546441407,
          0.8969514739973808,
          2.648615401450316,
          1.871491447139884,
          3.308445595138964,
          1.151046804503096,
          2.5986978001266507,
          1.4230680448357609,
          0.08155783155141105,
          1.0146705916391683,
          1.651142893288962,
          -0.11313060519338403,
          0.7663149270898424,
          0.8044208556855946,
          0.6215774177060088,
          0.08773418150517609,
          -2.821738335128379,
          0.9883505889968318,
          0.9041495663760482,
          -0.2176642437397205,
          0.9977191364320671,
          1.6975181384030653,
          1.7105294263560589,
          0.9574932008353991,
          2.6430931707758885,
          3.012969704528814,
          2.524745506399761,
          0.3235063031094204,
          0.2937127247323179,
          1.5239162009414018,
          0.11475055012750746,
          0.48517934898790016,
          1.0920628413360978,
          1.9955980916173128,
          0.19975898793538915,
          0.3744988209641503,
          1.551256574489799,
          2.3792612083576503,
          0.4984552904387839,
          0.4423657618481702,
          1.3745619421375743,
          1.0449336107200227,
          0.9909083932273236,
          0.9015075637419031,
          3.4359384498118146,
          2.000197649283863,
          -0.055443673276124095,
          0.9145639928583096,
          0.4500612026423356,
          0.1751156296740498,
          1.0193824636309192,
          0.3333131923219741,
          0.2540446204574407,
          -1.0924427875745364,
          0.8857732681748114,
          -1.4192935778601745,
          1.9097183635496657,
          1.5452991574731365,
          -1.4362077610276875,
          1.510015085662383,
          0.46242783766147355,
          0.8416079354012533,
          2.5572370210152475,
          0.8937230117226621,
          -0.5282288392027241,
          3.39959929856134,
          2.388939222775466,
          0.9496596167946744,
          0.20498907327546068,
          1.3774764000362087,
          3.0259949571269114,
          1.346611165169406,
          0.5219365369903886,
          -0.4740708779385594,
          2.6248095390149713,
          -0.08057335050218883,
          -0.34125319941097154,
          0.9496541713460256,
          1.5449109200957025,
          -0.5874868448899744,
          0.6064167000461897,
          1.006595017516824,
          1.7390259061400766,
          -0.06963676254503492,
          1.487799175109675,
          1.9675147719248935,
          -0.6234489805453818,
          0.27129775585130433,
          1.4270617281994786,
          -1.8800404605029346,
          1.2461904258116456,
          0.5709657692812249,
          1.2551018814728752,
          2.330108128383251,
          1.5041541967864251,
          0.8671506399395164,
          -0.02178175581046471,
          0.6259562783577274,
          2.796666532479308,
          2.08106949775169,
          -0.08212152847210863,
          0.7854469615679275,
          1.5724152098020454,
          1.7996364612935296,
          2.5873213060949856,
          1.0015653226750816,
          -0.040872600817132954,
          2.1435101066362483,
          1.2489509825680871,
          -0.5270162340091713,
          1.902065160206686,
          0.3997592415589032,
          1.1547871635527924,
          1.2788857959847064,
          1.6156009096506387,
          1.8021062494811886,
          1.4387377911036978,
          1.3075479894515665,
          1.2762082218884743,
          1.3157333317344526,
          1.4690274571832123,
          2.098960101316618,
          1.989071909760113,
          1.6488488670559884,
          1.3999231399997019,
          0.8491673043657296,
          1.675409992731573,
          -1.390084144980419,
          -0.3418581130102103,
          0.7288770648077643,
          1.0928202385988368,
          2.5759031268050867,
          0.3720841750782721,
          0.4491793679232554,
          1.6281478025078417,
          0.7261285371491312,
          2.6407670038296738,
          0.048411387636377756,
          2.3718053696850703,
          0.8118649964330177,
          -0.47849068309264275,
          0.2939757886684402,
          -0.22057622430283708,
          -0.44452500603438394,
          0.9103014607027599,
          1.8570128549362335,
          0.1342064509971873,
          0.20348852151827201,
          0.838885278662307,
          1.1997790781105278,
          1.9397143157184178,
          -1.1939146253292994,
          2.805112406559044,
          0.13243374353243909,
          1.5069146019968107,
          2.285963158651673,
          0.31467829433894323,
          1.3086860932196573,
          0.6513107708194448,
          -0.12256447318605046,
          1.1638963681691212,
          1.1829700269518175,
          -0.6014456682683862,
          1.0427346110906568,
          -0.32164178671181287,
          1.849612338960641,
          1.2735339196376447,
          -0.09642210655629357,
          0.896279645059166,
          2.4558601368879787,
          -0.10984491447219669,
          2.862459055534693,
          0.12438376801709217,
          2.0850248636324045,
          1.4798757138635505,
          2.170632354334099,
          1.0346496180209,
          1.057447410695925,
          0.3354814972576351,
          1.0598779778882355,
          0.8570535011479401,
          1.666741201527566,
          0.9336307329885827,
          2.203692297882855,
          1.5836482448604894,
          0.8042318587495287,
          2.0920089193675806,
          1.5444438225245891,
          1.7884284152894896,
          1.1110579118023298,
          0.2780709248718074,
          0.153139865470172,
          1.677217019808423,
          1.4086360234656936,
          0.8094099035525657,
          2.5977921491731677,
          1.0750311611280265,
          1.4920943038406678,
          1.637095250489018,
          0.2946133160458543,
          1.8447765050938694,
          1.5275799928023348,
          1.7931996642811379,
          1.2353170784932332,
          -0.41860299347399743,
          0.7781895073140959,
          1.8156169072702495,
          2.3688846286076153,
          0.9915884028585888,
          3.041105092387314,
          2.974756884379236,
          2.4091670328309247,
          0.10252196130665547,
          1.3655563280210763,
          1.6863016478876158,
          0.750358820727678,
          2.5871581954222647,
          1.9331077718024665,
          1.6918978615334055,
          0.13665483435213643,
          2.1908980948208026,
          1.7237748600763134,
          -0.23438331596293405,
          0.3429382798574354,
          2.1430669619774214,
          1.503403319981894,
          1.1141609189853496,
          1.2378944485325043,
          1.554534694373753,
          0.7573856029308617,
          0.8439196215899782,
          2.4546776374384325,
          -0.012486803229681431,
          1.4585367774713573,
          0.9316596259605633,
          0.02245698864566148,
          1.4293661775431925,
          0.8898999210844195,
          1.0605467351028166,
          -0.6013540388003744,
          1.1120886935922807,
          0.326533912457073,
          1.8811742475129705,
          -0.25466587091238835,
          0.37814028876044303,
          1.4781551365807255,
          0.5291778696285787,
          1.426294706827176,
          0.7961103617717884,
          0.261113613563589,
          2.70010254592829,
          1.4714431411447237,
          0.018795230521762907,
          0.2603513935586528,
          0.8170669830962773,
          1.7713908362798856,
          0.5755465223480474,
          0.8862025060866142,
          1.0221595184587169,
          -0.9080502409193529,
          3.112048186893272,
          2.4998605168555805,
          1.5145652400057668,
          -0.13695591554204922,
          0.2895344975008539,
          3.1026568493129094,
          -0.03784361677778003,
          1.773684704071651,
          1.0693335238490136,
          -0.8633742544433076,
          2.7872883133316195,
          1.1564497273737537,
          0.9073314318005824,
          0.8607138277902595,
          0.43982422566267787,
          1.5349397525726896,
          -0.6117746577288139,
          1.2350510261868426,
          1.0744732817581037,
          -0.4181664542308976,
          -0.855042864154524,
          0.6988632931220216,
          0.2573840081025639,
          1.434331254307489,
          1.5096134768153764,
          0.8927370498223353,
          0.8934517926877479,
          0.6114525892115783,
          0.5585264107493907,
          1.5159397707216242,
          2.0109943573999143,
          -0.788367464256529,
          -1.7629285479397852,
          0.3288441087198304,
          0.20180478279073377,
          1.3049261537460142,
          2.212856891685176,
          0.06747347957634742,
          3.6288736393660237,
          2.451955438774612,
          0.07193718382366066,
          1.2051855540373786,
          -0.9576930807473027,
          0.05909681156796476,
          -0.7703147138387607,
          1.3041293797669142,
          1.0174685023620582,
          0.6782885323277418,
          0.6037149233124807,
          0.7431820189569427,
          0.0855289062107184,
          -1.1850564072349785,
          2.5407864997382408,
          1.3745574174841795,
          1.3710196883821446,
          -0.8578949495450334,
          0.7633860473118103,
          0.27104832802638945,
          1.570295357846883,
          0.269933000575031,
          -0.7367420313215909,
          0.919569965863757,
          2.0515632316179486,
          3.4780208391740883,
          0.29514312062483605,
          0.6162793460950811,
          1.4522454908035245,
          0.6067320768243076,
          3.1431065767562902,
          2.0404386780935857,
          1.4461122648958682,
          -0.668186301924605,
          1.273425205746641,
          0.4435742469184879,
          0.014470680213876097,
          1.9510013664186978,
          0.17486315533121188,
          1.28222572395729,
          -0.6527760572481784,
          3.472025223916046,
          1.3852952315623674,
          -0.1793562145581793,
          0.11328357587417948,
          0.11230300818522632,
          2.867188075746564,
          2.4422278777597457,
          -0.050942063336633536,
          1.329542930810743,
          0.6127001867716907,
          1.0109472170607008,
          2.182982378800727,
          0.24305893491945707,
          0.7855735170673969,
          0.7848064793441422,
          -0.022194253988483403,
          1.0866106228890355,
          1.776904566053543,
          1.3170220211976515,
          0.28309196337613585,
          2.2596516529054576,
          1.3471262172643965,
          2.436711560747441,
          0.6043029912189862,
          -0.6564109186992724,
          3.1004922942454844,
          1.089223138297994,
          -0.8189684500893109,
          2.0840054760394153,
          0.5644065209466849,
          2.85832957408549,
          0.6107290191193613,
          1.3538695553667144,
          2.0848489250393136,
          2.4451280757523177,
          2.2964638619156497,
          0.07104925682846364,
          -0.17156738361137203,
          1.8754149716561315,
          -0.5013262795691034,
          -1.0020303540022346,
          1.2317929167900863,
          1.8519362930851448,
          0.48599714398521643,
          -0.6951934240580735,
          -0.20038663144638358,
          0.5024206739815364,
          0.9876358205111614,
          0.8400718916367761,
          1.2071071277083034,
          1.6788222802613297,
          2.4580687443074827,
          1.036827167196962,
          0.43894163874969583,
          1.0033758591433402,
          0.8014282183170867,
          -0.44000325487861036,
          2.204898851090542,
          0.5217318924609915,
          0.5149553202275546,
          -0.5209146563745277,
          -0.2982836296019822,
          1.7496878761833872,
          1.4011852742340052,
          1.0679663685612184,
          -0.003886557722595052,
          -0.07597618593545796,
          -0.38025692627035235,
          0.6912188143867042,
          1.6478900083635573,
          1.2529066648370972,
          0.026024063501284167,
          0.8954096779590378,
          1.26768154794895,
          -0.11457068639532819,
          -0.7698283353827919,
          0.07066658856101893,
          1.0430465449530106,
          1.073383708139221,
          1.3088047719291194,
          -1.4173729241449462,
          2.48642936827393,
          -0.5499366738429927,
          1.1340415651954157,
          -1.6880878979571556,
          0.27317793444132943,
          2.2689947136109536,
          1.7175305633160896,
          0.17977193273033631,
          1.0228984341051848,
          1.3899376138567987,
          0.009993540252488997,
          -0.18557157822465453,
          2.28825251169129,
          3.197171276138375,
          2.430139188214011,
          2.0454385861173394,
          2.6860461705748824,
          0.37046549709143284,
          2.8081464386393433,
          2.1970902425057606,
          1.464766787669142,
          1.3116369368018423,
          1.770135283133202,
          1.9960365957756423,
          0.3975833621918442,
          1.8539878009290336,
          0.4518061580601058,
          -0.004601449038222238,
          0.18986591293191746,
          0.8860195821251317,
          0.9166380320673959,
          -1.325550387418525,
          0.4561971879417186,
          1.6174323915464854,
          -0.33762021312931667,
          0.45461775104808844,
          1.5001610094328002,
          0.5282438322909084,
          0.9471994105619819,
          0.8970443205260774,
          1.955377443236599,
          2.072301201459328,
          1.7100615500472993,
          1.642968091337424,
          0.3745309389408007,
          1.8991528235901178,
          1.6962089894837744,
          0.42654135528222226,
          0.675139589667229,
          0.4799469703201127,
          1.7985434763068242,
          2.307545439143917,
          0.9870028560939182,
          0.4532648164284939,
          0.5241024378616278,
          1.6773188538011725,
          -0.17134769922473447,
          1.7118367379765087,
          0.8560172886694989,
          1.5857055465125107,
          1.5746521973912957,
          2.950346284822479,
          1.2219933180529763,
          0.8768850112075278,
          1.2259721370037864,
          3.1236827402041545,
          1.5355064529012306,
          -0.9769777462690841,
          0.3190311720065876,
          1.8278391972402823,
          2.052874693341872,
          0.03308904879159247,
          1.7497813002524336,
          -0.021600208512673413,
          1.4126033878816784,
          -0.5353379209483389,
          -0.18411919742270833,
          1.8440376254127497,
          0.8141937486588818,
          1.3311555383190974,
          1.0291545163948845,
          0.6747100261338896,
          0.4792891168935076,
          1.8395605938508393,
          1.4815773898468243,
          1.6725892494515398,
          1.2066017172134615,
          1.4915228772376459,
          0.8003427624221859,
          2.1735407632259034,
          1.5038097006757716,
          0.9450089713375116,
          1.345920060424236,
          -0.6047063159046087,
          1.3590854247754738,
          1.135236792281257,
          1.5844941347102286,
          -0.5837234619631537,
          -0.272666826185616,
          -1.5681689627966806,
          1.162456828517066,
          1.4172659118528679,
          1.4304637925706665,
          0.047999957217861655,
          1.473156123924644,
          1.191090272172579,
          0.9138657042214635,
          1.4934870569903247,
          2.0997934542894363,
          0.734429084744487,
          0.3538428085221811,
          1.5340113828212452,
          -0.5864936982999387,
          2.170739505223682,
          1.3872605048816773,
          1.9730100165373607,
          0.32379023919960237,
          0.5170797804003671,
          0.4022308787000627,
          1.3177827234245187,
          0.32199756598514717,
          0.9960407092044172,
          1.379446579264357,
          0.1546159688731944,
          -0.6199658050314589,
          3.372485127197604,
          0.6226625723642422
         ]
        }
       ],
       "layout": {
        "autosize": true,
        "barmode": "stack",
        "template": {
         "data": {
          "bar": [
           {
            "error_x": {
             "color": "#2a3f5f"
            },
            "error_y": {
             "color": "#2a3f5f"
            },
            "marker": {
             "line": {
              "color": "#E5ECF6",
              "width": 0.5
             },
             "pattern": {
              "fillmode": "overlay",
              "size": 10,
              "solidity": 0.2
             }
            },
            "type": "bar"
           }
          ],
          "barpolar": [
           {
            "marker": {
             "line": {
              "color": "#E5ECF6",
              "width": 0.5
             },
             "pattern": {
              "fillmode": "overlay",
              "size": 10,
              "solidity": 0.2
             }
            },
            "type": "barpolar"
           }
          ],
          "carpet": [
           {
            "aaxis": {
             "endlinecolor": "#2a3f5f",
             "gridcolor": "white",
             "linecolor": "white",
             "minorgridcolor": "white",
             "startlinecolor": "#2a3f5f"
            },
            "baxis": {
             "endlinecolor": "#2a3f5f",
             "gridcolor": "white",
             "linecolor": "white",
             "minorgridcolor": "white",
             "startlinecolor": "#2a3f5f"
            },
            "type": "carpet"
           }
          ],
          "choropleth": [
           {
            "colorbar": {
             "outlinewidth": 0,
             "ticks": ""
            },
            "type": "choropleth"
           }
          ],
          "contour": [
           {
            "colorbar": {
             "outlinewidth": 0,
             "ticks": ""
            },
            "colorscale": [
             [
              0,
              "#0d0887"
             ],
             [
              0.1111111111111111,
              "#46039f"
             ],
             [
              0.2222222222222222,
              "#7201a8"
             ],
             [
              0.3333333333333333,
              "#9c179e"
             ],
             [
              0.4444444444444444,
              "#bd3786"
             ],
             [
              0.5555555555555556,
              "#d8576b"
             ],
             [
              0.6666666666666666,
              "#ed7953"
             ],
             [
              0.7777777777777778,
              "#fb9f3a"
             ],
             [
              0.8888888888888888,
              "#fdca26"
             ],
             [
              1,
              "#f0f921"
             ]
            ],
            "type": "contour"
           }
          ],
          "contourcarpet": [
           {
            "colorbar": {
             "outlinewidth": 0,
             "ticks": ""
            },
            "type": "contourcarpet"
           }
          ],
          "heatmap": [
           {
            "colorbar": {
             "outlinewidth": 0,
             "ticks": ""
            },
            "colorscale": [
             [
              0,
              "#0d0887"
             ],
             [
              0.1111111111111111,
              "#46039f"
             ],
             [
              0.2222222222222222,
              "#7201a8"
             ],
             [
              0.3333333333333333,
              "#9c179e"
             ],
             [
              0.4444444444444444,
              "#bd3786"
             ],
             [
              0.5555555555555556,
              "#d8576b"
             ],
             [
              0.6666666666666666,
              "#ed7953"
             ],
             [
              0.7777777777777778,
              "#fb9f3a"
             ],
             [
              0.8888888888888888,
              "#fdca26"
             ],
             [
              1,
              "#f0f921"
             ]
            ],
            "type": "heatmap"
           }
          ],
          "heatmapgl": [
           {
            "colorbar": {
             "outlinewidth": 0,
             "ticks": ""
            },
            "colorscale": [
             [
              0,
              "#0d0887"
             ],
             [
              0.1111111111111111,
              "#46039f"
             ],
             [
              0.2222222222222222,
              "#7201a8"
             ],
             [
              0.3333333333333333,
              "#9c179e"
             ],
             [
              0.4444444444444444,
              "#bd3786"
             ],
             [
              0.5555555555555556,
              "#d8576b"
             ],
             [
              0.6666666666666666,
              "#ed7953"
             ],
             [
              0.7777777777777778,
              "#fb9f3a"
             ],
             [
              0.8888888888888888,
              "#fdca26"
             ],
             [
              1,
              "#f0f921"
             ]
            ],
            "type": "heatmapgl"
           }
          ],
          "histogram": [
           {
            "marker": {
             "pattern": {
              "fillmode": "overlay",
              "size": 10,
              "solidity": 0.2
             }
            },
            "type": "histogram"
           }
          ],
          "histogram2d": [
           {
            "colorbar": {
             "outlinewidth": 0,
             "ticks": ""
            },
            "colorscale": [
             [
              0,
              "#0d0887"
             ],
             [
              0.1111111111111111,
              "#46039f"
             ],
             [
              0.2222222222222222,
              "#7201a8"
             ],
             [
              0.3333333333333333,
              "#9c179e"
             ],
             [
              0.4444444444444444,
              "#bd3786"
             ],
             [
              0.5555555555555556,
              "#d8576b"
             ],
             [
              0.6666666666666666,
              "#ed7953"
             ],
             [
              0.7777777777777778,
              "#fb9f3a"
             ],
             [
              0.8888888888888888,
              "#fdca26"
             ],
             [
              1,
              "#f0f921"
             ]
            ],
            "type": "histogram2d"
           }
          ],
          "histogram2dcontour": [
           {
            "colorbar": {
             "outlinewidth": 0,
             "ticks": ""
            },
            "colorscale": [
             [
              0,
              "#0d0887"
             ],
             [
              0.1111111111111111,
              "#46039f"
             ],
             [
              0.2222222222222222,
              "#7201a8"
             ],
             [
              0.3333333333333333,
              "#9c179e"
             ],
             [
              0.4444444444444444,
              "#bd3786"
             ],
             [
              0.5555555555555556,
              "#d8576b"
             ],
             [
              0.6666666666666666,
              "#ed7953"
             ],
             [
              0.7777777777777778,
              "#fb9f3a"
             ],
             [
              0.8888888888888888,
              "#fdca26"
             ],
             [
              1,
              "#f0f921"
             ]
            ],
            "type": "histogram2dcontour"
           }
          ],
          "mesh3d": [
           {
            "colorbar": {
             "outlinewidth": 0,
             "ticks": ""
            },
            "type": "mesh3d"
           }
          ],
          "parcoords": [
           {
            "line": {
             "colorbar": {
              "outlinewidth": 0,
              "ticks": ""
             }
            },
            "type": "parcoords"
           }
          ],
          "pie": [
           {
            "automargin": true,
            "type": "pie"
           }
          ],
          "scatter": [
           {
            "marker": {
             "colorbar": {
              "outlinewidth": 0,
              "ticks": ""
             }
            },
            "type": "scatter"
           }
          ],
          "scatter3d": [
           {
            "line": {
             "colorbar": {
              "outlinewidth": 0,
              "ticks": ""
             }
            },
            "marker": {
             "colorbar": {
              "outlinewidth": 0,
              "ticks": ""
             }
            },
            "type": "scatter3d"
           }
          ],
          "scattercarpet": [
           {
            "marker": {
             "colorbar": {
              "outlinewidth": 0,
              "ticks": ""
             }
            },
            "type": "scattercarpet"
           }
          ],
          "scattergeo": [
           {
            "marker": {
             "colorbar": {
              "outlinewidth": 0,
              "ticks": ""
             }
            },
            "type": "scattergeo"
           }
          ],
          "scattergl": [
           {
            "marker": {
             "colorbar": {
              "outlinewidth": 0,
              "ticks": ""
             }
            },
            "type": "scattergl"
           }
          ],
          "scattermapbox": [
           {
            "marker": {
             "colorbar": {
              "outlinewidth": 0,
              "ticks": ""
             }
            },
            "type": "scattermapbox"
           }
          ],
          "scatterpolar": [
           {
            "marker": {
             "colorbar": {
              "outlinewidth": 0,
              "ticks": ""
             }
            },
            "type": "scatterpolar"
           }
          ],
          "scatterpolargl": [
           {
            "marker": {
             "colorbar": {
              "outlinewidth": 0,
              "ticks": ""
             }
            },
            "type": "scatterpolargl"
           }
          ],
          "scatterternary": [
           {
            "marker": {
             "colorbar": {
              "outlinewidth": 0,
              "ticks": ""
             }
            },
            "type": "scatterternary"
           }
          ],
          "surface": [
           {
            "colorbar": {
             "outlinewidth": 0,
             "ticks": ""
            },
            "colorscale": [
             [
              0,
              "#0d0887"
             ],
             [
              0.1111111111111111,
              "#46039f"
             ],
             [
              0.2222222222222222,
              "#7201a8"
             ],
             [
              0.3333333333333333,
              "#9c179e"
             ],
             [
              0.4444444444444444,
              "#bd3786"
             ],
             [
              0.5555555555555556,
              "#d8576b"
             ],
             [
              0.6666666666666666,
              "#ed7953"
             ],
             [
              0.7777777777777778,
              "#fb9f3a"
             ],
             [
              0.8888888888888888,
              "#fdca26"
             ],
             [
              1,
              "#f0f921"
             ]
            ],
            "type": "surface"
           }
          ],
          "table": [
           {
            "cells": {
             "fill": {
              "color": "#EBF0F8"
             },
             "line": {
              "color": "white"
             }
            },
            "header": {
             "fill": {
              "color": "#C8D4E3"
             },
             "line": {
              "color": "white"
             }
            },
            "type": "table"
           }
          ]
         },
         "layout": {
          "annotationdefaults": {
           "arrowcolor": "#2a3f5f",
           "arrowhead": 0,
           "arrowwidth": 1
          },
          "autotypenumbers": "strict",
          "coloraxis": {
           "colorbar": {
            "outlinewidth": 0,
            "ticks": ""
           }
          },
          "colorscale": {
           "diverging": [
            [
             0,
             "#8e0152"
            ],
            [
             0.1,
             "#c51b7d"
            ],
            [
             0.2,
             "#de77ae"
            ],
            [
             0.3,
             "#f1b6da"
            ],
            [
             0.4,
             "#fde0ef"
            ],
            [
             0.5,
             "#f7f7f7"
            ],
            [
             0.6,
             "#e6f5d0"
            ],
            [
             0.7,
             "#b8e186"
            ],
            [
             0.8,
             "#7fbc41"
            ],
            [
             0.9,
             "#4d9221"
            ],
            [
             1,
             "#276419"
            ]
           ],
           "sequential": [
            [
             0,
             "#0d0887"
            ],
            [
             0.1111111111111111,
             "#46039f"
            ],
            [
             0.2222222222222222,
             "#7201a8"
            ],
            [
             0.3333333333333333,
             "#9c179e"
            ],
            [
             0.4444444444444444,
             "#bd3786"
            ],
            [
             0.5555555555555556,
             "#d8576b"
            ],
            [
             0.6666666666666666,
             "#ed7953"
            ],
            [
             0.7777777777777778,
             "#fb9f3a"
            ],
            [
             0.8888888888888888,
             "#fdca26"
            ],
            [
             1,
             "#f0f921"
            ]
           ],
           "sequentialminus": [
            [
             0,
             "#0d0887"
            ],
            [
             0.1111111111111111,
             "#46039f"
            ],
            [
             0.2222222222222222,
             "#7201a8"
            ],
            [
             0.3333333333333333,
             "#9c179e"
            ],
            [
             0.4444444444444444,
             "#bd3786"
            ],
            [
             0.5555555555555556,
             "#d8576b"
            ],
            [
             0.6666666666666666,
             "#ed7953"
            ],
            [
             0.7777777777777778,
             "#fb9f3a"
            ],
            [
             0.8888888888888888,
             "#fdca26"
            ],
            [
             1,
             "#f0f921"
            ]
           ]
          },
          "colorway": [
           "#636efa",
           "#EF553B",
           "#00cc96",
           "#ab63fa",
           "#FFA15A",
           "#19d3f3",
           "#FF6692",
           "#B6E880",
           "#FF97FF",
           "#FECB52"
          ],
          "font": {
           "color": "#2a3f5f"
          },
          "geo": {
           "bgcolor": "white",
           "lakecolor": "white",
           "landcolor": "#E5ECF6",
           "showlakes": true,
           "showland": true,
           "subunitcolor": "white"
          },
          "hoverlabel": {
           "align": "left"
          },
          "hovermode": "closest",
          "mapbox": {
           "style": "light"
          },
          "paper_bgcolor": "white",
          "plot_bgcolor": "#E5ECF6",
          "polar": {
           "angularaxis": {
            "gridcolor": "white",
            "linecolor": "white",
            "ticks": ""
           },
           "bgcolor": "#E5ECF6",
           "radialaxis": {
            "gridcolor": "white",
            "linecolor": "white",
            "ticks": ""
           }
          },
          "scene": {
           "xaxis": {
            "backgroundcolor": "#E5ECF6",
            "gridcolor": "white",
            "gridwidth": 2,
            "linecolor": "white",
            "showbackground": true,
            "ticks": "",
            "zerolinecolor": "white"
           },
           "yaxis": {
            "backgroundcolor": "#E5ECF6",
            "gridcolor": "white",
            "gridwidth": 2,
            "linecolor": "white",
            "showbackground": true,
            "ticks": "",
            "zerolinecolor": "white"
           },
           "zaxis": {
            "backgroundcolor": "#E5ECF6",
            "gridcolor": "white",
            "gridwidth": 2,
            "linecolor": "white",
            "showbackground": true,
            "ticks": "",
            "zerolinecolor": "white"
           }
          },
          "shapedefaults": {
           "line": {
            "color": "#2a3f5f"
           }
          },
          "ternary": {
           "aaxis": {
            "gridcolor": "white",
            "linecolor": "white",
            "ticks": ""
           },
           "baxis": {
            "gridcolor": "white",
            "linecolor": "white",
            "ticks": ""
           },
           "bgcolor": "#E5ECF6",
           "caxis": {
            "gridcolor": "white",
            "linecolor": "white",
            "ticks": ""
           }
          },
          "title": {
           "x": 0.05
          },
          "xaxis": {
           "automargin": true,
           "gridcolor": "white",
           "linecolor": "white",
           "ticks": "",
           "title": {
            "standoff": 15
           },
           "zerolinecolor": "white",
           "zerolinewidth": 2
          },
          "yaxis": {
           "automargin": true,
           "gridcolor": "white",
           "linecolor": "white",
           "ticks": "",
           "title": {
            "standoff": 15
           },
           "zerolinecolor": "white",
           "zerolinewidth": 2
          }
         }
        },
        "xaxis": {
         "autorange": true,
         "range": [
          -3,
          3.999999999999999
         ],
         "type": "linear"
        },
        "yaxis": {
         "autorange": true,
         "range": [
          0,
          2105.2631578947367
         ]
        }
       }
      },
      "image/png": "[encoded data removed]"
     },
     "metadata": {},
     "output_type": "display_data"
    }
   ],
   "source": [
    "fig = go.Figure()\n",
    "fig.add_trace(go.Histogram(x=n1, cumulative_enabled=True))\n",
    "fig.add_trace(go.Histogram(x=n2, cumulative_enabled=True))\n",
    "fig.update_layout(barmode = 'stack')\n",
    "fig.update_traces(opacity = 0.7)\n",
    "fig.show()"
   ]
  },
  {
   "cell_type": "code",
   "execution_count": null,
   "metadata": {},
   "outputs": [],
   "source": []
  },
  {
   "cell_type": "code",
   "execution_count": null,
   "metadata": {},
   "outputs": [],
   "source": []
  },
  {
   "cell_type": "code",
   "execution_count": null,
   "metadata": {},
   "outputs": [],
   "source": []
  },
  {
   "cell_type": "code",
   "execution_count": null,
   "metadata": {},
   "outputs": [],
   "source": []
  },
  {
   "cell_type": "code",
   "execution_count": null,
   "metadata": {},
   "outputs": [],
   "source": []
  },
  {
   "cell_type": "code",
   "execution_count": null,
   "metadata": {},
   "outputs": [],
   "source": []
  },
  {
   "cell_type": "code",
   "execution_count": null,
   "metadata": {},
   "outputs": [],
   "source": []
  },
  {
   "cell_type": "code",
   "execution_count": null,
   "metadata": {},
   "outputs": [],
   "source": []
  },
  {
   "cell_type": "code",
   "execution_count": null,
   "metadata": {},
   "outputs": [],
   "source": []
  },
  {
   "cell_type": "code",
   "execution_count": null,
   "metadata": {},
   "outputs": [],
   "source": []
  },
  {
   "cell_type": "code",
   "execution_count": null,
   "metadata": {},
   "outputs": [],
   "source": []
  },
  {
   "cell_type": "code",
   "execution_count": null,
   "metadata": {},
   "outputs": [],
   "source": []
  },
  {
   "cell_type": "code",
   "execution_count": null,
   "metadata": {},
   "outputs": [],
   "source": []
  },
  {
   "cell_type": "code",
   "execution_count": null,
   "metadata": {},
   "outputs": [],
   "source": []
  },
  {
   "cell_type": "code",
   "execution_count": null,
   "metadata": {},
   "outputs": [],
   "source": []
  },
  {
   "cell_type": "code",
   "execution_count": null,
   "metadata": {},
   "outputs": [],
   "source": []
  },
  {
   "cell_type": "code",
   "execution_count": null,
   "metadata": {},
   "outputs": [],
   "source": []
  },
  {
   "cell_type": "markdown",
   "metadata": {},
   "source": []
  },
  {
   "cell_type": "markdown",
   "metadata": {},
   "source": []
  },
  {
   "cell_type": "markdown",
   "metadata": {},
   "source": []
  },
  {
   "cell_type": "markdown",
   "metadata": {},
   "source": []
  },
  {
   "cell_type": "markdown",
   "metadata": {},
   "source": []
  },
  {
   "cell_type": "code",
   "execution_count": null,
   "metadata": {},
   "outputs": [],
   "source": []
  },
  {
   "cell_type": "code",
   "execution_count": null,
   "metadata": {},
   "outputs": [],
   "source": []
  },
  {
   "cell_type": "code",
   "execution_count": null,
   "metadata": {},
   "outputs": [],
   "source": []
  },
  {
   "cell_type": "code",
   "execution_count": null,
   "metadata": {},
   "outputs": [],
   "source": []
  },
  {
   "cell_type": "code",
   "execution_count": null,
   "metadata": {},
   "outputs": [],
   "source": []
  },
  {
   "cell_type": "code",
   "execution_count": null,
   "metadata": {},
   "outputs": [],
   "source": []
  },
  {
   "cell_type": "code",
   "execution_count": null,
   "metadata": {},
   "outputs": [],
   "source": []
  },
  {
   "cell_type": "code",
   "execution_count": null,
   "metadata": {},
   "outputs": [],
   "source": []
  },
  {
   "cell_type": "code",
   "execution_count": null,
   "metadata": {},
   "outputs": [],
   "source": []
  }
 ],
 "metadata": {
  "interpreter": {
   "hash": "d569386dca473fed04536bd6cd56a68644e6c7f5ebe7b2a75cfe05d4cc7fda5a"
  },
  "kernelspec": {
   "display_name": "Python 3",
   "language": "python",
   "name": "python3"
  },
  "language_info": {
   "codemirror_mode": {
    "name": "ipython",
    "version": 3
   },
   "file_extension": ".py",
   "mimetype": "text/x-python",
   "name": "python",
   "nbconvert_exporter": "python",
   "pygments_lexer": "ipython3",
   "version": "3.8.8"
  }
 },
 "nbformat": 4,
 "nbformat_minor": 4
}
