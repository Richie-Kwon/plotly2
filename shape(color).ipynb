{
 "cells": [
  {
   "cell_type": "code",
   "execution_count": 1,
   "id": "91a69b2d-acb6-4541-83b6-63ec48fb2cd5",
   "metadata": {},
   "outputs": [],
   "source": [
    "import numpy as np\n",
    "import pandas as pd\n",
    "from urllib.request import urlopen\n",
    "import json\n",
    "import plotly.io as pil\n",
    "import plotly.express as px\n",
    "import plotly.graph_objects as go\n",
    "import plotly.figure_factory as ff\n",
    "from plotly.subplots import make_subplots\n",
    "from plotly.validators.scatter.marker import SymbolValidator\n",
    "\n",
    "import plotly.io as pio\n",
    "pio.renderers.default = 'jupyterlab'"
   ]
  },
  {
   "cell_type": "code",
   "execution_count": 2,
   "id": "9e491609-5eb1-4135-b576-1fac13e00a5a",
   "metadata": {},
   "outputs": [
    {
     "data": {
      "application/vnd.plotly.v1+json": {
       "config": {
        "plotlyServerURL": "https://plot.ly"
       },
       "data": [
        {
         "mode": "text",
         "text": [
          "Vertical",
          "Horizontal",
          "Diagonal"
         ],
         "type": "scatter",
         "x": [
          2,
          3.5,
          6
         ],
         "y": [
          1,
          1.5,
          1
         ]
        }
       ],
       "layout": {
        "autosize": true,
        "shapes": [
         {
          "line": {
           "color": "royalblue",
           "width": 3
          },
          "type": "line",
          "x0": 1,
          "x1": 1,
          "xref": "x",
          "y0": 0,
          "y1": 2,
          "yref": "y"
         },
         {
          "line": {
           "color": "lightseagreen",
           "dash": "dashdot",
           "width": 3
          },
          "type": "line",
          "x0": 2,
          "x1": 5,
          "xref": "x",
          "y0": 2,
          "y1": 2,
          "yref": "y"
         },
         {
          "line": {
           "color": "royalblue",
           "dash": "dot",
           "width": 3
          },
          "type": "line",
          "x0": 4,
          "x1": 6,
          "xref": "x",
          "y0": 0,
          "y1": 2,
          "yref": "y"
         }
        ],
        "template": {
         "data": {
          "bar": [
           {
            "error_x": {
             "color": "#2a3f5f"
            },
            "error_y": {
             "color": "#2a3f5f"
            },
            "marker": {
             "line": {
              "color": "#E5ECF6",
              "width": 0.5
             },
             "pattern": {
              "fillmode": "overlay",
              "size": 10,
              "solidity": 0.2
             }
            },
            "type": "bar"
           }
          ],
          "barpolar": [
           {
            "marker": {
             "line": {
              "color": "#E5ECF6",
              "width": 0.5
             },
             "pattern": {
              "fillmode": "overlay",
              "size": 10,
              "solidity": 0.2
             }
            },
            "type": "barpolar"
           }
          ],
          "carpet": [
           {
            "aaxis": {
             "endlinecolor": "#2a3f5f",
             "gridcolor": "white",
             "linecolor": "white",
             "minorgridcolor": "white",
             "startlinecolor": "#2a3f5f"
            },
            "baxis": {
             "endlinecolor": "#2a3f5f",
             "gridcolor": "white",
             "linecolor": "white",
             "minorgridcolor": "white",
             "startlinecolor": "#2a3f5f"
            },
            "type": "carpet"
           }
          ],
          "choropleth": [
           {
            "colorbar": {
             "outlinewidth": 0,
             "ticks": ""
            },
            "type": "choropleth"
           }
          ],
          "contour": [
           {
            "colorbar": {
             "outlinewidth": 0,
             "ticks": ""
            },
            "colorscale": [
             [
              0,
              "#0d0887"
             ],
             [
              0.1111111111111111,
              "#46039f"
             ],
             [
              0.2222222222222222,
              "#7201a8"
             ],
             [
              0.3333333333333333,
              "#9c179e"
             ],
             [
              0.4444444444444444,
              "#bd3786"
             ],
             [
              0.5555555555555556,
              "#d8576b"
             ],
             [
              0.6666666666666666,
              "#ed7953"
             ],
             [
              0.7777777777777778,
              "#fb9f3a"
             ],
             [
              0.8888888888888888,
              "#fdca26"
             ],
             [
              1,
              "#f0f921"
             ]
            ],
            "type": "contour"
           }
          ],
          "contourcarpet": [
           {
            "colorbar": {
             "outlinewidth": 0,
             "ticks": ""
            },
            "type": "contourcarpet"
           }
          ],
          "heatmap": [
           {
            "colorbar": {
             "outlinewidth": 0,
             "ticks": ""
            },
            "colorscale": [
             [
              0,
              "#0d0887"
             ],
             [
              0.1111111111111111,
              "#46039f"
             ],
             [
              0.2222222222222222,
              "#7201a8"
             ],
             [
              0.3333333333333333,
              "#9c179e"
             ],
             [
              0.4444444444444444,
              "#bd3786"
             ],
             [
              0.5555555555555556,
              "#d8576b"
             ],
             [
              0.6666666666666666,
              "#ed7953"
             ],
             [
              0.7777777777777778,
              "#fb9f3a"
             ],
             [
              0.8888888888888888,
              "#fdca26"
             ],
             [
              1,
              "#f0f921"
             ]
            ],
            "type": "heatmap"
           }
          ],
          "heatmapgl": [
           {
            "colorbar": {
             "outlinewidth": 0,
             "ticks": ""
            },
            "colorscale": [
             [
              0,
              "#0d0887"
             ],
             [
              0.1111111111111111,
              "#46039f"
             ],
             [
              0.2222222222222222,
              "#7201a8"
             ],
             [
              0.3333333333333333,
              "#9c179e"
             ],
             [
              0.4444444444444444,
              "#bd3786"
             ],
             [
              0.5555555555555556,
              "#d8576b"
             ],
             [
              0.6666666666666666,
              "#ed7953"
             ],
             [
              0.7777777777777778,
              "#fb9f3a"
             ],
             [
              0.8888888888888888,
              "#fdca26"
             ],
             [
              1,
              "#f0f921"
             ]
            ],
            "type": "heatmapgl"
           }
          ],
          "histogram": [
           {
            "marker": {
             "pattern": {
              "fillmode": "overlay",
              "size": 10,
              "solidity": 0.2
             }
            },
            "type": "histogram"
           }
          ],
          "histogram2d": [
           {
            "colorbar": {
             "outlinewidth": 0,
             "ticks": ""
            },
            "colorscale": [
             [
              0,
              "#0d0887"
             ],
             [
              0.1111111111111111,
              "#46039f"
             ],
             [
              0.2222222222222222,
              "#7201a8"
             ],
             [
              0.3333333333333333,
              "#9c179e"
             ],
             [
              0.4444444444444444,
              "#bd3786"
             ],
             [
              0.5555555555555556,
              "#d8576b"
             ],
             [
              0.6666666666666666,
              "#ed7953"
             ],
             [
              0.7777777777777778,
              "#fb9f3a"
             ],
             [
              0.8888888888888888,
              "#fdca26"
             ],
             [
              1,
              "#f0f921"
             ]
            ],
            "type": "histogram2d"
           }
          ],
          "histogram2dcontour": [
           {
            "colorbar": {
             "outlinewidth": 0,
             "ticks": ""
            },
            "colorscale": [
             [
              0,
              "#0d0887"
             ],
             [
              0.1111111111111111,
              "#46039f"
             ],
             [
              0.2222222222222222,
              "#7201a8"
             ],
             [
              0.3333333333333333,
              "#9c179e"
             ],
             [
              0.4444444444444444,
              "#bd3786"
             ],
             [
              0.5555555555555556,
              "#d8576b"
             ],
             [
              0.6666666666666666,
              "#ed7953"
             ],
             [
              0.7777777777777778,
              "#fb9f3a"
             ],
             [
              0.8888888888888888,
              "#fdca26"
             ],
             [
              1,
              "#f0f921"
             ]
            ],
            "type": "histogram2dcontour"
           }
          ],
          "mesh3d": [
           {
            "colorbar": {
             "outlinewidth": 0,
             "ticks": ""
            },
            "type": "mesh3d"
           }
          ],
          "parcoords": [
           {
            "line": {
             "colorbar": {
              "outlinewidth": 0,
              "ticks": ""
             }
            },
            "type": "parcoords"
           }
          ],
          "pie": [
           {
            "automargin": true,
            "type": "pie"
           }
          ],
          "scatter": [
           {
            "marker": {
             "colorbar": {
              "outlinewidth": 0,
              "ticks": ""
             }
            },
            "type": "scatter"
           }
          ],
          "scatter3d": [
           {
            "line": {
             "colorbar": {
              "outlinewidth": 0,
              "ticks": ""
             }
            },
            "marker": {
             "colorbar": {
              "outlinewidth": 0,
              "ticks": ""
             }
            },
            "type": "scatter3d"
           }
          ],
          "scattercarpet": [
           {
            "marker": {
             "colorbar": {
              "outlinewidth": 0,
              "ticks": ""
             }
            },
            "type": "scattercarpet"
           }
          ],
          "scattergeo": [
           {
            "marker": {
             "colorbar": {
              "outlinewidth": 0,
              "ticks": ""
             }
            },
            "type": "scattergeo"
           }
          ],
          "scattergl": [
           {
            "marker": {
             "colorbar": {
              "outlinewidth": 0,
              "ticks": ""
             }
            },
            "type": "scattergl"
           }
          ],
          "scattermapbox": [
           {
            "marker": {
             "colorbar": {
              "outlinewidth": 0,
              "ticks": ""
             }
            },
            "type": "scattermapbox"
           }
          ],
          "scatterpolar": [
           {
            "marker": {
             "colorbar": {
              "outlinewidth": 0,
              "ticks": ""
             }
            },
            "type": "scatterpolar"
           }
          ],
          "scatterpolargl": [
           {
            "marker": {
             "colorbar": {
              "outlinewidth": 0,
              "ticks": ""
             }
            },
            "type": "scatterpolargl"
           }
          ],
          "scatterternary": [
           {
            "marker": {
             "colorbar": {
              "outlinewidth": 0,
              "ticks": ""
             }
            },
            "type": "scatterternary"
           }
          ],
          "surface": [
           {
            "colorbar": {
             "outlinewidth": 0,
             "ticks": ""
            },
            "colorscale": [
             [
              0,
              "#0d0887"
             ],
             [
              0.1111111111111111,
              "#46039f"
             ],
             [
              0.2222222222222222,
              "#7201a8"
             ],
             [
              0.3333333333333333,
              "#9c179e"
             ],
             [
              0.4444444444444444,
              "#bd3786"
             ],
             [
              0.5555555555555556,
              "#d8576b"
             ],
             [
              0.6666666666666666,
              "#ed7953"
             ],
             [
              0.7777777777777778,
              "#fb9f3a"
             ],
             [
              0.8888888888888888,
              "#fdca26"
             ],
             [
              1,
              "#f0f921"
             ]
            ],
            "type": "surface"
           }
          ],
          "table": [
           {
            "cells": {
             "fill": {
              "color": "#EBF0F8"
             },
             "line": {
              "color": "white"
             }
            },
            "header": {
             "fill": {
              "color": "#C8D4E3"
             },
             "line": {
              "color": "white"
             }
            },
            "type": "table"
           }
          ]
         },
         "layout": {
          "annotationdefaults": {
           "arrowcolor": "#2a3f5f",
           "arrowhead": 0,
           "arrowwidth": 1
          },
          "autotypenumbers": "strict",
          "coloraxis": {
           "colorbar": {
            "outlinewidth": 0,
            "ticks": ""
           }
          },
          "colorscale": {
           "diverging": [
            [
             0,
             "#8e0152"
            ],
            [
             0.1,
             "#c51b7d"
            ],
            [
             0.2,
             "#de77ae"
            ],
            [
             0.3,
             "#f1b6da"
            ],
            [
             0.4,
             "#fde0ef"
            ],
            [
             0.5,
             "#f7f7f7"
            ],
            [
             0.6,
             "#e6f5d0"
            ],
            [
             0.7,
             "#b8e186"
            ],
            [
             0.8,
             "#7fbc41"
            ],
            [
             0.9,
             "#4d9221"
            ],
            [
             1,
             "#276419"
            ]
           ],
           "sequential": [
            [
             0,
             "#0d0887"
            ],
            [
             0.1111111111111111,
             "#46039f"
            ],
            [
             0.2222222222222222,
             "#7201a8"
            ],
            [
             0.3333333333333333,
             "#9c179e"
            ],
            [
             0.4444444444444444,
             "#bd3786"
            ],
            [
             0.5555555555555556,
             "#d8576b"
            ],
            [
             0.6666666666666666,
             "#ed7953"
            ],
            [
             0.7777777777777778,
             "#fb9f3a"
            ],
            [
             0.8888888888888888,
             "#fdca26"
            ],
            [
             1,
             "#f0f921"
            ]
           ],
           "sequentialminus": [
            [
             0,
             "#0d0887"
            ],
            [
             0.1111111111111111,
             "#46039f"
            ],
            [
             0.2222222222222222,
             "#7201a8"
            ],
            [
             0.3333333333333333,
             "#9c179e"
            ],
            [
             0.4444444444444444,
             "#bd3786"
            ],
            [
             0.5555555555555556,
             "#d8576b"
            ],
            [
             0.6666666666666666,
             "#ed7953"
            ],
            [
             0.7777777777777778,
             "#fb9f3a"
            ],
            [
             0.8888888888888888,
             "#fdca26"
            ],
            [
             1,
             "#f0f921"
            ]
           ]
          },
          "colorway": [
           "#636efa",
           "#EF553B",
           "#00cc96",
           "#ab63fa",
           "#FFA15A",
           "#19d3f3",
           "#FF6692",
           "#B6E880",
           "#FF97FF",
           "#FECB52"
          ],
          "font": {
           "color": "#2a3f5f"
          },
          "geo": {
           "bgcolor": "white",
           "lakecolor": "white",
           "landcolor": "#E5ECF6",
           "showlakes": true,
           "showland": true,
           "subunitcolor": "white"
          },
          "hoverlabel": {
           "align": "left"
          },
          "hovermode": "closest",
          "mapbox": {
           "style": "light"
          },
          "paper_bgcolor": "white",
          "plot_bgcolor": "#E5ECF6",
          "polar": {
           "angularaxis": {
            "gridcolor": "white",
            "linecolor": "white",
            "ticks": ""
           },
           "bgcolor": "#E5ECF6",
           "radialaxis": {
            "gridcolor": "white",
            "linecolor": "white",
            "ticks": ""
           }
          },
          "scene": {
           "xaxis": {
            "backgroundcolor": "#E5ECF6",
            "gridcolor": "white",
            "gridwidth": 2,
            "linecolor": "white",
            "showbackground": true,
            "ticks": "",
            "zerolinecolor": "white"
           },
           "yaxis": {
            "backgroundcolor": "#E5ECF6",
            "gridcolor": "white",
            "gridwidth": 2,
            "linecolor": "white",
            "showbackground": true,
            "ticks": "",
            "zerolinecolor": "white"
           },
           "zaxis": {
            "backgroundcolor": "#E5ECF6",
            "gridcolor": "white",
            "gridwidth": 2,
            "linecolor": "white",
            "showbackground": true,
            "ticks": "",
            "zerolinecolor": "white"
           }
          },
          "shapedefaults": {
           "line": {
            "color": "#2a3f5f"
           }
          },
          "ternary": {
           "aaxis": {
            "gridcolor": "white",
            "linecolor": "white",
            "ticks": ""
           },
           "baxis": {
            "gridcolor": "white",
            "linecolor": "white",
            "ticks": ""
           },
           "bgcolor": "#E5ECF6",
           "caxis": {
            "gridcolor": "white",
            "linecolor": "white",
            "ticks": ""
           }
          },
          "title": {
           "x": 0.05
          },
          "xaxis": {
           "automargin": true,
           "gridcolor": "white",
           "linecolor": "white",
           "ticks": "",
           "title": {
            "standoff": 15
           },
           "zerolinecolor": "white",
           "zerolinewidth": 2
          },
          "yaxis": {
           "automargin": true,
           "gridcolor": "white",
           "linecolor": "white",
           "ticks": "",
           "title": {
            "standoff": 15
           },
           "zerolinecolor": "white",
           "zerolinewidth": 2
          }
         }
        },
        "xaxis": {
         "range": [
          0,
          7
         ],
         "type": "linear"
        },
        "yaxis": {
         "range": [
          0,
          3
         ],
         "type": "linear"
        }
       }
      },
      "image/png": "[encoded data removed]"
     },
     "metadata": {},
     "output_type": "display_data"
    }
   ],
   "source": [
    "fig = go.Figure()\n",
    "fig.add_trace(go.Scatter(\n",
    "x = [2,3.5,6],\n",
    "y = [1,1.5,1],\n",
    "text = ['Vertical', 'Horizontal', 'Diagonal'], mode ='text'\n",
    "))\n",
    "\n",
    "fig.update_xaxes(range=[0,7])\n",
    "fig.update_yaxes(range=[0,3])\n",
    "fig.add_shape(type = 'line', x0=1, y0=0, x1=1, y1=2, line =dict(color='royalblue', width=3))\n",
    "fig.add_shape(type = 'line', x0=2, y0=2, x1=5, y1=2, line =dict(color='lightseagreen', width=3, dash='dashdot'))\n",
    "fig.add_shape(type = 'line', x0=4, y0=0, x1=6, y1=2, line =dict(color='royalblue', width=3, dash='dot'))\n",
    "fig.update_shapes(dict(xref='x', yref='y'))\n",
    "fig.show()"
   ]
  },
  {
   "cell_type": "code",
   "execution_count": 4,
   "id": "0baf4923-e92d-435e-9d49-ac58555e48d3",
   "metadata": {},
   "outputs": [
    {
     "data": {
      "application/vnd.plotly.v1+json": {
       "config": {
        "plotlyServerURL": "https://plot.ly"
       },
       "data": [
        {
         "mode": "text",
         "text": [
          "Vertical",
          "Horizontal",
          "Diagonal"
         ],
         "type": "scatter",
         "x": [
          2,
          3.5,
          6
         ],
         "y": [
          1,
          1.5,
          1
         ]
        }
       ],
       "layout": {
        "autosize": true,
        "shapes": [
         {
          "line": {
           "color": "royalblue",
           "width": 3
          },
          "type": "line",
          "x0": 1,
          "x1": 1,
          "xref": "x",
          "y0": 0,
          "y1": 2,
          "yref": "y"
         },
         {
          "line": {
           "color": "lightseagreen",
           "dash": "dashdot",
           "width": 3
          },
          "type": "line",
          "x0": 2,
          "x1": 5,
          "xref": "x",
          "y0": 2,
          "y1": 2,
          "yref": "y"
         },
         {
          "line": {
           "color": "royalblue",
           "dash": "dot",
           "width": 3
          },
          "type": "line",
          "x0": 4,
          "x1": 6,
          "xref": "x",
          "y0": 0,
          "y1": 2,
          "yref": "y"
         },
         {
          "fillcolor": "lightskyblue",
          "line": {
           "color": "royalblue",
           "dash": "dot",
           "width": 3
          },
          "type": "rect",
          "x0": 4,
          "x1": 6,
          "xref": "x",
          "y0": 0,
          "y1": 2,
          "yref": "y"
         }
        ],
        "template": {
         "data": {
          "bar": [
           {
            "error_x": {
             "color": "#2a3f5f"
            },
            "error_y": {
             "color": "#2a3f5f"
            },
            "marker": {
             "line": {
              "color": "#E5ECF6",
              "width": 0.5
             },
             "pattern": {
              "fillmode": "overlay",
              "size": 10,
              "solidity": 0.2
             }
            },
            "type": "bar"
           }
          ],
          "barpolar": [
           {
            "marker": {
             "line": {
              "color": "#E5ECF6",
              "width": 0.5
             },
             "pattern": {
              "fillmode": "overlay",
              "size": 10,
              "solidity": 0.2
             }
            },
            "type": "barpolar"
           }
          ],
          "carpet": [
           {
            "aaxis": {
             "endlinecolor": "#2a3f5f",
             "gridcolor": "white",
             "linecolor": "white",
             "minorgridcolor": "white",
             "startlinecolor": "#2a3f5f"
            },
            "baxis": {
             "endlinecolor": "#2a3f5f",
             "gridcolor": "white",
             "linecolor": "white",
             "minorgridcolor": "white",
             "startlinecolor": "#2a3f5f"
            },
            "type": "carpet"
           }
          ],
          "choropleth": [
           {
            "colorbar": {
             "outlinewidth": 0,
             "ticks": ""
            },
            "type": "choropleth"
           }
          ],
          "contour": [
           {
            "colorbar": {
             "outlinewidth": 0,
             "ticks": ""
            },
            "colorscale": [
             [
              0,
              "#0d0887"
             ],
             [
              0.1111111111111111,
              "#46039f"
             ],
             [
              0.2222222222222222,
              "#7201a8"
             ],
             [
              0.3333333333333333,
              "#9c179e"
             ],
             [
              0.4444444444444444,
              "#bd3786"
             ],
             [
              0.5555555555555556,
              "#d8576b"
             ],
             [
              0.6666666666666666,
              "#ed7953"
             ],
             [
              0.7777777777777778,
              "#fb9f3a"
             ],
             [
              0.8888888888888888,
              "#fdca26"
             ],
             [
              1,
              "#f0f921"
             ]
            ],
            "type": "contour"
           }
          ],
          "contourcarpet": [
           {
            "colorbar": {
             "outlinewidth": 0,
             "ticks": ""
            },
            "type": "contourcarpet"
           }
          ],
          "heatmap": [
           {
            "colorbar": {
             "outlinewidth": 0,
             "ticks": ""
            },
            "colorscale": [
             [
              0,
              "#0d0887"
             ],
             [
              0.1111111111111111,
              "#46039f"
             ],
             [
              0.2222222222222222,
              "#7201a8"
             ],
             [
              0.3333333333333333,
              "#9c179e"
             ],
             [
              0.4444444444444444,
              "#bd3786"
             ],
             [
              0.5555555555555556,
              "#d8576b"
             ],
             [
              0.6666666666666666,
              "#ed7953"
             ],
             [
              0.7777777777777778,
              "#fb9f3a"
             ],
             [
              0.8888888888888888,
              "#fdca26"
             ],
             [
              1,
              "#f0f921"
             ]
            ],
            "type": "heatmap"
           }
          ],
          "heatmapgl": [
           {
            "colorbar": {
             "outlinewidth": 0,
             "ticks": ""
            },
            "colorscale": [
             [
              0,
              "#0d0887"
             ],
             [
              0.1111111111111111,
              "#46039f"
             ],
             [
              0.2222222222222222,
              "#7201a8"
             ],
             [
              0.3333333333333333,
              "#9c179e"
             ],
             [
              0.4444444444444444,
              "#bd3786"
             ],
             [
              0.5555555555555556,
              "#d8576b"
             ],
             [
              0.6666666666666666,
              "#ed7953"
             ],
             [
              0.7777777777777778,
              "#fb9f3a"
             ],
             [
              0.8888888888888888,
              "#fdca26"
             ],
             [
              1,
              "#f0f921"
             ]
            ],
            "type": "heatmapgl"
           }
          ],
          "histogram": [
           {
            "marker": {
             "pattern": {
              "fillmode": "overlay",
              "size": 10,
              "solidity": 0.2
             }
            },
            "type": "histogram"
           }
          ],
          "histogram2d": [
           {
            "colorbar": {
             "outlinewidth": 0,
             "ticks": ""
            },
            "colorscale": [
             [
              0,
              "#0d0887"
             ],
             [
              0.1111111111111111,
              "#46039f"
             ],
             [
              0.2222222222222222,
              "#7201a8"
             ],
             [
              0.3333333333333333,
              "#9c179e"
             ],
             [
              0.4444444444444444,
              "#bd3786"
             ],
             [
              0.5555555555555556,
              "#d8576b"
             ],
             [
              0.6666666666666666,
              "#ed7953"
             ],
             [
              0.7777777777777778,
              "#fb9f3a"
             ],
             [
              0.8888888888888888,
              "#fdca26"
             ],
             [
              1,
              "#f0f921"
             ]
            ],
            "type": "histogram2d"
           }
          ],
          "histogram2dcontour": [
           {
            "colorbar": {
             "outlinewidth": 0,
             "ticks": ""
            },
            "colorscale": [
             [
              0,
              "#0d0887"
             ],
             [
              0.1111111111111111,
              "#46039f"
             ],
             [
              0.2222222222222222,
              "#7201a8"
             ],
             [
              0.3333333333333333,
              "#9c179e"
             ],
             [
              0.4444444444444444,
              "#bd3786"
             ],
             [
              0.5555555555555556,
              "#d8576b"
             ],
             [
              0.6666666666666666,
              "#ed7953"
             ],
             [
              0.7777777777777778,
              "#fb9f3a"
             ],
             [
              0.8888888888888888,
              "#fdca26"
             ],
             [
              1,
              "#f0f921"
             ]
            ],
            "type": "histogram2dcontour"
           }
          ],
          "mesh3d": [
           {
            "colorbar": {
             "outlinewidth": 0,
             "ticks": ""
            },
            "type": "mesh3d"
           }
          ],
          "parcoords": [
           {
            "line": {
             "colorbar": {
              "outlinewidth": 0,
              "ticks": ""
             }
            },
            "type": "parcoords"
           }
          ],
          "pie": [
           {
            "automargin": true,
            "type": "pie"
           }
          ],
          "scatter": [
           {
            "marker": {
             "colorbar": {
              "outlinewidth": 0,
              "ticks": ""
             }
            },
            "type": "scatter"
           }
          ],
          "scatter3d": [
           {
            "line": {
             "colorbar": {
              "outlinewidth": 0,
              "ticks": ""
             }
            },
            "marker": {
             "colorbar": {
              "outlinewidth": 0,
              "ticks": ""
             }
            },
            "type": "scatter3d"
           }
          ],
          "scattercarpet": [
           {
            "marker": {
             "colorbar": {
              "outlinewidth": 0,
              "ticks": ""
             }
            },
            "type": "scattercarpet"
           }
          ],
          "scattergeo": [
           {
            "marker": {
             "colorbar": {
              "outlinewidth": 0,
              "ticks": ""
             }
            },
            "type": "scattergeo"
           }
          ],
          "scattergl": [
           {
            "marker": {
             "colorbar": {
              "outlinewidth": 0,
              "ticks": ""
             }
            },
            "type": "scattergl"
           }
          ],
          "scattermapbox": [
           {
            "marker": {
             "colorbar": {
              "outlinewidth": 0,
              "ticks": ""
             }
            },
            "type": "scattermapbox"
           }
          ],
          "scatterpolar": [
           {
            "marker": {
             "colorbar": {
              "outlinewidth": 0,
              "ticks": ""
             }
            },
            "type": "scatterpolar"
           }
          ],
          "scatterpolargl": [
           {
            "marker": {
             "colorbar": {
              "outlinewidth": 0,
              "ticks": ""
             }
            },
            "type": "scatterpolargl"
           }
          ],
          "scatterternary": [
           {
            "marker": {
             "colorbar": {
              "outlinewidth": 0,
              "ticks": ""
             }
            },
            "type": "scatterternary"
           }
          ],
          "surface": [
           {
            "colorbar": {
             "outlinewidth": 0,
             "ticks": ""
            },
            "colorscale": [
             [
              0,
              "#0d0887"
             ],
             [
              0.1111111111111111,
              "#46039f"
             ],
             [
              0.2222222222222222,
              "#7201a8"
             ],
             [
              0.3333333333333333,
              "#9c179e"
             ],
             [
              0.4444444444444444,
              "#bd3786"
             ],
             [
              0.5555555555555556,
              "#d8576b"
             ],
             [
              0.6666666666666666,
              "#ed7953"
             ],
             [
              0.7777777777777778,
              "#fb9f3a"
             ],
             [
              0.8888888888888888,
              "#fdca26"
             ],
             [
              1,
              "#f0f921"
             ]
            ],
            "type": "surface"
           }
          ],
          "table": [
           {
            "cells": {
             "fill": {
              "color": "#EBF0F8"
             },
             "line": {
              "color": "white"
             }
            },
            "header": {
             "fill": {
              "color": "#C8D4E3"
             },
             "line": {
              "color": "white"
             }
            },
            "type": "table"
           }
          ]
         },
         "layout": {
          "annotationdefaults": {
           "arrowcolor": "#2a3f5f",
           "arrowhead": 0,
           "arrowwidth": 1
          },
          "autotypenumbers": "strict",
          "coloraxis": {
           "colorbar": {
            "outlinewidth": 0,
            "ticks": ""
           }
          },
          "colorscale": {
           "diverging": [
            [
             0,
             "#8e0152"
            ],
            [
             0.1,
             "#c51b7d"
            ],
            [
             0.2,
             "#de77ae"
            ],
            [
             0.3,
             "#f1b6da"
            ],
            [
             0.4,
             "#fde0ef"
            ],
            [
             0.5,
             "#f7f7f7"
            ],
            [
             0.6,
             "#e6f5d0"
            ],
            [
             0.7,
             "#b8e186"
            ],
            [
             0.8,
             "#7fbc41"
            ],
            [
             0.9,
             "#4d9221"
            ],
            [
             1,
             "#276419"
            ]
           ],
           "sequential": [
            [
             0,
             "#0d0887"
            ],
            [
             0.1111111111111111,
             "#46039f"
            ],
            [
             0.2222222222222222,
             "#7201a8"
            ],
            [
             0.3333333333333333,
             "#9c179e"
            ],
            [
             0.4444444444444444,
             "#bd3786"
            ],
            [
             0.5555555555555556,
             "#d8576b"
            ],
            [
             0.6666666666666666,
             "#ed7953"
            ],
            [
             0.7777777777777778,
             "#fb9f3a"
            ],
            [
             0.8888888888888888,
             "#fdca26"
            ],
            [
             1,
             "#f0f921"
            ]
           ],
           "sequentialminus": [
            [
             0,
             "#0d0887"
            ],
            [
             0.1111111111111111,
             "#46039f"
            ],
            [
             0.2222222222222222,
             "#7201a8"
            ],
            [
             0.3333333333333333,
             "#9c179e"
            ],
            [
             0.4444444444444444,
             "#bd3786"
            ],
            [
             0.5555555555555556,
             "#d8576b"
            ],
            [
             0.6666666666666666,
             "#ed7953"
            ],
            [
             0.7777777777777778,
             "#fb9f3a"
            ],
            [
             0.8888888888888888,
             "#fdca26"
            ],
            [
             1,
             "#f0f921"
            ]
           ]
          },
          "colorway": [
           "#636efa",
           "#EF553B",
           "#00cc96",
           "#ab63fa",
           "#FFA15A",
           "#19d3f3",
           "#FF6692",
           "#B6E880",
           "#FF97FF",
           "#FECB52"
          ],
          "font": {
           "color": "#2a3f5f"
          },
          "geo": {
           "bgcolor": "white",
           "lakecolor": "white",
           "landcolor": "#E5ECF6",
           "showlakes": true,
           "showland": true,
           "subunitcolor": "white"
          },
          "hoverlabel": {
           "align": "left"
          },
          "hovermode": "closest",
          "mapbox": {
           "style": "light"
          },
          "paper_bgcolor": "white",
          "plot_bgcolor": "#E5ECF6",
          "polar": {
           "angularaxis": {
            "gridcolor": "white",
            "linecolor": "white",
            "ticks": ""
           },
           "bgcolor": "#E5ECF6",
           "radialaxis": {
            "gridcolor": "white",
            "linecolor": "white",
            "ticks": ""
           }
          },
          "scene": {
           "xaxis": {
            "backgroundcolor": "#E5ECF6",
            "gridcolor": "white",
            "gridwidth": 2,
            "linecolor": "white",
            "showbackground": true,
            "ticks": "",
            "zerolinecolor": "white"
           },
           "yaxis": {
            "backgroundcolor": "#E5ECF6",
            "gridcolor": "white",
            "gridwidth": 2,
            "linecolor": "white",
            "showbackground": true,
            "ticks": "",
            "zerolinecolor": "white"
           },
           "zaxis": {
            "backgroundcolor": "#E5ECF6",
            "gridcolor": "white",
            "gridwidth": 2,
            "linecolor": "white",
            "showbackground": true,
            "ticks": "",
            "zerolinecolor": "white"
           }
          },
          "shapedefaults": {
           "line": {
            "color": "#2a3f5f"
           }
          },
          "ternary": {
           "aaxis": {
            "gridcolor": "white",
            "linecolor": "white",
            "ticks": ""
           },
           "baxis": {
            "gridcolor": "white",
            "linecolor": "white",
            "ticks": ""
           },
           "bgcolor": "#E5ECF6",
           "caxis": {
            "gridcolor": "white",
            "linecolor": "white",
            "ticks": ""
           }
          },
          "title": {
           "x": 0.05
          },
          "xaxis": {
           "automargin": true,
           "gridcolor": "white",
           "linecolor": "white",
           "ticks": "",
           "title": {
            "standoff": 15
           },
           "zerolinecolor": "white",
           "zerolinewidth": 2
          },
          "yaxis": {
           "automargin": true,
           "gridcolor": "white",
           "linecolor": "white",
           "ticks": "",
           "title": {
            "standoff": 15
           },
           "zerolinecolor": "white",
           "zerolinewidth": 2
          }
         }
        },
        "xaxis": {
         "range": [
          0,
          7
         ],
         "type": "linear"
        },
        "yaxis": {
         "range": [
          0,
          3
         ],
         "type": "linear"
        }
       }
      },
      "image/png": "[encoded data removed]"
     },
     "metadata": {},
     "output_type": "display_data"
    }
   ],
   "source": [
    "fig.add_shape(type = 'rect', x0=4, y0=0, x1=6, y1=2, \n",
    "             line =dict(color='royalblue', width=3, dash='dot'),\n",
    "            fillcolor = 'lightskyblue')\n",
    "fig.update_shapes(dict(xref='x', yref='y'))\n",
    "fig.show()"
   ]
  },
  {
   "cell_type": "code",
   "execution_count": 6,
   "id": "99c3797d-e89c-4c31-b8ee-a7b660c306ad",
   "metadata": {},
   "outputs": [
    {
     "data": {
      "application/vnd.plotly.v1+json": {
       "config": {
        "plotlyServerURL": "https://plot.ly"
       },
       "data": [
        {
         "mode": "text",
         "text": [
          "Vertical",
          "Horizontal",
          "Diagonal"
         ],
         "type": "scatter",
         "x": [
          2,
          3.5,
          6
         ],
         "y": [
          1,
          1.5,
          1
         ]
        }
       ],
       "layout": {
        "autosize": true,
        "shapes": [
         {
          "line": {
           "color": "royalblue",
           "width": 3
          },
          "type": "line",
          "x0": 1,
          "x1": 1,
          "xref": "x",
          "y0": 0,
          "y1": 2,
          "yref": "y"
         },
         {
          "line": {
           "color": "lightseagreen",
           "dash": "dashdot",
           "width": 3
          },
          "type": "line",
          "x0": 2,
          "x1": 5,
          "xref": "x",
          "y0": 2,
          "y1": 2,
          "yref": "y"
         },
         {
          "line": {
           "color": "royalblue",
           "dash": "dot",
           "width": 3
          },
          "type": "line",
          "x0": 4,
          "x1": 6,
          "xref": "x",
          "y0": 0,
          "y1": 2,
          "yref": "y"
         },
         {
          "fillcolor": "lightskyblue",
          "line": {
           "color": "royalblue",
           "dash": "dot",
           "width": 3
          },
          "type": "rect",
          "x0": 4,
          "x1": 6,
          "xref": "x",
          "y0": 0,
          "y1": 2,
          "yref": "y"
         },
         {
          "fillcolor": "lightskyblue",
          "line": {
           "color": "royalblue",
           "dash": "dot",
           "width": 3
          },
          "type": "rect",
          "x0": 4,
          "x1": 6,
          "xref": "paper",
          "y0": 0,
          "y1": 2,
          "yref": "paper"
         }
        ],
        "template": {
         "data": {
          "bar": [
           {
            "error_x": {
             "color": "#2a3f5f"
            },
            "error_y": {
             "color": "#2a3f5f"
            },
            "marker": {
             "line": {
              "color": "#E5ECF6",
              "width": 0.5
             },
             "pattern": {
              "fillmode": "overlay",
              "size": 10,
              "solidity": 0.2
             }
            },
            "type": "bar"
           }
          ],
          "barpolar": [
           {
            "marker": {
             "line": {
              "color": "#E5ECF6",
              "width": 0.5
             },
             "pattern": {
              "fillmode": "overlay",
              "size": 10,
              "solidity": 0.2
             }
            },
            "type": "barpolar"
           }
          ],
          "carpet": [
           {
            "aaxis": {
             "endlinecolor": "#2a3f5f",
             "gridcolor": "white",
             "linecolor": "white",
             "minorgridcolor": "white",
             "startlinecolor": "#2a3f5f"
            },
            "baxis": {
             "endlinecolor": "#2a3f5f",
             "gridcolor": "white",
             "linecolor": "white",
             "minorgridcolor": "white",
             "startlinecolor": "#2a3f5f"
            },
            "type": "carpet"
           }
          ],
          "choropleth": [
           {
            "colorbar": {
             "outlinewidth": 0,
             "ticks": ""
            },
            "type": "choropleth"
           }
          ],
          "contour": [
           {
            "colorbar": {
             "outlinewidth": 0,
             "ticks": ""
            },
            "colorscale": [
             [
              0,
              "#0d0887"
             ],
             [
              0.1111111111111111,
              "#46039f"
             ],
             [
              0.2222222222222222,
              "#7201a8"
             ],
             [
              0.3333333333333333,
              "#9c179e"
             ],
             [
              0.4444444444444444,
              "#bd3786"
             ],
             [
              0.5555555555555556,
              "#d8576b"
             ],
             [
              0.6666666666666666,
              "#ed7953"
             ],
             [
              0.7777777777777778,
              "#fb9f3a"
             ],
             [
              0.8888888888888888,
              "#fdca26"
             ],
             [
              1,
              "#f0f921"
             ]
            ],
            "type": "contour"
           }
          ],
          "contourcarpet": [
           {
            "colorbar": {
             "outlinewidth": 0,
             "ticks": ""
            },
            "type": "contourcarpet"
           }
          ],
          "heatmap": [
           {
            "colorbar": {
             "outlinewidth": 0,
             "ticks": ""
            },
            "colorscale": [
             [
              0,
              "#0d0887"
             ],
             [
              0.1111111111111111,
              "#46039f"
             ],
             [
              0.2222222222222222,
              "#7201a8"
             ],
             [
              0.3333333333333333,
              "#9c179e"
             ],
             [
              0.4444444444444444,
              "#bd3786"
             ],
             [
              0.5555555555555556,
              "#d8576b"
             ],
             [
              0.6666666666666666,
              "#ed7953"
             ],
             [
              0.7777777777777778,
              "#fb9f3a"
             ],
             [
              0.8888888888888888,
              "#fdca26"
             ],
             [
              1,
              "#f0f921"
             ]
            ],
            "type": "heatmap"
           }
          ],
          "heatmapgl": [
           {
            "colorbar": {
             "outlinewidth": 0,
             "ticks": ""
            },
            "colorscale": [
             [
              0,
              "#0d0887"
             ],
             [
              0.1111111111111111,
              "#46039f"
             ],
             [
              0.2222222222222222,
              "#7201a8"
             ],
             [
              0.3333333333333333,
              "#9c179e"
             ],
             [
              0.4444444444444444,
              "#bd3786"
             ],
             [
              0.5555555555555556,
              "#d8576b"
             ],
             [
              0.6666666666666666,
              "#ed7953"
             ],
             [
              0.7777777777777778,
              "#fb9f3a"
             ],
             [
              0.8888888888888888,
              "#fdca26"
             ],
             [
              1,
              "#f0f921"
             ]
            ],
            "type": "heatmapgl"
           }
          ],
          "histogram": [
           {
            "marker": {
             "pattern": {
              "fillmode": "overlay",
              "size": 10,
              "solidity": 0.2
             }
            },
            "type": "histogram"
           }
          ],
          "histogram2d": [
           {
            "colorbar": {
             "outlinewidth": 0,
             "ticks": ""
            },
            "colorscale": [
             [
              0,
              "#0d0887"
             ],
             [
              0.1111111111111111,
              "#46039f"
             ],
             [
              0.2222222222222222,
              "#7201a8"
             ],
             [
              0.3333333333333333,
              "#9c179e"
             ],
             [
              0.4444444444444444,
              "#bd3786"
             ],
             [
              0.5555555555555556,
              "#d8576b"
             ],
             [
              0.6666666666666666,
              "#ed7953"
             ],
             [
              0.7777777777777778,
              "#fb9f3a"
             ],
             [
              0.8888888888888888,
              "#fdca26"
             ],
             [
              1,
              "#f0f921"
             ]
            ],
            "type": "histogram2d"
           }
          ],
          "histogram2dcontour": [
           {
            "colorbar": {
             "outlinewidth": 0,
             "ticks": ""
            },
            "colorscale": [
             [
              0,
              "#0d0887"
             ],
             [
              0.1111111111111111,
              "#46039f"
             ],
             [
              0.2222222222222222,
              "#7201a8"
             ],
             [
              0.3333333333333333,
              "#9c179e"
             ],
             [
              0.4444444444444444,
              "#bd3786"
             ],
             [
              0.5555555555555556,
              "#d8576b"
             ],
             [
              0.6666666666666666,
              "#ed7953"
             ],
             [
              0.7777777777777778,
              "#fb9f3a"
             ],
             [
              0.8888888888888888,
              "#fdca26"
             ],
             [
              1,
              "#f0f921"
             ]
            ],
            "type": "histogram2dcontour"
           }
          ],
          "mesh3d": [
           {
            "colorbar": {
             "outlinewidth": 0,
             "ticks": ""
            },
            "type": "mesh3d"
           }
          ],
          "parcoords": [
           {
            "line": {
             "colorbar": {
              "outlinewidth": 0,
              "ticks": ""
             }
            },
            "type": "parcoords"
           }
          ],
          "pie": [
           {
            "automargin": true,
            "type": "pie"
           }
          ],
          "scatter": [
           {
            "marker": {
             "colorbar": {
              "outlinewidth": 0,
              "ticks": ""
             }
            },
            "type": "scatter"
           }
          ],
          "scatter3d": [
           {
            "line": {
             "colorbar": {
              "outlinewidth": 0,
              "ticks": ""
             }
            },
            "marker": {
             "colorbar": {
              "outlinewidth": 0,
              "ticks": ""
             }
            },
            "type": "scatter3d"
           }
          ],
          "scattercarpet": [
           {
            "marker": {
             "colorbar": {
              "outlinewidth": 0,
              "ticks": ""
             }
            },
            "type": "scattercarpet"
           }
          ],
          "scattergeo": [
           {
            "marker": {
             "colorbar": {
              "outlinewidth": 0,
              "ticks": ""
             }
            },
            "type": "scattergeo"
           }
          ],
          "scattergl": [
           {
            "marker": {
             "colorbar": {
              "outlinewidth": 0,
              "ticks": ""
             }
            },
            "type": "scattergl"
           }
          ],
          "scattermapbox": [
           {
            "marker": {
             "colorbar": {
              "outlinewidth": 0,
              "ticks": ""
             }
            },
            "type": "scattermapbox"
           }
          ],
          "scatterpolar": [
           {
            "marker": {
             "colorbar": {
              "outlinewidth": 0,
              "ticks": ""
             }
            },
            "type": "scatterpolar"
           }
          ],
          "scatterpolargl": [
           {
            "marker": {
             "colorbar": {
              "outlinewidth": 0,
              "ticks": ""
             }
            },
            "type": "scatterpolargl"
           }
          ],
          "scatterternary": [
           {
            "marker": {
             "colorbar": {
              "outlinewidth": 0,
              "ticks": ""
             }
            },
            "type": "scatterternary"
           }
          ],
          "surface": [
           {
            "colorbar": {
             "outlinewidth": 0,
             "ticks": ""
            },
            "colorscale": [
             [
              0,
              "#0d0887"
             ],
             [
              0.1111111111111111,
              "#46039f"
             ],
             [
              0.2222222222222222,
              "#7201a8"
             ],
             [
              0.3333333333333333,
              "#9c179e"
             ],
             [
              0.4444444444444444,
              "#bd3786"
             ],
             [
              0.5555555555555556,
              "#d8576b"
             ],
             [
              0.6666666666666666,
              "#ed7953"
             ],
             [
              0.7777777777777778,
              "#fb9f3a"
             ],
             [
              0.8888888888888888,
              "#fdca26"
             ],
             [
              1,
              "#f0f921"
             ]
            ],
            "type": "surface"
           }
          ],
          "table": [
           {
            "cells": {
             "fill": {
              "color": "#EBF0F8"
             },
             "line": {
              "color": "white"
             }
            },
            "header": {
             "fill": {
              "color": "#C8D4E3"
             },
             "line": {
              "color": "white"
             }
            },
            "type": "table"
           }
          ]
         },
         "layout": {
          "annotationdefaults": {
           "arrowcolor": "#2a3f5f",
           "arrowhead": 0,
           "arrowwidth": 1
          },
          "autotypenumbers": "strict",
          "coloraxis": {
           "colorbar": {
            "outlinewidth": 0,
            "ticks": ""
           }
          },
          "colorscale": {
           "diverging": [
            [
             0,
             "#8e0152"
            ],
            [
             0.1,
             "#c51b7d"
            ],
            [
             0.2,
             "#de77ae"
            ],
            [
             0.3,
             "#f1b6da"
            ],
            [
             0.4,
             "#fde0ef"
            ],
            [
             0.5,
             "#f7f7f7"
            ],
            [
             0.6,
             "#e6f5d0"
            ],
            [
             0.7,
             "#b8e186"
            ],
            [
             0.8,
             "#7fbc41"
            ],
            [
             0.9,
             "#4d9221"
            ],
            [
             1,
             "#276419"
            ]
           ],
           "sequential": [
            [
             0,
             "#0d0887"
            ],
            [
             0.1111111111111111,
             "#46039f"
            ],
            [
             0.2222222222222222,
             "#7201a8"
            ],
            [
             0.3333333333333333,
             "#9c179e"
            ],
            [
             0.4444444444444444,
             "#bd3786"
            ],
            [
             0.5555555555555556,
             "#d8576b"
            ],
            [
             0.6666666666666666,
             "#ed7953"
            ],
            [
             0.7777777777777778,
             "#fb9f3a"
            ],
            [
             0.8888888888888888,
             "#fdca26"
            ],
            [
             1,
             "#f0f921"
            ]
           ],
           "sequentialminus": [
            [
             0,
             "#0d0887"
            ],
            [
             0.1111111111111111,
             "#46039f"
            ],
            [
             0.2222222222222222,
             "#7201a8"
            ],
            [
             0.3333333333333333,
             "#9c179e"
            ],
            [
             0.4444444444444444,
             "#bd3786"
            ],
            [
             0.5555555555555556,
             "#d8576b"
            ],
            [
             0.6666666666666666,
             "#ed7953"
            ],
            [
             0.7777777777777778,
             "#fb9f3a"
            ],
            [
             0.8888888888888888,
             "#fdca26"
            ],
            [
             1,
             "#f0f921"
            ]
           ]
          },
          "colorway": [
           "#636efa",
           "#EF553B",
           "#00cc96",
           "#ab63fa",
           "#FFA15A",
           "#19d3f3",
           "#FF6692",
           "#B6E880",
           "#FF97FF",
           "#FECB52"
          ],
          "font": {
           "color": "#2a3f5f"
          },
          "geo": {
           "bgcolor": "white",
           "lakecolor": "white",
           "landcolor": "#E5ECF6",
           "showlakes": true,
           "showland": true,
           "subunitcolor": "white"
          },
          "hoverlabel": {
           "align": "left"
          },
          "hovermode": "closest",
          "mapbox": {
           "style": "light"
          },
          "paper_bgcolor": "white",
          "plot_bgcolor": "#E5ECF6",
          "polar": {
           "angularaxis": {
            "gridcolor": "white",
            "linecolor": "white",
            "ticks": ""
           },
           "bgcolor": "#E5ECF6",
           "radialaxis": {
            "gridcolor": "white",
            "linecolor": "white",
            "ticks": ""
           }
          },
          "scene": {
           "xaxis": {
            "backgroundcolor": "#E5ECF6",
            "gridcolor": "white",
            "gridwidth": 2,
            "linecolor": "white",
            "showbackground": true,
            "ticks": "",
            "zerolinecolor": "white"
           },
           "yaxis": {
            "backgroundcolor": "#E5ECF6",
            "gridcolor": "white",
            "gridwidth": 2,
            "linecolor": "white",
            "showbackground": true,
            "ticks": "",
            "zerolinecolor": "white"
           },
           "zaxis": {
            "backgroundcolor": "#E5ECF6",
            "gridcolor": "white",
            "gridwidth": 2,
            "linecolor": "white",
            "showbackground": true,
            "ticks": "",
            "zerolinecolor": "white"
           }
          },
          "shapedefaults": {
           "line": {
            "color": "#2a3f5f"
           }
          },
          "ternary": {
           "aaxis": {
            "gridcolor": "white",
            "linecolor": "white",
            "ticks": ""
           },
           "baxis": {
            "gridcolor": "white",
            "linecolor": "white",
            "ticks": ""
           },
           "bgcolor": "#E5ECF6",
           "caxis": {
            "gridcolor": "white",
            "linecolor": "white",
            "ticks": ""
           }
          },
          "title": {
           "x": 0.05
          },
          "xaxis": {
           "automargin": true,
           "gridcolor": "white",
           "linecolor": "white",
           "ticks": "",
           "title": {
            "standoff": 15
           },
           "zerolinecolor": "white",
           "zerolinewidth": 2
          },
          "yaxis": {
           "automargin": true,
           "gridcolor": "white",
           "linecolor": "white",
           "ticks": "",
           "title": {
            "standoff": 15
           },
           "zerolinecolor": "white",
           "zerolinewidth": 2
          }
         }
        },
        "xaxis": {
         "range": [
          0,
          7
         ],
         "type": "linear"
        },
        "yaxis": {
         "range": [
          0,
          3
         ],
         "type": "linear"
        }
       }
      },
      "image/png": "[encoded data removed]"
     },
     "metadata": {},
     "output_type": "display_data"
    }
   ],
   "source": [
    "fig.add_shape(type = 'rect', \n",
    "#             상대적인 축\n",
    "              xref='paper', yref='paper',\n",
    "              x0=4, y0=0, x1=6, y1=2, \n",
    "             line =dict(color='royalblue', width=3, dash='dot'),\n",
    "            fillcolor = 'lightskyblue')\n",
    "\n",
    "fig.show()"
   ]
  },
  {
   "cell_type": "code",
   "execution_count": 7,
   "id": "848a211b-35f1-4f79-a75f-9b86a3281e2e",
   "metadata": {},
   "outputs": [
    {
     "data": {
      "application/vnd.plotly.v1+json": {
       "config": {
        "plotlyServerURL": "https://plot.ly"
       },
       "data": [
        {
         "mode": "text",
         "text": [
          "Vertical",
          "Horizontal",
          "Diagonal"
         ],
         "type": "scatter",
         "x": [
          2,
          3.5,
          6
         ],
         "y": [
          1,
          1.5,
          1
         ]
        }
       ],
       "layout": {
        "autosize": true,
        "shapes": [
         {
          "line": {
           "color": "royalblue",
           "width": 3
          },
          "type": "line",
          "x0": 1,
          "x1": 1,
          "xref": "x",
          "y0": 0,
          "y1": 2,
          "yref": "y"
         },
         {
          "line": {
           "color": "lightseagreen",
           "dash": "dashdot",
           "width": 3
          },
          "type": "line",
          "x0": 2,
          "x1": 5,
          "xref": "x",
          "y0": 2,
          "y1": 2,
          "yref": "y"
         },
         {
          "line": {
           "color": "royalblue",
           "dash": "dot",
           "width": 3
          },
          "type": "line",
          "x0": 4,
          "x1": 6,
          "xref": "x",
          "y0": 0,
          "y1": 2,
          "yref": "y"
         },
         {
          "fillcolor": "lightskyblue",
          "line": {
           "color": "royalblue",
           "dash": "dot",
           "width": 3
          },
          "type": "rect",
          "x0": 4,
          "x1": 6,
          "xref": "x",
          "y0": 0,
          "y1": 2,
          "yref": "y"
         },
         {
          "fillcolor": "lightskyblue",
          "line": {
           "color": "royalblue",
           "dash": "dot",
           "width": 3
          },
          "type": "rect",
          "x0": 4,
          "x1": 6,
          "xref": "paper",
          "y0": 0,
          "y1": 2,
          "yref": "paper"
         },
         {
          "fillcolor": "lightskyblue",
          "line": {
           "color": "royalblue",
           "dash": "dot",
           "width": 3
          },
          "type": "circle",
          "x0": 4,
          "x1": 6,
          "y0": 0,
          "y1": 2
         }
        ],
        "template": {
         "data": {
          "bar": [
           {
            "error_x": {
             "color": "#2a3f5f"
            },
            "error_y": {
             "color": "#2a3f5f"
            },
            "marker": {
             "line": {
              "color": "#E5ECF6",
              "width": 0.5
             },
             "pattern": {
              "fillmode": "overlay",
              "size": 10,
              "solidity": 0.2
             }
            },
            "type": "bar"
           }
          ],
          "barpolar": [
           {
            "marker": {
             "line": {
              "color": "#E5ECF6",
              "width": 0.5
             },
             "pattern": {
              "fillmode": "overlay",
              "size": 10,
              "solidity": 0.2
             }
            },
            "type": "barpolar"
           }
          ],
          "carpet": [
           {
            "aaxis": {
             "endlinecolor": "#2a3f5f",
             "gridcolor": "white",
             "linecolor": "white",
             "minorgridcolor": "white",
             "startlinecolor": "#2a3f5f"
            },
            "baxis": {
             "endlinecolor": "#2a3f5f",
             "gridcolor": "white",
             "linecolor": "white",
             "minorgridcolor": "white",
             "startlinecolor": "#2a3f5f"
            },
            "type": "carpet"
           }
          ],
          "choropleth": [
           {
            "colorbar": {
             "outlinewidth": 0,
             "ticks": ""
            },
            "type": "choropleth"
           }
          ],
          "contour": [
           {
            "colorbar": {
             "outlinewidth": 0,
             "ticks": ""
            },
            "colorscale": [
             [
              0,
              "#0d0887"
             ],
             [
              0.1111111111111111,
              "#46039f"
             ],
             [
              0.2222222222222222,
              "#7201a8"
             ],
             [
              0.3333333333333333,
              "#9c179e"
             ],
             [
              0.4444444444444444,
              "#bd3786"
             ],
             [
              0.5555555555555556,
              "#d8576b"
             ],
             [
              0.6666666666666666,
              "#ed7953"
             ],
             [
              0.7777777777777778,
              "#fb9f3a"
             ],
             [
              0.8888888888888888,
              "#fdca26"
             ],
             [
              1,
              "#f0f921"
             ]
            ],
            "type": "contour"
           }
          ],
          "contourcarpet": [
           {
            "colorbar": {
             "outlinewidth": 0,
             "ticks": ""
            },
            "type": "contourcarpet"
           }
          ],
          "heatmap": [
           {
            "colorbar": {
             "outlinewidth": 0,
             "ticks": ""
            },
            "colorscale": [
             [
              0,
              "#0d0887"
             ],
             [
              0.1111111111111111,
              "#46039f"
             ],
             [
              0.2222222222222222,
              "#7201a8"
             ],
             [
              0.3333333333333333,
              "#9c179e"
             ],
             [
              0.4444444444444444,
              "#bd3786"
             ],
             [
              0.5555555555555556,
              "#d8576b"
             ],
             [
              0.6666666666666666,
              "#ed7953"
             ],
             [
              0.7777777777777778,
              "#fb9f3a"
             ],
             [
              0.8888888888888888,
              "#fdca26"
             ],
             [
              1,
              "#f0f921"
             ]
            ],
            "type": "heatmap"
           }
          ],
          "heatmapgl": [
           {
            "colorbar": {
             "outlinewidth": 0,
             "ticks": ""
            },
            "colorscale": [
             [
              0,
              "#0d0887"
             ],
             [
              0.1111111111111111,
              "#46039f"
             ],
             [
              0.2222222222222222,
              "#7201a8"
             ],
             [
              0.3333333333333333,
              "#9c179e"
             ],
             [
              0.4444444444444444,
              "#bd3786"
             ],
             [
              0.5555555555555556,
              "#d8576b"
             ],
             [
              0.6666666666666666,
              "#ed7953"
             ],
             [
              0.7777777777777778,
              "#fb9f3a"
             ],
             [
              0.8888888888888888,
              "#fdca26"
             ],
             [
              1,
              "#f0f921"
             ]
            ],
            "type": "heatmapgl"
           }
          ],
          "histogram": [
           {
            "marker": {
             "pattern": {
              "fillmode": "overlay",
              "size": 10,
              "solidity": 0.2
             }
            },
            "type": "histogram"
           }
          ],
          "histogram2d": [
           {
            "colorbar": {
             "outlinewidth": 0,
             "ticks": ""
            },
            "colorscale": [
             [
              0,
              "#0d0887"
             ],
             [
              0.1111111111111111,
              "#46039f"
             ],
             [
              0.2222222222222222,
              "#7201a8"
             ],
             [
              0.3333333333333333,
              "#9c179e"
             ],
             [
              0.4444444444444444,
              "#bd3786"
             ],
             [
              0.5555555555555556,
              "#d8576b"
             ],
             [
              0.6666666666666666,
              "#ed7953"
             ],
             [
              0.7777777777777778,
              "#fb9f3a"
             ],
             [
              0.8888888888888888,
              "#fdca26"
             ],
             [
              1,
              "#f0f921"
             ]
            ],
            "type": "histogram2d"
           }
          ],
          "histogram2dcontour": [
           {
            "colorbar": {
             "outlinewidth": 0,
             "ticks": ""
            },
            "colorscale": [
             [
              0,
              "#0d0887"
             ],
             [
              0.1111111111111111,
              "#46039f"
             ],
             [
              0.2222222222222222,
              "#7201a8"
             ],
             [
              0.3333333333333333,
              "#9c179e"
             ],
             [
              0.4444444444444444,
              "#bd3786"
             ],
             [
              0.5555555555555556,
              "#d8576b"
             ],
             [
              0.6666666666666666,
              "#ed7953"
             ],
             [
              0.7777777777777778,
              "#fb9f3a"
             ],
             [
              0.8888888888888888,
              "#fdca26"
             ],
             [
              1,
              "#f0f921"
             ]
            ],
            "type": "histogram2dcontour"
           }
          ],
          "mesh3d": [
           {
            "colorbar": {
             "outlinewidth": 0,
             "ticks": ""
            },
            "type": "mesh3d"
           }
          ],
          "parcoords": [
           {
            "line": {
             "colorbar": {
              "outlinewidth": 0,
              "ticks": ""
             }
            },
            "type": "parcoords"
           }
          ],
          "pie": [
           {
            "automargin": true,
            "type": "pie"
           }
          ],
          "scatter": [
           {
            "marker": {
             "colorbar": {
              "outlinewidth": 0,
              "ticks": ""
             }
            },
            "type": "scatter"
           }
          ],
          "scatter3d": [
           {
            "line": {
             "colorbar": {
              "outlinewidth": 0,
              "ticks": ""
             }
            },
            "marker": {
             "colorbar": {
              "outlinewidth": 0,
              "ticks": ""
             }
            },
            "type": "scatter3d"
           }
          ],
          "scattercarpet": [
           {
            "marker": {
             "colorbar": {
              "outlinewidth": 0,
              "ticks": ""
             }
            },
            "type": "scattercarpet"
           }
          ],
          "scattergeo": [
           {
            "marker": {
             "colorbar": {
              "outlinewidth": 0,
              "ticks": ""
             }
            },
            "type": "scattergeo"
           }
          ],
          "scattergl": [
           {
            "marker": {
             "colorbar": {
              "outlinewidth": 0,
              "ticks": ""
             }
            },
            "type": "scattergl"
           }
          ],
          "scattermapbox": [
           {
            "marker": {
             "colorbar": {
              "outlinewidth": 0,
              "ticks": ""
             }
            },
            "type": "scattermapbox"
           }
          ],
          "scatterpolar": [
           {
            "marker": {
             "colorbar": {
              "outlinewidth": 0,
              "ticks": ""
             }
            },
            "type": "scatterpolar"
           }
          ],
          "scatterpolargl": [
           {
            "marker": {
             "colorbar": {
              "outlinewidth": 0,
              "ticks": ""
             }
            },
            "type": "scatterpolargl"
           }
          ],
          "scatterternary": [
           {
            "marker": {
             "colorbar": {
              "outlinewidth": 0,
              "ticks": ""
             }
            },
            "type": "scatterternary"
           }
          ],
          "surface": [
           {
            "colorbar": {
             "outlinewidth": 0,
             "ticks": ""
            },
            "colorscale": [
             [
              0,
              "#0d0887"
             ],
             [
              0.1111111111111111,
              "#46039f"
             ],
             [
              0.2222222222222222,
              "#7201a8"
             ],
             [
              0.3333333333333333,
              "#9c179e"
             ],
             [
              0.4444444444444444,
              "#bd3786"
             ],
             [
              0.5555555555555556,
              "#d8576b"
             ],
             [
              0.6666666666666666,
              "#ed7953"
             ],
             [
              0.7777777777777778,
              "#fb9f3a"
             ],
             [
              0.8888888888888888,
              "#fdca26"
             ],
             [
              1,
              "#f0f921"
             ]
            ],
            "type": "surface"
           }
          ],
          "table": [
           {
            "cells": {
             "fill": {
              "color": "#EBF0F8"
             },
             "line": {
              "color": "white"
             }
            },
            "header": {
             "fill": {
              "color": "#C8D4E3"
             },
             "line": {
              "color": "white"
             }
            },
            "type": "table"
           }
          ]
         },
         "layout": {
          "annotationdefaults": {
           "arrowcolor": "#2a3f5f",
           "arrowhead": 0,
           "arrowwidth": 1
          },
          "autotypenumbers": "strict",
          "coloraxis": {
           "colorbar": {
            "outlinewidth": 0,
            "ticks": ""
           }
          },
          "colorscale": {
           "diverging": [
            [
             0,
             "#8e0152"
            ],
            [
             0.1,
             "#c51b7d"
            ],
            [
             0.2,
             "#de77ae"
            ],
            [
             0.3,
             "#f1b6da"
            ],
            [
             0.4,
             "#fde0ef"
            ],
            [
             0.5,
             "#f7f7f7"
            ],
            [
             0.6,
             "#e6f5d0"
            ],
            [
             0.7,
             "#b8e186"
            ],
            [
             0.8,
             "#7fbc41"
            ],
            [
             0.9,
             "#4d9221"
            ],
            [
             1,
             "#276419"
            ]
           ],
           "sequential": [
            [
             0,
             "#0d0887"
            ],
            [
             0.1111111111111111,
             "#46039f"
            ],
            [
             0.2222222222222222,
             "#7201a8"
            ],
            [
             0.3333333333333333,
             "#9c179e"
            ],
            [
             0.4444444444444444,
             "#bd3786"
            ],
            [
             0.5555555555555556,
             "#d8576b"
            ],
            [
             0.6666666666666666,
             "#ed7953"
            ],
            [
             0.7777777777777778,
             "#fb9f3a"
            ],
            [
             0.8888888888888888,
             "#fdca26"
            ],
            [
             1,
             "#f0f921"
            ]
           ],
           "sequentialminus": [
            [
             0,
             "#0d0887"
            ],
            [
             0.1111111111111111,
             "#46039f"
            ],
            [
             0.2222222222222222,
             "#7201a8"
            ],
            [
             0.3333333333333333,
             "#9c179e"
            ],
            [
             0.4444444444444444,
             "#bd3786"
            ],
            [
             0.5555555555555556,
             "#d8576b"
            ],
            [
             0.6666666666666666,
             "#ed7953"
            ],
            [
             0.7777777777777778,
             "#fb9f3a"
            ],
            [
             0.8888888888888888,
             "#fdca26"
            ],
            [
             1,
             "#f0f921"
            ]
           ]
          },
          "colorway": [
           "#636efa",
           "#EF553B",
           "#00cc96",
           "#ab63fa",
           "#FFA15A",
           "#19d3f3",
           "#FF6692",
           "#B6E880",
           "#FF97FF",
           "#FECB52"
          ],
          "font": {
           "color": "#2a3f5f"
          },
          "geo": {
           "bgcolor": "white",
           "lakecolor": "white",
           "landcolor": "#E5ECF6",
           "showlakes": true,
           "showland": true,
           "subunitcolor": "white"
          },
          "hoverlabel": {
           "align": "left"
          },
          "hovermode": "closest",
          "mapbox": {
           "style": "light"
          },
          "paper_bgcolor": "white",
          "plot_bgcolor": "#E5ECF6",
          "polar": {
           "angularaxis": {
            "gridcolor": "white",
            "linecolor": "white",
            "ticks": ""
           },
           "bgcolor": "#E5ECF6",
           "radialaxis": {
            "gridcolor": "white",
            "linecolor": "white",
            "ticks": ""
           }
          },
          "scene": {
           "xaxis": {
            "backgroundcolor": "#E5ECF6",
            "gridcolor": "white",
            "gridwidth": 2,
            "linecolor": "white",
            "showbackground": true,
            "ticks": "",
            "zerolinecolor": "white"
           },
           "yaxis": {
            "backgroundcolor": "#E5ECF6",
            "gridcolor": "white",
            "gridwidth": 2,
            "linecolor": "white",
            "showbackground": true,
            "ticks": "",
            "zerolinecolor": "white"
           },
           "zaxis": {
            "backgroundcolor": "#E5ECF6",
            "gridcolor": "white",
            "gridwidth": 2,
            "linecolor": "white",
            "showbackground": true,
            "ticks": "",
            "zerolinecolor": "white"
           }
          },
          "shapedefaults": {
           "line": {
            "color": "#2a3f5f"
           }
          },
          "ternary": {
           "aaxis": {
            "gridcolor": "white",
            "linecolor": "white",
            "ticks": ""
           },
           "baxis": {
            "gridcolor": "white",
            "linecolor": "white",
            "ticks": ""
           },
           "bgcolor": "#E5ECF6",
           "caxis": {
            "gridcolor": "white",
            "linecolor": "white",
            "ticks": ""
           }
          },
          "title": {
           "x": 0.05
          },
          "xaxis": {
           "automargin": true,
           "gridcolor": "white",
           "linecolor": "white",
           "ticks": "",
           "title": {
            "standoff": 15
           },
           "zerolinecolor": "white",
           "zerolinewidth": 2
          },
          "yaxis": {
           "automargin": true,
           "gridcolor": "white",
           "linecolor": "white",
           "ticks": "",
           "title": {
            "standoff": 15
           },
           "zerolinecolor": "white",
           "zerolinewidth": 2
          }
         }
        },
        "xaxis": {
         "range": [
          0,
          7
         ],
         "type": "linear"
        },
        "yaxis": {
         "range": [
          0,
          3
         ],
         "type": "linear"
        }
       }
      },
      "image/png": "[encoded data removed]"
     },
     "metadata": {},
     "output_type": "display_data"
    }
   ],
   "source": [
    "fig.add_shape(type = 'circle', x0=4, y0=0, x1=6, y1=2, \n",
    "             line =dict(color='royalblue', width=3, dash='dot'),\n",
    "            fillcolor = 'lightskyblue')"
   ]
  },
  {
   "cell_type": "code",
   "execution_count": 9,
   "id": "311964d6-0b91-4aa0-8cb0-f3f7b1ed7c6c",
   "metadata": {},
   "outputs": [
    {
     "data": {
      "application/vnd.plotly.v1+json": {
       "config": {
        "plotlyServerURL": "https://plot.ly"
       },
       "data": [
        {
         "customdata": [
          0,
          1,
          2,
          3,
          4,
          5,
          6
         ],
         "hovertemplate": "%{y}[%{customdata}] = %{marker.color}<extra></extra>",
         "marker": {
          "color": [
           "rgb(237, 229, 207)",
           "rgb(224, 194, 162)",
           "rgb(211, 156, 131)",
           "rgb(193, 118, 111)",
           "rgb(166, 84, 97)",
           "rgb(129, 55, 83)",
           "rgb(84, 31, 63)"
          ]
         },
         "orientation": "h",
         "type": "bar",
         "x": [
          1,
          1,
          1,
          1,
          1,
          1,
          1
         ],
         "y": [
          "Brwnyl",
          "Brwnyl",
          "Brwnyl",
          "Brwnyl",
          "Brwnyl",
          "Brwnyl",
          "Brwnyl"
         ]
        },
        {
         "customdata": [
          0,
          1,
          2,
          3,
          4,
          5,
          6
         ],
         "hovertemplate": "%{y}[%{customdata}] = %{marker.color}<extra></extra>",
         "marker": {
          "color": [
           "rgb(75, 41, 145)",
           "rgb(135, 44, 162)",
           "rgb(192, 54, 157)",
           "rgb(234, 79, 136)",
           "rgb(250, 120, 118)",
           "rgb(246, 169, 122)",
           "rgb(237, 217, 163)"
          ]
         },
         "orientation": "h",
         "type": "bar",
         "x": [
          1,
          1,
          1,
          1,
          1,
          1,
          1
         ],
         "y": [
          "Agsunset",
          "Agsunset",
          "Agsunset",
          "Agsunset",
          "Agsunset",
          "Agsunset",
          "Agsunset"
         ]
        },
        {
         "customdata": [
          0,
          1,
          2,
          3,
          4,
          5,
          6
         ],
         "hovertemplate": "%{y}[%{customdata}] = %{marker.color}<extra></extra>",
         "marker": {
          "color": [
           "rgb(252, 222, 156)",
           "rgb(250, 164, 118)",
           "rgb(240, 116, 110)",
           "rgb(227, 79, 111)",
           "rgb(220, 57, 119)",
           "rgb(185, 37, 122)",
           "rgb(124, 29, 111)"
          ]
         },
         "orientation": "h",
         "type": "bar",
         "x": [
          1,
          1,
          1,
          1,
          1,
          1,
          1
         ],
         "y": [
          "Sunsetdark",
          "Sunsetdark",
          "Sunsetdark",
          "Sunsetdark",
          "Sunsetdark",
          "Sunsetdark",
          "Sunsetdark"
         ]
        },
        {
         "customdata": [
          0,
          1,
          2,
          3,
          4,
          5,
          6
         ],
         "hovertemplate": "%{y}[%{customdata}] = %{marker.color}<extra></extra>",
         "marker": {
          "color": [
           "rgb(243, 203, 211)",
           "rgb(234, 169, 189)",
           "rgb(221, 136, 172)",
           "rgb(202, 105, 157)",
           "rgb(177, 77, 142)",
           "rgb(145, 53, 125)",
           "rgb(108, 33, 103)"
          ]
         },
         "orientation": "h",
         "type": "bar",
         "x": [
          1,
          1,
          1,
          1,
          1,
          1,
          1
         ],
         "y": [
          "Magenta",
          "Magenta",
          "Magenta",
          "Magenta",
          "Magenta",
          "Magenta",
          "Magenta"
         ]
        },
        {
         "customdata": [
          0,
          1,
          2,
          3,
          4,
          5,
          6
         ],
         "hovertemplate": "%{y}[%{customdata}] = %{marker.color}<extra></extra>",
         "marker": {
          "color": [
           "rgb(243, 231, 155)",
           "rgb(250, 196, 132)",
           "rgb(248, 160, 126)",
           "rgb(235, 127, 134)",
           "rgb(206, 102, 147)",
           "rgb(160, 89, 160)",
           "rgb(92, 83, 165)"
          ]
         },
         "orientation": "h",
         "type": "bar",
         "x": [
          1,
          1,
          1,
          1,
          1,
          1,
          1
         ],
         "y": [
          "Sunset",
          "Sunset",
          "Sunset",
          "Sunset",
          "Sunset",
          "Sunset",
          "Sunset"
         ]
        },
        {
         "customdata": [
          0,
          1,
          2,
          3,
          4,
          5,
          6
         ],
         "hovertemplate": "%{y}[%{customdata}] = %{marker.color}<extra></extra>",
         "marker": {
          "color": [
           "rgb(249, 221, 218)",
           "rgb(242, 185, 196)",
           "rgb(229, 151, 185)",
           "rgb(206, 120, 179)",
           "rgb(173, 95, 173)",
           "rgb(131, 75, 160)",
           "rgb(87, 59, 136)"
          ]
         },
         "orientation": "h",
         "type": "bar",
         "x": [
          1,
          1,
          1,
          1,
          1,
          1,
          1
         ],
         "y": [
          "Purpor",
          "Purpor",
          "Purpor",
          "Purpor",
          "Purpor",
          "Purpor",
          "Purpor"
         ]
        },
        {
         "customdata": [
          0,
          1,
          2,
          3,
          4,
          5,
          6
         ],
         "hovertemplate": "%{y}[%{customdata}] = %{marker.color}<extra></extra>",
         "marker": {
          "color": [
           "rgb(243, 224, 247)",
           "rgb(228, 199, 241)",
           "rgb(209, 175, 232)",
           "rgb(185, 152, 221)",
           "rgb(159, 130, 206)",
           "rgb(130, 109, 186)",
           "rgb(99, 88, 159)"
          ]
         },
         "orientation": "h",
         "type": "bar",
         "x": [
          1,
          1,
          1,
          1,
          1,
          1,
          1
         ],
         "y": [
          "Purp",
          "Purp",
          "Purp",
          "Purp",
          "Purp",
          "Purp",
          "Purp"
         ]
        },
        {
         "customdata": [
          0,
          1,
          2,
          3,
          4,
          5,
          6
         ],
         "hovertemplate": "%{y}[%{customdata}] = %{marker.color}<extra></extra>",
         "marker": {
          "color": [
           "rgb(176, 242, 188)",
           "rgb(137, 232, 172)",
           "rgb(103, 219, 165)",
           "rgb(76, 200, 163)",
           "rgb(56, 178, 163)",
           "rgb(44, 152, 160)",
           "rgb(37, 125, 152)"
          ]
         },
         "orientation": "h",
         "type": "bar",
         "x": [
          1,
          1,
          1,
          1,
          1,
          1,
          1
         ],
         "y": [
          "Tealgrn",
          "Tealgrn",
          "Tealgrn",
          "Tealgrn",
          "Tealgrn",
          "Tealgrn",
          "Tealgrn"
         ]
        },
        {
         "customdata": [
          0,
          1,
          2,
          3,
          4,
          5,
          6
         ],
         "hovertemplate": "%{y}[%{customdata}] = %{marker.color}<extra></extra>",
         "marker": {
          "color": [
           "rgb(209, 238, 234)",
           "rgb(168, 219, 217)",
           "rgb(133, 196, 201)",
           "rgb(104, 171, 184)",
           "rgb(79, 144, 166)",
           "rgb(59, 115, 143)",
           "rgb(42, 86, 116)"
          ]
         },
         "orientation": "h",
         "type": "bar",
         "x": [
          1,
          1,
          1,
          1,
          1,
          1,
          1
         ],
         "y": [
          "Teal",
          "Teal",
          "Teal",
          "Teal",
          "Teal",
          "Teal",
          "Teal"
         ]
        },
        {
         "customdata": [
          0,
          1,
          2,
          3,
          4,
          5,
          6
         ],
         "hovertemplate": "%{y}[%{customdata}] = %{marker.color}<extra></extra>",
         "marker": {
          "color": [
           "rgb(247, 254, 174)",
           "rgb(183, 230, 165)",
           "rgb(124, 203, 162)",
           "rgb(70, 174, 160)",
           "rgb(8, 144, 153)",
           "rgb(0, 113, 139)",
           "rgb(4, 82, 117)"
          ]
         },
         "orientation": "h",
         "type": "bar",
         "x": [
          1,
          1,
          1,
          1,
          1,
          1,
          1
         ],
         "y": [
          "Bluyl",
          "Bluyl",
          "Bluyl",
          "Bluyl",
          "Bluyl",
          "Bluyl",
          "Bluyl"
         ]
        },
        {
         "customdata": [
          0,
          1,
          2,
          3,
          4,
          5,
          6
         ],
         "hovertemplate": "%{y}[%{customdata}] = %{marker.color}<extra></extra>",
         "marker": {
          "color": [
           "rgb(36, 86, 104)",
           "rgb(15, 114, 121)",
           "rgb(13, 143, 129)",
           "rgb(57, 171, 126)",
           "rgb(110, 197, 116)",
           "rgb(169, 220, 103)",
           "rgb(237, 239, 93)"
          ]
         },
         "orientation": "h",
         "type": "bar",
         "x": [
          1,
          1,
          1,
          1,
          1,
          1,
          1
         ],
         "y": [
          "Aggrnyl",
          "Aggrnyl",
          "Aggrnyl",
          "Aggrnyl",
          "Aggrnyl",
          "Aggrnyl",
          "Aggrnyl"
         ]
        },
        {
         "customdata": [
          0,
          1,
          2,
          3,
          4,
          5,
          6
         ],
         "hovertemplate": "%{y}[%{customdata}] = %{marker.color}<extra></extra>",
         "marker": {
          "color": [
           "rgb(211, 242, 163)",
           "rgb(151, 225, 150)",
           "rgb(108, 192, 139)",
           "rgb(76, 155, 130)",
           "rgb(33, 122, 121)",
           "rgb(16, 89, 101)",
           "rgb(7, 64, 80)"
          ]
         },
         "orientation": "h",
         "type": "bar",
         "x": [
          1,
          1,
          1,
          1,
          1,
          1,
          1
         ],
         "y": [
          "Emrld",
          "Emrld",
          "Emrld",
          "Emrld",
          "Emrld",
          "Emrld",
          "Emrld"
         ]
        },
        {
         "customdata": [
          0,
          1,
          2,
          3,
          4,
          5,
          6
         ],
         "hovertemplate": "%{y}[%{customdata}] = %{marker.color}<extra></extra>",
         "marker": {
          "color": [
           "rgb(210, 251, 212)",
           "rgb(165, 219, 194)",
           "rgb(123, 188, 176)",
           "rgb(85, 156, 158)",
           "rgb(58, 124, 137)",
           "rgb(35, 93, 114)",
           "rgb(18, 63, 90)"
          ]
         },
         "orientation": "h",
         "type": "bar",
         "x": [
          1,
          1,
          1,
          1,
          1,
          1,
          1
         ],
         "y": [
          "Darkmint",
          "Darkmint",
          "Darkmint",
          "Darkmint",
          "Darkmint",
          "Darkmint",
          "Darkmint"
         ]
        },
        {
         "customdata": [
          0,
          1,
          2,
          3,
          4,
          5,
          6
         ],
         "hovertemplate": "%{y}[%{customdata}] = %{marker.color}<extra></extra>",
         "marker": {
          "color": [
           "rgb(196, 230, 195)",
           "rgb(150, 210, 164)",
           "rgb(109, 188, 144)",
           "rgb(77, 162, 132)",
           "rgb(54, 135, 122)",
           "rgb(38, 107, 110)",
           "rgb(29, 79, 96)"
          ]
         },
         "orientation": "h",
         "type": "bar",
         "x": [
          1,
          1,
          1,
          1,
          1,
          1,
          1
         ],
         "y": [
          "Blugrn",
          "Blugrn",
          "Blugrn",
          "Blugrn",
          "Blugrn",
          "Blugrn",
          "Blugrn"
         ]
        },
        {
         "customdata": [
          0,
          1,
          2,
          3,
          4,
          5,
          6
         ],
         "hovertemplate": "%{y}[%{customdata}] = %{marker.color}<extra></extra>",
         "marker": {
          "color": [
           "rgb(228, 241, 225)",
           "rgb(180, 217, 204)",
           "rgb(137, 192, 182)",
           "rgb(99, 166, 160)",
           "rgb(68, 140, 138)",
           "rgb(40, 114, 116)",
           "rgb(13, 88, 95)"
          ]
         },
         "orientation": "h",
         "type": "bar",
         "x": [
          1,
          1,
          1,
          1,
          1,
          1,
          1
         ],
         "y": [
          "Mint",
          "Mint",
          "Mint",
          "Mint",
          "Mint",
          "Mint",
          "Mint"
         ]
        },
        {
         "customdata": [
          0,
          1,
          2,
          3,
          4,
          5,
          6
         ],
         "hovertemplate": "%{y}[%{customdata}] = %{marker.color}<extra></extra>",
         "marker": {
          "color": [
           "rgb(254, 246, 181)",
           "rgb(255, 221, 154)",
           "rgb(255, 194, 133)",
           "rgb(255, 166, 121)",
           "rgb(250, 138, 118)",
           "rgb(241, 109, 122)",
           "rgb(225, 83, 131)"
          ]
         },
         "orientation": "h",
         "type": "bar",
         "x": [
          1,
          1,
          1,
          1,
          1,
          1,
          1
         ],
         "y": [
          "Pinkyl",
          "Pinkyl",
          "Pinkyl",
          "Pinkyl",
          "Pinkyl",
          "Pinkyl",
          "Pinkyl"
         ]
        },
        {
         "customdata": [
          0,
          1,
          2,
          3,
          4,
          5,
          6
         ],
         "hovertemplate": "%{y}[%{customdata}] = %{marker.color}<extra></extra>",
         "marker": {
          "color": [
           "rgb(253, 224, 197)",
           "rgb(250, 203, 166)",
           "rgb(248, 181, 139)",
           "rgb(245, 158, 114)",
           "rgb(242, 133, 93)",
           "rgb(239, 106, 76)",
           "rgb(235, 74, 64)"
          ]
         },
         "orientation": "h",
         "type": "bar",
         "x": [
          1,
          1,
          1,
          1,
          1,
          1,
          1
         ],
         "y": [
          "Peach",
          "Peach",
          "Peach",
          "Peach",
          "Peach",
          "Peach",
          "Peach"
         ]
        },
        {
         "customdata": [
          0,
          1,
          2,
          3,
          4,
          5,
          6
         ],
         "hovertemplate": "%{y}[%{customdata}] = %{marker.color}<extra></extra>",
         "marker": {
          "color": [
           "rgb(236, 218, 154)",
           "rgb(239, 196, 126)",
           "rgb(243, 173, 106)",
           "rgb(247, 148, 93)",
           "rgb(249, 123, 87)",
           "rgb(246, 99, 86)",
           "rgb(238, 77, 90)"
          ]
         },
         "orientation": "h",
         "type": "bar",
         "x": [
          1,
          1,
          1,
          1,
          1,
          1,
          1
         ],
         "y": [
          "Oryel",
          "Oryel",
          "Oryel",
          "Oryel",
          "Oryel",
          "Oryel",
          "Oryel"
         ]
        },
        {
         "customdata": [
          0,
          1,
          2,
          3,
          4,
          5,
          6
         ],
         "hovertemplate": "%{y}[%{customdata}] = %{marker.color}<extra></extra>",
         "marker": {
          "color": [
           "rgb(246, 210, 169)",
           "rgb(245, 183, 142)",
           "rgb(241, 156, 124)",
           "rgb(234, 129, 113)",
           "rgb(221, 104, 108)",
           "rgb(202, 82, 104)",
           "rgb(177, 63, 100)"
          ]
         },
         "orientation": "h",
         "type": "bar",
         "x": [
          1,
          1,
          1,
          1,
          1,
          1,
          1
         ],
         "y": [
          "Redor",
          "Redor",
          "Redor",
          "Redor",
          "Redor",
          "Redor",
          "Redor"
         ]
        },
        {
         "customdata": [
          0,
          1,
          2,
          3,
          4,
          5,
          6
         ],
         "hovertemplate": "%{y}[%{customdata}] = %{marker.color}<extra></extra>",
         "marker": {
          "color": [
           "rgb(251, 230, 197)",
           "rgb(245, 186, 152)",
           "rgb(238, 138, 130)",
           "rgb(220, 113, 118)",
           "rgb(200, 88, 108)",
           "rgb(156, 63, 93)",
           "rgb(112, 40, 74)"
          ]
         },
         "orientation": "h",
         "type": "bar",
         "x": [
          1,
          1,
          1,
          1,
          1,
          1,
          1
         ],
         "y": [
          "Burgyl",
          "Burgyl",
          "Burgyl",
          "Burgyl",
          "Burgyl",
          "Burgyl",
          "Burgyl"
         ]
        },
        {
         "customdata": [
          0,
          1,
          2,
          3,
          4,
          5,
          6
         ],
         "hovertemplate": "%{y}[%{customdata}] = %{marker.color}<extra></extra>",
         "marker": {
          "color": [
           "rgb(255, 198, 196)",
           "rgb(244, 163, 168)",
           "rgb(227, 129, 145)",
           "rgb(204, 96, 125)",
           "rgb(173, 70, 108)",
           "rgb(139, 48, 88)",
           "rgb(103, 32, 68)"
          ]
         },
         "orientation": "h",
         "type": "bar",
         "x": [
          1,
          1,
          1,
          1,
          1,
          1,
          1
         ],
         "y": [
          "Burg",
          "Burg",
          "Burg",
          "Burg",
          "Burg",
          "Burg",
          "Burg"
         ]
        },
        {
         "customdata": [
          0,
          1,
          2,
          3,
          4,
          5,
          6,
          7,
          8,
          9,
          10,
          11
         ],
         "hovertemplate": "%{y}[%{customdata}] = %{marker.color}<extra></extra>",
         "marker": {
          "color": [
           "rgb(254, 245, 244)",
           "rgb(222, 224, 210)",
           "rgb(189, 206, 181)",
           "rgb(153, 189, 156)",
           "rgb(110, 173, 138)",
           "rgb(65, 157, 129)",
           "rgb(25, 137, 125)",
           "rgb(18, 116, 117)",
           "rgb(25, 94, 106)",
           "rgb(28, 72, 93)",
           "rgb(25, 51, 80)",
           "rgb(20, 29, 67)"
          ]
         },
         "orientation": "h",
         "type": "bar",
         "x": [
          1,
          1,
          1,
          1,
          1,
          1,
          1,
          1,
          1,
          1,
          1,
          1
         ],
         "y": [
          "tempo",
          "tempo",
          "tempo",
          "tempo",
          "tempo",
          "tempo",
          "tempo",
          "tempo",
          "tempo",
          "tempo",
          "tempo",
          "tempo"
         ]
        },
        {
         "customdata": [
          0,
          1,
          2,
          3,
          4,
          5,
          6,
          7,
          8,
          9,
          10,
          11
         ],
         "hovertemplate": "%{y}[%{customdata}] = %{marker.color}<extra></extra>",
         "marker": {
          "color": [
           "rgb(241, 236, 236)",
           "rgb(230, 209, 203)",
           "rgb(221, 182, 170)",
           "rgb(213, 156, 137)",
           "rgb(205, 129, 103)",
           "rgb(196, 102, 73)",
           "rgb(186, 74, 47)",
           "rgb(172, 44, 36)",
           "rgb(149, 19, 39)",
           "rgb(120, 14, 40)",
           "rgb(89, 13, 31)",
           "rgb(60, 9, 17)"
          ]
         },
         "orientation": "h",
         "type": "bar",
         "x": [
          1,
          1,
          1,
          1,
          1,
          1,
          1,
          1,
          1,
          1,
          1,
          1
         ],
         "y": [
          "amp",
          "amp",
          "amp",
          "amp",
          "amp",
          "amp",
          "amp",
          "amp",
          "amp",
          "amp",
          "amp",
          "amp"
         ]
        },
        {
         "customdata": [
          0,
          1,
          2,
          3,
          4,
          5,
          6,
          7,
          8,
          9,
          10,
          11
         ],
         "hovertemplate": "%{y}[%{customdata}] = %{marker.color}<extra></extra>",
         "marker": {
          "color": [
           "rgb(254, 252, 205)",
           "rgb(239, 225, 156)",
           "rgb(221, 201, 106)",
           "rgb(194, 182, 59)",
           "rgb(157, 167, 21)",
           "rgb(116, 153, 5)",
           "rgb(75, 138, 20)",
           "rgb(35, 121, 36)",
           "rgb(11, 100, 44)",
           "rgb(18, 78, 43)",
           "rgb(25, 56, 34)",
           "rgb(23, 35, 18)"
          ]
         },
         "orientation": "h",
         "type": "bar",
         "x": [
          1,
          1,
          1,
          1,
          1,
          1,
          1,
          1,
          1,
          1,
          1,
          1
         ],
         "y": [
          "speed",
          "speed",
          "speed",
          "speed",
          "speed",
          "speed",
          "speed",
          "speed",
          "speed",
          "speed",
          "speed",
          "speed"
         ]
        },
        {
         "customdata": [
          0,
          1,
          2,
          3,
          4,
          5,
          6,
          7,
          8,
          9,
          10,
          11
         ],
         "hovertemplate": "%{y}[%{customdata}] = %{marker.color}<extra></extra>",
         "marker": {
          "color": [
           "rgb(253, 237, 176)",
           "rgb(250, 205, 145)",
           "rgb(246, 173, 119)",
           "rgb(240, 142, 98)",
           "rgb(231, 109, 84)",
           "rgb(216, 80, 83)",
           "rgb(195, 56, 90)",
           "rgb(168, 40, 96)",
           "rgb(138, 29, 99)",
           "rgb(107, 24, 93)",
           "rgb(76, 21, 80)",
           "rgb(47, 15, 61)"
          ]
         },
         "orientation": "h",
         "type": "bar",
         "x": [
          1,
          1,
          1,
          1,
          1,
          1,
          1,
          1,
          1,
          1,
          1,
          1
         ],
         "y": [
          "matter",
          "matter",
          "matter",
          "matter",
          "matter",
          "matter",
          "matter",
          "matter",
          "matter",
          "matter",
          "matter",
          "matter"
         ]
        },
        {
         "customdata": [
          0,
          1,
          2,
          3,
          4,
          5,
          6,
          7,
          8,
          9,
          10,
          11
         ],
         "hovertemplate": "%{y}[%{customdata}] = %{marker.color}<extra></extra>",
         "marker": {
          "color": [
           "rgb(214, 249, 207)",
           "rgb(186, 228, 174)",
           "rgb(156, 209, 143)",
           "rgb(124, 191, 115)",
           "rgb(85, 174, 91)",
           "rgb(37, 157, 81)",
           "rgb(7, 138, 78)",
           "rgb(13, 117, 71)",
           "rgb(23, 95, 61)",
           "rgb(25, 75, 49)",
           "rgb(23, 55, 35)",
           "rgb(17, 36, 20)"
          ]
         },
         "orientation": "h",
         "type": "bar",
         "x": [
          1,
          1,
          1,
          1,
          1,
          1,
          1,
          1,
          1,
          1,
          1,
          1
         ],
         "y": [
          "algae",
          "algae",
          "algae",
          "algae",
          "algae",
          "algae",
          "algae",
          "algae",
          "algae",
          "algae",
          "algae",
          "algae"
         ]
        },
        {
         "customdata": [
          0,
          1,
          2,
          3,
          4,
          5,
          6,
          7,
          8,
          9,
          10,
          11
         ],
         "hovertemplate": "%{y}[%{customdata}] = %{marker.color}<extra></extra>",
         "marker": {
          "color": [
           "rgb(230, 240, 240)",
           "rgb(191, 221, 229)",
           "rgb(156, 201, 226)",
           "rgb(129, 180, 227)",
           "rgb(115, 154, 228)",
           "rgb(117, 127, 221)",
           "rgb(120, 100, 202)",
           "rgb(119, 74, 175)",
           "rgb(113, 50, 141)",
           "rgb(100, 31, 104)",
           "rgb(80, 20, 66)",
           "rgb(54, 14, 36)"
          ]
         },
         "orientation": "h",
         "type": "bar",
         "x": [
          1,
          1,
          1,
          1,
          1,
          1,
          1,
          1,
          1,
          1,
          1,
          1
         ],
         "y": [
          "dense",
          "dense",
          "dense",
          "dense",
          "dense",
          "dense",
          "dense",
          "dense",
          "dense",
          "dense",
          "dense",
          "dense"
         ]
        },
        {
         "customdata": [
          0,
          1,
          2,
          3,
          4,
          5,
          6,
          7,
          8,
          9,
          10,
          11
         ],
         "hovertemplate": "%{y}[%{customdata}] = %{marker.color}<extra></extra>",
         "marker": {
          "color": [
           "rgb(253, 253, 204)",
           "rgb(206, 236, 179)",
           "rgb(156, 219, 165)",
           "rgb(111, 201, 163)",
           "rgb(86, 177, 163)",
           "rgb(76, 153, 160)",
           "rgb(68, 130, 155)",
           "rgb(62, 108, 150)",
           "rgb(62, 82, 143)",
           "rgb(64, 60, 115)",
           "rgb(54, 43, 77)",
           "rgb(39, 26, 44)"
          ]
         },
         "orientation": "h",
         "type": "bar",
         "x": [
          1,
          1,
          1,
          1,
          1,
          1,
          1,
          1,
          1,
          1,
          1,
          1
         ],
         "y": [
          "deep",
          "deep",
          "deep",
          "deep",
          "deep",
          "deep",
          "deep",
          "deep",
          "deep",
          "deep",
          "deep",
          "deep"
         ]
        },
        {
         "customdata": [
          0,
          1,
          2,
          3,
          4,
          5,
          6,
          7,
          8,
          9,
          10,
          11
         ],
         "hovertemplate": "%{y}[%{customdata}] = %{marker.color}<extra></extra>",
         "marker": {
          "color": [
           "rgb(0, 0, 0)",
           "rgb(16, 16, 16)",
           "rgb(38, 38, 38)",
           "rgb(59, 59, 59)",
           "rgb(81, 80, 80)",
           "rgb(102, 101, 101)",
           "rgb(124, 123, 122)",
           "rgb(146, 146, 145)",
           "rgb(171, 171, 170)",
           "rgb(197, 197, 195)",
           "rgb(224, 224, 223)",
           "rgb(254, 254, 253)"
          ]
         },
         "orientation": "h",
         "type": "bar",
         "x": [
          1,
          1,
          1,
          1,
          1,
          1,
          1,
          1,
          1,
          1,
          1,
          1
         ],
         "y": [
          "gray",
          "gray",
          "gray",
          "gray",
          "gray",
          "gray",
          "gray",
          "gray",
          "gray",
          "gray",
          "gray",
          "gray"
         ]
        },
        {
         "customdata": [
          0,
          1,
          2,
          3,
          4,
          5,
          6,
          7,
          8,
          9,
          10,
          11
         ],
         "hovertemplate": "%{y}[%{customdata}] = %{marker.color}<extra></extra>",
         "marker": {
          "color": [
           "rgb(3, 5, 18)",
           "rgb(25, 25, 51)",
           "rgb(44, 42, 87)",
           "rgb(58, 60, 125)",
           "rgb(62, 83, 160)",
           "rgb(62, 109, 178)",
           "rgb(72, 134, 187)",
           "rgb(89, 159, 196)",
           "rgb(114, 184, 205)",
           "rgb(149, 207, 216)",
           "rgb(192, 229, 232)",
           "rgb(234, 252, 253)"
          ]
         },
         "orientation": "h",
         "type": "bar",
         "x": [
          1,
          1,
          1,
          1,
          1,
          1,
          1,
          1,
          1,
          1,
          1,
          1
         ],
         "y": [
          "ice",
          "ice",
          "ice",
          "ice",
          "ice",
          "ice",
          "ice",
          "ice",
          "ice",
          "ice",
          "ice",
          "ice"
         ]
        },
        {
         "customdata": [
          0,
          1,
          2,
          3,
          4,
          5,
          6,
          7,
          8,
          9,
          10,
          11
         ],
         "hovertemplate": "%{y}[%{customdata}] = %{marker.color}<extra></extra>",
         "marker": {
          "color": [
           "rgb(51, 19, 23)",
           "rgb(79, 28, 33)",
           "rgb(108, 36, 36)",
           "rgb(135, 47, 32)",
           "rgb(157, 66, 25)",
           "rgb(174, 88, 20)",
           "rgb(188, 111, 19)",
           "rgb(199, 137, 22)",
           "rgb(209, 164, 32)",
           "rgb(217, 192, 44)",
           "rgb(222, 222, 59)",
           "rgb(224, 253, 74)"
          ]
         },
         "orientation": "h",
         "type": "bar",
         "x": [
          1,
          1,
          1,
          1,
          1,
          1,
          1,
          1,
          1,
          1,
          1,
          1
         ],
         "y": [
          "solar",
          "solar",
          "solar",
          "solar",
          "solar",
          "solar",
          "solar",
          "solar",
          "solar",
          "solar",
          "solar",
          "solar"
         ]
        },
        {
         "customdata": [
          0,
          1,
          2,
          3,
          4,
          5,
          6,
          7,
          8,
          9,
          10,
          11
         ],
         "hovertemplate": "%{y}[%{customdata}] = %{marker.color}<extra></extra>",
         "marker": {
          "color": [
           "rgb(41, 24, 107)",
           "rgb(42, 35, 160)",
           "rgb(15, 71, 153)",
           "rgb(18, 95, 142)",
           "rgb(38, 116, 137)",
           "rgb(53, 136, 136)",
           "rgb(65, 157, 133)",
           "rgb(81, 178, 124)",
           "rgb(111, 198, 107)",
           "rgb(160, 214, 91)",
           "rgb(212, 225, 112)",
           "rgb(253, 238, 153)"
          ]
         },
         "orientation": "h",
         "type": "bar",
         "x": [
          1,
          1,
          1,
          1,
          1,
          1,
          1,
          1,
          1,
          1,
          1,
          1
         ],
         "y": [
          "haline",
          "haline",
          "haline",
          "haline",
          "haline",
          "haline",
          "haline",
          "haline",
          "haline",
          "haline",
          "haline",
          "haline"
         ]
        },
        {
         "customdata": [
          0,
          1,
          2,
          3,
          4,
          5,
          6,
          7,
          8,
          9,
          10,
          11
         ],
         "hovertemplate": "%{y}[%{customdata}] = %{marker.color}<extra></extra>",
         "marker": {
          "color": [
           "rgb(3, 35, 51)",
           "rgb(13, 48, 100)",
           "rgb(53, 50, 155)",
           "rgb(93, 62, 153)",
           "rgb(126, 77, 143)",
           "rgb(158, 89, 135)",
           "rgb(193, 100, 121)",
           "rgb(225, 113, 97)",
           "rgb(246, 139, 69)",
           "rgb(251, 173, 60)",
           "rgb(246, 211, 70)",
           "rgb(231, 250, 90)"
          ]
         },
         "orientation": "h",
         "type": "bar",
         "x": [
          1,
          1,
          1,
          1,
          1,
          1,
          1,
          1,
          1,
          1,
          1,
          1
         ],
         "y": [
          "thermal",
          "thermal",
          "thermal",
          "thermal",
          "thermal",
          "thermal",
          "thermal",
          "thermal",
          "thermal",
          "thermal",
          "thermal",
          "thermal"
         ]
        },
        {
         "customdata": [
          0,
          1,
          2,
          3,
          4,
          5,
          6,
          7,
          8,
          9,
          10,
          11
         ],
         "hovertemplate": "%{y}[%{customdata}] = %{marker.color}<extra></extra>",
         "marker": {
          "color": [
           "rgb(232, 245, 171)",
           "rgb(220, 219, 137)",
           "rgb(209, 193, 107)",
           "rgb(199, 168, 83)",
           "rgb(186, 143, 66)",
           "rgb(170, 121, 60)",
           "rgb(151, 103, 58)",
           "rgb(129, 87, 56)",
           "rgb(104, 72, 53)",
           "rgb(80, 59, 46)",
           "rgb(57, 45, 37)",
           "rgb(34, 30, 27)"
          ]
         },
         "orientation": "h",
         "type": "bar",
         "x": [
          1,
          1,
          1,
          1,
          1,
          1,
          1,
          1,
          1,
          1,
          1,
          1
         ],
         "y": [
          "turbid",
          "turbid",
          "turbid",
          "turbid",
          "turbid",
          "turbid",
          "turbid",
          "turbid",
          "turbid",
          "turbid",
          "turbid",
          "turbid"
         ]
        },
        {
         "customdata": [
          0,
          1,
          2,
          3,
          4,
          5,
          6,
          7,
          8
         ],
         "hovertemplate": "%{y}[%{customdata}] = %{marker.color}<extra></extra>",
         "marker": {
          "color": [
           "rgb(255,255,204)",
           "rgb(255,237,160)",
           "rgb(254,217,118)",
           "rgb(254,178,76)",
           "rgb(253,141,60)",
           "rgb(252,78,42)",
           "rgb(227,26,28)",
           "rgb(189,0,38)",
           "rgb(128,0,38)"
          ]
         },
         "orientation": "h",
         "type": "bar",
         "x": [
          1,
          1,
          1,
          1,
          1,
          1,
          1,
          1,
          1
         ],
         "y": [
          "YlOrRd",
          "YlOrRd",
          "YlOrRd",
          "YlOrRd",
          "YlOrRd",
          "YlOrRd",
          "YlOrRd",
          "YlOrRd",
          "YlOrRd"
         ]
        },
        {
         "customdata": [
          0,
          1,
          2,
          3,
          4,
          5,
          6,
          7,
          8
         ],
         "hovertemplate": "%{y}[%{customdata}] = %{marker.color}<extra></extra>",
         "marker": {
          "color": [
           "rgb(255,255,229)",
           "rgb(255,247,188)",
           "rgb(254,227,145)",
           "rgb(254,196,79)",
           "rgb(254,153,41)",
           "rgb(236,112,20)",
           "rgb(204,76,2)",
           "rgb(153,52,4)",
           "rgb(102,37,6)"
          ]
         },
         "orientation": "h",
         "type": "bar",
         "x": [
          1,
          1,
          1,
          1,
          1,
          1,
          1,
          1,
          1
         ],
         "y": [
          "YlOrBr",
          "YlOrBr",
          "YlOrBr",
          "YlOrBr",
          "YlOrBr",
          "YlOrBr",
          "YlOrBr",
          "YlOrBr",
          "YlOrBr"
         ]
        },
        {
         "customdata": [
          0,
          1,
          2,
          3,
          4,
          5,
          6,
          7,
          8
         ],
         "hovertemplate": "%{y}[%{customdata}] = %{marker.color}<extra></extra>",
         "marker": {
          "color": [
           "rgb(255,255,217)",
           "rgb(237,248,177)",
           "rgb(199,233,180)",
           "rgb(127,205,187)",
           "rgb(65,182,196)",
           "rgb(29,145,192)",
           "rgb(34,94,168)",
           "rgb(37,52,148)",
           "rgb(8,29,88)"
          ]
         },
         "orientation": "h",
         "type": "bar",
         "x": [
          1,
          1,
          1,
          1,
          1,
          1,
          1,
          1,
          1
         ],
         "y": [
          "YlGnBu",
          "YlGnBu",
          "YlGnBu",
          "YlGnBu",
          "YlGnBu",
          "YlGnBu",
          "YlGnBu",
          "YlGnBu",
          "YlGnBu"
         ]
        },
        {
         "customdata": [
          0,
          1,
          2,
          3,
          4,
          5,
          6,
          7,
          8
         ],
         "hovertemplate": "%{y}[%{customdata}] = %{marker.color}<extra></extra>",
         "marker": {
          "color": [
           "rgb(255,255,229)",
           "rgb(247,252,185)",
           "rgb(217,240,163)",
           "rgb(173,221,142)",
           "rgb(120,198,121)",
           "rgb(65,171,93)",
           "rgb(35,132,67)",
           "rgb(0,104,55)",
           "rgb(0,69,41)"
          ]
         },
         "orientation": "h",
         "type": "bar",
         "x": [
          1,
          1,
          1,
          1,
          1,
          1,
          1,
          1,
          1
         ],
         "y": [
          "YlGn",
          "YlGn",
          "YlGn",
          "YlGn",
          "YlGn",
          "YlGn",
          "YlGn",
          "YlGn",
          "YlGn"
         ]
        },
        {
         "customdata": [
          0,
          1,
          2,
          3,
          4,
          5,
          6,
          7,
          8
         ],
         "hovertemplate": "%{y}[%{customdata}] = %{marker.color}<extra></extra>",
         "marker": {
          "color": [
           "rgb(255,245,240)",
           "rgb(254,224,210)",
           "rgb(252,187,161)",
           "rgb(252,146,114)",
           "rgb(251,106,74)",
           "rgb(239,59,44)",
           "rgb(203,24,29)",
           "rgb(165,15,21)",
           "rgb(103,0,13)"
          ]
         },
         "orientation": "h",
         "type": "bar",
         "x": [
          1,
          1,
          1,
          1,
          1,
          1,
          1,
          1,
          1
         ],
         "y": [
          "Reds",
          "Reds",
          "Reds",
          "Reds",
          "Reds",
          "Reds",
          "Reds",
          "Reds",
          "Reds"
         ]
        },
        {
         "customdata": [
          0,
          1,
          2,
          3,
          4,
          5,
          6,
          7,
          8
         ],
         "hovertemplate": "%{y}[%{customdata}] = %{marker.color}<extra></extra>",
         "marker": {
          "color": [
           "rgb(255,247,243)",
           "rgb(253,224,221)",
           "rgb(252,197,192)",
           "rgb(250,159,181)",
           "rgb(247,104,161)",
           "rgb(221,52,151)",
           "rgb(174,1,126)",
           "rgb(122,1,119)",
           "rgb(73,0,106)"
          ]
         },
         "orientation": "h",
         "type": "bar",
         "x": [
          1,
          1,
          1,
          1,
          1,
          1,
          1,
          1,
          1
         ],
         "y": [
          "RdPu",
          "RdPu",
          "RdPu",
          "RdPu",
          "RdPu",
          "RdPu",
          "RdPu",
          "RdPu",
          "RdPu"
         ]
        },
        {
         "customdata": [
          0,
          1,
          2,
          3,
          4,
          5,
          6,
          7,
          8,
          9,
          10
         ],
         "hovertemplate": "%{y}[%{customdata}] = %{marker.color}<extra></extra>",
         "marker": {
          "color": [
           "rgb(103,0,31)",
           "rgb(178,24,43)",
           "rgb(214,96,77)",
           "rgb(244,165,130)",
           "rgb(253,219,199)",
           "rgb(247,247,247)",
           "rgb(209,229,240)",
           "rgb(146,197,222)",
           "rgb(67,147,195)",
           "rgb(33,102,172)",
           "rgb(5,48,97)"
          ]
         },
         "orientation": "h",
         "type": "bar",
         "x": [
          1,
          1,
          1,
          1,
          1,
          1,
          1,
          1,
          1,
          1,
          1
         ],
         "y": [
          "RdBu",
          "RdBu",
          "RdBu",
          "RdBu",
          "RdBu",
          "RdBu",
          "RdBu",
          "RdBu",
          "RdBu",
          "RdBu",
          "RdBu"
         ]
        },
        {
         "customdata": [
          0,
          1,
          2,
          3,
          4,
          5,
          6,
          7,
          8
         ],
         "hovertemplate": "%{y}[%{customdata}] = %{marker.color}<extra></extra>",
         "marker": {
          "color": [
           "rgb(252,251,253)",
           "rgb(239,237,245)",
           "rgb(218,218,235)",
           "rgb(188,189,220)",
           "rgb(158,154,200)",
           "rgb(128,125,186)",
           "rgb(106,81,163)",
           "rgb(84,39,143)",
           "rgb(63,0,125)"
          ]
         },
         "orientation": "h",
         "type": "bar",
         "x": [
          1,
          1,
          1,
          1,
          1,
          1,
          1,
          1,
          1
         ],
         "y": [
          "Purples",
          "Purples",
          "Purples",
          "Purples",
          "Purples",
          "Purples",
          "Purples",
          "Purples",
          "Purples"
         ]
        },
        {
         "customdata": [
          0,
          1,
          2,
          3,
          4,
          5,
          6,
          7,
          8
         ],
         "hovertemplate": "%{y}[%{customdata}] = %{marker.color}<extra></extra>",
         "marker": {
          "color": [
           "rgb(247,244,249)",
           "rgb(231,225,239)",
           "rgb(212,185,218)",
           "rgb(201,148,199)",
           "rgb(223,101,176)",
           "rgb(231,41,138)",
           "rgb(206,18,86)",
           "rgb(152,0,67)",
           "rgb(103,0,31)"
          ]
         },
         "orientation": "h",
         "type": "bar",
         "x": [
          1,
          1,
          1,
          1,
          1,
          1,
          1,
          1,
          1
         ],
         "y": [
          "PuRd",
          "PuRd",
          "PuRd",
          "PuRd",
          "PuRd",
          "PuRd",
          "PuRd",
          "PuRd",
          "PuRd"
         ]
        },
        {
         "customdata": [
          0,
          1,
          2,
          3,
          4,
          5,
          6,
          7,
          8
         ],
         "hovertemplate": "%{y}[%{customdata}] = %{marker.color}<extra></extra>",
         "marker": {
          "color": [
           "rgb(255,247,251)",
           "rgb(236,226,240)",
           "rgb(208,209,230)",
           "rgb(166,189,219)",
           "rgb(103,169,207)",
           "rgb(54,144,192)",
           "rgb(2,129,138)",
           "rgb(1,108,89)",
           "rgb(1,70,54)"
          ]
         },
         "orientation": "h",
         "type": "bar",
         "x": [
          1,
          1,
          1,
          1,
          1,
          1,
          1,
          1,
          1
         ],
         "y": [
          "PuBuGn",
          "PuBuGn",
          "PuBuGn",
          "PuBuGn",
          "PuBuGn",
          "PuBuGn",
          "PuBuGn",
          "PuBuGn",
          "PuBuGn"
         ]
        },
        {
         "customdata": [
          0,
          1,
          2,
          3,
          4,
          5,
          6,
          7,
          8
         ],
         "hovertemplate": "%{y}[%{customdata}] = %{marker.color}<extra></extra>",
         "marker": {
          "color": [
           "rgb(255,247,251)",
           "rgb(236,231,242)",
           "rgb(208,209,230)",
           "rgb(166,189,219)",
           "rgb(116,169,207)",
           "rgb(54,144,192)",
           "rgb(5,112,176)",
           "rgb(4,90,141)",
           "rgb(2,56,88)"
          ]
         },
         "orientation": "h",
         "type": "bar",
         "x": [
          1,
          1,
          1,
          1,
          1,
          1,
          1,
          1,
          1
         ],
         "y": [
          "PuBu",
          "PuBu",
          "PuBu",
          "PuBu",
          "PuBu",
          "PuBu",
          "PuBu",
          "PuBu",
          "PuBu"
         ]
        },
        {
         "customdata": [
          0,
          1,
          2,
          3,
          4,
          5,
          6,
          7,
          8
         ],
         "hovertemplate": "%{y}[%{customdata}] = %{marker.color}<extra></extra>",
         "marker": {
          "color": [
           "rgb(255,245,235)",
           "rgb(254,230,206)",
           "rgb(253,208,162)",
           "rgb(253,174,107)",
           "rgb(253,141,60)",
           "rgb(241,105,19)",
           "rgb(217,72,1)",
           "rgb(166,54,3)",
           "rgb(127,39,4)"
          ]
         },
         "orientation": "h",
         "type": "bar",
         "x": [
          1,
          1,
          1,
          1,
          1,
          1,
          1,
          1,
          1
         ],
         "y": [
          "Oranges",
          "Oranges",
          "Oranges",
          "Oranges",
          "Oranges",
          "Oranges",
          "Oranges",
          "Oranges",
          "Oranges"
         ]
        },
        {
         "customdata": [
          0,
          1,
          2,
          3,
          4,
          5,
          6,
          7,
          8
         ],
         "hovertemplate": "%{y}[%{customdata}] = %{marker.color}<extra></extra>",
         "marker": {
          "color": [
           "rgb(255,247,236)",
           "rgb(254,232,200)",
           "rgb(253,212,158)",
           "rgb(253,187,132)",
           "rgb(252,141,89)",
           "rgb(239,101,72)",
           "rgb(215,48,31)",
           "rgb(179,0,0)",
           "rgb(127,0,0)"
          ]
         },
         "orientation": "h",
         "type": "bar",
         "x": [
          1,
          1,
          1,
          1,
          1,
          1,
          1,
          1,
          1
         ],
         "y": [
          "OrRd",
          "OrRd",
          "OrRd",
          "OrRd",
          "OrRd",
          "OrRd",
          "OrRd",
          "OrRd",
          "OrRd"
         ]
        },
        {
         "customdata": [
          0,
          1,
          2,
          3,
          4,
          5,
          6,
          7,
          8
         ],
         "hovertemplate": "%{y}[%{customdata}] = %{marker.color}<extra></extra>",
         "marker": {
          "color": [
           "rgb(255,255,255)",
           "rgb(240,240,240)",
           "rgb(217,217,217)",
           "rgb(189,189,189)",
           "rgb(150,150,150)",
           "rgb(115,115,115)",
           "rgb(82,82,82)",
           "rgb(37,37,37)",
           "rgb(0, 0, 0)"
          ]
         },
         "orientation": "h",
         "type": "bar",
         "x": [
          1,
          1,
          1,
          1,
          1,
          1,
          1,
          1,
          1
         ],
         "y": [
          "Greys",
          "Greys",
          "Greys",
          "Greys",
          "Greys",
          "Greys",
          "Greys",
          "Greys",
          "Greys"
         ]
        },
        {
         "customdata": [
          0,
          1,
          2,
          3,
          4,
          5,
          6,
          7,
          8
         ],
         "hovertemplate": "%{y}[%{customdata}] = %{marker.color}<extra></extra>",
         "marker": {
          "color": [
           "rgb(247,252,245)",
           "rgb(229,245,224)",
           "rgb(199,233,192)",
           "rgb(161,217,155)",
           "rgb(116,196,118)",
           "rgb(65,171,93)",
           "rgb(35,139,69)",
           "rgb(0,109,44)",
           "rgb(0,68,27)"
          ]
         },
         "orientation": "h",
         "type": "bar",
         "x": [
          1,
          1,
          1,
          1,
          1,
          1,
          1,
          1,
          1
         ],
         "y": [
          "Greens",
          "Greens",
          "Greens",
          "Greens",
          "Greens",
          "Greens",
          "Greens",
          "Greens",
          "Greens"
         ]
        },
        {
         "customdata": [
          0,
          1,
          2,
          3,
          4,
          5,
          6,
          7,
          8
         ],
         "hovertemplate": "%{y}[%{customdata}] = %{marker.color}<extra></extra>",
         "marker": {
          "color": [
           "rgb(247,252,240)",
           "rgb(224,243,219)",
           "rgb(204,235,197)",
           "rgb(168,221,181)",
           "rgb(123,204,196)",
           "rgb(78,179,211)",
           "rgb(43,140,190)",
           "rgb(8,104,172)",
           "rgb(8,64,129)"
          ]
         },
         "orientation": "h",
         "type": "bar",
         "x": [
          1,
          1,
          1,
          1,
          1,
          1,
          1,
          1,
          1
         ],
         "y": [
          "GnBu",
          "GnBu",
          "GnBu",
          "GnBu",
          "GnBu",
          "GnBu",
          "GnBu",
          "GnBu",
          "GnBu"
         ]
        },
        {
         "customdata": [
          0,
          1,
          2,
          3,
          4,
          5,
          6,
          7,
          8
         ],
         "hovertemplate": "%{y}[%{customdata}] = %{marker.color}<extra></extra>",
         "marker": {
          "color": [
           "rgb(247,252,253)",
           "rgb(224,236,244)",
           "rgb(191,211,230)",
           "rgb(158,188,218)",
           "rgb(140,150,198)",
           "rgb(140,107,177)",
           "rgb(136,65,157)",
           "rgb(129,15,124)",
           "rgb(77,0,75)"
          ]
         },
         "orientation": "h",
         "type": "bar",
         "x": [
          1,
          1,
          1,
          1,
          1,
          1,
          1,
          1,
          1
         ],
         "y": [
          "BuPu",
          "BuPu",
          "BuPu",
          "BuPu",
          "BuPu",
          "BuPu",
          "BuPu",
          "BuPu",
          "BuPu"
         ]
        },
        {
         "customdata": [
          0,
          1,
          2,
          3,
          4,
          5,
          6,
          7,
          8
         ],
         "hovertemplate": "%{y}[%{customdata}] = %{marker.color}<extra></extra>",
         "marker": {
          "color": [
           "rgb(247,252,253)",
           "rgb(229,245,249)",
           "rgb(204,236,230)",
           "rgb(153,216,201)",
           "rgb(102,194,164)",
           "rgb(65,174,118)",
           "rgb(35,139,69)",
           "rgb(0,109,44)",
           "rgb(0,68,27)"
          ]
         },
         "orientation": "h",
         "type": "bar",
         "x": [
          1,
          1,
          1,
          1,
          1,
          1,
          1,
          1,
          1
         ],
         "y": [
          "BuGn",
          "BuGn",
          "BuGn",
          "BuGn",
          "BuGn",
          "BuGn",
          "BuGn",
          "BuGn",
          "BuGn"
         ]
        },
        {
         "customdata": [
          0,
          1,
          2,
          3,
          4,
          5,
          6,
          7,
          8
         ],
         "hovertemplate": "%{y}[%{customdata}] = %{marker.color}<extra></extra>",
         "marker": {
          "color": [
           "rgb(247,251,255)",
           "rgb(222,235,247)",
           "rgb(198,219,239)",
           "rgb(158,202,225)",
           "rgb(107,174,214)",
           "rgb(66,146,198)",
           "rgb(33,113,181)",
           "rgb(8,81,156)",
           "rgb(8,48,107)"
          ]
         },
         "orientation": "h",
         "type": "bar",
         "x": [
          1,
          1,
          1,
          1,
          1,
          1,
          1,
          1,
          1
         ],
         "y": [
          "Blues",
          "Blues",
          "Blues",
          "Blues",
          "Blues",
          "Blues",
          "Blues",
          "Blues",
          "Blues"
         ]
        },
        {
         "customdata": [
          0,
          1,
          2,
          3,
          4,
          5,
          6,
          7,
          8
         ],
         "hovertemplate": "%{y}[%{customdata}] = %{marker.color}<extra></extra>",
         "marker": {
          "color": [
           "rgb(150,0,90)",
           "rgb(0,0,200)",
           "rgb(0,25,255)",
           "rgb(0,152,255)",
           "rgb(44,255,150)",
           "rgb(151,255,0)",
           "rgb(255,234,0)",
           "rgb(255,111,0)",
           "rgb(255,0,0)"
          ]
         },
         "orientation": "h",
         "type": "bar",
         "x": [
          1,
          1,
          1,
          1,
          1,
          1,
          1,
          1,
          1
         ],
         "y": [
          "Rainbow",
          "Rainbow",
          "Rainbow",
          "Rainbow",
          "Rainbow",
          "Rainbow",
          "Rainbow",
          "Rainbow",
          "Rainbow"
         ]
        },
        {
         "customdata": [
          0,
          1,
          2,
          3,
          4,
          5
         ],
         "hovertemplate": "%{y}[%{customdata}] = %{marker.color}<extra></extra>",
         "marker": {
          "color": [
           "rgb(0,0,131)",
           "rgb(0,60,170)",
           "rgb(5,255,255)",
           "rgb(255,255,0)",
           "rgb(250,0,0)",
           "rgb(128,0,0)"
          ]
         },
         "orientation": "h",
         "type": "bar",
         "x": [
          1,
          1,
          1,
          1,
          1,
          1
         ],
         "y": [
          "Jet",
          "Jet",
          "Jet",
          "Jet",
          "Jet",
          "Jet"
         ]
        },
        {
         "customdata": [
          0,
          1,
          2,
          3
         ],
         "hovertemplate": "%{y}[%{customdata}] = %{marker.color}<extra></extra>",
         "marker": {
          "color": [
           "rgb(0, 0, 0)",
           "rgb(230,0,0)",
           "rgb(255,210,0)",
           "rgb(255,255,255)"
          ]
         },
         "orientation": "h",
         "type": "bar",
         "x": [
          1,
          1,
          1,
          1
         ],
         "y": [
          "Hot",
          "Hot",
          "Hot",
          "Hot"
         ]
        },
        {
         "customdata": [
          0,
          1,
          2,
          3,
          4,
          5
         ],
         "hovertemplate": "%{y}[%{customdata}] = %{marker.color}<extra></extra>",
         "marker": {
          "color": [
           "rgb(0, 0, 0)",
           "rgb(30,0,100)",
           "rgb(120,0,100)",
           "rgb(160,90,0)",
           "rgb(230,200,0)",
           "rgb(255,250,220)"
          ]
         },
         "orientation": "h",
         "type": "bar",
         "x": [
          1,
          1,
          1,
          1,
          1,
          1
         ],
         "y": [
          "Electric",
          "Electric",
          "Electric",
          "Electric",
          "Electric",
          "Electric"
         ]
        },
        {
         "customdata": [
          0,
          1
         ],
         "hovertemplate": "%{y}[%{customdata}] = %{marker.color}<extra></extra>",
         "marker": {
          "color": [
           "rgb(0,0,255)",
           "rgb(255,0,0)"
          ]
         },
         "orientation": "h",
         "type": "bar",
         "x": [
          1,
          1
         ],
         "y": [
          "Bluered",
          "Bluered"
         ]
        },
        {
         "customdata": [
          0,
          1,
          2,
          3,
          4
         ],
         "hovertemplate": "%{y}[%{customdata}] = %{marker.color}<extra></extra>",
         "marker": {
          "color": [
           "rgb(0, 0, 0)",
           "rgb(230,0,0)",
           "rgb(230,210,0)",
           "rgb(255,255,255)",
           "rgb(160,200,255)"
          ]
         },
         "orientation": "h",
         "type": "bar",
         "x": [
          1,
          1,
          1,
          1,
          1
         ],
         "y": [
          "Blackbody",
          "Blackbody",
          "Blackbody",
          "Blackbody",
          "Blackbody"
         ]
        },
        {
         "customdata": [
          0,
          1,
          2,
          3,
          4,
          5,
          6,
          7,
          8,
          9,
          10,
          11,
          12,
          13,
          14
         ],
         "hovertemplate": "%{y}[%{customdata}] = %{marker.color}<extra></extra>",
         "marker": {
          "color": [
           "#30123b",
           "#4145ab",
           "#4675ed",
           "#39a2fc",
           "#1bcfd4",
           "#24eca6",
           "#61fc6c",
           "#a4fc3b",
           "#d1e834",
           "#f3c63a",
           "#fe9b2d",
           "#f36315",
           "#d93806",
           "#b11901",
           "#7a0402"
          ]
         },
         "orientation": "h",
         "type": "bar",
         "x": [
          1,
          1,
          1,
          1,
          1,
          1,
          1,
          1,
          1,
          1,
          1,
          1,
          1,
          1,
          1
         ],
         "y": [
          "Turbo",
          "Turbo",
          "Turbo",
          "Turbo",
          "Turbo",
          "Turbo",
          "Turbo",
          "Turbo",
          "Turbo",
          "Turbo",
          "Turbo",
          "Turbo",
          "Turbo",
          "Turbo",
          "Turbo"
         ]
        },
        {
         "customdata": [
          0,
          1,
          2,
          3,
          4,
          5,
          6,
          7,
          8,
          9
         ],
         "hovertemplate": "%{y}[%{customdata}] = %{marker.color}<extra></extra>",
         "marker": {
          "color": [
           "#0d0887",
           "#46039f",
           "#7201a8",
           "#9c179e",
           "#bd3786",
           "#d8576b",
           "#ed7953",
           "#fb9f3a",
           "#fdca26",
           "#f0f921"
          ]
         },
         "orientation": "h",
         "type": "bar",
         "x": [
          1,
          1,
          1,
          1,
          1,
          1,
          1,
          1,
          1,
          1
         ],
         "y": [
          "Plasma",
          "Plasma",
          "Plasma",
          "Plasma",
          "Plasma",
          "Plasma",
          "Plasma",
          "Plasma",
          "Plasma",
          "Plasma"
         ]
        },
        {
         "customdata": [
          0,
          1,
          2,
          3,
          4,
          5,
          6,
          7,
          8,
          9
         ],
         "hovertemplate": "%{y}[%{customdata}] = %{marker.color}<extra></extra>",
         "marker": {
          "color": [
           "#000004",
           "#180f3d",
           "#440f76",
           "#721f81",
           "#9e2f7f",
           "#cd4071",
           "#f1605d",
           "#fd9668",
           "#feca8d",
           "#fcfdbf"
          ]
         },
         "orientation": "h",
         "type": "bar",
         "x": [
          1,
          1,
          1,
          1,
          1,
          1,
          1,
          1,
          1,
          1
         ],
         "y": [
          "Magma",
          "Magma",
          "Magma",
          "Magma",
          "Magma",
          "Magma",
          "Magma",
          "Magma",
          "Magma",
          "Magma"
         ]
        },
        {
         "customdata": [
          0,
          1,
          2,
          3,
          4,
          5,
          6,
          7,
          8,
          9
         ],
         "hovertemplate": "%{y}[%{customdata}] = %{marker.color}<extra></extra>",
         "marker": {
          "color": [
           "#000004",
           "#1b0c41",
           "#4a0c6b",
           "#781c6d",
           "#a52c60",
           "#cf4446",
           "#ed6925",
           "#fb9b06",
           "#f7d13d",
           "#fcffa4"
          ]
         },
         "orientation": "h",
         "type": "bar",
         "x": [
          1,
          1,
          1,
          1,
          1,
          1,
          1,
          1,
          1,
          1
         ],
         "y": [
          "Inferno",
          "Inferno",
          "Inferno",
          "Inferno",
          "Inferno",
          "Inferno",
          "Inferno",
          "Inferno",
          "Inferno",
          "Inferno"
         ]
        },
        {
         "customdata": [
          0,
          1,
          2,
          3,
          4,
          5,
          6,
          7,
          8,
          9
         ],
         "hovertemplate": "%{y}[%{customdata}] = %{marker.color}<extra></extra>",
         "marker": {
          "color": [
           "#00224e",
           "#123570",
           "#3b496c",
           "#575d6d",
           "#707173",
           "#8a8678",
           "#a59c74",
           "#c3b369",
           "#e1cc55",
           "#fee838"
          ]
         },
         "orientation": "h",
         "type": "bar",
         "x": [
          1,
          1,
          1,
          1,
          1,
          1,
          1,
          1,
          1,
          1
         ],
         "y": [
          "Cividis",
          "Cividis",
          "Cividis",
          "Cividis",
          "Cividis",
          "Cividis",
          "Cividis",
          "Cividis",
          "Cividis",
          "Cividis"
         ]
        },
        {
         "customdata": [
          0,
          1,
          2,
          3,
          4,
          5,
          6,
          7,
          8,
          9
         ],
         "hovertemplate": "%{y}[%{customdata}] = %{marker.color}<extra></extra>",
         "marker": {
          "color": [
           "#440154",
           "#482878",
           "#3e4989",
           "#31688e",
           "#26828e",
           "#1f9e89",
           "#35b779",
           "#6ece58",
           "#b5de2b",
           "#fde725"
          ]
         },
         "orientation": "h",
         "type": "bar",
         "x": [
          1,
          1,
          1,
          1,
          1,
          1,
          1,
          1,
          1,
          1
         ],
         "y": [
          "Viridis",
          "Viridis",
          "Viridis",
          "Viridis",
          "Viridis",
          "Viridis",
          "Viridis",
          "Viridis",
          "Viridis",
          "Viridis"
         ]
        },
        {
         "customdata": [
          0,
          1,
          2,
          3,
          4,
          5,
          6,
          7,
          8,
          9,
          10,
          11,
          12
         ],
         "hovertemplate": "%{y}[%{customdata}] = %{marker.color}<extra></extra>",
         "marker": {
          "color": [
           "#0508b8",
           "#1910d8",
           "#3c19f0",
           "#6b1cfb",
           "#981cfd",
           "#bf1cfd",
           "#dd2bfd",
           "#f246fe",
           "#fc67fd",
           "#fe88fc",
           "#fea5fd",
           "#febefe",
           "#fec3fe"
          ]
         },
         "orientation": "h",
         "type": "bar",
         "x": [
          1,
          1,
          1,
          1,
          1,
          1,
          1,
          1,
          1,
          1,
          1,
          1,
          1
         ],
         "y": [
          "Plotly3",
          "Plotly3",
          "Plotly3",
          "Plotly3",
          "Plotly3",
          "Plotly3",
          "Plotly3",
          "Plotly3",
          "Plotly3",
          "Plotly3",
          "Plotly3",
          "Plotly3",
          "Plotly3"
         ]
        }
       ],
       "layout": {
        "autosize": true,
        "bargap": 0.5,
        "barmode": "stack",
        "barnorm": "fraction",
        "margin": {
         "b": 10
        },
        "showlegend": false,
        "template": {
         "data": {
          "bar": [
           {
            "error_x": {
             "color": "#2a3f5f"
            },
            "error_y": {
             "color": "#2a3f5f"
            },
            "marker": {
             "line": {
              "color": "#E5ECF6",
              "width": 0.5
             },
             "pattern": {
              "fillmode": "overlay",
              "size": 10,
              "solidity": 0.2
             }
            },
            "type": "bar"
           }
          ],
          "barpolar": [
           {
            "marker": {
             "line": {
              "color": "#E5ECF6",
              "width": 0.5
             },
             "pattern": {
              "fillmode": "overlay",
              "size": 10,
              "solidity": 0.2
             }
            },
            "type": "barpolar"
           }
          ],
          "carpet": [
           {
            "aaxis": {
             "endlinecolor": "#2a3f5f",
             "gridcolor": "white",
             "linecolor": "white",
             "minorgridcolor": "white",
             "startlinecolor": "#2a3f5f"
            },
            "baxis": {
             "endlinecolor": "#2a3f5f",
             "gridcolor": "white",
             "linecolor": "white",
             "minorgridcolor": "white",
             "startlinecolor": "#2a3f5f"
            },
            "type": "carpet"
           }
          ],
          "choropleth": [
           {
            "colorbar": {
             "outlinewidth": 0,
             "ticks": ""
            },
            "type": "choropleth"
           }
          ],
          "contour": [
           {
            "colorbar": {
             "outlinewidth": 0,
             "ticks": ""
            },
            "colorscale": [
             [
              0,
              "#0d0887"
             ],
             [
              0.1111111111111111,
              "#46039f"
             ],
             [
              0.2222222222222222,
              "#7201a8"
             ],
             [
              0.3333333333333333,
              "#9c179e"
             ],
             [
              0.4444444444444444,
              "#bd3786"
             ],
             [
              0.5555555555555556,
              "#d8576b"
             ],
             [
              0.6666666666666666,
              "#ed7953"
             ],
             [
              0.7777777777777778,
              "#fb9f3a"
             ],
             [
              0.8888888888888888,
              "#fdca26"
             ],
             [
              1,
              "#f0f921"
             ]
            ],
            "type": "contour"
           }
          ],
          "contourcarpet": [
           {
            "colorbar": {
             "outlinewidth": 0,
             "ticks": ""
            },
            "type": "contourcarpet"
           }
          ],
          "heatmap": [
           {
            "colorbar": {
             "outlinewidth": 0,
             "ticks": ""
            },
            "colorscale": [
             [
              0,
              "#0d0887"
             ],
             [
              0.1111111111111111,
              "#46039f"
             ],
             [
              0.2222222222222222,
              "#7201a8"
             ],
             [
              0.3333333333333333,
              "#9c179e"
             ],
             [
              0.4444444444444444,
              "#bd3786"
             ],
             [
              0.5555555555555556,
              "#d8576b"
             ],
             [
              0.6666666666666666,
              "#ed7953"
             ],
             [
              0.7777777777777778,
              "#fb9f3a"
             ],
             [
              0.8888888888888888,
              "#fdca26"
             ],
             [
              1,
              "#f0f921"
             ]
            ],
            "type": "heatmap"
           }
          ],
          "heatmapgl": [
           {
            "colorbar": {
             "outlinewidth": 0,
             "ticks": ""
            },
            "colorscale": [
             [
              0,
              "#0d0887"
             ],
             [
              0.1111111111111111,
              "#46039f"
             ],
             [
              0.2222222222222222,
              "#7201a8"
             ],
             [
              0.3333333333333333,
              "#9c179e"
             ],
             [
              0.4444444444444444,
              "#bd3786"
             ],
             [
              0.5555555555555556,
              "#d8576b"
             ],
             [
              0.6666666666666666,
              "#ed7953"
             ],
             [
              0.7777777777777778,
              "#fb9f3a"
             ],
             [
              0.8888888888888888,
              "#fdca26"
             ],
             [
              1,
              "#f0f921"
             ]
            ],
            "type": "heatmapgl"
           }
          ],
          "histogram": [
           {
            "marker": {
             "pattern": {
              "fillmode": "overlay",
              "size": 10,
              "solidity": 0.2
             }
            },
            "type": "histogram"
           }
          ],
          "histogram2d": [
           {
            "colorbar": {
             "outlinewidth": 0,
             "ticks": ""
            },
            "colorscale": [
             [
              0,
              "#0d0887"
             ],
             [
              0.1111111111111111,
              "#46039f"
             ],
             [
              0.2222222222222222,
              "#7201a8"
             ],
             [
              0.3333333333333333,
              "#9c179e"
             ],
             [
              0.4444444444444444,
              "#bd3786"
             ],
             [
              0.5555555555555556,
              "#d8576b"
             ],
             [
              0.6666666666666666,
              "#ed7953"
             ],
             [
              0.7777777777777778,
              "#fb9f3a"
             ],
             [
              0.8888888888888888,
              "#fdca26"
             ],
             [
              1,
              "#f0f921"
             ]
            ],
            "type": "histogram2d"
           }
          ],
          "histogram2dcontour": [
           {
            "colorbar": {
             "outlinewidth": 0,
             "ticks": ""
            },
            "colorscale": [
             [
              0,
              "#0d0887"
             ],
             [
              0.1111111111111111,
              "#46039f"
             ],
             [
              0.2222222222222222,
              "#7201a8"
             ],
             [
              0.3333333333333333,
              "#9c179e"
             ],
             [
              0.4444444444444444,
              "#bd3786"
             ],
             [
              0.5555555555555556,
              "#d8576b"
             ],
             [
              0.6666666666666666,
              "#ed7953"
             ],
             [
              0.7777777777777778,
              "#fb9f3a"
             ],
             [
              0.8888888888888888,
              "#fdca26"
             ],
             [
              1,
              "#f0f921"
             ]
            ],
            "type": "histogram2dcontour"
           }
          ],
          "mesh3d": [
           {
            "colorbar": {
             "outlinewidth": 0,
             "ticks": ""
            },
            "type": "mesh3d"
           }
          ],
          "parcoords": [
           {
            "line": {
             "colorbar": {
              "outlinewidth": 0,
              "ticks": ""
             }
            },
            "type": "parcoords"
           }
          ],
          "pie": [
           {
            "automargin": true,
            "type": "pie"
           }
          ],
          "scatter": [
           {
            "marker": {
             "colorbar": {
              "outlinewidth": 0,
              "ticks": ""
             }
            },
            "type": "scatter"
           }
          ],
          "scatter3d": [
           {
            "line": {
             "colorbar": {
              "outlinewidth": 0,
              "ticks": ""
             }
            },
            "marker": {
             "colorbar": {
              "outlinewidth": 0,
              "ticks": ""
             }
            },
            "type": "scatter3d"
           }
          ],
          "scattercarpet": [
           {
            "marker": {
             "colorbar": {
              "outlinewidth": 0,
              "ticks": ""
             }
            },
            "type": "scattercarpet"
           }
          ],
          "scattergeo": [
           {
            "marker": {
             "colorbar": {
              "outlinewidth": 0,
              "ticks": ""
             }
            },
            "type": "scattergeo"
           }
          ],
          "scattergl": [
           {
            "marker": {
             "colorbar": {
              "outlinewidth": 0,
              "ticks": ""
             }
            },
            "type": "scattergl"
           }
          ],
          "scattermapbox": [
           {
            "marker": {
             "colorbar": {
              "outlinewidth": 0,
              "ticks": ""
             }
            },
            "type": "scattermapbox"
           }
          ],
          "scatterpolar": [
           {
            "marker": {
             "colorbar": {
              "outlinewidth": 0,
              "ticks": ""
             }
            },
            "type": "scatterpolar"
           }
          ],
          "scatterpolargl": [
           {
            "marker": {
             "colorbar": {
              "outlinewidth": 0,
              "ticks": ""
             }
            },
            "type": "scatterpolargl"
           }
          ],
          "scatterternary": [
           {
            "marker": {
             "colorbar": {
              "outlinewidth": 0,
              "ticks": ""
             }
            },
            "type": "scatterternary"
           }
          ],
          "surface": [
           {
            "colorbar": {
             "outlinewidth": 0,
             "ticks": ""
            },
            "colorscale": [
             [
              0,
              "#0d0887"
             ],
             [
              0.1111111111111111,
              "#46039f"
             ],
             [
              0.2222222222222222,
              "#7201a8"
             ],
             [
              0.3333333333333333,
              "#9c179e"
             ],
             [
              0.4444444444444444,
              "#bd3786"
             ],
             [
              0.5555555555555556,
              "#d8576b"
             ],
             [
              0.6666666666666666,
              "#ed7953"
             ],
             [
              0.7777777777777778,
              "#fb9f3a"
             ],
             [
              0.8888888888888888,
              "#fdca26"
             ],
             [
              1,
              "#f0f921"
             ]
            ],
            "type": "surface"
           }
          ],
          "table": [
           {
            "cells": {
             "fill": {
              "color": "#EBF0F8"
             },
             "line": {
              "color": "white"
             }
            },
            "header": {
             "fill": {
              "color": "#C8D4E3"
             },
             "line": {
              "color": "white"
             }
            },
            "type": "table"
           }
          ]
         },
         "layout": {
          "annotationdefaults": {
           "arrowcolor": "#2a3f5f",
           "arrowhead": 0,
           "arrowwidth": 1
          },
          "autotypenumbers": "strict",
          "coloraxis": {
           "colorbar": {
            "outlinewidth": 0,
            "ticks": ""
           }
          },
          "colorscale": {
           "diverging": [
            [
             0,
             "#8e0152"
            ],
            [
             0.1,
             "#c51b7d"
            ],
            [
             0.2,
             "#de77ae"
            ],
            [
             0.3,
             "#f1b6da"
            ],
            [
             0.4,
             "#fde0ef"
            ],
            [
             0.5,
             "#f7f7f7"
            ],
            [
             0.6,
             "#e6f5d0"
            ],
            [
             0.7,
             "#b8e186"
            ],
            [
             0.8,
             "#7fbc41"
            ],
            [
             0.9,
             "#4d9221"
            ],
            [
             1,
             "#276419"
            ]
           ],
           "sequential": [
            [
             0,
             "#0d0887"
            ],
            [
             0.1111111111111111,
             "#46039f"
            ],
            [
             0.2222222222222222,
             "#7201a8"
            ],
            [
             0.3333333333333333,
             "#9c179e"
            ],
            [
             0.4444444444444444,
             "#bd3786"
            ],
            [
             0.5555555555555556,
             "#d8576b"
            ],
            [
             0.6666666666666666,
             "#ed7953"
            ],
            [
             0.7777777777777778,
             "#fb9f3a"
            ],
            [
             0.8888888888888888,
             "#fdca26"
            ],
            [
             1,
             "#f0f921"
            ]
           ],
           "sequentialminus": [
            [
             0,
             "#0d0887"
            ],
            [
             0.1111111111111111,
             "#46039f"
            ],
            [
             0.2222222222222222,
             "#7201a8"
            ],
            [
             0.3333333333333333,
             "#9c179e"
            ],
            [
             0.4444444444444444,
             "#bd3786"
            ],
            [
             0.5555555555555556,
             "#d8576b"
            ],
            [
             0.6666666666666666,
             "#ed7953"
            ],
            [
             0.7777777777777778,
             "#fb9f3a"
            ],
            [
             0.8888888888888888,
             "#fdca26"
            ],
            [
             1,
             "#f0f921"
            ]
           ]
          },
          "colorway": [
           "#636efa",
           "#EF553B",
           "#00cc96",
           "#ab63fa",
           "#FFA15A",
           "#19d3f3",
           "#FF6692",
           "#B6E880",
           "#FF97FF",
           "#FECB52"
          ],
          "font": {
           "color": "#2a3f5f"
          },
          "geo": {
           "bgcolor": "white",
           "lakecolor": "white",
           "landcolor": "#E5ECF6",
           "showlakes": true,
           "showland": true,
           "subunitcolor": "white"
          },
          "hoverlabel": {
           "align": "left"
          },
          "hovermode": "closest",
          "mapbox": {
           "style": "light"
          },
          "paper_bgcolor": "white",
          "plot_bgcolor": "#E5ECF6",
          "polar": {
           "angularaxis": {
            "gridcolor": "white",
            "linecolor": "white",
            "ticks": ""
           },
           "bgcolor": "#E5ECF6",
           "radialaxis": {
            "gridcolor": "white",
            "linecolor": "white",
            "ticks": ""
           }
          },
          "scene": {
           "xaxis": {
            "backgroundcolor": "#E5ECF6",
            "gridcolor": "white",
            "gridwidth": 2,
            "linecolor": "white",
            "showbackground": true,
            "ticks": "",
            "zerolinecolor": "white"
           },
           "yaxis": {
            "backgroundcolor": "#E5ECF6",
            "gridcolor": "white",
            "gridwidth": 2,
            "linecolor": "white",
            "showbackground": true,
            "ticks": "",
            "zerolinecolor": "white"
           },
           "zaxis": {
            "backgroundcolor": "#E5ECF6",
            "gridcolor": "white",
            "gridwidth": 2,
            "linecolor": "white",
            "showbackground": true,
            "ticks": "",
            "zerolinecolor": "white"
           }
          },
          "shapedefaults": {
           "line": {
            "color": "#2a3f5f"
           }
          },
          "ternary": {
           "aaxis": {
            "gridcolor": "white",
            "linecolor": "white",
            "ticks": ""
           },
           "baxis": {
            "gridcolor": "white",
            "linecolor": "white",
            "ticks": ""
           },
           "bgcolor": "#E5ECF6",
           "caxis": {
            "gridcolor": "white",
            "linecolor": "white",
            "ticks": ""
           }
          },
          "title": {
           "x": 0.05
          },
          "xaxis": {
           "automargin": true,
           "gridcolor": "white",
           "linecolor": "white",
           "ticks": "",
           "title": {
            "standoff": 15
           },
           "zerolinecolor": "white",
           "zerolinewidth": 2
          },
          "yaxis": {
           "automargin": true,
           "gridcolor": "white",
           "linecolor": "white",
           "ticks": "",
           "title": {
            "standoff": 15
           },
           "zerolinecolor": "white",
           "zerolinewidth": 2
          }
         }
        },
        "title": {
         "text": "plotly.colors.sequential"
        },
        "xaxis": {
         "range": [
          -0.02,
          1.02
         ],
         "showgrid": false,
         "showticklabels": false,
         "type": "linear"
        },
        "yaxis": {
         "autorange": true,
         "range": [
          -0.5,
          65.5
         ],
         "type": "category"
        }
       }
      },
      "image/png": "[encoded data removed]"
     },
     "metadata": {},
     "output_type": "display_data"
    }
   ],
   "source": [
    "fig = px.colors.sequential.swatches()\n",
    "fig.show()"
   ]
  },
  {
   "cell_type": "code",
   "execution_count": 10,
   "id": "fa7b12f4-a489-43b8-97bc-5d5d7554593f",
   "metadata": {},
   "outputs": [
    {
     "data": {
      "application/vnd.plotly.v1+json": {
       "config": {
        "plotlyServerURL": "https://plot.ly"
       },
       "data": [
        {
         "customdata": [
          0,
          1,
          2,
          3,
          4
         ],
         "hovertemplate": "%{y}[%{customdata}] = %{marker.color}<extra></extra>",
         "marker": {
          "color": [
           "rgb(12,51,131)",
           "rgb(10,136,186)",
           "rgb(242,211,56)",
           "rgb(242,143,56)",
           "rgb(217,30,30)"
          ]
         },
         "orientation": "h",
         "type": "bar",
         "x": [
          1,
          1,
          1,
          1,
          1
         ],
         "y": [
          "Portland",
          "Portland",
          "Portland",
          "Portland",
          "Portland"
         ]
        },
        {
         "customdata": [
          0,
          1,
          2,
          3,
          4,
          5,
          6,
          7,
          8,
          9,
          10
         ],
         "hovertemplate": "%{y}[%{customdata}] = %{marker.color}<extra></extra>",
         "marker": {
          "color": [
           "rgb(0,0,255)",
           "rgb(51,153,255)",
           "rgb(102,204,255)",
           "rgb(153,204,255)",
           "rgb(204,204,255)",
           "rgb(255,255,255)",
           "rgb(255,204,255)",
           "rgb(255,153,255)",
           "rgb(255,102,204)",
           "rgb(255,102,102)",
           "rgb(255,0,0)"
          ]
         },
         "orientation": "h",
         "type": "bar",
         "x": [
          1,
          1,
          1,
          1,
          1,
          1,
          1,
          1,
          1,
          1,
          1
         ],
         "y": [
          "Picnic",
          "Picnic",
          "Picnic",
          "Picnic",
          "Picnic",
          "Picnic",
          "Picnic",
          "Picnic",
          "Picnic",
          "Picnic",
          "Picnic"
         ]
        },
        {
         "customdata": [
          0,
          1,
          2,
          3,
          4,
          5,
          6
         ],
         "hovertemplate": "%{y}[%{customdata}] = %{marker.color}<extra></extra>",
         "marker": {
          "color": [
           "rgb(161, 105, 40)",
           "rgb(189, 146, 90)",
           "rgb(214, 189, 141)",
           "rgb(237, 234, 194)",
           "rgb(181, 200, 184)",
           "rgb(121, 167, 172)",
           "rgb(40, 135, 161)"
          ]
         },
         "orientation": "h",
         "type": "bar",
         "x": [
          1,
          1,
          1,
          1,
          1,
          1,
          1
         ],
         "y": [
          "Earth",
          "Earth",
          "Earth",
          "Earth",
          "Earth",
          "Earth",
          "Earth"
         ]
        },
        {
         "customdata": [
          0,
          1,
          2,
          3,
          4,
          5,
          6
         ],
         "hovertemplate": "%{y}[%{customdata}] = %{marker.color}<extra></extra>",
         "marker": {
          "color": [
           "rgb(0, 155, 158)",
           "rgb(66, 183, 185)",
           "rgb(167, 211, 212)",
           "rgb(241, 241, 241)",
           "rgb(228, 193, 217)",
           "rgb(214, 145, 193)",
           "rgb(199, 93, 171)"
          ]
         },
         "orientation": "h",
         "type": "bar",
         "x": [
          1,
          1,
          1,
          1,
          1,
          1,
          1
         ],
         "y": [
          "Tropic",
          "Tropic",
          "Tropic",
          "Tropic",
          "Tropic",
          "Tropic",
          "Tropic"
         ]
        },
        {
         "customdata": [
          0,
          1,
          2,
          3,
          4,
          5,
          6
         ],
         "hovertemplate": "%{y}[%{customdata}] = %{marker.color}<extra></extra>",
         "marker": {
          "color": [
           "rgb(0, 147, 146)",
           "rgb(114, 170, 161)",
           "rgb(177, 199, 179)",
           "rgb(241, 234, 200)",
           "rgb(229, 185, 173)",
           "rgb(217, 137, 148)",
           "rgb(208, 88, 126)"
          ]
         },
         "orientation": "h",
         "type": "bar",
         "x": [
          1,
          1,
          1,
          1,
          1,
          1,
          1
         ],
         "y": [
          "Tealrose",
          "Tealrose",
          "Tealrose",
          "Tealrose",
          "Tealrose",
          "Tealrose",
          "Tealrose"
         ]
        },
        {
         "customdata": [
          0,
          1,
          2,
          3,
          4,
          5,
          6
         ],
         "hovertemplate": "%{y}[%{customdata}] = %{marker.color}<extra></extra>",
         "marker": {
          "color": [
           "rgb(0, 147, 146)",
           "rgb(57, 177, 133)",
           "rgb(156, 203, 134)",
           "rgb(233, 226, 156)",
           "rgb(238, 180, 121)",
           "rgb(232, 132, 113)",
           "rgb(207, 89, 126)"
          ]
         },
         "orientation": "h",
         "type": "bar",
         "x": [
          1,
          1,
          1,
          1,
          1,
          1,
          1
         ],
         "y": [
          "Temps",
          "Temps",
          "Temps",
          "Temps",
          "Temps",
          "Temps",
          "Temps"
         ]
        },
        {
         "customdata": [
          0,
          1,
          2,
          3,
          4,
          5,
          6
         ],
         "hovertemplate": "%{y}[%{customdata}] = %{marker.color}<extra></extra>",
         "marker": {
          "color": [
           "rgb(0, 128, 128)",
           "rgb(112, 164, 148)",
           "rgb(180, 200, 168)",
           "rgb(246, 237, 189)",
           "rgb(237, 187, 138)",
           "rgb(222, 138, 90)",
           "rgb(202, 86, 44)"
          ]
         },
         "orientation": "h",
         "type": "bar",
         "x": [
          1,
          1,
          1,
          1,
          1,
          1,
          1
         ],
         "y": [
          "Geyser",
          "Geyser",
          "Geyser",
          "Geyser",
          "Geyser",
          "Geyser",
          "Geyser"
         ]
        },
        {
         "customdata": [
          0,
          1,
          2,
          3,
          4,
          5,
          6
         ],
         "hovertemplate": "%{y}[%{customdata}] = %{marker.color}<extra></extra>",
         "marker": {
          "color": [
           "rgb(61, 89, 65)",
           "rgb(119, 136, 104)",
           "rgb(181, 185, 145)",
           "rgb(246, 237, 189)",
           "rgb(237, 187, 138)",
           "rgb(222, 138, 90)",
           "rgb(202, 86, 44)"
          ]
         },
         "orientation": "h",
         "type": "bar",
         "x": [
          1,
          1,
          1,
          1,
          1,
          1,
          1
         ],
         "y": [
          "Fall",
          "Fall",
          "Fall",
          "Fall",
          "Fall",
          "Fall",
          "Fall"
         ]
        },
        {
         "customdata": [
          0,
          1,
          2,
          3,
          4,
          5,
          6
         ],
         "hovertemplate": "%{y}[%{customdata}] = %{marker.color}<extra></extra>",
         "marker": {
          "color": [
           "rgb(121, 130, 52)",
           "rgb(163, 173, 98)",
           "rgb(208, 211, 162)",
           "rgb(253, 251, 228)",
           "rgb(240, 198, 195)",
           "rgb(223, 145, 163)",
           "rgb(212, 103, 128)"
          ]
         },
         "orientation": "h",
         "type": "bar",
         "x": [
          1,
          1,
          1,
          1,
          1,
          1,
          1
         ],
         "y": [
          "Armyrose",
          "Armyrose",
          "Armyrose",
          "Armyrose",
          "Armyrose",
          "Armyrose",
          "Armyrose"
         ]
        },
        {
         "customdata": [
          0,
          1,
          2,
          3,
          4,
          5,
          6,
          7,
          8,
          9,
          10,
          11
         ],
         "hovertemplate": "%{y}[%{customdata}] = %{marker.color}<extra></extra>",
         "marker": {
          "color": [
           "rgb(63, 5, 5)",
           "rgb(101, 6, 13)",
           "rgb(138, 17, 9)",
           "rgb(96, 95, 95)",
           "rgb(119, 118, 118)",
           "rgb(142, 141, 141)",
           "rgb(166, 166, 165)",
           "rgb(193, 192, 191)",
           "rgb(222, 222, 220)",
           "rgb(239, 248, 90)",
           "rgb(230, 210, 41)",
           "rgb(220, 174, 25)"
          ]
         },
         "orientation": "h",
         "type": "bar",
         "x": [
          1,
          1,
          1,
          1,
          1,
          1,
          1,
          1,
          1,
          1,
          1,
          1
         ],
         "y": [
          "oxy",
          "oxy",
          "oxy",
          "oxy",
          "oxy",
          "oxy",
          "oxy",
          "oxy",
          "oxy",
          "oxy",
          "oxy",
          "oxy"
         ]
        },
        {
         "customdata": [
          0,
          1,
          2,
          3,
          4,
          5,
          6,
          7,
          8,
          9,
          10,
          11
         ],
         "hovertemplate": "%{y}[%{customdata}] = %{marker.color}<extra></extra>",
         "marker": {
          "color": [
           "rgb(20, 29, 67)",
           "rgb(28, 72, 93)",
           "rgb(18, 115, 117)",
           "rgb(63, 156, 129)",
           "rgb(153, 189, 156)",
           "rgb(223, 225, 211)",
           "rgb(241, 218, 206)",
           "rgb(224, 160, 137)",
           "rgb(203, 101, 99)",
           "rgb(164, 54, 96)",
           "rgb(111, 23, 91)",
           "rgb(51, 13, 53)"
          ]
         },
         "orientation": "h",
         "type": "bar",
         "x": [
          1,
          1,
          1,
          1,
          1,
          1,
          1,
          1,
          1,
          1,
          1,
          1
         ],
         "y": [
          "curl",
          "curl",
          "curl",
          "curl",
          "curl",
          "curl",
          "curl",
          "curl",
          "curl",
          "curl",
          "curl",
          "curl"
         ]
        },
        {
         "customdata": [
          0,
          1,
          2,
          3,
          4,
          5,
          6,
          7,
          8,
          9,
          10,
          11
         ],
         "hovertemplate": "%{y}[%{customdata}] = %{marker.color}<extra></extra>",
         "marker": {
          "color": [
           "rgb(16, 31, 63)",
           "rgb(38, 62, 144)",
           "rgb(30, 110, 161)",
           "rgb(60, 154, 171)",
           "rgb(140, 193, 186)",
           "rgb(217, 229, 218)",
           "rgb(239, 226, 156)",
           "rgb(195, 182, 59)",
           "rgb(115, 152, 5)",
           "rgb(34, 120, 36)",
           "rgb(18, 78, 43)",
           "rgb(23, 35, 18)"
          ]
         },
         "orientation": "h",
         "type": "bar",
         "x": [
          1,
          1,
          1,
          1,
          1,
          1,
          1,
          1,
          1,
          1,
          1,
          1
         ],
         "y": [
          "delta",
          "delta",
          "delta",
          "delta",
          "delta",
          "delta",
          "delta",
          "delta",
          "delta",
          "delta",
          "delta",
          "delta"
         ]
        },
        {
         "customdata": [
          0,
          1,
          2,
          3,
          4,
          5,
          6,
          7,
          8,
          9,
          10,
          11
         ],
         "hovertemplate": "%{y}[%{customdata}] = %{marker.color}<extra></extra>",
         "marker": {
          "color": [
           "rgb(23, 28, 66)",
           "rgb(41, 58, 143)",
           "rgb(11, 102, 189)",
           "rgb(69, 144, 185)",
           "rgb(142, 181, 194)",
           "rgb(210, 216, 219)",
           "rgb(230, 210, 204)",
           "rgb(213, 157, 137)",
           "rgb(196, 101, 72)",
           "rgb(172, 43, 36)",
           "rgb(120, 14, 40)",
           "rgb(60, 9, 17)"
          ]
         },
         "orientation": "h",
         "type": "bar",
         "x": [
          1,
          1,
          1,
          1,
          1,
          1,
          1,
          1,
          1,
          1,
          1,
          1
         ],
         "y": [
          "balance",
          "balance",
          "balance",
          "balance",
          "balance",
          "balance",
          "balance",
          "balance",
          "balance",
          "balance",
          "balance",
          "balance"
         ]
        },
        {
         "customdata": [
          0,
          1,
          2,
          3,
          4,
          5,
          6,
          7,
          8,
          9,
          10
         ],
         "hovertemplate": "%{y}[%{customdata}] = %{marker.color}<extra></extra>",
         "marker": {
          "color": [
           "rgb(158,1,66)",
           "rgb(213,62,79)",
           "rgb(244,109,67)",
           "rgb(253,174,97)",
           "rgb(254,224,139)",
           "rgb(255,255,191)",
           "rgb(230,245,152)",
           "rgb(171,221,164)",
           "rgb(102,194,165)",
           "rgb(50,136,189)",
           "rgb(94,79,162)"
          ]
         },
         "orientation": "h",
         "type": "bar",
         "x": [
          1,
          1,
          1,
          1,
          1,
          1,
          1,
          1,
          1,
          1,
          1
         ],
         "y": [
          "Spectral",
          "Spectral",
          "Spectral",
          "Spectral",
          "Spectral",
          "Spectral",
          "Spectral",
          "Spectral",
          "Spectral",
          "Spectral",
          "Spectral"
         ]
        },
        {
         "customdata": [
          0,
          1,
          2,
          3,
          4,
          5,
          6,
          7,
          8,
          9,
          10
         ],
         "hovertemplate": "%{y}[%{customdata}] = %{marker.color}<extra></extra>",
         "marker": {
          "color": [
           "rgb(165,0,38)",
           "rgb(215,48,39)",
           "rgb(244,109,67)",
           "rgb(253,174,97)",
           "rgb(254,224,139)",
           "rgb(255,255,191)",
           "rgb(217,239,139)",
           "rgb(166,217,106)",
           "rgb(102,189,99)",
           "rgb(26,152,80)",
           "rgb(0,104,55)"
          ]
         },
         "orientation": "h",
         "type": "bar",
         "x": [
          1,
          1,
          1,
          1,
          1,
          1,
          1,
          1,
          1,
          1,
          1
         ],
         "y": [
          "RdYlGn",
          "RdYlGn",
          "RdYlGn",
          "RdYlGn",
          "RdYlGn",
          "RdYlGn",
          "RdYlGn",
          "RdYlGn",
          "RdYlGn",
          "RdYlGn",
          "RdYlGn"
         ]
        },
        {
         "customdata": [
          0,
          1,
          2,
          3,
          4,
          5,
          6,
          7,
          8,
          9,
          10
         ],
         "hovertemplate": "%{y}[%{customdata}] = %{marker.color}<extra></extra>",
         "marker": {
          "color": [
           "rgb(165,0,38)",
           "rgb(215,48,39)",
           "rgb(244,109,67)",
           "rgb(253,174,97)",
           "rgb(254,224,144)",
           "rgb(255,255,191)",
           "rgb(224,243,248)",
           "rgb(171,217,233)",
           "rgb(116,173,209)",
           "rgb(69,117,180)",
           "rgb(49,54,149)"
          ]
         },
         "orientation": "h",
         "type": "bar",
         "x": [
          1,
          1,
          1,
          1,
          1,
          1,
          1,
          1,
          1,
          1,
          1
         ],
         "y": [
          "RdYlBu",
          "RdYlBu",
          "RdYlBu",
          "RdYlBu",
          "RdYlBu",
          "RdYlBu",
          "RdYlBu",
          "RdYlBu",
          "RdYlBu",
          "RdYlBu",
          "RdYlBu"
         ]
        },
        {
         "customdata": [
          0,
          1,
          2,
          3,
          4,
          5,
          6,
          7,
          8,
          9,
          10
         ],
         "hovertemplate": "%{y}[%{customdata}] = %{marker.color}<extra></extra>",
         "marker": {
          "color": [
           "rgb(103,0,31)",
           "rgb(178,24,43)",
           "rgb(214,96,77)",
           "rgb(244,165,130)",
           "rgb(253,219,199)",
           "rgb(255,255,255)",
           "rgb(224,224,224)",
           "rgb(186,186,186)",
           "rgb(135,135,135)",
           "rgb(77,77,77)",
           "rgb(26,26,26)"
          ]
         },
         "orientation": "h",
         "type": "bar",
         "x": [
          1,
          1,
          1,
          1,
          1,
          1,
          1,
          1,
          1,
          1,
          1
         ],
         "y": [
          "RdGy",
          "RdGy",
          "RdGy",
          "RdGy",
          "RdGy",
          "RdGy",
          "RdGy",
          "RdGy",
          "RdGy",
          "RdGy",
          "RdGy"
         ]
        },
        {
         "customdata": [
          0,
          1,
          2,
          3,
          4,
          5,
          6,
          7,
          8,
          9,
          10
         ],
         "hovertemplate": "%{y}[%{customdata}] = %{marker.color}<extra></extra>",
         "marker": {
          "color": [
           "rgb(103,0,31)",
           "rgb(178,24,43)",
           "rgb(214,96,77)",
           "rgb(244,165,130)",
           "rgb(253,219,199)",
           "rgb(247,247,247)",
           "rgb(209,229,240)",
           "rgb(146,197,222)",
           "rgb(67,147,195)",
           "rgb(33,102,172)",
           "rgb(5,48,97)"
          ]
         },
         "orientation": "h",
         "type": "bar",
         "x": [
          1,
          1,
          1,
          1,
          1,
          1,
          1,
          1,
          1,
          1,
          1
         ],
         "y": [
          "RdBu",
          "RdBu",
          "RdBu",
          "RdBu",
          "RdBu",
          "RdBu",
          "RdBu",
          "RdBu",
          "RdBu",
          "RdBu",
          "RdBu"
         ]
        },
        {
         "customdata": [
          0,
          1,
          2,
          3,
          4,
          5,
          6,
          7,
          8,
          9,
          10
         ],
         "hovertemplate": "%{y}[%{customdata}] = %{marker.color}<extra></extra>",
         "marker": {
          "color": [
           "rgb(127,59,8)",
           "rgb(179,88,6)",
           "rgb(224,130,20)",
           "rgb(253,184,99)",
           "rgb(254,224,182)",
           "rgb(247,247,247)",
           "rgb(216,218,235)",
           "rgb(178,171,210)",
           "rgb(128,115,172)",
           "rgb(84,39,136)",
           "rgb(45,0,75)"
          ]
         },
         "orientation": "h",
         "type": "bar",
         "x": [
          1,
          1,
          1,
          1,
          1,
          1,
          1,
          1,
          1,
          1,
          1
         ],
         "y": [
          "PuOr",
          "PuOr",
          "PuOr",
          "PuOr",
          "PuOr",
          "PuOr",
          "PuOr",
          "PuOr",
          "PuOr",
          "PuOr",
          "PuOr"
         ]
        },
        {
         "customdata": [
          0,
          1,
          2,
          3,
          4,
          5,
          6,
          7,
          8,
          9,
          10
         ],
         "hovertemplate": "%{y}[%{customdata}] = %{marker.color}<extra></extra>",
         "marker": {
          "color": [
           "rgb(142,1,82)",
           "rgb(197,27,125)",
           "rgb(222,119,174)",
           "rgb(241,182,218)",
           "rgb(253,224,239)",
           "rgb(247,247,247)",
           "rgb(230,245,208)",
           "rgb(184,225,134)",
           "rgb(127,188,65)",
           "rgb(77,146,33)",
           "rgb(39,100,25)"
          ]
         },
         "orientation": "h",
         "type": "bar",
         "x": [
          1,
          1,
          1,
          1,
          1,
          1,
          1,
          1,
          1,
          1,
          1
         ],
         "y": [
          "PiYG",
          "PiYG",
          "PiYG",
          "PiYG",
          "PiYG",
          "PiYG",
          "PiYG",
          "PiYG",
          "PiYG",
          "PiYG",
          "PiYG"
         ]
        },
        {
         "customdata": [
          0,
          1,
          2,
          3,
          4,
          5,
          6,
          7,
          8,
          9,
          10
         ],
         "hovertemplate": "%{y}[%{customdata}] = %{marker.color}<extra></extra>",
         "marker": {
          "color": [
           "rgb(64,0,75)",
           "rgb(118,42,131)",
           "rgb(153,112,171)",
           "rgb(194,165,207)",
           "rgb(231,212,232)",
           "rgb(247,247,247)",
           "rgb(217,240,211)",
           "rgb(166,219,160)",
           "rgb(90,174,97)",
           "rgb(27,120,55)",
           "rgb(0,68,27)"
          ]
         },
         "orientation": "h",
         "type": "bar",
         "x": [
          1,
          1,
          1,
          1,
          1,
          1,
          1,
          1,
          1,
          1,
          1
         ],
         "y": [
          "PRGn",
          "PRGn",
          "PRGn",
          "PRGn",
          "PRGn",
          "PRGn",
          "PRGn",
          "PRGn",
          "PRGn",
          "PRGn",
          "PRGn"
         ]
        },
        {
         "customdata": [
          0,
          1,
          2,
          3,
          4,
          5,
          6,
          7,
          8,
          9,
          10
         ],
         "hovertemplate": "%{y}[%{customdata}] = %{marker.color}<extra></extra>",
         "marker": {
          "color": [
           "rgb(84,48,5)",
           "rgb(140,81,10)",
           "rgb(191,129,45)",
           "rgb(223,194,125)",
           "rgb(246,232,195)",
           "rgb(245,245,245)",
           "rgb(199,234,229)",
           "rgb(128,205,193)",
           "rgb(53,151,143)",
           "rgb(1,102,94)",
           "rgb(0,60,48)"
          ]
         },
         "orientation": "h",
         "type": "bar",
         "x": [
          1,
          1,
          1,
          1,
          1,
          1,
          1,
          1,
          1,
          1,
          1
         ],
         "y": [
          "BrBG",
          "BrBG",
          "BrBG",
          "BrBG",
          "BrBG",
          "BrBG",
          "BrBG",
          "BrBG",
          "BrBG",
          "BrBG",
          "BrBG"
         ]
        }
       ],
       "layout": {
        "autosize": true,
        "bargap": 0.5,
        "barmode": "stack",
        "barnorm": "fraction",
        "margin": {
         "b": 10
        },
        "showlegend": false,
        "template": {
         "data": {
          "bar": [
           {
            "error_x": {
             "color": "#2a3f5f"
            },
            "error_y": {
             "color": "#2a3f5f"
            },
            "marker": {
             "line": {
              "color": "#E5ECF6",
              "width": 0.5
             },
             "pattern": {
              "fillmode": "overlay",
              "size": 10,
              "solidity": 0.2
             }
            },
            "type": "bar"
           }
          ],
          "barpolar": [
           {
            "marker": {
             "line": {
              "color": "#E5ECF6",
              "width": 0.5
             },
             "pattern": {
              "fillmode": "overlay",
              "size": 10,
              "solidity": 0.2
             }
            },
            "type": "barpolar"
           }
          ],
          "carpet": [
           {
            "aaxis": {
             "endlinecolor": "#2a3f5f",
             "gridcolor": "white",
             "linecolor": "white",
             "minorgridcolor": "white",
             "startlinecolor": "#2a3f5f"
            },
            "baxis": {
             "endlinecolor": "#2a3f5f",
             "gridcolor": "white",
             "linecolor": "white",
             "minorgridcolor": "white",
             "startlinecolor": "#2a3f5f"
            },
            "type": "carpet"
           }
          ],
          "choropleth": [
           {
            "colorbar": {
             "outlinewidth": 0,
             "ticks": ""
            },
            "type": "choropleth"
           }
          ],
          "contour": [
           {
            "colorbar": {
             "outlinewidth": 0,
             "ticks": ""
            },
            "colorscale": [
             [
              0,
              "#0d0887"
             ],
             [
              0.1111111111111111,
              "#46039f"
             ],
             [
              0.2222222222222222,
              "#7201a8"
             ],
             [
              0.3333333333333333,
              "#9c179e"
             ],
             [
              0.4444444444444444,
              "#bd3786"
             ],
             [
              0.5555555555555556,
              "#d8576b"
             ],
             [
              0.6666666666666666,
              "#ed7953"
             ],
             [
              0.7777777777777778,
              "#fb9f3a"
             ],
             [
              0.8888888888888888,
              "#fdca26"
             ],
             [
              1,
              "#f0f921"
             ]
            ],
            "type": "contour"
           }
          ],
          "contourcarpet": [
           {
            "colorbar": {
             "outlinewidth": 0,
             "ticks": ""
            },
            "type": "contourcarpet"
           }
          ],
          "heatmap": [
           {
            "colorbar": {
             "outlinewidth": 0,
             "ticks": ""
            },
            "colorscale": [
             [
              0,
              "#0d0887"
             ],
             [
              0.1111111111111111,
              "#46039f"
             ],
             [
              0.2222222222222222,
              "#7201a8"
             ],
             [
              0.3333333333333333,
              "#9c179e"
             ],
             [
              0.4444444444444444,
              "#bd3786"
             ],
             [
              0.5555555555555556,
              "#d8576b"
             ],
             [
              0.6666666666666666,
              "#ed7953"
             ],
             [
              0.7777777777777778,
              "#fb9f3a"
             ],
             [
              0.8888888888888888,
              "#fdca26"
             ],
             [
              1,
              "#f0f921"
             ]
            ],
            "type": "heatmap"
           }
          ],
          "heatmapgl": [
           {
            "colorbar": {
             "outlinewidth": 0,
             "ticks": ""
            },
            "colorscale": [
             [
              0,
              "#0d0887"
             ],
             [
              0.1111111111111111,
              "#46039f"
             ],
             [
              0.2222222222222222,
              "#7201a8"
             ],
             [
              0.3333333333333333,
              "#9c179e"
             ],
             [
              0.4444444444444444,
              "#bd3786"
             ],
             [
              0.5555555555555556,
              "#d8576b"
             ],
             [
              0.6666666666666666,
              "#ed7953"
             ],
             [
              0.7777777777777778,
              "#fb9f3a"
             ],
             [
              0.8888888888888888,
              "#fdca26"
             ],
             [
              1,
              "#f0f921"
             ]
            ],
            "type": "heatmapgl"
           }
          ],
          "histogram": [
           {
            "marker": {
             "pattern": {
              "fillmode": "overlay",
              "size": 10,
              "solidity": 0.2
             }
            },
            "type": "histogram"
           }
          ],
          "histogram2d": [
           {
            "colorbar": {
             "outlinewidth": 0,
             "ticks": ""
            },
            "colorscale": [
             [
              0,
              "#0d0887"
             ],
             [
              0.1111111111111111,
              "#46039f"
             ],
             [
              0.2222222222222222,
              "#7201a8"
             ],
             [
              0.3333333333333333,
              "#9c179e"
             ],
             [
              0.4444444444444444,
              "#bd3786"
             ],
             [
              0.5555555555555556,
              "#d8576b"
             ],
             [
              0.6666666666666666,
              "#ed7953"
             ],
             [
              0.7777777777777778,
              "#fb9f3a"
             ],
             [
              0.8888888888888888,
              "#fdca26"
             ],
             [
              1,
              "#f0f921"
             ]
            ],
            "type": "histogram2d"
           }
          ],
          "histogram2dcontour": [
           {
            "colorbar": {
             "outlinewidth": 0,
             "ticks": ""
            },
            "colorscale": [
             [
              0,
              "#0d0887"
             ],
             [
              0.1111111111111111,
              "#46039f"
             ],
             [
              0.2222222222222222,
              "#7201a8"
             ],
             [
              0.3333333333333333,
              "#9c179e"
             ],
             [
              0.4444444444444444,
              "#bd3786"
             ],
             [
              0.5555555555555556,
              "#d8576b"
             ],
             [
              0.6666666666666666,
              "#ed7953"
             ],
             [
              0.7777777777777778,
              "#fb9f3a"
             ],
             [
              0.8888888888888888,
              "#fdca26"
             ],
             [
              1,
              "#f0f921"
             ]
            ],
            "type": "histogram2dcontour"
           }
          ],
          "mesh3d": [
           {
            "colorbar": {
             "outlinewidth": 0,
             "ticks": ""
            },
            "type": "mesh3d"
           }
          ],
          "parcoords": [
           {
            "line": {
             "colorbar": {
              "outlinewidth": 0,
              "ticks": ""
             }
            },
            "type": "parcoords"
           }
          ],
          "pie": [
           {
            "automargin": true,
            "type": "pie"
           }
          ],
          "scatter": [
           {
            "marker": {
             "colorbar": {
              "outlinewidth": 0,
              "ticks": ""
             }
            },
            "type": "scatter"
           }
          ],
          "scatter3d": [
           {
            "line": {
             "colorbar": {
              "outlinewidth": 0,
              "ticks": ""
             }
            },
            "marker": {
             "colorbar": {
              "outlinewidth": 0,
              "ticks": ""
             }
            },
            "type": "scatter3d"
           }
          ],
          "scattercarpet": [
           {
            "marker": {
             "colorbar": {
              "outlinewidth": 0,
              "ticks": ""
             }
            },
            "type": "scattercarpet"
           }
          ],
          "scattergeo": [
           {
            "marker": {
             "colorbar": {
              "outlinewidth": 0,
              "ticks": ""
             }
            },
            "type": "scattergeo"
           }
          ],
          "scattergl": [
           {
            "marker": {
             "colorbar": {
              "outlinewidth": 0,
              "ticks": ""
             }
            },
            "type": "scattergl"
           }
          ],
          "scattermapbox": [
           {
            "marker": {
             "colorbar": {
              "outlinewidth": 0,
              "ticks": ""
             }
            },
            "type": "scattermapbox"
           }
          ],
          "scatterpolar": [
           {
            "marker": {
             "colorbar": {
              "outlinewidth": 0,
              "ticks": ""
             }
            },
            "type": "scatterpolar"
           }
          ],
          "scatterpolargl": [
           {
            "marker": {
             "colorbar": {
              "outlinewidth": 0,
              "ticks": ""
             }
            },
            "type": "scatterpolargl"
           }
          ],
          "scatterternary": [
           {
            "marker": {
             "colorbar": {
              "outlinewidth": 0,
              "ticks": ""
             }
            },
            "type": "scatterternary"
           }
          ],
          "surface": [
           {
            "colorbar": {
             "outlinewidth": 0,
             "ticks": ""
            },
            "colorscale": [
             [
              0,
              "#0d0887"
             ],
             [
              0.1111111111111111,
              "#46039f"
             ],
             [
              0.2222222222222222,
              "#7201a8"
             ],
             [
              0.3333333333333333,
              "#9c179e"
             ],
             [
              0.4444444444444444,
              "#bd3786"
             ],
             [
              0.5555555555555556,
              "#d8576b"
             ],
             [
              0.6666666666666666,
              "#ed7953"
             ],
             [
              0.7777777777777778,
              "#fb9f3a"
             ],
             [
              0.8888888888888888,
              "#fdca26"
             ],
             [
              1,
              "#f0f921"
             ]
            ],
            "type": "surface"
           }
          ],
          "table": [
           {
            "cells": {
             "fill": {
              "color": "#EBF0F8"
             },
             "line": {
              "color": "white"
             }
            },
            "header": {
             "fill": {
              "color": "#C8D4E3"
             },
             "line": {
              "color": "white"
             }
            },
            "type": "table"
           }
          ]
         },
         "layout": {
          "annotationdefaults": {
           "arrowcolor": "#2a3f5f",
           "arrowhead": 0,
           "arrowwidth": 1
          },
          "autotypenumbers": "strict",
          "coloraxis": {
           "colorbar": {
            "outlinewidth": 0,
            "ticks": ""
           }
          },
          "colorscale": {
           "diverging": [
            [
             0,
             "#8e0152"
            ],
            [
             0.1,
             "#c51b7d"
            ],
            [
             0.2,
             "#de77ae"
            ],
            [
             0.3,
             "#f1b6da"
            ],
            [
             0.4,
             "#fde0ef"
            ],
            [
             0.5,
             "#f7f7f7"
            ],
            [
             0.6,
             "#e6f5d0"
            ],
            [
             0.7,
             "#b8e186"
            ],
            [
             0.8,
             "#7fbc41"
            ],
            [
             0.9,
             "#4d9221"
            ],
            [
             1,
             "#276419"
            ]
           ],
           "sequential": [
            [
             0,
             "#0d0887"
            ],
            [
             0.1111111111111111,
             "#46039f"
            ],
            [
             0.2222222222222222,
             "#7201a8"
            ],
            [
             0.3333333333333333,
             "#9c179e"
            ],
            [
             0.4444444444444444,
             "#bd3786"
            ],
            [
             0.5555555555555556,
             "#d8576b"
            ],
            [
             0.6666666666666666,
             "#ed7953"
            ],
            [
             0.7777777777777778,
             "#fb9f3a"
            ],
            [
             0.8888888888888888,
             "#fdca26"
            ],
            [
             1,
             "#f0f921"
            ]
           ],
           "sequentialminus": [
            [
             0,
             "#0d0887"
            ],
            [
             0.1111111111111111,
             "#46039f"
            ],
            [
             0.2222222222222222,
             "#7201a8"
            ],
            [
             0.3333333333333333,
             "#9c179e"
            ],
            [
             0.4444444444444444,
             "#bd3786"
            ],
            [
             0.5555555555555556,
             "#d8576b"
            ],
            [
             0.6666666666666666,
             "#ed7953"
            ],
            [
             0.7777777777777778,
             "#fb9f3a"
            ],
            [
             0.8888888888888888,
             "#fdca26"
            ],
            [
             1,
             "#f0f921"
            ]
           ]
          },
          "colorway": [
           "#636efa",
           "#EF553B",
           "#00cc96",
           "#ab63fa",
           "#FFA15A",
           "#19d3f3",
           "#FF6692",
           "#B6E880",
           "#FF97FF",
           "#FECB52"
          ],
          "font": {
           "color": "#2a3f5f"
          },
          "geo": {
           "bgcolor": "white",
           "lakecolor": "white",
           "landcolor": "#E5ECF6",
           "showlakes": true,
           "showland": true,
           "subunitcolor": "white"
          },
          "hoverlabel": {
           "align": "left"
          },
          "hovermode": "closest",
          "mapbox": {
           "style": "light"
          },
          "paper_bgcolor": "white",
          "plot_bgcolor": "#E5ECF6",
          "polar": {
           "angularaxis": {
            "gridcolor": "white",
            "linecolor": "white",
            "ticks": ""
           },
           "bgcolor": "#E5ECF6",
           "radialaxis": {
            "gridcolor": "white",
            "linecolor": "white",
            "ticks": ""
           }
          },
          "scene": {
           "xaxis": {
            "backgroundcolor": "#E5ECF6",
            "gridcolor": "white",
            "gridwidth": 2,
            "linecolor": "white",
            "showbackground": true,
            "ticks": "",
            "zerolinecolor": "white"
           },
           "yaxis": {
            "backgroundcolor": "#E5ECF6",
            "gridcolor": "white",
            "gridwidth": 2,
            "linecolor": "white",
            "showbackground": true,
            "ticks": "",
            "zerolinecolor": "white"
           },
           "zaxis": {
            "backgroundcolor": "#E5ECF6",
            "gridcolor": "white",
            "gridwidth": 2,
            "linecolor": "white",
            "showbackground": true,
            "ticks": "",
            "zerolinecolor": "white"
           }
          },
          "shapedefaults": {
           "line": {
            "color": "#2a3f5f"
           }
          },
          "ternary": {
           "aaxis": {
            "gridcolor": "white",
            "linecolor": "white",
            "ticks": ""
           },
           "baxis": {
            "gridcolor": "white",
            "linecolor": "white",
            "ticks": ""
           },
           "bgcolor": "#E5ECF6",
           "caxis": {
            "gridcolor": "white",
            "linecolor": "white",
            "ticks": ""
           }
          },
          "title": {
           "x": 0.05
          },
          "xaxis": {
           "automargin": true,
           "gridcolor": "white",
           "linecolor": "white",
           "ticks": "",
           "title": {
            "standoff": 15
           },
           "zerolinecolor": "white",
           "zerolinewidth": 2
          },
          "yaxis": {
           "automargin": true,
           "gridcolor": "white",
           "linecolor": "white",
           "ticks": "",
           "title": {
            "standoff": 15
           },
           "zerolinecolor": "white",
           "zerolinewidth": 2
          }
         }
        },
        "title": {
         "text": "plotly.colors.diverging"
        },
        "xaxis": {
         "range": [
          -0.02,
          1.02
         ],
         "showgrid": false,
         "showticklabels": false,
         "type": "linear"
        },
        "yaxis": {
         "autorange": true,
         "range": [
          -0.5,
          21.5
         ],
         "type": "category"
        }
       }
      },
      "image/png": "[encoded data removed]"
     },
     "metadata": {},
     "output_type": "display_data"
    }
   ],
   "source": [
    "fig = px.colors.diverging.swatches()\n",
    "fig.show()"
   ]
  },
  {
   "cell_type": "code",
   "execution_count": 11,
   "id": "ed05caee-cecb-457d-b0eb-57a1a656d8b3",
   "metadata": {},
   "outputs": [
    {
     "data": {
      "application/vnd.plotly.v1+json": {
       "config": {
        "plotlyServerURL": "https://plot.ly"
       },
       "data": [
        {
         "customdata": [
          0,
          1,
          2,
          3,
          4,
          5,
          6,
          7,
          8,
          9,
          10,
          11,
          12,
          13,
          14,
          15,
          16
         ],
         "hovertemplate": "%{y}[%{customdata}] = %{marker.color}<extra></extra>",
         "marker": {
          "color": [
           "#ef55f1",
           "#fb84ce",
           "#fbafa1",
           "#fcd471",
           "#f0ed35",
           "#c6e516",
           "#96d310",
           "#61c10b",
           "#31ac28",
           "#439064",
           "#3d719a",
           "#284ec8",
           "#2e21ea",
           "#6324f5",
           "#9139fa",
           "#c543fa",
           "#ef55f1"
          ]
         },
         "orientation": "h",
         "type": "bar",
         "x": [
          1,
          1,
          1,
          1,
          1,
          1,
          1,
          1,
          1,
          1,
          1,
          1,
          1,
          1,
          1,
          1,
          1
         ],
         "y": [
          "mygbm",
          "mygbm",
          "mygbm",
          "mygbm",
          "mygbm",
          "mygbm",
          "mygbm",
          "mygbm",
          "mygbm",
          "mygbm",
          "mygbm",
          "mygbm",
          "mygbm",
          "mygbm",
          "mygbm",
          "mygbm",
          "mygbm"
         ]
        },
        {
         "customdata": [
          0,
          1,
          2,
          3,
          4,
          5,
          6,
          7,
          8,
          9,
          10,
          11,
          12,
          13,
          14,
          15,
          16
         ],
         "hovertemplate": "%{y}[%{customdata}] = %{marker.color}<extra></extra>",
         "marker": {
          "color": [
           "#f884f7",
           "#f968c4",
           "#ea4388",
           "#cf244b",
           "#b51a15",
           "#bd4304",
           "#cc6904",
           "#d58f04",
           "#cfaa27",
           "#a19f62",
           "#588a93",
           "#2269c4",
           "#3e3ef0",
           "#6b4ef9",
           "#956bfa",
           "#cd7dfe",
           "#f884f7"
          ]
         },
         "orientation": "h",
         "type": "bar",
         "x": [
          1,
          1,
          1,
          1,
          1,
          1,
          1,
          1,
          1,
          1,
          1,
          1,
          1,
          1,
          1,
          1,
          1
         ],
         "y": [
          "mrybm",
          "mrybm",
          "mrybm",
          "mrybm",
          "mrybm",
          "mrybm",
          "mrybm",
          "mrybm",
          "mrybm",
          "mrybm",
          "mrybm",
          "mrybm",
          "mrybm",
          "mrybm",
          "mrybm",
          "mrybm",
          "mrybm"
         ]
        },
        {
         "customdata": [
          0,
          1,
          2,
          3,
          4,
          5,
          6,
          7,
          8,
          9
         ],
         "hovertemplate": "%{y}[%{customdata}] = %{marker.color}<extra></extra>",
         "marker": {
          "color": [
           "#ff0000",
           "#ffa700",
           "#afff00",
           "#08ff00",
           "#00ff9f",
           "#00b7ff",
           "#0010ff",
           "#9700ff",
           "#ff00bf",
           "#ff0000"
          ]
         },
         "orientation": "h",
         "type": "bar",
         "x": [
          1,
          1,
          1,
          1,
          1,
          1,
          1,
          1,
          1,
          1
         ],
         "y": [
          "HSV",
          "HSV",
          "HSV",
          "HSV",
          "HSV",
          "HSV",
          "HSV",
          "HSV",
          "HSV",
          "HSV"
         ]
        },
        {
         "customdata": [
          0,
          1,
          2,
          3,
          4,
          5,
          6,
          7,
          8,
          9,
          10,
          11
         ],
         "hovertemplate": "%{y}[%{customdata}] = %{marker.color}<extra></extra>",
         "marker": {
          "color": [
           "rgb(167, 119, 12)",
           "rgb(197, 96, 51)",
           "rgb(217, 67, 96)",
           "rgb(221, 38, 163)",
           "rgb(196, 59, 224)",
           "rgb(153, 97, 244)",
           "rgb(95, 127, 228)",
           "rgb(40, 144, 183)",
           "rgb(15, 151, 136)",
           "rgb(39, 153, 79)",
           "rgb(119, 141, 17)",
           "rgb(167, 119, 12)"
          ]
         },
         "orientation": "h",
         "type": "bar",
         "x": [
          1,
          1,
          1,
          1,
          1,
          1,
          1,
          1,
          1,
          1,
          1,
          1
         ],
         "y": [
          "Phase",
          "Phase",
          "Phase",
          "Phase",
          "Phase",
          "Phase",
          "Phase",
          "Phase",
          "Phase",
          "Phase",
          "Phase",
          "Phase"
         ]
        },
        {
         "customdata": [
          0,
          1,
          2,
          3,
          4,
          5,
          6,
          7,
          8,
          9,
          10,
          11,
          12,
          13,
          14,
          15,
          16
         ],
         "hovertemplate": "%{y}[%{customdata}] = %{marker.color}<extra></extra>",
         "marker": {
          "color": [
           "#313131",
           "#3d019d",
           "#3810dc",
           "#2d47f9",
           "#2593ff",
           "#2adef6",
           "#60fdfa",
           "#aefdff",
           "#f3f3f1",
           "#fffda9",
           "#fafd5b",
           "#f7da29",
           "#ff8e25",
           "#f8432d",
           "#d90d39",
           "#97023d",
           "#313131"
          ]
         },
         "orientation": "h",
         "type": "bar",
         "x": [
          1,
          1,
          1,
          1,
          1,
          1,
          1,
          1,
          1,
          1,
          1,
          1,
          1,
          1,
          1,
          1,
          1
         ],
         "y": [
          "Edge",
          "Edge",
          "Edge",
          "Edge",
          "Edge",
          "Edge",
          "Edge",
          "Edge",
          "Edge",
          "Edge",
          "Edge",
          "Edge",
          "Edge",
          "Edge",
          "Edge",
          "Edge",
          "Edge"
         ]
        },
        {
         "customdata": [
          0,
          1,
          2,
          3,
          4,
          5,
          6,
          7,
          8,
          9,
          10,
          11,
          12,
          13,
          14,
          15,
          16
         ],
         "hovertemplate": "%{y}[%{customdata}] = %{marker.color}<extra></extra>",
         "marker": {
          "color": [
           "#000000",
           "#001f4d",
           "#003786",
           "#0e58a8",
           "#217eb8",
           "#30a4ca",
           "#54c8df",
           "#9be4ef",
           "#e1e9d1",
           "#f3d573",
           "#e7b000",
           "#da8200",
           "#c65400",
           "#ac2301",
           "#820000",
           "#4c0000",
           "#000000"
          ]
         },
         "orientation": "h",
         "type": "bar",
         "x": [
          1,
          1,
          1,
          1,
          1,
          1,
          1,
          1,
          1,
          1,
          1,
          1,
          1,
          1,
          1,
          1,
          1
         ],
         "y": [
          "IceFire",
          "IceFire",
          "IceFire",
          "IceFire",
          "IceFire",
          "IceFire",
          "IceFire",
          "IceFire",
          "IceFire",
          "IceFire",
          "IceFire",
          "IceFire",
          "IceFire",
          "IceFire",
          "IceFire",
          "IceFire",
          "IceFire"
         ]
        },
        {
         "customdata": [
          0,
          1,
          2,
          3,
          4,
          5,
          6,
          7,
          8,
          9
         ],
         "hovertemplate": "%{y}[%{customdata}] = %{marker.color}<extra></extra>",
         "marker": {
          "color": [
           "#e2d9e2",
           "#9ebbc9",
           "#6785be",
           "#5e43a5",
           "#421257",
           "#471340",
           "#8e2c50",
           "#ba6657",
           "#ceac94",
           "#e2d9e2"
          ]
         },
         "orientation": "h",
         "type": "bar",
         "x": [
          1,
          1,
          1,
          1,
          1,
          1,
          1,
          1,
          1,
          1
         ],
         "y": [
          "Twilight",
          "Twilight",
          "Twilight",
          "Twilight",
          "Twilight",
          "Twilight",
          "Twilight",
          "Twilight",
          "Twilight",
          "Twilight"
         ]
        }
       ],
       "layout": {
        "autosize": true,
        "bargap": 0.5,
        "barmode": "stack",
        "barnorm": "fraction",
        "margin": {
         "b": 10
        },
        "showlegend": false,
        "template": {
         "data": {
          "bar": [
           {
            "error_x": {
             "color": "#2a3f5f"
            },
            "error_y": {
             "color": "#2a3f5f"
            },
            "marker": {
             "line": {
              "color": "#E5ECF6",
              "width": 0.5
             },
             "pattern": {
              "fillmode": "overlay",
              "size": 10,
              "solidity": 0.2
             }
            },
            "type": "bar"
           }
          ],
          "barpolar": [
           {
            "marker": {
             "line": {
              "color": "#E5ECF6",
              "width": 0.5
             },
             "pattern": {
              "fillmode": "overlay",
              "size": 10,
              "solidity": 0.2
             }
            },
            "type": "barpolar"
           }
          ],
          "carpet": [
           {
            "aaxis": {
             "endlinecolor": "#2a3f5f",
             "gridcolor": "white",
             "linecolor": "white",
             "minorgridcolor": "white",
             "startlinecolor": "#2a3f5f"
            },
            "baxis": {
             "endlinecolor": "#2a3f5f",
             "gridcolor": "white",
             "linecolor": "white",
             "minorgridcolor": "white",
             "startlinecolor": "#2a3f5f"
            },
            "type": "carpet"
           }
          ],
          "choropleth": [
           {
            "colorbar": {
             "outlinewidth": 0,
             "ticks": ""
            },
            "type": "choropleth"
           }
          ],
          "contour": [
           {
            "colorbar": {
             "outlinewidth": 0,
             "ticks": ""
            },
            "colorscale": [
             [
              0,
              "#0d0887"
             ],
             [
              0.1111111111111111,
              "#46039f"
             ],
             [
              0.2222222222222222,
              "#7201a8"
             ],
             [
              0.3333333333333333,
              "#9c179e"
             ],
             [
              0.4444444444444444,
              "#bd3786"
             ],
             [
              0.5555555555555556,
              "#d8576b"
             ],
             [
              0.6666666666666666,
              "#ed7953"
             ],
             [
              0.7777777777777778,
              "#fb9f3a"
             ],
             [
              0.8888888888888888,
              "#fdca26"
             ],
             [
              1,
              "#f0f921"
             ]
            ],
            "type": "contour"
           }
          ],
          "contourcarpet": [
           {
            "colorbar": {
             "outlinewidth": 0,
             "ticks": ""
            },
            "type": "contourcarpet"
           }
          ],
          "heatmap": [
           {
            "colorbar": {
             "outlinewidth": 0,
             "ticks": ""
            },
            "colorscale": [
             [
              0,
              "#0d0887"
             ],
             [
              0.1111111111111111,
              "#46039f"
             ],
             [
              0.2222222222222222,
              "#7201a8"
             ],
             [
              0.3333333333333333,
              "#9c179e"
             ],
             [
              0.4444444444444444,
              "#bd3786"
             ],
             [
              0.5555555555555556,
              "#d8576b"
             ],
             [
              0.6666666666666666,
              "#ed7953"
             ],
             [
              0.7777777777777778,
              "#fb9f3a"
             ],
             [
              0.8888888888888888,
              "#fdca26"
             ],
             [
              1,
              "#f0f921"
             ]
            ],
            "type": "heatmap"
           }
          ],
          "heatmapgl": [
           {
            "colorbar": {
             "outlinewidth": 0,
             "ticks": ""
            },
            "colorscale": [
             [
              0,
              "#0d0887"
             ],
             [
              0.1111111111111111,
              "#46039f"
             ],
             [
              0.2222222222222222,
              "#7201a8"
             ],
             [
              0.3333333333333333,
              "#9c179e"
             ],
             [
              0.4444444444444444,
              "#bd3786"
             ],
             [
              0.5555555555555556,
              "#d8576b"
             ],
             [
              0.6666666666666666,
              "#ed7953"
             ],
             [
              0.7777777777777778,
              "#fb9f3a"
             ],
             [
              0.8888888888888888,
              "#fdca26"
             ],
             [
              1,
              "#f0f921"
             ]
            ],
            "type": "heatmapgl"
           }
          ],
          "histogram": [
           {
            "marker": {
             "pattern": {
              "fillmode": "overlay",
              "size": 10,
              "solidity": 0.2
             }
            },
            "type": "histogram"
           }
          ],
          "histogram2d": [
           {
            "colorbar": {
             "outlinewidth": 0,
             "ticks": ""
            },
            "colorscale": [
             [
              0,
              "#0d0887"
             ],
             [
              0.1111111111111111,
              "#46039f"
             ],
             [
              0.2222222222222222,
              "#7201a8"
             ],
             [
              0.3333333333333333,
              "#9c179e"
             ],
             [
              0.4444444444444444,
              "#bd3786"
             ],
             [
              0.5555555555555556,
              "#d8576b"
             ],
             [
              0.6666666666666666,
              "#ed7953"
             ],
             [
              0.7777777777777778,
              "#fb9f3a"
             ],
             [
              0.8888888888888888,
              "#fdca26"
             ],
             [
              1,
              "#f0f921"
             ]
            ],
            "type": "histogram2d"
           }
          ],
          "histogram2dcontour": [
           {
            "colorbar": {
             "outlinewidth": 0,
             "ticks": ""
            },
            "colorscale": [
             [
              0,
              "#0d0887"
             ],
             [
              0.1111111111111111,
              "#46039f"
             ],
             [
              0.2222222222222222,
              "#7201a8"
             ],
             [
              0.3333333333333333,
              "#9c179e"
             ],
             [
              0.4444444444444444,
              "#bd3786"
             ],
             [
              0.5555555555555556,
              "#d8576b"
             ],
             [
              0.6666666666666666,
              "#ed7953"
             ],
             [
              0.7777777777777778,
              "#fb9f3a"
             ],
             [
              0.8888888888888888,
              "#fdca26"
             ],
             [
              1,
              "#f0f921"
             ]
            ],
            "type": "histogram2dcontour"
           }
          ],
          "mesh3d": [
           {
            "colorbar": {
             "outlinewidth": 0,
             "ticks": ""
            },
            "type": "mesh3d"
           }
          ],
          "parcoords": [
           {
            "line": {
             "colorbar": {
              "outlinewidth": 0,
              "ticks": ""
             }
            },
            "type": "parcoords"
           }
          ],
          "pie": [
           {
            "automargin": true,
            "type": "pie"
           }
          ],
          "scatter": [
           {
            "marker": {
             "colorbar": {
              "outlinewidth": 0,
              "ticks": ""
             }
            },
            "type": "scatter"
           }
          ],
          "scatter3d": [
           {
            "line": {
             "colorbar": {
              "outlinewidth": 0,
              "ticks": ""
             }
            },
            "marker": {
             "colorbar": {
              "outlinewidth": 0,
              "ticks": ""
             }
            },
            "type": "scatter3d"
           }
          ],
          "scattercarpet": [
           {
            "marker": {
             "colorbar": {
              "outlinewidth": 0,
              "ticks": ""
             }
            },
            "type": "scattercarpet"
           }
          ],
          "scattergeo": [
           {
            "marker": {
             "colorbar": {
              "outlinewidth": 0,
              "ticks": ""
             }
            },
            "type": "scattergeo"
           }
          ],
          "scattergl": [
           {
            "marker": {
             "colorbar": {
              "outlinewidth": 0,
              "ticks": ""
             }
            },
            "type": "scattergl"
           }
          ],
          "scattermapbox": [
           {
            "marker": {
             "colorbar": {
              "outlinewidth": 0,
              "ticks": ""
             }
            },
            "type": "scattermapbox"
           }
          ],
          "scatterpolar": [
           {
            "marker": {
             "colorbar": {
              "outlinewidth": 0,
              "ticks": ""
             }
            },
            "type": "scatterpolar"
           }
          ],
          "scatterpolargl": [
           {
            "marker": {
             "colorbar": {
              "outlinewidth": 0,
              "ticks": ""
             }
            },
            "type": "scatterpolargl"
           }
          ],
          "scatterternary": [
           {
            "marker": {
             "colorbar": {
              "outlinewidth": 0,
              "ticks": ""
             }
            },
            "type": "scatterternary"
           }
          ],
          "surface": [
           {
            "colorbar": {
             "outlinewidth": 0,
             "ticks": ""
            },
            "colorscale": [
             [
              0,
              "#0d0887"
             ],
             [
              0.1111111111111111,
              "#46039f"
             ],
             [
              0.2222222222222222,
              "#7201a8"
             ],
             [
              0.3333333333333333,
              "#9c179e"
             ],
             [
              0.4444444444444444,
              "#bd3786"
             ],
             [
              0.5555555555555556,
              "#d8576b"
             ],
             [
              0.6666666666666666,
              "#ed7953"
             ],
             [
              0.7777777777777778,
              "#fb9f3a"
             ],
             [
              0.8888888888888888,
              "#fdca26"
             ],
             [
              1,
              "#f0f921"
             ]
            ],
            "type": "surface"
           }
          ],
          "table": [
           {
            "cells": {
             "fill": {
              "color": "#EBF0F8"
             },
             "line": {
              "color": "white"
             }
            },
            "header": {
             "fill": {
              "color": "#C8D4E3"
             },
             "line": {
              "color": "white"
             }
            },
            "type": "table"
           }
          ]
         },
         "layout": {
          "annotationdefaults": {
           "arrowcolor": "#2a3f5f",
           "arrowhead": 0,
           "arrowwidth": 1
          },
          "autotypenumbers": "strict",
          "coloraxis": {
           "colorbar": {
            "outlinewidth": 0,
            "ticks": ""
           }
          },
          "colorscale": {
           "diverging": [
            [
             0,
             "#8e0152"
            ],
            [
             0.1,
             "#c51b7d"
            ],
            [
             0.2,
             "#de77ae"
            ],
            [
             0.3,
             "#f1b6da"
            ],
            [
             0.4,
             "#fde0ef"
            ],
            [
             0.5,
             "#f7f7f7"
            ],
            [
             0.6,
             "#e6f5d0"
            ],
            [
             0.7,
             "#b8e186"
            ],
            [
             0.8,
             "#7fbc41"
            ],
            [
             0.9,
             "#4d9221"
            ],
            [
             1,
             "#276419"
            ]
           ],
           "sequential": [
            [
             0,
             "#0d0887"
            ],
            [
             0.1111111111111111,
             "#46039f"
            ],
            [
             0.2222222222222222,
             "#7201a8"
            ],
            [
             0.3333333333333333,
             "#9c179e"
            ],
            [
             0.4444444444444444,
             "#bd3786"
            ],
            [
             0.5555555555555556,
             "#d8576b"
            ],
            [
             0.6666666666666666,
             "#ed7953"
            ],
            [
             0.7777777777777778,
             "#fb9f3a"
            ],
            [
             0.8888888888888888,
             "#fdca26"
            ],
            [
             1,
             "#f0f921"
            ]
           ],
           "sequentialminus": [
            [
             0,
             "#0d0887"
            ],
            [
             0.1111111111111111,
             "#46039f"
            ],
            [
             0.2222222222222222,
             "#7201a8"
            ],
            [
             0.3333333333333333,
             "#9c179e"
            ],
            [
             0.4444444444444444,
             "#bd3786"
            ],
            [
             0.5555555555555556,
             "#d8576b"
            ],
            [
             0.6666666666666666,
             "#ed7953"
            ],
            [
             0.7777777777777778,
             "#fb9f3a"
            ],
            [
             0.8888888888888888,
             "#fdca26"
            ],
            [
             1,
             "#f0f921"
            ]
           ]
          },
          "colorway": [
           "#636efa",
           "#EF553B",
           "#00cc96",
           "#ab63fa",
           "#FFA15A",
           "#19d3f3",
           "#FF6692",
           "#B6E880",
           "#FF97FF",
           "#FECB52"
          ],
          "font": {
           "color": "#2a3f5f"
          },
          "geo": {
           "bgcolor": "white",
           "lakecolor": "white",
           "landcolor": "#E5ECF6",
           "showlakes": true,
           "showland": true,
           "subunitcolor": "white"
          },
          "hoverlabel": {
           "align": "left"
          },
          "hovermode": "closest",
          "mapbox": {
           "style": "light"
          },
          "paper_bgcolor": "white",
          "plot_bgcolor": "#E5ECF6",
          "polar": {
           "angularaxis": {
            "gridcolor": "white",
            "linecolor": "white",
            "ticks": ""
           },
           "bgcolor": "#E5ECF6",
           "radialaxis": {
            "gridcolor": "white",
            "linecolor": "white",
            "ticks": ""
           }
          },
          "scene": {
           "xaxis": {
            "backgroundcolor": "#E5ECF6",
            "gridcolor": "white",
            "gridwidth": 2,
            "linecolor": "white",
            "showbackground": true,
            "ticks": "",
            "zerolinecolor": "white"
           },
           "yaxis": {
            "backgroundcolor": "#E5ECF6",
            "gridcolor": "white",
            "gridwidth": 2,
            "linecolor": "white",
            "showbackground": true,
            "ticks": "",
            "zerolinecolor": "white"
           },
           "zaxis": {
            "backgroundcolor": "#E5ECF6",
            "gridcolor": "white",
            "gridwidth": 2,
            "linecolor": "white",
            "showbackground": true,
            "ticks": "",
            "zerolinecolor": "white"
           }
          },
          "shapedefaults": {
           "line": {
            "color": "#2a3f5f"
           }
          },
          "ternary": {
           "aaxis": {
            "gridcolor": "white",
            "linecolor": "white",
            "ticks": ""
           },
           "baxis": {
            "gridcolor": "white",
            "linecolor": "white",
            "ticks": ""
           },
           "bgcolor": "#E5ECF6",
           "caxis": {
            "gridcolor": "white",
            "linecolor": "white",
            "ticks": ""
           }
          },
          "title": {
           "x": 0.05
          },
          "xaxis": {
           "automargin": true,
           "gridcolor": "white",
           "linecolor": "white",
           "ticks": "",
           "title": {
            "standoff": 15
           },
           "zerolinecolor": "white",
           "zerolinewidth": 2
          },
          "yaxis": {
           "automargin": true,
           "gridcolor": "white",
           "linecolor": "white",
           "ticks": "",
           "title": {
            "standoff": 15
           },
           "zerolinecolor": "white",
           "zerolinewidth": 2
          }
         }
        },
        "title": {
         "text": "plotly.colors.cyclical"
        },
        "xaxis": {
         "range": [
          -0.02,
          1.02
         ],
         "showgrid": false,
         "showticklabels": false,
         "type": "linear"
        },
        "yaxis": {
         "autorange": true,
         "range": [
          -0.5,
          6.5
         ],
         "type": "category"
        }
       }
      },
      "image/png": "[encoded data removed]"
     },
     "metadata": {},
     "output_type": "display_data"
    }
   ],
   "source": [
    "fig = px.colors.cyclical.swatches()\n",
    "fig.show()"
   ]
  },
  {
   "cell_type": "code",
   "execution_count": 13,
   "id": "aafd6876-03a4-4ebd-a4dd-d5a3a6c1ed5f",
   "metadata": {},
   "outputs": [
    {
     "data": {
      "application/vnd.plotly.v1+json": {
       "config": {
        "plotlyServerURL": "https://plot.ly"
       },
       "data": [
        {
         "customdata": [
          0,
          1,
          2,
          3,
          4,
          5,
          6,
          7,
          8,
          9,
          10
         ],
         "hovertemplate": "%{y}[%{customdata}] = %{marker.color}<extra></extra>",
         "marker": {
          "color": [
           "rgb(229, 134, 6)",
           "rgb(93, 105, 177)",
           "rgb(82, 188, 163)",
           "rgb(153, 201, 69)",
           "rgb(204, 97, 176)",
           "rgb(36, 121, 108)",
           "rgb(218, 165, 27)",
           "rgb(47, 138, 196)",
           "rgb(118, 78, 159)",
           "rgb(237, 100, 90)",
           "rgb(165, 170, 153)"
          ]
         },
         "orientation": "h",
         "type": "bar",
         "x": [
          1,
          1,
          1,
          1,
          1,
          1,
          1,
          1,
          1,
          1,
          1
         ],
         "y": [
          "Vivid",
          "Vivid",
          "Vivid",
          "Vivid",
          "Vivid",
          "Vivid",
          "Vivid",
          "Vivid",
          "Vivid",
          "Vivid",
          "Vivid"
         ]
        },
        {
         "customdata": [
          0,
          1,
          2,
          3,
          4,
          5,
          6,
          7,
          8,
          9,
          10
         ],
         "hovertemplate": "%{y}[%{customdata}] = %{marker.color}<extra></extra>",
         "marker": {
          "color": [
           "rgb(136, 204, 238)",
           "rgb(204, 102, 119)",
           "rgb(221, 204, 119)",
           "rgb(17, 119, 51)",
           "rgb(51, 34, 136)",
           "rgb(170, 68, 153)",
           "rgb(68, 170, 153)",
           "rgb(153, 153, 51)",
           "rgb(136, 34, 85)",
           "rgb(102, 17, 0)",
           "rgb(136, 136, 136)"
          ]
         },
         "orientation": "h",
         "type": "bar",
         "x": [
          1,
          1,
          1,
          1,
          1,
          1,
          1,
          1,
          1,
          1,
          1
         ],
         "y": [
          "Safe",
          "Safe",
          "Safe",
          "Safe",
          "Safe",
          "Safe",
          "Safe",
          "Safe",
          "Safe",
          "Safe",
          "Safe"
         ]
        },
        {
         "customdata": [
          0,
          1,
          2,
          3,
          4,
          5,
          6,
          7,
          8,
          9,
          10
         ],
         "hovertemplate": "%{y}[%{customdata}] = %{marker.color}<extra></extra>",
         "marker": {
          "color": [
           "rgb(95, 70, 144)",
           "rgb(29, 105, 150)",
           "rgb(56, 166, 165)",
           "rgb(15, 133, 84)",
           "rgb(115, 175, 72)",
           "rgb(237, 173, 8)",
           "rgb(225, 124, 5)",
           "rgb(204, 80, 62)",
           "rgb(148, 52, 110)",
           "rgb(111, 64, 112)",
           "rgb(102, 102, 102)"
          ]
         },
         "orientation": "h",
         "type": "bar",
         "x": [
          1,
          1,
          1,
          1,
          1,
          1,
          1,
          1,
          1,
          1,
          1
         ],
         "y": [
          "Prism",
          "Prism",
          "Prism",
          "Prism",
          "Prism",
          "Prism",
          "Prism",
          "Prism",
          "Prism",
          "Prism",
          "Prism"
         ]
        },
        {
         "customdata": [
          0,
          1,
          2,
          3,
          4,
          5,
          6,
          7,
          8,
          9,
          10
         ],
         "hovertemplate": "%{y}[%{customdata}] = %{marker.color}<extra></extra>",
         "marker": {
          "color": [
           "rgb(102, 197, 204)",
           "rgb(246, 207, 113)",
           "rgb(248, 156, 116)",
           "rgb(220, 176, 242)",
           "rgb(135, 197, 95)",
           "rgb(158, 185, 243)",
           "rgb(254, 136, 177)",
           "rgb(201, 219, 116)",
           "rgb(139, 224, 164)",
           "rgb(180, 151, 231)",
           "rgb(179, 179, 179)"
          ]
         },
         "orientation": "h",
         "type": "bar",
         "x": [
          1,
          1,
          1,
          1,
          1,
          1,
          1,
          1,
          1,
          1,
          1
         ],
         "y": [
          "Pastel",
          "Pastel",
          "Pastel",
          "Pastel",
          "Pastel",
          "Pastel",
          "Pastel",
          "Pastel",
          "Pastel",
          "Pastel",
          "Pastel"
         ]
        },
        {
         "customdata": [
          0,
          1,
          2,
          3,
          4,
          5,
          6,
          7,
          8,
          9,
          10
         ],
         "hovertemplate": "%{y}[%{customdata}] = %{marker.color}<extra></extra>",
         "marker": {
          "color": [
           "rgb(127, 60, 141)",
           "rgb(17, 165, 121)",
           "rgb(57, 105, 172)",
           "rgb(242, 183, 1)",
           "rgb(231, 63, 116)",
           "rgb(128, 186, 90)",
           "rgb(230, 131, 16)",
           "rgb(0, 134, 149)",
           "rgb(207, 28, 144)",
           "rgb(249, 123, 114)",
           "rgb(165, 170, 153)"
          ]
         },
         "orientation": "h",
         "type": "bar",
         "x": [
          1,
          1,
          1,
          1,
          1,
          1,
          1,
          1,
          1,
          1,
          1
         ],
         "y": [
          "Bold",
          "Bold",
          "Bold",
          "Bold",
          "Bold",
          "Bold",
          "Bold",
          "Bold",
          "Bold",
          "Bold",
          "Bold"
         ]
        },
        {
         "customdata": [
          0,
          1,
          2,
          3,
          4,
          5,
          6,
          7,
          8,
          9,
          10
         ],
         "hovertemplate": "%{y}[%{customdata}] = %{marker.color}<extra></extra>",
         "marker": {
          "color": [
           "rgb(133, 92, 117)",
           "rgb(217, 175, 107)",
           "rgb(175, 100, 88)",
           "rgb(115, 111, 76)",
           "rgb(82, 106, 131)",
           "rgb(98, 83, 119)",
           "rgb(104, 133, 92)",
           "rgb(156, 156, 94)",
           "rgb(160, 97, 119)",
           "rgb(140, 120, 93)",
           "rgb(124, 124, 124)"
          ]
         },
         "orientation": "h",
         "type": "bar",
         "x": [
          1,
          1,
          1,
          1,
          1,
          1,
          1,
          1,
          1,
          1,
          1
         ],
         "y": [
          "Antique",
          "Antique",
          "Antique",
          "Antique",
          "Antique",
          "Antique",
          "Antique",
          "Antique",
          "Antique",
          "Antique",
          "Antique"
         ]
        },
        {
         "customdata": [
          0,
          1,
          2,
          3,
          4,
          5,
          6,
          7,
          8,
          9,
          10,
          11
         ],
         "hovertemplate": "%{y}[%{customdata}] = %{marker.color}<extra></extra>",
         "marker": {
          "color": [
           "rgb(141,211,199)",
           "rgb(255,255,179)",
           "rgb(190,186,218)",
           "rgb(251,128,114)",
           "rgb(128,177,211)",
           "rgb(253,180,98)",
           "rgb(179,222,105)",
           "rgb(252,205,229)",
           "rgb(217,217,217)",
           "rgb(188,128,189)",
           "rgb(204,235,197)",
           "rgb(255,237,111)"
          ]
         },
         "orientation": "h",
         "type": "bar",
         "x": [
          1,
          1,
          1,
          1,
          1,
          1,
          1,
          1,
          1,
          1,
          1,
          1
         ],
         "y": [
          "Set3",
          "Set3",
          "Set3",
          "Set3",
          "Set3",
          "Set3",
          "Set3",
          "Set3",
          "Set3",
          "Set3",
          "Set3",
          "Set3"
         ]
        },
        {
         "customdata": [
          0,
          1,
          2,
          3,
          4,
          5,
          6,
          7
         ],
         "hovertemplate": "%{y}[%{customdata}] = %{marker.color}<extra></extra>",
         "marker": {
          "color": [
           "rgb(179,226,205)",
           "rgb(253,205,172)",
           "rgb(203,213,232)",
           "rgb(244,202,228)",
           "rgb(230,245,201)",
           "rgb(255,242,174)",
           "rgb(241,226,204)",
           "rgb(204,204,204)"
          ]
         },
         "orientation": "h",
         "type": "bar",
         "x": [
          1,
          1,
          1,
          1,
          1,
          1,
          1,
          1
         ],
         "y": [
          "Pastel2",
          "Pastel2",
          "Pastel2",
          "Pastel2",
          "Pastel2",
          "Pastel2",
          "Pastel2",
          "Pastel2"
         ]
        },
        {
         "customdata": [
          0,
          1,
          2,
          3,
          4,
          5,
          6,
          7
         ],
         "hovertemplate": "%{y}[%{customdata}] = %{marker.color}<extra></extra>",
         "marker": {
          "color": [
           "rgb(102,194,165)",
           "rgb(252,141,98)",
           "rgb(141,160,203)",
           "rgb(231,138,195)",
           "rgb(166,216,84)",
           "rgb(255,217,47)",
           "rgb(229,196,148)",
           "rgb(179,179,179)"
          ]
         },
         "orientation": "h",
         "type": "bar",
         "x": [
          1,
          1,
          1,
          1,
          1,
          1,
          1,
          1
         ],
         "y": [
          "Set2",
          "Set2",
          "Set2",
          "Set2",
          "Set2",
          "Set2",
          "Set2",
          "Set2"
         ]
        },
        {
         "customdata": [
          0,
          1,
          2,
          3,
          4,
          5,
          6,
          7
         ],
         "hovertemplate": "%{y}[%{customdata}] = %{marker.color}<extra></extra>",
         "marker": {
          "color": [
           "rgb(27,158,119)",
           "rgb(217,95,2)",
           "rgb(117,112,179)",
           "rgb(231,41,138)",
           "rgb(102,166,30)",
           "rgb(230,171,2)",
           "rgb(166,118,29)",
           "rgb(102,102,102)"
          ]
         },
         "orientation": "h",
         "type": "bar",
         "x": [
          1,
          1,
          1,
          1,
          1,
          1,
          1,
          1
         ],
         "y": [
          "Dark2",
          "Dark2",
          "Dark2",
          "Dark2",
          "Dark2",
          "Dark2",
          "Dark2",
          "Dark2"
         ]
        },
        {
         "customdata": [
          0,
          1,
          2,
          3,
          4,
          5,
          6,
          7,
          8
         ],
         "hovertemplate": "%{y}[%{customdata}] = %{marker.color}<extra></extra>",
         "marker": {
          "color": [
           "rgb(251,180,174)",
           "rgb(179,205,227)",
           "rgb(204,235,197)",
           "rgb(222,203,228)",
           "rgb(254,217,166)",
           "rgb(255,255,204)",
           "rgb(229,216,189)",
           "rgb(253,218,236)",
           "rgb(242,242,242)"
          ]
         },
         "orientation": "h",
         "type": "bar",
         "x": [
          1,
          1,
          1,
          1,
          1,
          1,
          1,
          1,
          1
         ],
         "y": [
          "Pastel1",
          "Pastel1",
          "Pastel1",
          "Pastel1",
          "Pastel1",
          "Pastel1",
          "Pastel1",
          "Pastel1",
          "Pastel1"
         ]
        },
        {
         "customdata": [
          0,
          1,
          2,
          3,
          4,
          5,
          6,
          7,
          8
         ],
         "hovertemplate": "%{y}[%{customdata}] = %{marker.color}<extra></extra>",
         "marker": {
          "color": [
           "rgb(228,26,28)",
           "rgb(55,126,184)",
           "rgb(77,175,74)",
           "rgb(152,78,163)",
           "rgb(255,127,0)",
           "rgb(255,255,51)",
           "rgb(166,86,40)",
           "rgb(247,129,191)",
           "rgb(153,153,153)"
          ]
         },
         "orientation": "h",
         "type": "bar",
         "x": [
          1,
          1,
          1,
          1,
          1,
          1,
          1,
          1,
          1
         ],
         "y": [
          "Set1",
          "Set1",
          "Set1",
          "Set1",
          "Set1",
          "Set1",
          "Set1",
          "Set1",
          "Set1"
         ]
        },
        {
         "customdata": [
          0,
          1,
          2,
          3,
          4,
          5,
          6,
          7,
          8,
          9,
          10,
          11,
          12,
          13,
          14,
          15,
          16,
          17,
          18,
          19,
          20,
          21,
          22,
          23
         ],
         "hovertemplate": "%{y}[%{customdata}] = %{marker.color}<extra></extra>",
         "marker": {
          "color": [
           "#FD3216",
           "#00FE35",
           "#6A76FC",
           "#FED4C4",
           "#FE00CE",
           "#0DF9FF",
           "#F6F926",
           "#FF9616",
           "#479B55",
           "#EEA6FB",
           "#DC587D",
           "#D626FF",
           "#6E899C",
           "#00B5F7",
           "#B68E00",
           "#C9FBE5",
           "#FF0092",
           "#22FFA7",
           "#E3EE9E",
           "#86CE00",
           "#BC7196",
           "#7E7DCD",
           "#FC6955",
           "#E48F72"
          ]
         },
         "orientation": "h",
         "type": "bar",
         "x": [
          1,
          1,
          1,
          1,
          1,
          1,
          1,
          1,
          1,
          1,
          1,
          1,
          1,
          1,
          1,
          1,
          1,
          1,
          1,
          1,
          1,
          1,
          1,
          1
         ],
         "y": [
          "Light24",
          "Light24",
          "Light24",
          "Light24",
          "Light24",
          "Light24",
          "Light24",
          "Light24",
          "Light24",
          "Light24",
          "Light24",
          "Light24",
          "Light24",
          "Light24",
          "Light24",
          "Light24",
          "Light24",
          "Light24",
          "Light24",
          "Light24",
          "Light24",
          "Light24",
          "Light24",
          "Light24"
         ]
        },
        {
         "customdata": [
          0,
          1,
          2,
          3,
          4,
          5,
          6,
          7,
          8,
          9,
          10,
          11,
          12,
          13,
          14,
          15,
          16,
          17,
          18,
          19,
          20,
          21,
          22,
          23
         ],
         "hovertemplate": "%{y}[%{customdata}] = %{marker.color}<extra></extra>",
         "marker": {
          "color": [
           "#2E91E5",
           "#E15F99",
           "#1CA71C",
           "#FB0D0D",
           "#DA16FF",
           "#222A2A",
           "#B68100",
           "#750D86",
           "#EB663B",
           "#511CFB",
           "#00A08B",
           "#FB00D1",
           "#FC0080",
           "#B2828D",
           "#6C7C32",
           "#778AAE",
           "#862A16",
           "#A777F1",
           "#620042",
           "#1616A7",
           "#DA60CA",
           "#6C4516",
           "#0D2A63",
           "#AF0038"
          ]
         },
         "orientation": "h",
         "type": "bar",
         "x": [
          1,
          1,
          1,
          1,
          1,
          1,
          1,
          1,
          1,
          1,
          1,
          1,
          1,
          1,
          1,
          1,
          1,
          1,
          1,
          1,
          1,
          1,
          1,
          1
         ],
         "y": [
          "Dark24",
          "Dark24",
          "Dark24",
          "Dark24",
          "Dark24",
          "Dark24",
          "Dark24",
          "Dark24",
          "Dark24",
          "Dark24",
          "Dark24",
          "Dark24",
          "Dark24",
          "Dark24",
          "Dark24",
          "Dark24",
          "Dark24",
          "Dark24",
          "Dark24",
          "Dark24",
          "Dark24",
          "Dark24",
          "Dark24",
          "Dark24"
         ]
        },
        {
         "customdata": [
          0,
          1,
          2,
          3,
          4,
          5,
          6,
          7,
          8,
          9,
          10,
          11,
          12,
          13,
          14,
          15,
          16,
          17,
          18,
          19,
          20,
          21,
          22,
          23,
          24,
          25
         ],
         "hovertemplate": "%{y}[%{customdata}] = %{marker.color}<extra></extra>",
         "marker": {
          "color": [
           "#AA0DFE",
           "#3283FE",
           "#85660D",
           "#782AB6",
           "#565656",
           "#1C8356",
           "#16FF32",
           "#F7E1A0",
           "#E2E2E2",
           "#1CBE4F",
           "#C4451C",
           "#DEA0FD",
           "#FE00FA",
           "#325A9B",
           "#FEAF16",
           "#F8A19F",
           "#90AD1C",
           "#F6222E",
           "#1CFFCE",
           "#2ED9FF",
           "#B10DA1",
           "#C075A6",
           "#FC1CBF",
           "#B00068",
           "#FBE426",
           "#FA0087"
          ]
         },
         "orientation": "h",
         "type": "bar",
         "x": [
          1,
          1,
          1,
          1,
          1,
          1,
          1,
          1,
          1,
          1,
          1,
          1,
          1,
          1,
          1,
          1,
          1,
          1,
          1,
          1,
          1,
          1,
          1,
          1,
          1,
          1
         ],
         "y": [
          "Alphabet",
          "Alphabet",
          "Alphabet",
          "Alphabet",
          "Alphabet",
          "Alphabet",
          "Alphabet",
          "Alphabet",
          "Alphabet",
          "Alphabet",
          "Alphabet",
          "Alphabet",
          "Alphabet",
          "Alphabet",
          "Alphabet",
          "Alphabet",
          "Alphabet",
          "Alphabet",
          "Alphabet",
          "Alphabet",
          "Alphabet",
          "Alphabet",
          "Alphabet",
          "Alphabet",
          "Alphabet",
          "Alphabet"
         ]
        },
        {
         "customdata": [
          0,
          1,
          2,
          3,
          4,
          5,
          6,
          7,
          8,
          9
         ],
         "hovertemplate": "%{y}[%{customdata}] = %{marker.color}<extra></extra>",
         "marker": {
          "color": [
           "#4C78A8",
           "#F58518",
           "#E45756",
           "#72B7B2",
           "#54A24B",
           "#EECA3B",
           "#B279A2",
           "#FF9DA6",
           "#9D755D",
           "#BAB0AC"
          ]
         },
         "orientation": "h",
         "type": "bar",
         "x": [
          1,
          1,
          1,
          1,
          1,
          1,
          1,
          1,
          1,
          1
         ],
         "y": [
          "T10",
          "T10",
          "T10",
          "T10",
          "T10",
          "T10",
          "T10",
          "T10",
          "T10",
          "T10"
         ]
        },
        {
         "customdata": [
          0,
          1,
          2,
          3,
          4,
          5,
          6,
          7,
          8,
          9
         ],
         "hovertemplate": "%{y}[%{customdata}] = %{marker.color}<extra></extra>",
         "marker": {
          "color": [
           "#3366CC",
           "#DC3912",
           "#FF9900",
           "#109618",
           "#990099",
           "#0099C6",
           "#DD4477",
           "#66AA00",
           "#B82E2E",
           "#316395"
          ]
         },
         "orientation": "h",
         "type": "bar",
         "x": [
          1,
          1,
          1,
          1,
          1,
          1,
          1,
          1,
          1,
          1
         ],
         "y": [
          "G10",
          "G10",
          "G10",
          "G10",
          "G10",
          "G10",
          "G10",
          "G10",
          "G10",
          "G10"
         ]
        },
        {
         "customdata": [
          0,
          1,
          2,
          3,
          4,
          5,
          6,
          7,
          8,
          9
         ],
         "hovertemplate": "%{y}[%{customdata}] = %{marker.color}<extra></extra>",
         "marker": {
          "color": [
           "#1F77B4",
           "#FF7F0E",
           "#2CA02C",
           "#D62728",
           "#9467BD",
           "#8C564B",
           "#E377C2",
           "#7F7F7F",
           "#BCBD22",
           "#17BECF"
          ]
         },
         "orientation": "h",
         "type": "bar",
         "x": [
          1,
          1,
          1,
          1,
          1,
          1,
          1,
          1,
          1,
          1
         ],
         "y": [
          "D3",
          "D3",
          "D3",
          "D3",
          "D3",
          "D3",
          "D3",
          "D3",
          "D3",
          "D3"
         ]
        },
        {
         "customdata": [
          0,
          1,
          2,
          3,
          4,
          5,
          6,
          7,
          8,
          9
         ],
         "hovertemplate": "%{y}[%{customdata}] = %{marker.color}<extra></extra>",
         "marker": {
          "color": [
           "#636EFA",
           "#EF553B",
           "#00CC96",
           "#AB63FA",
           "#FFA15A",
           "#19D3F3",
           "#FF6692",
           "#B6E880",
           "#FF97FF",
           "#FECB52"
          ]
         },
         "orientation": "h",
         "type": "bar",
         "x": [
          1,
          1,
          1,
          1,
          1,
          1,
          1,
          1,
          1,
          1
         ],
         "y": [
          "Plotly",
          "Plotly",
          "Plotly",
          "Plotly",
          "Plotly",
          "Plotly",
          "Plotly",
          "Plotly",
          "Plotly",
          "Plotly"
         ]
        }
       ],
       "layout": {
        "autosize": true,
        "bargap": 0.5,
        "barmode": "stack",
        "barnorm": "fraction",
        "margin": {
         "b": 10
        },
        "showlegend": false,
        "template": {
         "data": {
          "bar": [
           {
            "error_x": {
             "color": "#2a3f5f"
            },
            "error_y": {
             "color": "#2a3f5f"
            },
            "marker": {
             "line": {
              "color": "#E5ECF6",
              "width": 0.5
             },
             "pattern": {
              "fillmode": "overlay",
              "size": 10,
              "solidity": 0.2
             }
            },
            "type": "bar"
           }
          ],
          "barpolar": [
           {
            "marker": {
             "line": {
              "color": "#E5ECF6",
              "width": 0.5
             },
             "pattern": {
              "fillmode": "overlay",
              "size": 10,
              "solidity": 0.2
             }
            },
            "type": "barpolar"
           }
          ],
          "carpet": [
           {
            "aaxis": {
             "endlinecolor": "#2a3f5f",
             "gridcolor": "white",
             "linecolor": "white",
             "minorgridcolor": "white",
             "startlinecolor": "#2a3f5f"
            },
            "baxis": {
             "endlinecolor": "#2a3f5f",
             "gridcolor": "white",
             "linecolor": "white",
             "minorgridcolor": "white",
             "startlinecolor": "#2a3f5f"
            },
            "type": "carpet"
           }
          ],
          "choropleth": [
           {
            "colorbar": {
             "outlinewidth": 0,
             "ticks": ""
            },
            "type": "choropleth"
           }
          ],
          "contour": [
           {
            "colorbar": {
             "outlinewidth": 0,
             "ticks": ""
            },
            "colorscale": [
             [
              0,
              "#0d0887"
             ],
             [
              0.1111111111111111,
              "#46039f"
             ],
             [
              0.2222222222222222,
              "#7201a8"
             ],
             [
              0.3333333333333333,
              "#9c179e"
             ],
             [
              0.4444444444444444,
              "#bd3786"
             ],
             [
              0.5555555555555556,
              "#d8576b"
             ],
             [
              0.6666666666666666,
              "#ed7953"
             ],
             [
              0.7777777777777778,
              "#fb9f3a"
             ],
             [
              0.8888888888888888,
              "#fdca26"
             ],
             [
              1,
              "#f0f921"
             ]
            ],
            "type": "contour"
           }
          ],
          "contourcarpet": [
           {
            "colorbar": {
             "outlinewidth": 0,
             "ticks": ""
            },
            "type": "contourcarpet"
           }
          ],
          "heatmap": [
           {
            "colorbar": {
             "outlinewidth": 0,
             "ticks": ""
            },
            "colorscale": [
             [
              0,
              "#0d0887"
             ],
             [
              0.1111111111111111,
              "#46039f"
             ],
             [
              0.2222222222222222,
              "#7201a8"
             ],
             [
              0.3333333333333333,
              "#9c179e"
             ],
             [
              0.4444444444444444,
              "#bd3786"
             ],
             [
              0.5555555555555556,
              "#d8576b"
             ],
             [
              0.6666666666666666,
              "#ed7953"
             ],
             [
              0.7777777777777778,
              "#fb9f3a"
             ],
             [
              0.8888888888888888,
              "#fdca26"
             ],
             [
              1,
              "#f0f921"
             ]
            ],
            "type": "heatmap"
           }
          ],
          "heatmapgl": [
           {
            "colorbar": {
             "outlinewidth": 0,
             "ticks": ""
            },
            "colorscale": [
             [
              0,
              "#0d0887"
             ],
             [
              0.1111111111111111,
              "#46039f"
             ],
             [
              0.2222222222222222,
              "#7201a8"
             ],
             [
              0.3333333333333333,
              "#9c179e"
             ],
             [
              0.4444444444444444,
              "#bd3786"
             ],
             [
              0.5555555555555556,
              "#d8576b"
             ],
             [
              0.6666666666666666,
              "#ed7953"
             ],
             [
              0.7777777777777778,
              "#fb9f3a"
             ],
             [
              0.8888888888888888,
              "#fdca26"
             ],
             [
              1,
              "#f0f921"
             ]
            ],
            "type": "heatmapgl"
           }
          ],
          "histogram": [
           {
            "marker": {
             "pattern": {
              "fillmode": "overlay",
              "size": 10,
              "solidity": 0.2
             }
            },
            "type": "histogram"
           }
          ],
          "histogram2d": [
           {
            "colorbar": {
             "outlinewidth": 0,
             "ticks": ""
            },
            "colorscale": [
             [
              0,
              "#0d0887"
             ],
             [
              0.1111111111111111,
              "#46039f"
             ],
             [
              0.2222222222222222,
              "#7201a8"
             ],
             [
              0.3333333333333333,
              "#9c179e"
             ],
             [
              0.4444444444444444,
              "#bd3786"
             ],
             [
              0.5555555555555556,
              "#d8576b"
             ],
             [
              0.6666666666666666,
              "#ed7953"
             ],
             [
              0.7777777777777778,
              "#fb9f3a"
             ],
             [
              0.8888888888888888,
              "#fdca26"
             ],
             [
              1,
              "#f0f921"
             ]
            ],
            "type": "histogram2d"
           }
          ],
          "histogram2dcontour": [
           {
            "colorbar": {
             "outlinewidth": 0,
             "ticks": ""
            },
            "colorscale": [
             [
              0,
              "#0d0887"
             ],
             [
              0.1111111111111111,
              "#46039f"
             ],
             [
              0.2222222222222222,
              "#7201a8"
             ],
             [
              0.3333333333333333,
              "#9c179e"
             ],
             [
              0.4444444444444444,
              "#bd3786"
             ],
             [
              0.5555555555555556,
              "#d8576b"
             ],
             [
              0.6666666666666666,
              "#ed7953"
             ],
             [
              0.7777777777777778,
              "#fb9f3a"
             ],
             [
              0.8888888888888888,
              "#fdca26"
             ],
             [
              1,
              "#f0f921"
             ]
            ],
            "type": "histogram2dcontour"
           }
          ],
          "mesh3d": [
           {
            "colorbar": {
             "outlinewidth": 0,
             "ticks": ""
            },
            "type": "mesh3d"
           }
          ],
          "parcoords": [
           {
            "line": {
             "colorbar": {
              "outlinewidth": 0,
              "ticks": ""
             }
            },
            "type": "parcoords"
           }
          ],
          "pie": [
           {
            "automargin": true,
            "type": "pie"
           }
          ],
          "scatter": [
           {
            "marker": {
             "colorbar": {
              "outlinewidth": 0,
              "ticks": ""
             }
            },
            "type": "scatter"
           }
          ],
          "scatter3d": [
           {
            "line": {
             "colorbar": {
              "outlinewidth": 0,
              "ticks": ""
             }
            },
            "marker": {
             "colorbar": {
              "outlinewidth": 0,
              "ticks": ""
             }
            },
            "type": "scatter3d"
           }
          ],
          "scattercarpet": [
           {
            "marker": {
             "colorbar": {
              "outlinewidth": 0,
              "ticks": ""
             }
            },
            "type": "scattercarpet"
           }
          ],
          "scattergeo": [
           {
            "marker": {
             "colorbar": {
              "outlinewidth": 0,
              "ticks": ""
             }
            },
            "type": "scattergeo"
           }
          ],
          "scattergl": [
           {
            "marker": {
             "colorbar": {
              "outlinewidth": 0,
              "ticks": ""
             }
            },
            "type": "scattergl"
           }
          ],
          "scattermapbox": [
           {
            "marker": {
             "colorbar": {
              "outlinewidth": 0,
              "ticks": ""
             }
            },
            "type": "scattermapbox"
           }
          ],
          "scatterpolar": [
           {
            "marker": {
             "colorbar": {
              "outlinewidth": 0,
              "ticks": ""
             }
            },
            "type": "scatterpolar"
           }
          ],
          "scatterpolargl": [
           {
            "marker": {
             "colorbar": {
              "outlinewidth": 0,
              "ticks": ""
             }
            },
            "type": "scatterpolargl"
           }
          ],
          "scatterternary": [
           {
            "marker": {
             "colorbar": {
              "outlinewidth": 0,
              "ticks": ""
             }
            },
            "type": "scatterternary"
           }
          ],
          "surface": [
           {
            "colorbar": {
             "outlinewidth": 0,
             "ticks": ""
            },
            "colorscale": [
             [
              0,
              "#0d0887"
             ],
             [
              0.1111111111111111,
              "#46039f"
             ],
             [
              0.2222222222222222,
              "#7201a8"
             ],
             [
              0.3333333333333333,
              "#9c179e"
             ],
             [
              0.4444444444444444,
              "#bd3786"
             ],
             [
              0.5555555555555556,
              "#d8576b"
             ],
             [
              0.6666666666666666,
              "#ed7953"
             ],
             [
              0.7777777777777778,
              "#fb9f3a"
             ],
             [
              0.8888888888888888,
              "#fdca26"
             ],
             [
              1,
              "#f0f921"
             ]
            ],
            "type": "surface"
           }
          ],
          "table": [
           {
            "cells": {
             "fill": {
              "color": "#EBF0F8"
             },
             "line": {
              "color": "white"
             }
            },
            "header": {
             "fill": {
              "color": "#C8D4E3"
             },
             "line": {
              "color": "white"
             }
            },
            "type": "table"
           }
          ]
         },
         "layout": {
          "annotationdefaults": {
           "arrowcolor": "#2a3f5f",
           "arrowhead": 0,
           "arrowwidth": 1
          },
          "autotypenumbers": "strict",
          "coloraxis": {
           "colorbar": {
            "outlinewidth": 0,
            "ticks": ""
           }
          },
          "colorscale": {
           "diverging": [
            [
             0,
             "#8e0152"
            ],
            [
             0.1,
             "#c51b7d"
            ],
            [
             0.2,
             "#de77ae"
            ],
            [
             0.3,
             "#f1b6da"
            ],
            [
             0.4,
             "#fde0ef"
            ],
            [
             0.5,
             "#f7f7f7"
            ],
            [
             0.6,
             "#e6f5d0"
            ],
            [
             0.7,
             "#b8e186"
            ],
            [
             0.8,
             "#7fbc41"
            ],
            [
             0.9,
             "#4d9221"
            ],
            [
             1,
             "#276419"
            ]
           ],
           "sequential": [
            [
             0,
             "#0d0887"
            ],
            [
             0.1111111111111111,
             "#46039f"
            ],
            [
             0.2222222222222222,
             "#7201a8"
            ],
            [
             0.3333333333333333,
             "#9c179e"
            ],
            [
             0.4444444444444444,
             "#bd3786"
            ],
            [
             0.5555555555555556,
             "#d8576b"
            ],
            [
             0.6666666666666666,
             "#ed7953"
            ],
            [
             0.7777777777777778,
             "#fb9f3a"
            ],
            [
             0.8888888888888888,
             "#fdca26"
            ],
            [
             1,
             "#f0f921"
            ]
           ],
           "sequentialminus": [
            [
             0,
             "#0d0887"
            ],
            [
             0.1111111111111111,
             "#46039f"
            ],
            [
             0.2222222222222222,
             "#7201a8"
            ],
            [
             0.3333333333333333,
             "#9c179e"
            ],
            [
             0.4444444444444444,
             "#bd3786"
            ],
            [
             0.5555555555555556,
             "#d8576b"
            ],
            [
             0.6666666666666666,
             "#ed7953"
            ],
            [
             0.7777777777777778,
             "#fb9f3a"
            ],
            [
             0.8888888888888888,
             "#fdca26"
            ],
            [
             1,
             "#f0f921"
            ]
           ]
          },
          "colorway": [
           "#636efa",
           "#EF553B",
           "#00cc96",
           "#ab63fa",
           "#FFA15A",
           "#19d3f3",
           "#FF6692",
           "#B6E880",
           "#FF97FF",
           "#FECB52"
          ],
          "font": {
           "color": "#2a3f5f"
          },
          "geo": {
           "bgcolor": "white",
           "lakecolor": "white",
           "landcolor": "#E5ECF6",
           "showlakes": true,
           "showland": true,
           "subunitcolor": "white"
          },
          "hoverlabel": {
           "align": "left"
          },
          "hovermode": "closest",
          "mapbox": {
           "style": "light"
          },
          "paper_bgcolor": "white",
          "plot_bgcolor": "#E5ECF6",
          "polar": {
           "angularaxis": {
            "gridcolor": "white",
            "linecolor": "white",
            "ticks": ""
           },
           "bgcolor": "#E5ECF6",
           "radialaxis": {
            "gridcolor": "white",
            "linecolor": "white",
            "ticks": ""
           }
          },
          "scene": {
           "xaxis": {
            "backgroundcolor": "#E5ECF6",
            "gridcolor": "white",
            "gridwidth": 2,
            "linecolor": "white",
            "showbackground": true,
            "ticks": "",
            "zerolinecolor": "white"
           },
           "yaxis": {
            "backgroundcolor": "#E5ECF6",
            "gridcolor": "white",
            "gridwidth": 2,
            "linecolor": "white",
            "showbackground": true,
            "ticks": "",
            "zerolinecolor": "white"
           },
           "zaxis": {
            "backgroundcolor": "#E5ECF6",
            "gridcolor": "white",
            "gridwidth": 2,
            "linecolor": "white",
            "showbackground": true,
            "ticks": "",
            "zerolinecolor": "white"
           }
          },
          "shapedefaults": {
           "line": {
            "color": "#2a3f5f"
           }
          },
          "ternary": {
           "aaxis": {
            "gridcolor": "white",
            "linecolor": "white",
            "ticks": ""
           },
           "baxis": {
            "gridcolor": "white",
            "linecolor": "white",
            "ticks": ""
           },
           "bgcolor": "#E5ECF6",
           "caxis": {
            "gridcolor": "white",
            "linecolor": "white",
            "ticks": ""
           }
          },
          "title": {
           "x": 0.05
          },
          "xaxis": {
           "automargin": true,
           "gridcolor": "white",
           "linecolor": "white",
           "ticks": "",
           "title": {
            "standoff": 15
           },
           "zerolinecolor": "white",
           "zerolinewidth": 2
          },
          "yaxis": {
           "automargin": true,
           "gridcolor": "white",
           "linecolor": "white",
           "ticks": "",
           "title": {
            "standoff": 15
           },
           "zerolinecolor": "white",
           "zerolinewidth": 2
          }
         }
        },
        "title": {
         "text": "plotly.colors.qualitative"
        },
        "xaxis": {
         "range": [
          -0.02,
          1.02
         ],
         "showgrid": false,
         "showticklabels": false,
         "type": "linear"
        },
        "yaxis": {
         "autorange": true,
         "range": [
          -0.5,
          18.5
         ],
         "type": "category"
        }
       }
      },
      "image/png": "[encoded data removed]"
     },
     "metadata": {},
     "output_type": "display_data"
    }
   ],
   "source": [
    "fig =px.colors.qualitative.swatches()\n",
    "fig.show()"
   ]
  },
  {
   "cell_type": "code",
   "execution_count": null,
   "id": "9c68ba88-7252-40a6-9550-904eb4b97b76",
   "metadata": {},
   "outputs": [],
   "source": []
  }
 ],
 "metadata": {
  "kernelspec": {
   "display_name": "Python 3",
   "language": "python",
   "name": "python3"
  },
  "language_info": {
   "codemirror_mode": {
    "name": "ipython",
    "version": 3
   },
   "file_extension": ".py",
   "mimetype": "text/x-python",
   "name": "python",
   "nbconvert_exporter": "python",
   "pygments_lexer": "ipython3",
   "version": "3.8.8"
  }
 },
 "nbformat": 4,
 "nbformat_minor": 5
}
